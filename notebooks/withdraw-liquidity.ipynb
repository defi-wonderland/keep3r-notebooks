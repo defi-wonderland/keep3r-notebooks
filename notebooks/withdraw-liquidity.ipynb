{
 "cells": [
  {
   "cell_type": "markdown",
   "id": "04eafc4c-8a42-4022-85f5-a4dbf3f519fd",
   "metadata": {},
   "source": [
    "# Basic work"
   ]
  },
  {
   "cell_type": "markdown",
   "id": "1ff21d8a-b389-47a2-9b18-2d17b7bbe7e8",
   "metadata": {},
   "source": [
    "### Setup"
   ]
  },
  {
   "cell_type": "code",
   "execution_count": null,
   "id": "bd57ee33-939c-4f47-a06a-62e3f7df6794",
   "metadata": {
    "tags": []
   },
   "outputs": [],
   "source": [
    "var moment = require('moment');\n",
    "var { constants } = require('../utils');\n",
    "var { toUnit } = require('../utils/bn');\n",
    "var { LIQUIDITIES } = require('../utils/constants');\n",
    "var { getLatestBlockTimestamp, getBlockTimestamp } = require('../utils/evm');\n",
    "var { next, clear } = require('../utils/jupyter');\n",
    "var { Notebook } = require('../utils/notebook');\n",
    "\n",
    "clear();"
   ]
  },
  {
   "cell_type": "code",
   "execution_count": null,
   "id": "10be3fe3-e55f-40ce-a2a9-6318a22b0b15",
   "metadata": {},
   "outputs": [],
   "source": [
    "var $ = new Notebook();"
   ]
  },
  {
   "cell_type": "code",
   "execution_count": null,
   "id": "08919bc6-2167-4459-868d-e14b7cb57a67",
   "metadata": {},
   "outputs": [],
   "source": [
    "next(async () => {\n",
    "    await $.setup();\n",
    "});"
   ]
  },
  {
   "cell_type": "code",
   "execution_count": null,
   "id": "fe791a06-9d26-4b18-92ac-2c81e76c6949",
   "metadata": {},
   "outputs": [],
   "source": [
    "var liquidityPool, liquidityWhale;\n",
    "next(async () => {\n",
    "    const data = await $.setupLiquidity(LIQUIDITIES.KP3R_WETH);\n",
    "    liquidityPool = data.pool;\n",
    "    liquidityWhale = data.whale;\n",
    "});"
   ]
  },
  {
   "cell_type": "markdown",
   "id": "d32a3bca-e933-4a5e-8f29-2ff005571ab1",
   "metadata": {},
   "source": [
    "### Add LP tokens to job"
   ]
  },
  {
   "cell_type": "code",
   "execution_count": null,
   "id": "a98431c0-d76a-4a38-8bca-3016a33d5252",
   "metadata": {},
   "outputs": [],
   "source": [
    "next(async () => {\n",
    "    await $.addLiquidityToJob(liquidityPool, liquidityWhale, toUnit(1));\n",
    "});"
   ]
  },
  {
   "cell_type": "markdown",
   "id": "b77d4fbe-3e94-46a6-99c8-1ecf9ff730ae",
   "metadata": {},
   "source": [
    "### Work, work, work\n",
    "Sleep 6 periods, remove 1/2 of the liquidity, sleep 6 periods"
   ]
  },
  {
   "cell_type": "code",
   "execution_count": null,
   "id": "876dc07b-ba87-424c-90f6-c4e7eb4306ff",
   "metadata": {},
   "outputs": [],
   "source": [
    "next(async () => {\n",
    "    console.log('Start of simulation');\n",
    "    await $.recordCredits();\n",
    "    \n",
    "    // sleep 6 periods\n",
    "    await $.sleepAndRecord($.time(1, 'day'), $.time(4, 'hours'));\n",
    "    \n",
    "    // remove liquidity\n",
    "    await $.recordCredits();\n",
    "    await $.sleep(1);\n",
    "    await $.removeLiquidityToJob(liquidityPool, toUnit(0.5));\n",
    "    await $.recordCredits();\n",
    "    \n",
    "    // sleep 6 periods\n",
    "    await $.sleepAndRecord($.rewardPeriod, $.time(4, 'hours'));\n",
    "    \n",
    "    console.log('End of simulation');\n",
    "});"
   ]
  },
  {
   "cell_type": "code",
   "execution_count": null,
   "id": "072a9466-c097-4540-911c-a0b8956d89d7",
   "metadata": {},
   "outputs": [],
   "source": [
    "next(async () => {\n",
    "    await $.draw();\n",
    "});"
   ]
  }
 ],
 "metadata": {
  "kernelspec": {
   "display_name": "Javascript (Node.js)",
   "language": "javascript",
   "name": "javascript"
  },
  "language_info": {
   "file_extension": ".js",
   "mimetype": "application/javascript",
   "name": "javascript",
   "version": "16.5.0"
  }
 },
 "nbformat": 4,
 "nbformat_minor": 5
}
