{
 "cells": [
  {
   "cell_type": "markdown",
   "id": "04eafc4c-8a42-4022-85f5-a4dbf3f519fd",
   "metadata": {},
   "source": [
    "# Basic work"
   ]
  },
  {
   "cell_type": "markdown",
   "id": "1ff21d8a-b389-47a2-9b18-2d17b7bbe7e8",
   "metadata": {},
   "source": [
    "### Setup"
   ]
  },
  {
   "cell_type": "code",
   "execution_count": 1,
   "id": "bd57ee33-939c-4f47-a06a-62e3f7df6794",
   "metadata": {
    "tags": []
   },
   "outputs": [],
   "source": [
    "var moment = require('moment');\n",
    "var { constants } = require('../utils');\n",
    "var { advanceTimeAndBlock } = require('../utils/evm');\n",
    "var { toUnit } = require('../utils/bn');\n",
    "var { getLatestBlockTimestamp, getBlockTimestamp } = require('../utils/evm');\n",
    "var { next, clear } = require('../utils/jupyter');\n",
    "var { Notebook } = require('../utils/notebook');\n",
    "\n",
    "clear();"
   ]
  },
  {
   "cell_type": "code",
   "execution_count": 2,
   "id": "10be3fe3-e55f-40ce-a2a9-6318a22b0b15",
   "metadata": {},
   "outputs": [],
   "source": [
    "var notebook = new Notebook();"
   ]
  },
  {
   "cell_type": "code",
   "execution_count": 3,
   "id": "08919bc6-2167-4459-868d-e14b7cb57a67",
   "metadata": {},
   "outputs": [],
   "source": [
    "next(async () => {\n",
    "    await notebook.setup();\n",
    "});"
   ]
  },
  {
   "cell_type": "markdown",
   "id": "d32a3bca-e933-4a5e-8f29-2ff005571ab1",
   "metadata": {},
   "source": [
    "### Add LP tokens to job"
   ]
  },
  {
   "cell_type": "code",
   "execution_count": 4,
   "id": "94fc9662-4c3b-4021-a3b0-7fd17c8706ce",
   "metadata": {},
   "outputs": [],
   "source": [
    "next(async () => {\n",
    "    await advanceTimeAndBlock(moment.duration(3, 'day').as('seconds'));\n",
    "    await notebook.addLiquidityToJob(toUnit(10));\n",
    "});"
   ]
  },
  {
   "cell_type": "markdown",
   "id": "b77d4fbe-3e94-46a6-99c8-1ecf9ff730ae",
   "metadata": {},
   "source": [
    "### Work, work, work\n",
    "Sleep 6 periods, remove 1/2 of the liquidity, sleep 6 periods"
   ]
  },
  {
   "cell_type": "code",
   "execution_count": 5,
   "id": "876dc07b-ba87-424c-90f6-c4e7eb4306ff",
   "metadata": {},
   "outputs": [],
   "source": [
    "next(async () => {\n",
    "    console.log('Start of simulation');\n",
    "    await notebook.recordCredits();\n",
    "    \n",
    "    // sleep 6 periods\n",
    "    await notebook.sleepAndRecord(notebook.rewardPeriod * 6, moment.duration(1, 'day').as('seconds'));\n",
    "    \n",
    "    // remove liquidity\n",
    "    await notebook.removeLiquidityToJob(toUnit(5));\n",
    "    await notebook.recordCredits();\n",
    "    \n",
    "    // sleep 6 periods\n",
    "    await notebook.sleepAndRecord(notebook.rewardPeriod * 6, moment.duration(1, 'day').as('seconds'));\n",
    "    \n",
    "    console.log('End of simulation');\n",
    "});"
   ]
  },
  {
   "cell_type": "code",
   "execution_count": 6,
   "id": "072a9466-c097-4540-911c-a0b8956d89d7",
   "metadata": {},
   "outputs": [
    {
     "name": "stderr",
     "output_type": "stream",
     "text": [
      "ReferenceError: evm is not defined\n",
      "    at evalmachine.<anonymous>:2:5\n",
      "    at /home/roman/Code/defi/wonderland/keep3r/keep3r-notebooks/utils/jupyter.js:3:45\n",
      "    at processTicksAndRejections (node:internal/process/task_queues:96:5)\n",
      "    at runNextTicks (node:internal/process/task_queues:65:3)\n",
      "    at listOnTimeout (node:internal/timers:526:9)\n",
      "    at processTimers (node:internal/timers:500:7)\n",
      "ReferenceError: evm is not defined\n",
      "    at evalmachine.<anonymous>:2:5\n",
      "    at /home/roman/Code/defi/wonderland/keep3r/keep3r-notebooks/utils/jupyter.js:3:45\n",
      "    at processTicksAndRejections (node:internal/process/task_queues:96:5)\n",
      "    at runNextTicks (node:internal/process/task_queues:65:3)\n",
      "    at listOnTimeout (node:internal/timers:526:9)\n",
      "    at processTimers (node:internal/timers:500:7)\n",
      "ReferenceError: evm is not defined\n",
      "    at evalmachine.<anonymous>:2:5\n",
      "    at /home/roman/Code/defi/wonderland/keep3r/keep3r-notebooks/utils/jupyter.js:3:45\n",
      "    at processTicksAndRejections (node:internal/process/task_queues:96:5)\n",
      "    at runNextTicks (node:internal/process/task_queues:65:3)\n",
      "    at listOnTimeout (node:internal/timers:526:9)\n",
      "    at processTimers (node:internal/timers:500:7)\n"
     ]
    }
   ],
   "source": [
    "next(async () => {\n",
    "    await notebook.draw();\n",
    "});"
   ]
  }
 ],
 "metadata": {
  "kernelspec": {
   "display_name": "Javascript (Node.js)",
   "language": "javascript",
   "name": "javascript"
  },
  "language_info": {
   "file_extension": ".js",
   "mimetype": "application/javascript",
   "name": "javascript",
   "version": "16.5.0"
  }
 },
 "nbformat": 4,
 "nbformat_minor": 5
}
