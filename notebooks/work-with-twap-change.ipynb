{
 "cells": [
  {
   "cell_type": "markdown",
   "id": "04eafc4c-8a42-4022-85f5-a4dbf3f519fd",
   "metadata": {},
   "source": [
    "# Basic work"
   ]
  },
  {
   "cell_type": "markdown",
   "id": "1ff21d8a-b389-47a2-9b18-2d17b7bbe7e8",
   "metadata": {},
   "source": [
    "### Setup"
   ]
  },
  {
   "cell_type": "code",
   "execution_count": null,
   "id": "bd57ee33-939c-4f47-a06a-62e3f7df6794",
   "metadata": {
    "tags": []
   },
   "outputs": [],
   "source": [
    "var moment = require('moment');\n",
    "var { constants } = require('../utils');\n",
    "var { advanceTimeAndBlock } = require('../utils/evm');\n",
    "var { toUnit } = require('../utils/bn');\n",
    "var { LIQUIDITIES } = require('../utils/constants');\n",
    "var { getLatestBlockTimestamp, getBlockTimestamp } = require('../utils/evm');\n",
    "var { next, clear } = require('../utils/jupyter');\n",
    "var { Notebook } = require('../utils/notebook');\n",
    "\n",
    "clear();"
   ]
  },
  {
   "cell_type": "code",
   "execution_count": null,
   "id": "8ca344f2-75be-487b-bdbc-540796044bee",
   "metadata": {},
   "outputs": [],
   "source": [
    "var $ = new Notebook();"
   ]
  },
  {
   "cell_type": "code",
   "execution_count": null,
   "id": "759c49f0-e506-4633-aec5-b0581ee5d57b",
   "metadata": {},
   "outputs": [],
   "source": [
    "next(async () => {\n",
    "    await $.setup();\n",
    "});"
   ]
  },
  {
   "cell_type": "code",
   "execution_count": null,
   "id": "e7a6210c-6f57-4467-9d1a-69e950462042",
   "metadata": {},
   "outputs": [],
   "source": [
    "var liquidityPool, liquidityWhale;\n",
    "next(async () => {\n",
    "    const data = await $.setupLiquidity(LIQUIDITIES.KP3R_WETH);\n",
    "    liquidityPool = data.pool;\n",
    "    liquidityWhale = data.whale;\n",
    "});"
   ]
  },
  {
   "cell_type": "markdown",
   "id": "d32a3bca-e933-4a5e-8f29-2ff005571ab1",
   "metadata": {},
   "source": [
    "### Add LP tokens to job"
   ]
  },
  {
   "cell_type": "code",
   "execution_count": null,
   "id": "e7361d3d-f865-454c-9b2c-452a43b1848b",
   "metadata": {
    "tags": []
   },
   "outputs": [],
   "source": [
    "$.helper.observe($.helper.address,[0,432000])"
   ]
  },
  {
   "cell_type": "code",
   "execution_count": null,
   "id": "9394ff40-9675-4a77-8b80-97058537efce",
   "metadata": {},
   "outputs": [],
   "source": [
    "$.helper.observe.returns([1,0])"
   ]
  },
  {
   "cell_type": "code",
   "execution_count": null,
   "id": "6ebe88e8-7e72-4086-86cb-1f0b9ec00708",
   "metadata": {},
   "outputs": [],
   "source": [
    "$.helper.observe($.helper.address,[0,432000])"
   ]
  },
  {
   "cell_type": "code",
   "execution_count": null,
   "id": "7622b15e-4eae-4361-90e7-3c0c69e317cf",
   "metadata": {
    "tags": []
   },
   "outputs": [],
   "source": [
    "next(async()=>{\n",
    "    uniV3Pool = await $.fetch('IUniswapV3Pool','0xF4aaEe4E6FfC79252f131635A0DBD6D630C69C12')  \n",
    "    await uniV3Pool.increaseObservationCardinalityNext(0xff)\n",
    "})"
   ]
  },
  {
   "cell_type": "code",
   "execution_count": null,
   "id": "94fc9662-4c3b-4021-a3b0-7fd17c8706ce",
   "metadata": {},
   "outputs": [],
   "source": [
    "next(async () => {\n",
    "    /*for (let i = 0; i < 360; i++) {\n",
    "        await swap($.keep3rV1.address, '0xC02aaA39b223FE8D0A0e5C4F27eAD9083C756Cc2',toUnit(1))\n",
    "        await $.sleep($.time(10,'minute'))\n",
    "    }*/\n",
    "    await $.addLiquidityToJob(liquidityPool, liquidityWhale, toUnit(100));\n",
    "    await $.keep3rV1Proxy.connect($.governance)['mint(address,uint256)']($.keep3r.address,toUnit(10))\n",
    "});"
   ]
  },
  {
   "cell_type": "markdown",
   "id": "b77d4fbe-3e94-46a6-99c8-1ecf9ff730ae",
   "metadata": {},
   "source": [
    "### Work, work, work\n",
    "Sleep 2 days, work, sleep 1 month (record credits every day), work"
   ]
  },
  {
   "cell_type": "code",
   "execution_count": null,
   "id": "876dc07b-ba87-424c-90f6-c4e7eb4306ff",
   "metadata": {},
   "outputs": [],
   "source": [
    "next(async () => {\n",
    "    const timeToSleep = $.time(1, 'month');\n",
    "    const startedToWorkAt = await getLatestBlockTimestamp();\n",
    "    \n",
    "    console.log('Start of simulation');\n",
    "    await $.recordCredits();\n",
    "    \n",
    "    // sleep 1 day\n",
    "    await $.sleep($.time(2, 'days','seconds'));\n",
    "        \n",
    "    // work a lot\n",
    "    for (let i = 0; i < 28; i++) {\n",
    "        await $.swapper.convertEthToExactKP3R(toUnit(0.001),{value:toUnit(1)})\n",
    "        await $.recordCredits();\n",
    "        await $.job.connect($.keeper).work();\n",
    "        await $.sleep($.time(12, 'hours'));\n",
    "        await $.recordCredits();\n",
    "    }\n",
    "    \n",
    "    // sleep 2 weeks, record credits every day\n",
    "    await $.sleepAndRecord($.time(2, 'weeks'), $.time(4, 'hours'));\n",
    "    \n",
    "    console.log('End of simulation');\n",
    "});"
   ]
  },
  {
   "cell_type": "code",
   "execution_count": null,
   "id": "072a9466-c097-4540-911c-a0b8956d89d7",
   "metadata": {
    "tags": []
   },
   "outputs": [],
   "source": [
    "next(async () => {\n",
    "    await $.draw();\n",
    "});"
   ]
  },
  {
   "cell_type": "code",
   "execution_count": null,
   "id": "4671d15a-21ee-469f-9e82-de030229f065",
   "metadata": {},
   "outputs": [],
   "source": []
  },
  {
   "cell_type": "code",
   "execution_count": null,
   "id": "166c8ad0-6707-4aa2-b276-a5484af84a74",
   "metadata": {},
   "outputs": [],
   "source": []
  }
 ],
 "metadata": {
  "kernelspec": {
   "display_name": "Javascript (Node.js)",
   "language": "javascript",
   "name": "javascript"
  },
  "language_info": {
   "file_extension": ".js",
   "mimetype": "application/javascript",
   "name": "javascript",
   "version": "16.5.0"
  }
 },
 "nbformat": 4,
 "nbformat_minor": 5
}
