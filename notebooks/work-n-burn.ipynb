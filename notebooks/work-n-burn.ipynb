{
 "cells": [
  {
   "cell_type": "markdown",
   "id": "04eafc4c-8a42-4022-85f5-a4dbf3f519fd",
   "metadata": {},
   "source": [
    "# Basic work"
   ]
  },
  {
   "cell_type": "markdown",
   "id": "1ff21d8a-b389-47a2-9b18-2d17b7bbe7e8",
   "metadata": {},
   "source": [
    "### Setup"
   ]
  },
  {
   "cell_type": "code",
   "execution_count": null,
   "id": "bd57ee33-939c-4f47-a06a-62e3f7df6794",
   "metadata": {
    "tags": []
   },
   "outputs": [],
   "source": [
    "var moment = require('moment');\n",
    "var { constants } = require('../utils');\n",
    "var { advanceTimeAndBlock } = require('../utils/evm');\n",
    "var { toUnit } = require('../utils/bn');\n",
    "var { LIQUIDITIES } = require('../utils/constants');\n",
    "var { getLatestBlockTimestamp, getBlockTimestamp } = require('../utils/evm');\n",
    "var { next, clear } = require('../utils/jupyter');\n",
    "var { Notebook } = require('../utils/notebook');\n",
    "\n",
    "clear();"
   ]
  },
  {
   "cell_type": "code",
   "execution_count": null,
   "id": "8ca344f2-75be-487b-bdbc-540796044bee",
   "metadata": {},
   "outputs": [],
   "source": [
    "var $ = new Notebook();"
   ]
  },
  {
   "cell_type": "code",
   "execution_count": null,
   "id": "759c49f0-e506-4633-aec5-b0581ee5d57b",
   "metadata": {},
   "outputs": [],
   "source": [
    "next(async () => {\n",
    "    await $.setup();\n",
    "});"
   ]
  },
  {
   "cell_type": "code",
   "execution_count": null,
   "id": "e7a6210c-6f57-4467-9d1a-69e950462042",
   "metadata": {},
   "outputs": [],
   "source": [
    "var liquidityPool, liquidityWhale;\n",
    "next(async () => {\n",
    "    const data = await $.setupLiquidity(LIQUIDITIES.KP3R_WETH);\n",
    "    liquidityPool = data.pool;\n",
    "    liquidityWhale = data.whale;\n",
    "});"
   ]
  },
  {
   "cell_type": "code",
   "execution_count": null,
   "id": "0ecb2c12-87e5-409a-b35d-6b17f06f3c97",
   "metadata": {},
   "outputs": [],
   "source": [
    "pool = '0x11b7a6bc0259ed6cf9db8f499988f9ecc7167bf5'\n",
    "next(async () => {\n",
    "    uniPool = await $.fetch('IUniswapV3Pool',pool)\n",
    "    \n",
    "    await uniPool.increaseObservationCardinalityNext(0x00ff)\n",
    "    kp3rPool = await $.deploy('Keep3rV1Pair',pool)\n",
    "});"
   ]
  },
  {
   "cell_type": "code",
   "execution_count": null,
   "id": "b84bf9a4-de0f-4155-84c7-0e732c782e65",
   "metadata": {},
   "outputs": [],
   "source": [
    "WETH9 = '0xC02aaA39b223FE8D0A0e5C4F27eAD9083C756Cc2';\n",
    "router = '0xE592427A0AEce92De3Edee1F18E0157C05861564';\n",
    "\n",
    "next(async () => {\n",
    "    uniRouter = await $.fetch('ISwapRouter',router)\n",
    "    weth = await $.fetch('WETH9',WETH9)\n",
    "});"
   ]
  },
  {
   "cell_type": "code",
   "execution_count": null,
   "id": "8df3cbe1-6818-47af-b133-8158495e7a94",
   "metadata": {
    "tags": []
   },
   "outputs": [],
   "source": [
    "next(async () => {  \n",
    "    await $.keep3r.connect($.governance).approveLiquidity(kp3rPool.address)\n",
    "\n",
    "    await weth.connect($.jobOwner).deposit({value: toUnit(100)})\n",
    "    await $.keep3rV1Proxy.connect($.governance)['mint(address,uint256)']($.jobOwner.address,toUnit(0xffff))\n",
    "    \n",
    "    await weth.connect($.jobOwner).approve(kp3rPool.address,toUnit(0xffff))\n",
    "    await $.keep3rV1.connect($.jobOwner).approve(kp3rPool.address,toUnit(0xffff))\n",
    "    \n",
    "    await kp3rPool.connect($.jobOwner).mint(\n",
    "        toUnit(100),\n",
    "        toUnit(5.2),\n",
    "        toUnit(90),\n",
    "        toUnit(4),\n",
    "        $.jobOwner.address)\n",
    "    \n",
    "    await $.keep3rV1.connect($.jobOwner).approve(uniRouter.address,toUnit(0xffffff))\n",
    "    await uniRouter.connect($.jobOwner).exactInputSingle([\n",
    "                $.keep3rV1.address,\n",
    "                WETH9,\n",
    "                10000,\n",
    "                $.keeper.address,\n",
    "                2638281696,\n",
    "                toUnit(1),\n",
    "                0,\n",
    "                0])\n",
    "    await $.sleep($.time(5,'days'))\n",
    "})"
   ]
  },
  {
   "cell_type": "code",
   "execution_count": null,
   "id": "7357461f-bde1-4e0a-8b41-481503bf7df2",
   "metadata": {},
   "outputs": [],
   "source": [
    "next(async () => {\n",
    "    await kp3rPool.approve($.keep3r.address, toUnit(0xffff))\n",
    "    await $.keep3r.connect($.jobOwner).addLiquidityToJob($.job.address,kp3rPool.address,toUnit(22))\n",
    "    console.log('liquidityAmount', ((await $.keep3r.liquidityAmount($.job.address, kp3rPool.address)).div(toUnit(1))).toNumber())\n",
    "});"
   ]
  },
  {
   "cell_type": "code",
   "execution_count": null,
   "id": "596205c0-beb9-4397-a4bd-7c914719e609",
   "metadata": {},
   "outputs": [],
   "source": [
    "$.keep3r.totalJobCredits($.job.address)"
   ]
  },
  {
   "cell_type": "code",
   "execution_count": null,
   "id": "bddac285-4b45-4d7a-8598-02cb7dfc46b2",
   "metadata": {},
   "outputs": [],
   "source": [
    "0x19905e62977a0562 / toUnit(1)"
   ]
  },
  {
   "cell_type": "code",
   "execution_count": null,
   "id": "59cad174-fb19-4bd0-a299-5bee199b2527",
   "metadata": {},
   "outputs": [],
   "source": [
    "$.job.connect($.keeper).work();"
   ]
  },
  {
   "cell_type": "code",
   "execution_count": null,
   "id": "876dc07b-ba87-424c-90f6-c4e7eb4306ff",
   "metadata": {},
   "outputs": [],
   "source": [
    "next(async () => {\n",
    "    console.log('Start of simulation');\n",
    "    console.log(await $.helper.observe(kp3rPool.address,[0,432000]))\n",
    "    \n",
    "    // sleep some hours\n",
    "    await $.sleepAndRecord($.time(2, 'weeks'), $.time(4, 'hours'));\n",
    "    \n",
    "    // work a lot\n",
    "    for (let i = 0; i < 12; i++) {\n",
    "        await $.recordCredits();\n",
    "        await $.job.connect($.keeper).work();\n",
    "        await $.sleepAndRecord($.time(4, 'days'),$.time(1,'day'));\n",
    "        bonds = await $.keep3r.bonds($.keeper.address,$.keep3rV1.address)\n",
    "        if( bonds.gt(toUnit(10))) {\n",
    "            console.log('burn')\n",
    "            await $.keep3r.connect($.keeper).unbond($.keep3rV1.address,bonds)            \n",
    "            await uniRouter.connect($.jobOwner).exactInputSingle([\n",
    "                $.keep3rV1.address,\n",
    "                WETH9,\n",
    "                10000,\n",
    "                $.keeper.address,\n",
    "                2638281696,\n",
    "                bonds,\n",
    "                toUnit(0.00001),\n",
    "                0])\n",
    "        }\n",
    "    }\n",
    "    \n",
    "    await $.sleepAndRecord($.time(2, 'weeks'), $.time(4, 'hours'));\n",
    "    \n",
    "    console.log(await $.helper.observe(kp3rPool.address,[0,432000]))\n",
    "    console.log('End of simulation');\n",
    "});"
   ]
  },
  {
   "cell_type": "code",
   "execution_count": null,
   "id": "74afc4ef-5681-4f36-9cdb-44e832dd72ba",
   "metadata": {},
   "outputs": [],
   "source": [
    "$.sleepAndRecord($.time(1, 'day'), $.time(4, 'hours'));"
   ]
  },
  {
   "cell_type": "code",
   "execution_count": null,
   "id": "072a9466-c097-4540-911c-a0b8956d89d7",
   "metadata": {
    "tags": []
   },
   "outputs": [],
   "source": [
    "next(async () => {\n",
    "    await $.draw();\n",
    "});"
   ]
  },
  {
   "cell_type": "code",
   "execution_count": null,
   "id": "cb564ef1-84d4-4fbf-873d-5636319df265",
   "metadata": {},
   "outputs": [],
   "source": [
    "$.keep3r.bonds($.keeper.address,$.keep3rV1.address)"
   ]
  },
  {
   "cell_type": "code",
   "execution_count": null,
   "id": "2a1250e3-bdc7-48d0-ba60-dd2781caeb78",
   "metadata": {},
   "outputs": [],
   "source": [
    "0x0bdbe483ebb192bf"
   ]
  },
  {
   "cell_type": "code",
   "execution_count": null,
   "id": "13421d6e-e8b5-490b-a484-5a57c9524272",
   "metadata": {},
   "outputs": [],
   "source": [
    "0x106ee119c64edbc3/toUnit(1)"
   ]
  },
  {
   "cell_type": "code",
   "execution_count": null,
   "id": "93d539c0-7418-4bf9-a064-88561a776ce0",
   "metadata": {},
   "outputs": [],
   "source": [
    "$.keep3r.totalJobCredits($.job.address)"
   ]
  },
  {
   "cell_type": "code",
   "execution_count": null,
   "id": "0e6fdb11-ca3d-4f7f-9321-150f565da329",
   "metadata": {},
   "outputs": [],
   "source": [
    "$.job.connect($.keeper).workHard(0)"
   ]
  },
  {
   "cell_type": "code",
   "execution_count": null,
   "id": "366e28e7-4529-44c7-b1b1-6611f6ecd920",
   "metadata": {},
   "outputs": [],
   "source": []
  }
 ],
 "metadata": {
  "kernelspec": {
   "display_name": "Javascript (Node.js)",
   "language": "javascript",
   "name": "javascript"
  },
  "language_info": {
   "file_extension": ".js",
   "mimetype": "application/javascript",
   "name": "javascript",
   "version": "16.5.0"
  }
 },
 "nbformat": 4,
 "nbformat_minor": 5
}
