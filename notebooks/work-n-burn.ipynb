{
 "cells": [
  {
   "cell_type": "markdown",
   "id": "04eafc4c-8a42-4022-85f5-a4dbf3f519fd",
   "metadata": {},
   "source": [
    "# Basic work"
   ]
  },
  {
   "cell_type": "markdown",
   "id": "1ff21d8a-b389-47a2-9b18-2d17b7bbe7e8",
   "metadata": {},
   "source": [
    "### Setup"
   ]
  },
  {
   "cell_type": "code",
   "execution_count": 1,
   "id": "bd57ee33-939c-4f47-a06a-62e3f7df6794",
   "metadata": {
    "tags": []
   },
   "outputs": [],
   "source": [
    "var moment = require('moment');\n",
    "var { constants } = require('../utils');\n",
    "var { advanceTimeAndBlock } = require('../utils/evm');\n",
    "var { toUnit } = require('../utils/bn');\n",
    "var { LIQUIDITIES } = require('../utils/constants');\n",
    "var { getLatestBlockTimestamp, getBlockTimestamp } = require('../utils/evm');\n",
    "var { next, clear } = require('../utils/jupyter');\n",
    "var { Notebook } = require('../utils/notebook');\n",
    "\n",
    "clear();"
   ]
  },
  {
   "cell_type": "code",
   "execution_count": 2,
   "id": "8ca344f2-75be-487b-bdbc-540796044bee",
   "metadata": {},
   "outputs": [],
   "source": [
    "var $ = new Notebook();"
   ]
  },
  {
   "cell_type": "code",
   "execution_count": 3,
   "id": "759c49f0-e506-4633-aec5-b0581ee5d57b",
   "metadata": {},
   "outputs": [],
   "source": [
    "next(async () => {\n",
    "    await $.setup();\n",
    "});"
   ]
  },
  {
   "cell_type": "code",
   "execution_count": 4,
   "id": "ece25c49-d71c-46e1-8ebe-8453f3a40c0c",
   "metadata": {},
   "outputs": [],
   "source": [
    "pool = '0x11b7a6bc0259ed6cf9db8f499988f9ecc7167bf5'\n",
    "WETH9 = '0xC02aaA39b223FE8D0A0e5C4F27eAD9083C756Cc2';\n",
    "router = '0xE592427A0AEce92De3Edee1F18E0157C05861564';\n",
    "\n",
    "next(async () => {\n",
    "    uniPool = await $.fetch('IUniswapV3Pool',pool)\n",
    "    \n",
    "    kp3rPool = await $.deploy('Keep3rV1Pair',pool)\n",
    "    uniRouter = await $.fetch('ISwapRouter',router)\n",
    "    weth = await $.fetch('WETH9',WETH9)\n",
    "    \n",
    "    // increase cardinality of the pool\n",
    "    await uniPool.increaseObservationCardinalityNext(0x0a1)\n",
    "});"
   ]
  },
  {
   "cell_type": "markdown",
   "id": "99106706-40ce-458b-93c4-bb6a9f7452b2",
   "metadata": {},
   "source": [
    "### Setup the KP3R/WETH Pool\n",
    "`KP3R = 100`\n",
    "`ETH = 5.2`\n",
    "`20 KP3R = 1 ETH`\n",
    "`Minted LPs = 22`"
   ]
  },
  {
   "cell_type": "code",
   "execution_count": 5,
   "id": "8df3cbe1-6818-47af-b133-8158495e7a94",
   "metadata": {
    "tags": []
   },
   "outputs": [],
   "source": [
    "next(async () => {  \n",
    "    \n",
    "    // fund the jobOwner\n",
    "    await weth.connect($.jobOwner).deposit({value: toUnit(100)})\n",
    "    await $.keep3rV1Proxy.connect($.governance)['mint(address,uint256)']($.jobOwner.address,toUnit(0xffff))\n",
    "  \n",
    "    // approve spendings\n",
    "    await weth.connect($.jobOwner).approve(kp3rPool.address,toUnit(0xffffff))\n",
    "    await $.keep3rV1.connect($.jobOwner).approve(kp3rPool.address,toUnit(0xffffff))\n",
    "    await $.keep3rV1.connect($.jobOwner).approve(uniRouter.address,toUnit(0xffffff))\n",
    "    \n",
    "    // mint a position\n",
    "    await kp3rPool.connect($.jobOwner).mint(\n",
    "        toUnit(100),\n",
    "        toUnit(5.2),\n",
    "        toUnit(90),\n",
    "        toUnit(4),\n",
    "        $.jobOwner.address)\n",
    "    \n",
    "    console.log('LPs', ((await kp3rPool.balanceOf($.jobOwner.address)).div(toUnit(1))).toNumber())\n",
    "    \n",
    "    // make an empty swap\n",
    "    await uniRouter.connect($.jobOwner).exactInputSingle([$.keep3rV1.address,WETH9,10000,$.jobOwner.address,2638281696,1,0,0])\n",
    "    await $.sleep($.time(5,'days'))\n",
    "})"
   ]
  },
  {
   "cell_type": "markdown",
   "id": "ad036768-be97-454d-a7e5-bb2593197919",
   "metadata": {},
   "source": [
    "### Add liquidity to job"
   ]
  },
  {
   "cell_type": "code",
   "execution_count": 6,
   "id": "7357461f-bde1-4e0a-8b41-481503bf7df2",
   "metadata": {},
   "outputs": [],
   "source": [
    "next(async () => {\n",
    "    await $.keep3r.connect($.governance).approveLiquidity(kp3rPool.address)\n",
    "\n",
    "    await kp3rPool.approve($.keep3r.address, toUnit(0xffff))\n",
    "    await $.keep3r.connect($.jobOwner).addLiquidityToJob($.job.address,kp3rPool.address,toUnit(2))\n",
    "    console.log('liquidityAmount', ((await $.keep3r.liquidityAmount($.job.address, kp3rPool.address)).div(toUnit(1))).toNumber())\n",
    "});"
   ]
  },
  {
   "cell_type": "markdown",
   "id": "aee60e73-17d6-4674-a22b-5b401b642abd",
   "metadata": {},
   "source": [
    "### Work and burn"
   ]
  },
  {
   "cell_type": "code",
   "execution_count": 7,
   "id": "876dc07b-ba87-424c-90f6-c4e7eb4306ff",
   "metadata": {},
   "outputs": [],
   "source": [
    "next(async () => {\n",
    "    console.log('Start of simulation');\n",
    "    \n",
    "    // sleep some hours\n",
    "    await $.sleepAndRecord($.time(2, 'weeks'), $.time(4, 'hours'));\n",
    "    \n",
    "    // work a lot\n",
    "    for (let i = 0; i < 56; i++) {\n",
    "        await $.recordCredits();\n",
    "        await $.job.connect($.keeper).work();\n",
    "        await $.sleepAndRecord($.time(0.5, 'days'),$.time(12,'hours'));\n",
    "        bonds = await $.keep3r.bonds($.keeper.address,$.keep3rV1.address)\n",
    "        if( bonds.gt(toUnit(20))) {\n",
    "            console.log('swaps', (bonds.div(toUnit(1))).toNumber(), 'KP3R')\n",
    "            await $.keep3r.connect($.keeper).unbond($.keep3rV1.address,bonds)            \n",
    "            // somebody swaps 20 KP3R into the pool\n",
    "            await uniRouter.connect($.jobOwner).exactInputSingle([\n",
    "                $.keep3rV1.address,\n",
    "                WETH9,\n",
    "                10000,\n",
    "                $.keeper.address,\n",
    "                2638281696,\n",
    "                bonds,\n",
    "                toUnit(0.00001),\n",
    "                0])\n",
    "        }\n",
    "    }\n",
    "    \n",
    "    await $.sleepAndRecord($.time(2, 'weeks'), $.time(4, 'hours'));\n",
    "    \n",
    "    console.log('End of simulation');\n",
    "});"
   ]
  },
  {
   "cell_type": "code",
   "execution_count": 8,
   "id": "57bf8cd5-6c16-42a9-ae58-60555d1b7833",
   "metadata": {},
   "outputs": [],
   "source": [
    "next(async()=>{\n",
    "    console.log(await uniPool.slot0())\n",
    "})"
   ]
  },
  {
   "cell_type": "code",
   "execution_count": 9,
   "id": "c0dd4bd2-c6c7-4f11-8c25-fa0729b1023c",
   "metadata": {},
   "outputs": [
    {
     "name": "stderr",
     "output_type": "stream",
     "text": [
      "Error: missing argument:  in Contract constructor (count=1, expectedCount=2, code=MISSING_ARGUMENT, version=contracts/5.4.0)\n",
      "    at Logger.makeError (/Users/levihernan/wonder/keep3r/notebooks/node_modules/@ethersproject/logger/lib/index.js:187:21)\n",
      "    at Logger.throwError (/Users/levihernan/wonder/keep3r/notebooks/node_modules/@ethersproject/logger/lib/index.js:196:20)\n",
      "    at Logger.checkArgumentCount (/Users/levihernan/wonder/keep3r/notebooks/node_modules/@ethersproject/logger/lib/index.js:256:18)\n",
      "    at ContractFactory.<anonymous> (/Users/levihernan/wonder/keep3r/notebooks/node_modules/@ethersproject/contracts/lib/index.js:1113:32)\n",
      "    at step (/Users/levihernan/wonder/keep3r/notebooks/node_modules/@ethersproject/contracts/lib/index.js:48:23)\n",
      "    at Object.next (/Users/levihernan/wonder/keep3r/notebooks/node_modules/@ethersproject/contracts/lib/index.js:29:53)\n",
      "    at /Users/levihernan/wonder/keep3r/notebooks/node_modules/@ethersproject/contracts/lib/index.js:23:71\n",
      "    at new Promise (<anonymous>)\n",
      "    at __awaiter (/Users/levihernan/wonder/keep3r/notebooks/node_modules/@ethersproject/contracts/lib/index.js:19:12)\n",
      "    at ContractFactory.deploy (/Users/levihernan/wonder/keep3r/notebooks/node_modules/@ethersproject/contracts/lib/index.js:1102:16) {\n",
      "  reason: 'missing argument:  in Contract constructor',\n",
      "  code: 'MISSING_ARGUMENT',\n",
      "  count: 1,\n",
      "  expectedCount: 2\n",
      "}\n",
      "Error: missing argument:  in Contract constructor (count=1, expectedCount=2, code=MISSING_ARGUMENT, version=contracts/5.4.0)\n",
      "    at Logger.makeError (/Users/levihernan/wonder/keep3r/notebooks/node_modules/@ethersproject/logger/lib/index.js:187:21)\n",
      "    at Logger.throwError (/Users/levihernan/wonder/keep3r/notebooks/node_modules/@ethersproject/logger/lib/index.js:196:20)\n",
      "    at Logger.checkArgumentCount (/Users/levihernan/wonder/keep3r/notebooks/node_modules/@ethersproject/logger/lib/index.js:256:18)\n",
      "    at ContractFactory.<anonymous> (/Users/levihernan/wonder/keep3r/notebooks/node_modules/@ethersproject/contracts/lib/index.js:1113:32)\n",
      "    at step (/Users/levihernan/wonder/keep3r/notebooks/node_modules/@ethersproject/contracts/lib/index.js:48:23)\n",
      "    at Object.next (/Users/levihernan/wonder/keep3r/notebooks/node_modules/@ethersproject/contracts/lib/index.js:29:53)\n",
      "    at /Users/levihernan/wonder/keep3r/notebooks/node_modules/@ethersproject/contracts/lib/index.js:23:71\n",
      "    at new Promise (<anonymous>)\n",
      "    at __awaiter (/Users/levihernan/wonder/keep3r/notebooks/node_modules/@ethersproject/contracts/lib/index.js:19:12)\n",
      "    at ContractFactory.deploy (/Users/levihernan/wonder/keep3r/notebooks/node_modules/@ethersproject/contracts/lib/index.js:1102:16) {\n",
      "  reason: 'missing argument:  in Contract constructor',\n",
      "  code: 'MISSING_ARGUMENT',\n",
      "  count: 1,\n",
      "  expectedCount: 2\n",
      "}\n",
      "Error: missing argument:  in Contract constructor (count=1, expectedCount=2, code=MISSING_ARGUMENT, version=contracts/5.4.0)\n",
      "    at Logger.makeError (/Users/levihernan/wonder/keep3r/notebooks/node_modules/@ethersproject/logger/lib/index.js:187:21)\n",
      "    at Logger.throwError (/Users/levihernan/wonder/keep3r/notebooks/node_modules/@ethersproject/logger/lib/index.js:196:20)\n",
      "    at Logger.checkArgumentCount (/Users/levihernan/wonder/keep3r/notebooks/node_modules/@ethersproject/logger/lib/index.js:256:18)\n",
      "    at ContractFactory.<anonymous> (/Users/levihernan/wonder/keep3r/notebooks/node_modules/@ethersproject/contracts/lib/index.js:1113:32)\n",
      "    at step (/Users/levihernan/wonder/keep3r/notebooks/node_modules/@ethersproject/contracts/lib/index.js:48:23)\n",
      "    at Object.next (/Users/levihernan/wonder/keep3r/notebooks/node_modules/@ethersproject/contracts/lib/index.js:29:53)\n",
      "    at /Users/levihernan/wonder/keep3r/notebooks/node_modules/@ethersproject/contracts/lib/index.js:23:71\n",
      "    at new Promise (<anonymous>)\n",
      "    at __awaiter (/Users/levihernan/wonder/keep3r/notebooks/node_modules/@ethersproject/contracts/lib/index.js:19:12)\n",
      "    at ContractFactory.deploy (/Users/levihernan/wonder/keep3r/notebooks/node_modules/@ethersproject/contracts/lib/index.js:1102:16) {\n",
      "  reason: 'missing argument:  in Contract constructor',\n",
      "  code: 'MISSING_ARGUMENT',\n",
      "  count: 1,\n",
      "  expectedCount: 2\n",
      "}\n",
      "Error: missing argument:  in Contract constructor (count=1, expectedCount=2, code=MISSING_ARGUMENT, version=contracts/5.4.0)\n",
      "    at Logger.makeError (/Users/levihernan/wonder/keep3r/notebooks/node_modules/@ethersproject/logger/lib/index.js:187:21)\n",
      "    at Logger.throwError (/Users/levihernan/wonder/keep3r/notebooks/node_modules/@ethersproject/logger/lib/index.js:196:20)\n",
      "    at Logger.checkArgumentCount (/Users/levihernan/wonder/keep3r/notebooks/node_modules/@ethersproject/logger/lib/index.js:256:18)\n",
      "    at ContractFactory.<anonymous> (/Users/levihernan/wonder/keep3r/notebooks/node_modules/@ethersproject/contracts/lib/index.js:1113:32)\n",
      "    at step (/Users/levihernan/wonder/keep3r/notebooks/node_modules/@ethersproject/contracts/lib/index.js:48:23)\n",
      "    at Object.next (/Users/levihernan/wonder/keep3r/notebooks/node_modules/@ethersproject/contracts/lib/index.js:29:53)\n",
      "    at /Users/levihernan/wonder/keep3r/notebooks/node_modules/@ethersproject/contracts/lib/index.js:23:71\n",
      "    at new Promise (<anonymous>)\n",
      "    at __awaiter (/Users/levihernan/wonder/keep3r/notebooks/node_modules/@ethersproject/contracts/lib/index.js:19:12)\n",
      "    at ContractFactory.deploy (/Users/levihernan/wonder/keep3r/notebooks/node_modules/@ethersproject/contracts/lib/index.js:1102:16) {\n",
      "  reason: 'missing argument:  in Contract constructor',\n",
      "  code: 'MISSING_ARGUMENT',\n",
      "  count: 1,\n",
      "  expectedCount: 2\n",
      "}\n",
      "Error: missing argument:  in Contract constructor (count=1, expectedCount=2, code=MISSING_ARGUMENT, version=contracts/5.4.0)\n",
      "    at Logger.makeError (/Users/levihernan/wonder/keep3r/notebooks/node_modules/@ethersproject/logger/lib/index.js:187:21)\n",
      "    at Logger.throwError (/Users/levihernan/wonder/keep3r/notebooks/node_modules/@ethersproject/logger/lib/index.js:196:20)\n",
      "    at Logger.checkArgumentCount (/Users/levihernan/wonder/keep3r/notebooks/node_modules/@ethersproject/logger/lib/index.js:256:18)\n",
      "    at ContractFactory.<anonymous> (/Users/levihernan/wonder/keep3r/notebooks/node_modules/@ethersproject/contracts/lib/index.js:1113:32)\n",
      "    at step (/Users/levihernan/wonder/keep3r/notebooks/node_modules/@ethersproject/contracts/lib/index.js:48:23)\n",
      "    at Object.next (/Users/levihernan/wonder/keep3r/notebooks/node_modules/@ethersproject/contracts/lib/index.js:29:53)\n",
      "    at /Users/levihernan/wonder/keep3r/notebooks/node_modules/@ethersproject/contracts/lib/index.js:23:71\n",
      "    at new Promise (<anonymous>)\n",
      "    at __awaiter (/Users/levihernan/wonder/keep3r/notebooks/node_modules/@ethersproject/contracts/lib/index.js:19:12)\n",
      "    at ContractFactory.deploy (/Users/levihernan/wonder/keep3r/notebooks/node_modules/@ethersproject/contracts/lib/index.js:1102:16) {\n",
      "  reason: 'missing argument:  in Contract constructor',\n",
      "  code: 'MISSING_ARGUMENT',\n",
      "  count: 1,\n",
      "  expectedCount: 2\n",
      "}\n",
      "Error: missing argument:  in Contract constructor (count=1, expectedCount=2, code=MISSING_ARGUMENT, version=contracts/5.4.0)\n",
      "    at Logger.makeError (/Users/levihernan/wonder/keep3r/notebooks/node_modules/@ethersproject/logger/lib/index.js:187:21)\n",
      "    at Logger.throwError (/Users/levihernan/wonder/keep3r/notebooks/node_modules/@ethersproject/logger/lib/index.js:196:20)\n",
      "    at Logger.checkArgumentCount (/Users/levihernan/wonder/keep3r/notebooks/node_modules/@ethersproject/logger/lib/index.js:256:18)\n",
      "    at ContractFactory.<anonymous> (/Users/levihernan/wonder/keep3r/notebooks/node_modules/@ethersproject/contracts/lib/index.js:1113:32)\n",
      "    at step (/Users/levihernan/wonder/keep3r/notebooks/node_modules/@ethersproject/contracts/lib/index.js:48:23)\n",
      "    at Object.next (/Users/levihernan/wonder/keep3r/notebooks/node_modules/@ethersproject/contracts/lib/index.js:29:53)\n",
      "    at /Users/levihernan/wonder/keep3r/notebooks/node_modules/@ethersproject/contracts/lib/index.js:23:71\n",
      "    at new Promise (<anonymous>)\n",
      "    at __awaiter (/Users/levihernan/wonder/keep3r/notebooks/node_modules/@ethersproject/contracts/lib/index.js:19:12)\n",
      "    at ContractFactory.deploy (/Users/levihernan/wonder/keep3r/notebooks/node_modules/@ethersproject/contracts/lib/index.js:1102:16) {\n",
      "  reason: 'missing argument:  in Contract constructor',\n",
      "  code: 'MISSING_ARGUMENT',\n",
      "  count: 1,\n",
      "  expectedCount: 2\n",
      "}\n",
      "Error: missing argument:  in Contract constructor (count=1, expectedCount=2, code=MISSING_ARGUMENT, version=contracts/5.4.0)\n",
      "    at Logger.makeError (/Users/levihernan/wonder/keep3r/notebooks/node_modules/@ethersproject/logger/lib/index.js:187:21)\n",
      "    at Logger.throwError (/Users/levihernan/wonder/keep3r/notebooks/node_modules/@ethersproject/logger/lib/index.js:196:20)\n",
      "    at Logger.checkArgumentCount (/Users/levihernan/wonder/keep3r/notebooks/node_modules/@ethersproject/logger/lib/index.js:256:18)\n",
      "    at ContractFactory.<anonymous> (/Users/levihernan/wonder/keep3r/notebooks/node_modules/@ethersproject/contracts/lib/index.js:1113:32)\n",
      "    at step (/Users/levihernan/wonder/keep3r/notebooks/node_modules/@ethersproject/contracts/lib/index.js:48:23)\n",
      "    at Object.next (/Users/levihernan/wonder/keep3r/notebooks/node_modules/@ethersproject/contracts/lib/index.js:29:53)\n",
      "    at /Users/levihernan/wonder/keep3r/notebooks/node_modules/@ethersproject/contracts/lib/index.js:23:71\n",
      "    at new Promise (<anonymous>)\n",
      "    at __awaiter (/Users/levihernan/wonder/keep3r/notebooks/node_modules/@ethersproject/contracts/lib/index.js:19:12)\n",
      "    at ContractFactory.deploy (/Users/levihernan/wonder/keep3r/notebooks/node_modules/@ethersproject/contracts/lib/index.js:1102:16) {\n",
      "  reason: 'missing argument:  in Contract constructor',\n",
      "  code: 'MISSING_ARGUMENT',\n",
      "  count: 1,\n",
      "  expectedCount: 2\n",
      "}\n"
     ]
    }
   ],
   "source": [
    "next(async () => {\n",
    "    await $.draw();\n",
    "});"
   ]
  },
  {
   "cell_type": "code",
   "execution_count": null,
   "id": "ff5362f8-4cec-48da-81da-34a44c0e4b3e",
   "metadata": {},
   "outputs": [],
   "source": []
  }
 ],
 "metadata": {
  "kernelspec": {
   "display_name": "Javascript (Node.js)",
   "language": "javascript",
   "name": "javascript"
  },
  "language_info": {
   "file_extension": ".js",
   "mimetype": "application/javascript",
   "name": "javascript",
   "version": "16.8.0"
  }
 },
 "nbformat": 4,
 "nbformat_minor": 5
}
