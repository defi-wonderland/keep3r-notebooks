{
 "cells": [
  {
   "cell_type": "markdown",
   "id": "04eafc4c-8a42-4022-85f5-a4dbf3f519fd",
   "metadata": {},
   "source": [
    "# Basic work"
   ]
  },
  {
   "cell_type": "markdown",
   "id": "1ff21d8a-b389-47a2-9b18-2d17b7bbe7e8",
   "metadata": {},
   "source": [
    "### Setup"
   ]
  },
  {
   "cell_type": "code",
   "execution_count": null,
   "id": "bd57ee33-939c-4f47-a06a-62e3f7df6794",
   "metadata": {
    "tags": []
   },
   "outputs": [],
   "source": [
    "var moment = require('moment');\n",
    "var { toUnit } = require('../utils/bn');\n",
    "var { LIQUIDITIES } = require('../utils/constants');\n",
    "var { getLatestBlockTimestamp, getBlockTimestamp } = require('../utils/evm');\n",
    "var { next, clear } = require('../utils/jupyter');\n",
    "var { Notebook } = require('../utils/notebook');\n",
    "\n",
    "clear();"
   ]
  },
  {
   "cell_type": "code",
   "execution_count": null,
   "id": "10be3fe3-e55f-40ce-a2a9-6318a22b0b15",
   "metadata": {},
   "outputs": [],
   "source": [
    "var $ = new Notebook();"
   ]
  },
  {
   "cell_type": "code",
   "execution_count": null,
   "id": "08919bc6-2167-4459-868d-e14b7cb57a67",
   "metadata": {},
   "outputs": [],
   "source": [
    "next(async () => {\n",
    "    await $.setup();\n",
    "});"
   ]
  },
  {
   "cell_type": "code",
   "execution_count": null,
   "id": "b8bd32de-a2b4-41ef-ac31-d6371ca3ef91",
   "metadata": {},
   "outputs": [],
   "source": [
    "var wethPool, wethPoolWhale;\n",
    "next(async () => {\n",
    "    const data = await $.setupLiquidity(LIQUIDITIES.KP3R_WETH);\n",
    "    wethPool = data.pool;\n",
    "    wethPoolWhale = data.whale;\n",
    "});"
   ]
  },
  {
   "cell_type": "code",
   "execution_count": null,
   "id": "b3e0ec85-0852-4a5a-bd9d-a05efa93c1b1",
   "metadata": {},
   "outputs": [],
   "source": [
    "var ldoPool, ldoPoolWhale;\n",
    "next(async () => {\n",
    "    const data = await $.setupLiquidity(LIQUIDITIES.KP3R_LDO);\n",
    "    ldoPool = data.pool;\n",
    "    ldoPoolWhale = data.whale;\n",
    "});"
   ]
  },
  {
   "cell_type": "markdown",
   "id": "d32a3bca-e933-4a5e-8f29-2ff005571ab1",
   "metadata": {},
   "source": [
    "### Add LP tokens to job"
   ]
  },
  {
   "cell_type": "code",
   "execution_count": null,
   "id": "94fc9662-4c3b-4021-a3b0-7fd17c8706ce",
   "metadata": {},
   "outputs": [],
   "source": [
    "next(async () => {\n",
    "    // add 2 units of wethKp3r and sleep 2 weeks\n",
    "    await $.addLiquidityToJob(wethPool, wethPoolWhale, toUnit(2));\n",
    "    await $.sleepAndRecord($.time(2, 'weeks'), $.time(4, 'hours'));\n",
    "    \n",
    "    // add 1 unit of ldoKp3r and sleep 2 weeks\n",
    "    await $.addLiquidityToJob(ldoPool, ldoPoolWhale, toUnit(1));\n",
    "    await $.sleepAndRecord($.time(2, 'weeks'), $.time(4, 'hours'));\n",
    "});"
   ]
  },
  {
   "cell_type": "markdown",
   "id": "b77d4fbe-3e94-46a6-99c8-1ecf9ff730ae",
   "metadata": {},
   "source": [
    "### Work, work, work\n",
    "Having 2 different liquidities, work and sleep 2 weeks"
   ]
  },
  {
   "cell_type": "code",
   "execution_count": null,
   "id": "876dc07b-ba87-424c-90f6-c4e7eb4306ff",
   "metadata": {},
   "outputs": [],
   "source": [
    "next(async () => {\n",
    "    const timeToSleep = $.time(1, 'month');\n",
    "    const startedToWorkAt = await getLatestBlockTimestamp();\n",
    "    \n",
    "    console.log('Start of simulation');\n",
    "\n",
    "    // work\n",
    "    await $.job.connect($.keeper).work();\n",
    "    await $.recordCredits();\n",
    "    \n",
    "    // sleep some more\n",
    "    await $.sleepAndRecord($.time(2, 'weeks'), $.time(4, 'hours'));\n",
    "    \n",
    "    console.log('End of simulation');\n",
    "});"
   ]
  },
  {
   "cell_type": "code",
   "execution_count": null,
   "id": "072a9466-c097-4540-911c-a0b8956d89d7",
   "metadata": {},
   "outputs": [],
   "source": [
    "next(async () => {\n",
    "    await $.draw();\n",
    "});"
   ]
  }
 ],
 "metadata": {
  "kernelspec": {
   "display_name": "Javascript (Node.js)",
   "language": "javascript",
   "name": "javascript"
  },
  "language_info": {
   "file_extension": ".js",
   "mimetype": "application/javascript",
   "name": "javascript",
   "version": "16.5.0"
  }
 },
 "nbformat": 4,
 "nbformat_minor": 5
}
