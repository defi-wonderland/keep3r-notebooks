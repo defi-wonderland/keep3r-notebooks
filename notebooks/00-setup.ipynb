{
 "cells": [
  {
   "cell_type": "markdown",
   "id": "8e2491fb-3301-4c68-a3ca-649bb88e4160",
   "metadata": {},
   "source": [
    "### Setup"
   ]
  },
  {
   "cell_type": "code",
   "execution_count": 1,
   "id": "ad598979-d080-43bb-bcc0-4e69e0db17e4",
   "metadata": {
    "tags": []
   },
   "outputs": [],
   "source": [
    "// import dependencies\n",
    "\n",
    "var moment = require('moment')\n",
    "var { constants } = require('../utils')\n",
    "var { advanceTimeAndBlock } = require('../utils/evm')\n",
    "var { evm, common, contracts } = require('../utils');\n",
    "var { toUnit } = require('../utils/bn')\n",
    "var { getLatestBlockTimestamp, getBlockTimestamp } = require('../utils/evm')\n",
    "var { next, clear, bnToNumber } = require('../utils/jupyter')\n",
    "var { Notebook } = require('../utils/notebook')\n",
    "var { ethers } = require('hardhat')\n",
    "\n",
    "var $ = new Notebook();\n",
    "var snapshots = new evm.SnapshotManager()\n",
    "\n",
    "clear();"
   ]
  },
  {
   "cell_type": "code",
   "execution_count": 2,
   "id": "d42a7ee8-0eea-4c47-983e-ddf5a9cc9bf6",
   "metadata": {},
   "outputs": [],
   "source": [
    "// setup tools and contracts\n",
    "\n",
    "next(async () => {\n",
    "    await $.setup(constants.FORK_BLOCK_NUMBER);\n",
    "    \n",
    "    provider = await $.impersonate(constants.RICH_DAI_ADDRESS);\n",
    "    dai = await $.fetch('ERC20', constants.DAI_ADDRESS)\n",
    "    uniV3Pool = await $.fetch('IUniswapV3Pool', constants.UNISWAP_V3_ORACLE_POOL )\n",
    "});"
   ]
  },
  {
   "cell_type": "code",
   "execution_count": 3,
   "id": "a1fab67d-db2f-4c4d-b942-0a5f338653c4",
   "metadata": {},
   "outputs": [],
   "source": [
    "// take snapshot\n",
    "\n",
    "next(async()=>{\n",
    "    setupSnap = await snapshots.take()\n",
    "})"
   ]
  },
  {
   "cell_type": "code",
   "execution_count": null,
   "id": "2513b7ca-b2cf-4387-819e-7ca6f8c14b06",
   "metadata": {},
   "outputs": [],
   "source": []
  }
 ],
 "metadata": {
  "kernelspec": {
   "display_name": "Javascript (Node.js)",
   "language": "javascript",
   "name": "javascript"
  },
  "language_info": {
   "file_extension": ".js",
   "mimetype": "application/javascript",
   "name": "javascript",
   "version": "16.8.0"
  }
 },
 "nbformat": 4,
 "nbformat_minor": 5
}
