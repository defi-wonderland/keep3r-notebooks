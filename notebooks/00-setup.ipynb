{
 "cells": [
  {
   "cell_type": "markdown",
   "id": "8e2491fb-3301-4c68-a3ca-649bb88e4160",
   "metadata": {},
   "source": [
    "### Setup"
   ]
  },
  {
   "cell_type": "code",
   "execution_count": 1,
   "id": "ad598979-d080-43bb-bcc0-4e69e0db17e4",
   "metadata": {
    "tags": []
   },
   "outputs": [],
   "source": [
    "// import dependencies\n",
    "\n",
    "var moment = require('moment')\n",
    "var { constants } = require('../utils')\n",
    "var { advanceTimeAndBlock } = require('../utils/evm')\n",
    "var { evm, common, contracts } = require('../utils');\n",
    "var { toUnit } = require('../utils/bn')\n",
    "var { getLatestBlockTimestamp, getBlockTimestamp } = require('../utils/evm')\n",
    "var { next, clear, bnToNumber } = require('../utils/jupyter')\n",
    "var { Notebook } = require('../utils/notebook')\n",
    "var { Keep3r } = require('../utils/common')\n",
    "var { ethers } = require('hardhat')\n",
    "\n",
    "kp3rAmount = toUnit(10)\n",
    "\n",
    "var $ = new Notebook();\n",
    "var keep3r = new Keep3r();\n",
    "\n",
    "clear();"
   ]
  },
  {
   "cell_type": "code",
   "execution_count": 2,
   "id": "d42a7ee8-0eea-4c47-983e-ddf5a9cc9bf6",
   "metadata": {},
   "outputs": [],
   "source": [
    "// setup tools and contracts\n",
    "\n",
    "next(async () => {\n",
    "    await $.setup(constants.FORK_BLOCK_NUMBER);\n",
    "    await keep3r.setup();\n",
    "    \n",
    "    provider = await $.newSigner();\n",
    "    weth = await $.fetch('ERC20ForTest', constants.WETH_ADDRESS)\n",
    "    uniV3Pool = await $.fetch('IUniswapV3Pool', constants.UNISWAP_V3_ORACLE_POOL )\n",
    "});"
   ]
  },
  {
   "cell_type": "code",
   "execution_count": 3,
   "id": "6be80263-8ff2-4a74-b8cc-56296db29b77",
   "metadata": {
    "tags": []
   },
   "outputs": [],
   "source": [
    "// mint a liquidity to Keep3r.provider\n",
    "\n",
    "next(async()=>{\n",
    "    // mint KP3R and WETH to provider and approve spendings\n",
    "    await keep3r.proxy.connect(keep3r.governance)['mint(address,uint256)'](provider.address, kp3rAmount)\n",
    "    await keep3r.v1.connect(provider).approve(keep3r.pool.address, kp3rAmount)\n",
    "    await weth.connect(provider).deposit(kp3rAmount, {value:kp3rAmount})\n",
    "    await weth.connect(provider).approve(keep3r.pool.address, kp3rAmount)\n",
    "    \n",
    "    kp3rInitialBalance = await keep3r.v1.balanceOf(provider.address)\n",
    "    wethInitialBalance = await weth.balanceOf(provider.address)\n",
    "\n",
    "    // mint kLP\n",
    "    liquidity = await keep3r.pool.connect(provider).callStatic.mint(kp3rAmount,kp3rAmount,0,0,provider.address)\n",
    "    await keep3r.pool.connect(provider).mint(kp3rAmount,kp3rAmount,0,0,provider.address)\n",
    "    \n",
    "    kp3rBalance = await keep3r.v1.balanceOf(provider.address)\n",
    "    wethBalance = await weth.balanceOf(provider.address)\n",
    "    klpBalance = await keep3r.pool.balanceOf(provider.address)\n",
    "    kp3rSpent = kp3rInitialBalance.sub(kp3rBalance)\n",
    "    wethSpent = wethInitialBalance.sub(wethBalance)\n",
    "})"
   ]
  }
 ],
 "metadata": {
  "kernelspec": {
   "display_name": "Javascript (Node.js)",
   "language": "javascript",
   "name": "javascript"
  },
  "language_info": {
   "file_extension": ".js",
   "mimetype": "application/javascript",
   "name": "javascript",
   "version": "17.0.1"
  }
 },
 "nbformat": 4,
 "nbformat_minor": 5
}
