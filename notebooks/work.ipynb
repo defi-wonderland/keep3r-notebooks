{
 "cells": [
  {
   "cell_type": "code",
   "execution_count": 1,
   "id": "d1e865be-f6e2-4c45-bdae-4d5ec393b4fc",
   "metadata": {},
   "outputs": [
    {
     "data": {
      "text/plain": [
       "{\n",
       "  parsed: {\n",
       "    KMS_KEY_ID: '',\n",
       "    ENCRYPTED_PRIVATE_KEY: '',\n",
       "    FORK: 'true',\n",
       "    MAINNET_HTTPS_URL: 'https://eth-mainnet.alchemyapi.io/v2/CUvUzvtv_cTDbOIygXjZr4-4wJwnyJzE',\n",
       "    ROPSTEN_HTTPS_URL: 'https://ropsten.infura.io/v3/ea855ba5ac5141faa04ba353219e2d28',\n",
       "    LOCAL_MAINNET_HTTPS_URL: 'https://127.0.0.1:8545',\n",
       "    MAINNET_PRIVATE_KEY: '0xac0974bec39a17e36ba4a6b4d238ff944bacb478cbed5efcae784d7bf4f2ff80',\n",
       "    ROPSTEN_PRIVATE_KEY: '0x5488e8d2aca366fd2b642d210439a17049d028133f90f03fee4a0b2af4c5e58a',\n",
       "    LOCAL_MAINNET_PRIVATE_KEY: '0xac0974bec39a17e36ba4a6b4d238ff944bacb478cbed5efcae784d7bf4f2ff80',\n",
       "    MOCHA_TIMEOUT: '600000',\n",
       "    COINMARKETCAP_API_KEY: '2e6100f3-2c75-48d2-9f24-dd4bb931d3aa',\n",
       "    COINMARKETCAP_DEFAULT_CURRENCY: 'USD',\n",
       "    ETHERSCAN_API_KEY: '7IETMHYPXUYH75ZXMN535EQKNHARISJSH6'\n",
       "  }\n",
       "}"
      ]
     },
     "execution_count": 1,
     "metadata": {},
     "output_type": "execute_result"
    }
   ],
   "source": [
    "require('dotenv').config({ path: '../.env' });\n",
    "var { evm, wallet, constants, common, bn } = require('../utils');\n",
    "var { ethers } = require('hardhat');\n",
    "var hre = require('hardhat');"
   ]
  },
  {
   "cell_type": "code",
   "execution_count": 47,
   "id": "0548adfd-633f-4b60-a8ae-d398d766080c",
   "metadata": {},
   "outputs": [],
   "source": [
    "evm.reset(\n",
    "    {\n",
    "        jsonRpcUrl: process.env.MAINNET_HTTPS_URL,\n",
    "        blockNumber: constants.FORK_BLOCK_NUMBER,\n",
    "    }\n",
    ");"
   ]
  },
  {
   "cell_type": "code",
   "execution_count": 48,
   "id": "ae6c5abb-a7f5-44b5-89c8-6502b29daf33",
   "metadata": {},
   "outputs": [],
   "source": [
    "wallet.impersonate(constants.RICH_ETH_ADDRESS).then(r => jobOwner = r);\n",
    "wallet.impersonate(constants.RICH_ETH_ADDRESS).then(r => keeper = r);\n",
    "\n",
    "common.setupKeep3r().then(res => {\n",
    "    keep3r = res.keep3r;\n",
    "    governance = res.governance;\n",
    "    keep3rV1 = res.keep3rV1;\n",
    "    keep3rV1Proxy = res.keep3rV1Proxy;\n",
    "});"
   ]
  },
  {
   "cell_type": "code",
   "execution_count": 49,
   "id": "1c04704e-1e88-49a3-8221-37bd4c4b7363",
   "metadata": {
    "tags": []
   },
   "outputs": [
    {
     "data": {
      "text/plain": [
       "Contract {\n",
       "  interface: Interface {\n",
       "    fragments: [\n",
       "      [ConstructorFragment],\n",
       "      [ErrorFragment],\n",
       "      [FunctionFragment],\n",
       "      [FunctionFragment],\n",
       "      [FunctionFragment],\n",
       "      [FunctionFragment]\n",
       "    ],\n",
       "    _abiCoder: AbiCoder { coerceFunc: null },\n",
       "    functions: {\n",
       "      'keep3r()': [FunctionFragment],\n",
       "      'nonce()': [FunctionFragment],\n",
       "      'work()': [FunctionFragment],\n",
       "      'workHard(uint256)': [FunctionFragment]\n",
       "    },\n",
       "    errors: { 'InvalidKeeper()': [ErrorFragment] },\n",
       "    events: {},\n",
       "    structs: {},\n",
       "    deploy: ConstructorFragment {\n",
       "      name: null,\n",
       "      type: 'constructor',\n",
       "      inputs: [Array],\n",
       "      payable: false,\n",
       "      stateMutability: 'nonpayable',\n",
       "      gas: null,\n",
       "      _isFragment: true\n",
       "    },\n",
       "    _isInterface: true\n",
       "  },\n",
       "  provider: EthersProviderWrapper {\n",
       "    _isProvider: true,\n",
       "    _events: [],\n",
       "    _emitted: {\n",
       "      block: -2,\n",
       "      't:0x00274db650cc581bb5b43cfc24b38c4a7968718d4118b50dbdb0ea3ccb69c5ac': 12657956\n",
       "    },\n",
       "    formatter: Formatter { formats: [Object] },\n",
       "    anyNetwork: false,\n",
       "    _networkPromise: Promise { [Object] },\n",
       "    _maxInternalBlockNumber: 12657955,\n",
       "    _lastBlockNumber: -2,\n",
       "    _pollingInterval: 4000,\n",
       "    _fastQueryDate: 1627414309043,\n",
       "    connection: { url: 'http://localhost:8545' },\n",
       "    _nextId: 42,\n",
       "    _hardhatProvider: BackwardsCompatibilityProviderAdapter {\n",
       "      _wrapped: FixedGasPriceProvider {\n",
       "        _wrapped: FixedGasProvider {\n",
       "          _wrapped: [AutomaticSenderProvider],\n",
       "          _wrappedProvider: [AutomaticSenderProvider],\n",
       "          _gasLimit: 12450000\n",
       "        },\n",
       "        _wrappedProvider: FixedGasProvider {\n",
       "          _wrapped: [AutomaticSenderProvider],\n",
       "          _wrappedProvider: [AutomaticSenderProvider],\n",
       "          _gasLimit: 12450000\n",
       "        },\n",
       "        _gasPrice: 8000000000\n",
       "      },\n",
       "      _provider: FixedGasPriceProvider {\n",
       "        _wrapped: FixedGasProvider {\n",
       "          _wrapped: [AutomaticSenderProvider],\n",
       "          _wrappedProvider: [AutomaticSenderProvider],\n",
       "          _gasLimit: 12450000\n",
       "        },\n",
       "        _wrappedProvider: FixedGasProvider {\n",
       "          _wrapped: [AutomaticSenderProvider],\n",
       "          _wrappedProvider: [AutomaticSenderProvider],\n",
       "          _gasLimit: 12450000\n",
       "        },\n",
       "        _gasPrice: 8000000000\n",
       "      },\n",
       "      sendAsync: [Function: bound sendAsync],\n",
       "      send: [Function: bound send],\n",
       "      _sendJsonRpcRequest: [Function: bound _sendJsonRpcRequest] AsyncFunction\n",
       "    },\n",
       "    _eventLoopCache: { detectNetwork: [Promise] },\n",
       "    _network: { chainId: 31337, name: 'unknown' },\n",
       "    _internalBlockNumber: Promise { [Object] },\n",
       "    _fastBlockNumber: 12657955,\n",
       "    _fastBlockNumberPromise: Promise { 12657955 }\n",
       "  },\n",
       "  signer: JsonRpcSigner {\n",
       "    _isSigner: true,\n",
       "    provider: EthersProviderWrapper {\n",
       "      _isProvider: true,\n",
       "      _events: [],\n",
       "      _emitted: [Object],\n",
       "      formatter: [Formatter],\n",
       "      anyNetwork: false,\n",
       "      _networkPromise: [Promise],\n",
       "      _maxInternalBlockNumber: 12657955,\n",
       "      _lastBlockNumber: -2,\n",
       "      _pollingInterval: 4000,\n",
       "      _fastQueryDate: 1627414309043,\n",
       "      connection: [Object],\n",
       "      _nextId: 42,\n",
       "      _hardhatProvider: BackwardsCompatibilityProviderAdapter {\n",
       "        _wrapped: FixedGasPriceProvider {\n",
       "          _wrapped: FixedGasProvider {\n",
       "            _wrapped: [AutomaticSenderProvider],\n",
       "            _wrappedProvider: [AutomaticSenderProvider],\n",
       "            _gasLimit: 12450000\n",
       "          },\n",
       "          _wrappedProvider: FixedGasProvider {\n",
       "            _wrapped: [AutomaticSenderProvider],\n",
       "            _wrappedProvider: [AutomaticSenderProvider],\n",
       "            _gasLimit: 12450000\n",
       "          },\n",
       "          _gasPrice: 8000000000\n",
       "        },\n",
       "        _provider: FixedGasPriceProvider {\n",
       "          _wrapped: FixedGasProvider {\n",
       "            _wrapped: [AutomaticSenderProvider],\n",
       "            _wrappedProvider: [AutomaticSenderProvider],\n",
       "            _gasLimit: 12450000\n",
       "          },\n",
       "          _wrappedProvider: FixedGasProvider {\n",
       "            _wrapped: [AutomaticSenderProvider],\n",
       "            _wrappedProvider: [AutomaticSenderProvider],\n",
       "            _gasLimit: 12450000\n",
       "          },\n",
       "          _gasPrice: 8000000000\n",
       "        },\n",
       "        sendAsync: [Function: bound sendAsync],\n",
       "        send: [Function: bound send],\n",
       "        _sendJsonRpcRequest: [Function: bound _sendJsonRpcRequest] AsyncFunction\n",
       "      },\n",
       "      _eventLoopCache: [Object],\n",
       "      _network: [Object],\n",
       "      _internalBlockNumber: [Promise],\n",
       "      _fastBlockNumber: 12657955,\n",
       "      _fastBlockNumberPromise: [Promise]\n",
       "    },\n",
       "    _address: '0xcA8Fa8f0b631EcdB18Cda619C4Fc9d197c8aFfCa',\n",
       "    _index: null\n",
       "  },\n",
       "  callStatic: {\n",
       "    'keep3r()': [Function (anonymous)],\n",
       "    'nonce()': [Function (anonymous)],\n",
       "    'work()': [Function (anonymous)],\n",
       "    'workHard(uint256)': [Function (anonymous)],\n",
       "    keep3r: [Function (anonymous)],\n",
       "    nonce: [Function (anonymous)],\n",
       "    work: [Function (anonymous)],\n",
       "    workHard: [Function (anonymous)]\n",
       "  },\n",
       "  estimateGas: {\n",
       "    'keep3r()': [Function (anonymous)],\n",
       "    'nonce()': [Function (anonymous)],\n",
       "    'work()': [Function (anonymous)],\n",
       "    'workHard(uint256)': [Function (anonymous)],\n",
       "    keep3r: [Function (anonymous)],\n",
       "    nonce: [Function (anonymous)],\n",
       "    work: [Function (anonymous)],\n",
       "    workHard: [Function (anonymous)]\n",
       "  },\n",
       "  functions: {\n",
       "    'keep3r()': [Function (anonymous)],\n",
       "    'nonce()': [Function (anonymous)],\n",
       "    'work()': [Function (anonymous)],\n",
       "    'workHard(uint256)': [Function (anonymous)],\n",
       "    keep3r: [Function (anonymous)],\n",
       "    nonce: [Function (anonymous)],\n",
       "    work: [Function (anonymous)],\n",
       "    workHard: [Function (anonymous)]\n",
       "  },\n",
       "  populateTransaction: {\n",
       "    'keep3r()': [Function (anonymous)],\n",
       "    'nonce()': [Function (anonymous)],\n",
       "    'work()': [Function (anonymous)],\n",
       "    'workHard(uint256)': [Function (anonymous)],\n",
       "    keep3r: [Function (anonymous)],\n",
       "    nonce: [Function (anonymous)],\n",
       "    work: [Function (anonymous)],\n",
       "    workHard: [Function (anonymous)]\n",
       "  },\n",
       "  filters: {},\n",
       "  _runningEvents: {},\n",
       "  _wrappedEmits: {},\n",
       "  address: '0x28e3803Da1573476D8Ec0D6aa15C62186cb6B85d',\n",
       "  resolvedAddress: Promise { '0x28e3803Da1573476D8Ec0D6aa15C62186cb6B85d' },\n",
       "  'keep3r()': [Function (anonymous)],\n",
       "  'nonce()': [Function (anonymous)],\n",
       "  'work()': [Function (anonymous)],\n",
       "  'workHard(uint256)': [Function (anonymous)],\n",
       "  keep3r: [Function (anonymous)],\n",
       "  nonce: [Function (anonymous)],\n",
       "  work: [Function (anonymous)],\n",
       "  workHard: [Function (anonymous)],\n",
       "  deployTransaction: {\n",
       "    hash: '0xdf319b82bded3f275e9090fec36b5522e7c9e71fd73e6ecfcdaa455691e2b70d',\n",
       "    type: 0,\n",
       "    accessList: null,\n",
       "    blockHash: '0xd94987c059e9330990f62597d396accce380b9b34bd0d1609bf4b97e6f7e4108',\n",
       "    blockNumber: 12657962,\n",
       "    transactionIndex: 0,\n",
       "    confirmations: 1,\n",
       "    from: '0xcA8Fa8f0b631EcdB18Cda619C4Fc9d197c8aFfCa',\n",
       "    gasPrice: BigNumber { _hex: '0x01dcd65000', _isBigNumber: true },\n",
       "    gasLimit: BigNumber { _hex: '0x0477c2', _isBigNumber: true },\n",
       "    to: null,\n",
       "    value: BigNumber { _hex: '0x00', _isBigNumber: true },\n",
       "    nonce: 1,\n",
       "    data: '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',\n",
       "    r: '0x0000000000000000000000000000000000000000000000000000000000000001',\n",
       "    s: '0x0000000000000000000000000000000000000000000000000000000000000002',\n",
       "    v: 27,\n",
       "    creates: '0x28e3803Da1573476D8Ec0D6aa15C62186cb6B85d',\n",
       "    chainId: 0,\n",
       "    wait: [Function (anonymous)]\n",
       "  }\n",
       "}"
      ]
     },
     "execution_count": 49,
     "metadata": {},
     "output_type": "execute_result"
    }
   ],
   "source": [
    "common.createJobForTest(keep3r.address, jobOwner).then(res => job = res);"
   ]
  },
  {
   "cell_type": "code",
   "execution_count": 50,
   "id": "f8f70c7c-9867-4c28-9382-20e16da1ea45",
   "metadata": {},
   "outputs": [
    {
     "data": {
      "text/plain": [
       "'0x28e3803Da1573476D8Ec0D6aa15C62186cb6B85d'"
      ]
     },
     "execution_count": 50,
     "metadata": {},
     "output_type": "execute_result"
    }
   ],
   "source": [
    "job.address"
   ]
  },
  {
   "cell_type": "code",
   "execution_count": 51,
   "id": "3a7520fd-263b-455c-ae1e-26ce3118254f",
   "metadata": {
    "tags": []
   },
   "outputs": [
    {
     "data": {
      "text/plain": [
       "[ '0x28e3803Da1573476D8Ec0D6aa15C62186cb6B85d' ]"
      ]
     },
     "execution_count": 51,
     "metadata": {},
     "output_type": "execute_result"
    }
   ],
   "source": [
    "keep3r.connect(governance).addJob(job.address)\n",
    "keep3r.jobs()"
   ]
  },
  {
   "cell_type": "markdown",
   "id": "af8e7802-3887-48ca-9d19-ab93a69bb1f8",
   "metadata": {},
   "source": [
    "# Activate Keeper"
   ]
  },
  {
   "cell_type": "code",
   "execution_count": 52,
   "id": "126ce285-1be7-4ece-af53-e0b48e2b3cef",
   "metadata": {
    "tags": []
   },
   "outputs": [
    {
     "data": {
      "text/plain": [
       "{\n",
       "  hash: '0x0601b60ceda49ff45773a832bc76ee1378206e36b5f0ea04f33faba6fb31442c',\n",
       "  type: 0,\n",
       "  accessList: null,\n",
       "  blockHash: '0xa903bbbe88d4c84321b7fc43ca7525d48af30325747c87efd81aceeb20cd1715',\n",
       "  blockNumber: 12657965,\n",
       "  transactionIndex: 0,\n",
       "  confirmations: 1,\n",
       "  from: '0x6e49FC3Ea7dbA4Db4be2225E82D5aBBc1da65EBc',\n",
       "  gasPrice: BigNumber { _hex: '0x01dcd65000', _isBigNumber: true },\n",
       "  gasLimit: BigNumber { _hex: '0xaf1128', _isBigNumber: true },\n",
       "  to: '0x0D2b2aD363fa02f51e73f1d830C6DAd54BF70ae3',\n",
       "  value: BigNumber { _hex: '0x00', _isBigNumber: true },\n",
       "  nonce: 6,\n",
       "  data: '0x40c10f19000000000000000000000000ca8fa8f0b631ecdb18cda619c4fc9d197c8affca0000000000000000000000000000000000000000000000000de0b6b3a7640000',\n",
       "  r: '0x0000000000000000000000000000000000000000000000000000000000000001',\n",
       "  s: '0x0000000000000000000000000000000000000000000000000000000000000002',\n",
       "  v: 27,\n",
       "  creates: null,\n",
       "  chainId: 0,\n",
       "  wait: [Function (anonymous)]\n",
       "}"
      ]
     },
     "execution_count": 52,
     "metadata": {},
     "output_type": "execute_result"
    }
   ],
   "source": [
    "keep3rV1Proxy.connect(governance)[\"mint(address,uint256)\"](\n",
    "    keeper._address, bn.toUnit(1)\n",
    ")\n",
    "keep3rV1Proxy.connect(governance)[\"mint(address,uint256)\"](\n",
    "    jobOwner._address, bn.toUnit(1)\n",
    ")"
   ]
  },
  {
   "cell_type": "code",
   "execution_count": 54,
   "id": "852780e7-6077-43d7-b6a8-b9b25a5a1d1d",
   "metadata": {
    "tags": []
   },
   "outputs": [
    {
     "data": {
      "text/plain": [
       "{\n",
       "  hash: '0xd920bcee73e8c884ce64694ff2fdfb762f82335d64920a9a48e8fa0ac657b6f7',\n",
       "  type: 0,\n",
       "  accessList: null,\n",
       "  blockHash: '0xed9763eebcaa0f2b3d09c34492764378705c5dbf7b0983d9e9ada4aa9025b2fb',\n",
       "  blockNumber: 12657967,\n",
       "  transactionIndex: 0,\n",
       "  confirmations: 1,\n",
       "  from: '0xcA8Fa8f0b631EcdB18Cda619C4Fc9d197c8aFfCa',\n",
       "  gasPrice: BigNumber { _hex: '0x01dcd65000', _isBigNumber: true },\n",
       "  gasLimit: BigNumber { _hex: '0xaf1128', _isBigNumber: true },\n",
       "  to: '0x1cEB5cB57C4D4E2b2433641b95Dd330A33185A44',\n",
       "  value: BigNumber { _hex: '0x00', _isBigNumber: true },\n",
       "  nonce: 3,\n",
       "  data: '0x095ea7b3000000000000000000000000a138864a8fcbda90caca0a42604f747fe69022fc0000000000000000000000000000000000000000000000000de0b6b3a7640000',\n",
       "  r: '0x0000000000000000000000000000000000000000000000000000000000000001',\n",
       "  s: '0x0000000000000000000000000000000000000000000000000000000000000002',\n",
       "  v: 27,\n",
       "  creates: null,\n",
       "  chainId: 0,\n",
       "  wait: [Function (anonymous)]\n",
       "}"
      ]
     },
     "execution_count": 54,
     "metadata": {},
     "output_type": "execute_result"
    }
   ],
   "source": [
    "keep3rV1.connect(keeper).approve(keep3r.address, bn.toUnit(1))"
   ]
  },
  {
   "cell_type": "code",
   "execution_count": 55,
   "id": "963a18ed-f8fb-4c5c-a082-2860eddbbb82",
   "metadata": {
    "tags": []
   },
   "outputs": [
    {
     "data": {
      "text/plain": [
       "{\n",
       "  hash: '0x60cc81072d9779082fca94d58d5696d48bb936b3573850e183a12dcf0d755f2b',\n",
       "  type: 0,\n",
       "  accessList: null,\n",
       "  blockHash: '0xe25f02bb2e4ab2a6fc38c5f4590b1452c4d6d0bd8a5fa1919c4cf7b82d255922',\n",
       "  blockNumber: 12657968,\n",
       "  transactionIndex: 0,\n",
       "  confirmations: 1,\n",
       "  from: '0xcA8Fa8f0b631EcdB18Cda619C4Fc9d197c8aFfCa',\n",
       "  gasPrice: BigNumber { _hex: '0x01dcd65000', _isBigNumber: true },\n",
       "  gasLimit: BigNumber { _hex: '0xaf1128', _isBigNumber: true },\n",
       "  to: '0xa138864a8fcbDA90cacA0A42604f747fE69022FC',\n",
       "  value: BigNumber { _hex: '0x00', _isBigNumber: true },\n",
       "  nonce: 4,\n",
       "  data: '0xa515366a0000000000000000000000001ceb5cb57c4d4e2b2433641b95dd330a33185a440000000000000000000000000000000000000000000000000de0b6b3a7640000',\n",
       "  r: '0x0000000000000000000000000000000000000000000000000000000000000001',\n",
       "  s: '0x0000000000000000000000000000000000000000000000000000000000000002',\n",
       "  v: 27,\n",
       "  creates: null,\n",
       "  chainId: 0,\n",
       "  wait: [Function (anonymous)]\n",
       "}"
      ]
     },
     "execution_count": 55,
     "metadata": {},
     "output_type": "execute_result"
    }
   ],
   "source": [
    "keep3r.connect(keeper).bond(constants.KP3R_V1_ADDRESS, bn.toUnit(1))"
   ]
  },
  {
   "cell_type": "code",
   "execution_count": 56,
   "id": "77f29377-5429-4f1f-95d1-30c11f683fda",
   "metadata": {},
   "outputs": [],
   "source": [
    "evm.advanceTime(345600)\n",
    "evm.advanceBlock()"
   ]
  },
  {
   "cell_type": "code",
   "execution_count": 57,
   "id": "00629fa6-716e-48f7-ab80-0b2ad754d996",
   "metadata": {
    "tags": []
   },
   "outputs": [
    {
     "data": {
      "text/plain": [
       "{\n",
       "  hash: '0x8cc26df86682c6c6ba9e30347e657fc903b79e46549e7f0ed0ae05e68855c284',\n",
       "  type: 0,\n",
       "  accessList: null,\n",
       "  blockHash: '0xf6e0fe9f339678ddd4585527b5f1e2cee37cd21081dfe111364689b409374bf5',\n",
       "  blockNumber: 12657970,\n",
       "  transactionIndex: 0,\n",
       "  confirmations: 1,\n",
       "  from: '0xcA8Fa8f0b631EcdB18Cda619C4Fc9d197c8aFfCa',\n",
       "  gasPrice: BigNumber { _hex: '0x01dcd65000', _isBigNumber: true },\n",
       "  gasLimit: BigNumber { _hex: '0xaf0f28', _isBigNumber: true },\n",
       "  to: '0xa138864a8fcbDA90cacA0A42604f747fE69022FC',\n",
       "  value: BigNumber { _hex: '0x00', _isBigNumber: true },\n",
       "  nonce: 5,\n",
       "  data: '0x1c5a9d9c0000000000000000000000001ceb5cb57c4d4e2b2433641b95dd330a33185a44',\n",
       "  r: '0x0000000000000000000000000000000000000000000000000000000000000001',\n",
       "  s: '0x0000000000000000000000000000000000000000000000000000000000000002',\n",
       "  v: 27,\n",
       "  creates: null,\n",
       "  chainId: 0,\n",
       "  wait: [Function (anonymous)]\n",
       "}"
      ]
     },
     "execution_count": 57,
     "metadata": {},
     "output_type": "execute_result"
    }
   ],
   "source": [
    "keep3r.connect(keeper).activate(constants.KP3R_V1_ADDRESS)"
   ]
  },
  {
   "cell_type": "markdown",
   "id": "d31d5d3c-3541-4921-bb77-13979bd69e5a",
   "metadata": {},
   "source": [
    "# Fund Job"
   ]
  },
  {
   "cell_type": "code",
   "execution_count": 58,
   "id": "885a58ff-ca13-454b-b37a-4dd8f6f85df7",
   "metadata": {
    "tags": []
   },
   "outputs": [
    {
     "data": {
      "text/plain": [
       "{\n",
       "  hash: '0x4fdcb8a9d253147afa27813dcfe5b71c2b00d4e0028f9345cf6a25a68b50cf02',\n",
       "  type: 0,\n",
       "  accessList: null,\n",
       "  blockHash: '0xa81dda6de90254bade32e6981c140730a226ef9961cdd54c5e7d5bc0fe75fa11',\n",
       "  blockNumber: 12657971,\n",
       "  transactionIndex: 0,\n",
       "  confirmations: 1,\n",
       "  from: '0x6e49FC3Ea7dbA4Db4be2225E82D5aBBc1da65EBc',\n",
       "  gasPrice: BigNumber { _hex: '0x01dcd65000', _isBigNumber: true },\n",
       "  gasLimit: BigNumber { _hex: '0xaf0ee8', _isBigNumber: true },\n",
       "  to: '0xa138864a8fcbDA90cacA0A42604f747fE69022FC',\n",
       "  value: BigNumber { _hex: '0x00', _isBigNumber: true },\n",
       "  nonce: 7,\n",
       "  data: '0xb600702a0000000000000000000000001ceb5cb57c4d4e2b2433641b95dd330a33185a44',\n",
       "  r: '0x0000000000000000000000000000000000000000000000000000000000000001',\n",
       "  s: '0x0000000000000000000000000000000000000000000000000000000000000002',\n",
       "  v: 27,\n",
       "  creates: null,\n",
       "  chainId: 0,\n",
       "  wait: [Function (anonymous)]\n",
       "}"
      ]
     },
     "execution_count": 58,
     "metadata": {},
     "output_type": "execute_result"
    }
   ],
   "source": [
    "keep3r.connect(governance).approveLiquidity(constants.KP3R_V1_ADDRESS)"
   ]
  },
  {
   "cell_type": "code",
   "execution_count": 59,
   "id": "04cf32e1-6bcc-4a6e-84a6-81a160d225bc",
   "metadata": {
    "tags": []
   },
   "outputs": [
    {
     "data": {
      "text/plain": [
       "{\n",
       "  hash: '0x080d342f4a423628606fbf2dd5d1916c650b5d735cc90c9c9c86e4691e20e18a',\n",
       "  type: 0,\n",
       "  accessList: null,\n",
       "  blockHash: '0x4606b8a60df7751aa84c0eb181000e56e884f15e7a36b35c5753cc78a364a186',\n",
       "  blockNumber: 12657972,\n",
       "  transactionIndex: 0,\n",
       "  confirmations: 1,\n",
       "  from: '0xcA8Fa8f0b631EcdB18Cda619C4Fc9d197c8aFfCa',\n",
       "  gasPrice: BigNumber { _hex: '0x01dcd65000', _isBigNumber: true },\n",
       "  gasLimit: BigNumber { _hex: '0xaf1128', _isBigNumber: true },\n",
       "  to: '0x1cEB5cB57C4D4E2b2433641b95Dd330A33185A44',\n",
       "  value: BigNumber { _hex: '0x00', _isBigNumber: true },\n",
       "  nonce: 6,\n",
       "  data: '0x095ea7b3000000000000000000000000a138864a8fcbda90caca0a42604f747fe69022fc0000000000000000000000000000000000000000000000000de0b6b3a7640000',\n",
       "  r: '0x0000000000000000000000000000000000000000000000000000000000000001',\n",
       "  s: '0x0000000000000000000000000000000000000000000000000000000000000002',\n",
       "  v: 27,\n",
       "  creates: null,\n",
       "  chainId: 0,\n",
       "  wait: [Function (anonymous)]\n",
       "}"
      ]
     },
     "execution_count": 59,
     "metadata": {},
     "output_type": "execute_result"
    }
   ],
   "source": [
    "keep3rV1.connect(jobOwner).approve(keep3r.address, bn.toUnit(1))"
   ]
  },
  {
   "cell_type": "code",
   "execution_count": 60,
   "id": "79116f00-0221-4f5c-98e1-6f75cdc55526",
   "metadata": {
    "tags": []
   },
   "outputs": [
    {
     "data": {
      "text/plain": [
       "{\n",
       "  hash: '0xead95d6cdad93510dfd39c03f0c9b43681e78f07b1dbcf77466d86c9e188f002',\n",
       "  type: 0,\n",
       "  accessList: null,\n",
       "  blockHash: '0xcd2c4d729475370c9dd03b2f741ddd11356f3085ebda4e316751ce0a7054b021',\n",
       "  blockNumber: 12657973,\n",
       "  transactionIndex: 0,\n",
       "  confirmations: 1,\n",
       "  from: '0xcA8Fa8f0b631EcdB18Cda619C4Fc9d197c8aFfCa',\n",
       "  gasPrice: BigNumber { _hex: '0x01dcd65000', _isBigNumber: true },\n",
       "  gasLimit: BigNumber { _hex: '0xaf16a8', _isBigNumber: true },\n",
       "  to: '0xa138864a8fcbDA90cacA0A42604f747fE69022FC',\n",
       "  value: BigNumber { _hex: '0x00', _isBigNumber: true },\n",
       "  nonce: 7,\n",
       "  data: '0x52a4de2900000000000000000000000028e3803da1573476d8ec0d6aa15c62186cb6b85d0000000000000000000000001ceb5cb57c4d4e2b2433641b95dd330a33185a440000000000000000000000000000000000000000000000000de0b6b3a7640000',\n",
       "  r: '0x0000000000000000000000000000000000000000000000000000000000000001',\n",
       "  s: '0x0000000000000000000000000000000000000000000000000000000000000002',\n",
       "  v: 27,\n",
       "  creates: null,\n",
       "  chainId: 0,\n",
       "  wait: [Function (anonymous)]\n",
       "}"
      ]
     },
     "execution_count": 60,
     "metadata": {},
     "output_type": "execute_result"
    }
   ],
   "source": [
    "keep3r.connect(jobOwner).addLiquidityToJob(\n",
    "    job.address, constants.KP3R_V1_ADDRESS, bn.toUnit(1)\n",
    ")"
   ]
  },
  {
   "cell_type": "markdown",
   "id": "2c39868d-cb45-4644-a988-0f7c8193b068",
   "metadata": {},
   "source": [
    "# Work work work"
   ]
  },
  {
   "cell_type": "code",
   "execution_count": 61,
   "id": "c88fbdc1-154a-49d6-88e3-422d7a318b3c",
   "metadata": {},
   "outputs": [],
   "source": [
    "evm.advanceTime(100000)\n",
    "evm.advanceBlock()"
   ]
  },
  {
   "cell_type": "code",
   "execution_count": 80,
   "id": "e6aae73f-9815-44b5-9fc9-2f284e1d1a55",
   "metadata": {},
   "outputs": [
    {
     "ename": "Error",
     "evalue": "VM Exception while processing transaction: reverted with custom error 'InsufficientFunds()'",
     "execution_count": 80,
     "output_type": "error",
     "traceback": [
      "Error: VM Exception while processing transaction: reverted with custom error 'InsufficientFunds()'",
      "    at Keep3r.bondedPayment (contracts/peripherals/jobs/Keep3rJobWorkable.sol:108)",
      "    at Keep3r.worked (contracts/peripherals/jobs/Keep3rJobWorkable.sol:79)",
      "    at JobForTest.work (contracts/for-test/JobForTest.sol:22)",
      "    at processTicksAndRejections (node:internal/process/task_queues:96:5)",
      "    at runNextTicks (node:internal/process/task_queues:65:3)",
      "    at listOnTimeout (node:internal/timers:526:9)",
      "    at processTimers (node:internal/timers:500:7)",
      "    at HardhatNode._mineBlockWithPendingTxs (/Users/levihernan/wonder/keep3r/notebooks/node_modules/hardhat/src/internal/hardhat-network/provider/node.ts:1261:23)",
      "    at HardhatNode.mineBlock (/Users/levihernan/wonder/keep3r/notebooks/node_modules/hardhat/src/internal/hardhat-network/provider/node.ts:384:16)",
      "    at EthModule._sendTransactionAndReturnHash (/Users/levihernan/wonder/keep3r/notebooks/node_modules/hardhat/src/internal/hardhat-network/provider/modules/eth.ts:1379:18)"
     ]
    }
   ],
   "source": [
    "job.connect(keeper).work()"
   ]
  },
  {
   "cell_type": "code",
   "execution_count": null,
   "id": "02403f65-7262-4412-a567-7d01e0d2d097",
   "metadata": {},
   "outputs": [],
   "source": []
  }
 ],
 "metadata": {
  "kernelspec": {
   "display_name": "Javascript (Node.js)",
   "language": "javascript",
   "name": "javascript"
  },
  "language_info": {
   "file_extension": ".js",
   "mimetype": "application/javascript",
   "name": "javascript",
   "version": "16.5.0"
  }
 },
 "nbformat": 4,
 "nbformat_minor": 5
}
