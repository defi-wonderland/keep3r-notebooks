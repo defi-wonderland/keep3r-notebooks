{
 "cells": [
  {
   "cell_type": "markdown",
   "id": "9268582d-a851-4143-b30c-5aecd10e11e4",
   "metadata": {},
   "source": [
    "# Version comparison"
   ]
  },
  {
   "cell_type": "markdown",
   "id": "fef2d961-f38f-48b2-8aed-2e1597b8a380",
   "metadata": {},
   "source": [
    "A comparison between `Keep3rV1` and `Keep3rV2` working side by side with the same job."
   ]
  },
  {
   "cell_type": "markdown",
   "id": "1e88e3f0-d35d-482f-a40f-55da880a411b",
   "metadata": {},
   "source": [
    "### Setup\n",
    "Run first `00-setup.ipynb` and select its kernel"
   ]
  },
  {
   "cell_type": "code",
   "execution_count": 10,
   "id": "ba440ebb-a70b-49f8-896c-479b0d0bea5e",
   "metadata": {
    "tags": []
   },
   "outputs": [],
   "source": [
    "next(async()=>{\n",
    "    //     uncomment to revert to snapshot\n",
    "    //     TODO: snapshots working only first time\n",
    "        await snapshots.revert(setupSnap)    \n",
    "})"
   ]
  },
  {
   "cell_type": "code",
   "execution_count": 11,
   "id": "42ad5f7e-f69e-4d66-a015-71e863f19d71",
   "metadata": {},
   "outputs": [],
   "source": [
    "// create jobs and keepers\n",
    "\n",
    "next(async()=>{\n",
    "    v1Job = await(await ethers.getContractFactory('JobForTest')).connect(provider).deploy(keep3r.v1.address)\n",
    "    v2Job = await(await ethers.getContractFactory('JobForTest')).connect(provider).deploy(keep3r.v2.address)\n",
    "\n",
    "    v1Keeper = await common.activateKeeper(keep3r.v1)\n",
    "    v2Keeper = keep3r.keeper\n",
    "    \n",
    "    v1Liquidity = '0xaf988aff99d3d0cb870812c325c588d8d8cb7de8'\n",
    "    v1Pool = await $.fetch('IERC20', v1Liquidity)\n",
    "    v1LiqWhale = await $.impersonate('0xc2EdaD668740f1aA35E4D8f227fB8E17dcA888Cd')\n",
    "    \n",
    "    liquidityToAdd = klpBalance.div(2)\n",
    "    \n",
    "    // approve job and liquidity in V1\n",
    "    await keep3r.proxy.connect(keep3r.governance).addJob(v1Job.address)\n",
    "    await keep3r.proxy.connect(keep3r.governance).approveLiquidity(keep3r.pool.address)\n",
    "    \n",
    "    // approve job in V2 (keep3r.pool already approved)\n",
    "    await keep3r.v2.connect(provider).addJob(v2Job.address)\n",
    "})"
   ]
  },
  {
   "cell_type": "code",
   "execution_count": 12,
   "id": "77f6213b-b56c-451c-86ef-08f9264b5686",
   "metadata": {},
   "outputs": [],
   "source": [
    "// sets same gasPrice for keep3rV1Helper and keep3r.helper\n",
    "\n",
    "next(async()=>{\n",
    "    v1Helper = await $.fetch('IKeep3rV1Helper', await keep3r.v1.callStatic.KPRH())\n",
    "    gasPrice = await v1Helper.getFastGas()\n",
    "    await keep3r.helper.setBaseFee(gasPrice)\n",
    "})"
   ]
  },
  {
   "cell_type": "code",
   "execution_count": 13,
   "id": "8da2987e-0e9f-4874-9ef4-7bbb9dbebd36",
   "metadata": {},
   "outputs": [],
   "source": [
    "// add liquidity to jobs\n",
    "/* TODO: set same underlying liquidity for V1 and V2 */\n",
    "\n",
    "next(async()=>{\n",
    "    // V1 create a job and add liquidity\n",
    "    await v1Pool.connect(v1LiqWhale).approve(keep3r.v1.address, liquidityToAdd, {gasPrice: 0})\n",
    "    await keep3r.v1.connect(v1LiqWhale).addLiquidityToJob(v1Liquidity, v1Job.address, liquidityToAdd, {gasPrice: 0})\n",
    "    await $.sleep($.time(3,'days'))\n",
    "    await keep3r.v1.connect(provider).applyCreditToJob(v1LiqWhale._address, v1Liquidity, v1Job.address)\n",
    "    \n",
    "    // V2 create a job and add liquidity\n",
    "    await keep3r.pool.connect(provider).approve(keep3r.v2.address, liquidityToAdd)\n",
    "    await keep3r.v2.connect(provider).addLiquidityToJob(v2Job.address, keep3r.pool.address, liquidityToAdd)\n",
    "})"
   ]
  },
  {
   "cell_type": "code",
   "execution_count": 14,
   "id": "f40edf43-9837-454d-bd76-7cb190505015",
   "metadata": {
    "tags": []
   },
   "outputs": [],
   "source": [
    "// charts configuration\n",
    "\n",
    "next(async() =>{\n",
    "    await $.resetRecording()\n",
    "    $.resetTraces()\n",
    "\n",
    "    $.setPeriodTrace(432000)\n",
    "    \n",
    "    $.addViewTrace(keep3r.v1, 'credits', [v1Job.address, keep3r.v1.address], 'V1 credits')\n",
    "    $.addViewTrace(keep3r.v2, 'totalJobCredits', [v2Job.address], 'V2 credits')\n",
    "    $.addEventTrace(keep3r.v2.web3, 'KeeperWork')\n",
    "})"
   ]
  },
  {
   "cell_type": "code",
   "execution_count": 15,
   "id": "4d9efc21-6f39-40ec-acd0-f9e7821c70f2",
   "metadata": {},
   "outputs": [
    {
     "data": {
      "text/html": [
       "<div class='plotly-plot'><div id='notebook-plot-1633352221744'></div><script>function plot(){Plotly.plot('notebook-plot-1633352221744',[{\"x\":[\"2021-09-29 18:09:20\",\"2021-09-30 06:09:20\",\"2021-09-30 06:09:20\",\"2021-09-30 18:09:20\",\"2021-09-30 18:09:20\",\"2021-10-01 06:09:20\",\"2021-10-01 06:09:20\",\"2021-10-01 18:09:20\",\"2021-10-01 18:09:20\",\"2021-10-02 06:09:20\",\"2021-10-02 06:09:22\",\"2021-10-02 18:09:22\",\"2021-10-02 18:09:22\",\"2021-10-03 06:09:22\",\"2021-10-03 06:09:22\",\"2021-10-03 18:09:22\",\"2021-10-03 18:09:22\",\"2021-10-04 06:09:22\",\"2021-10-04 06:09:22\",\"2021-10-04 18:09:23\",\"2021-10-04 18:09:25\",\"2021-10-05 06:09:25\",\"2021-10-05 06:09:25\",\"2021-10-05 18:09:25\",\"2021-10-05 18:09:25\",\"2021-10-06 06:09:25\",\"2021-10-06 06:09:25\",\"2021-10-06 18:09:25\",\"2021-10-06 18:09:25\",\"2021-10-07 06:09:25\",\"2021-10-07 06:09:27\",\"2021-10-07 18:09:27\",\"2021-10-07 18:09:27\",\"2021-10-08 06:09:27\",\"2021-10-08 06:09:27\",\"2021-10-08 18:09:27\",\"2021-10-08 18:09:27\",\"2021-10-09 06:09:27\",\"2021-10-09 06:09:27\",\"2021-10-09 18:09:27\"],\"y\":[0,0.07,0.07,0.14,0.14,0.22,0.22,0.29,0.29,0.36,0.02,0.1,0.1,0.17,0.17,0.24,0.24,0.32,0.32,0.39,0.12,0.2,0.2,0.27,0.27,0.34,0.34,0.42,0.42,0.49,0.18,0.25,0.25,0.33,0.33,0.4,0.4,0.48,0.48,0.55],\"name\":\"V2 credits\",\"line\":{\"width\":1}},{\"x\":[\"2021-10-02 06:09:22\",\"2021-10-04 18:09:25\",\"2021-10-07 06:09:27\"],\"y\":[0,0,0],\"name\":\"KeeperWork\",\"mode\":\"markers\"},{\"x\":[\"2021-09-30 02:00:00\",\"2021-10-05 02:00:00\"],\"y\":[0,0],\"name\":\"Period\",\"mode\":\"markers\",\"marker\":{\"symbol\":\"line-ns-open\",\"size\":12,\"color\":\"rgb(0, 0, 0)\"}},{\"x\":[\"2021-09-29 18:09:20\",\"2021-09-30 06:09:20\",\"2021-09-30 06:09:20\",\"2021-09-30 18:09:20\",\"2021-09-30 18:09:20\",\"2021-10-01 06:09:20\",\"2021-10-01 06:09:20\",\"2021-10-01 18:09:20\",\"2021-10-01 18:09:20\",\"2021-10-02 06:09:20\",\"2021-10-02 06:09:22\",\"2021-10-02 18:09:22\",\"2021-10-02 18:09:22\",\"2021-10-03 06:09:22\",\"2021-10-03 06:09:22\",\"2021-10-03 18:09:22\",\"2021-10-03 18:09:22\",\"2021-10-04 06:09:22\",\"2021-10-04 06:09:22\",\"2021-10-04 18:09:23\",\"2021-10-04 18:09:25\",\"2021-10-05 06:09:25\",\"2021-10-05 06:09:25\",\"2021-10-05 18:09:25\",\"2021-10-05 18:09:25\",\"2021-10-06 06:09:25\",\"2021-10-06 06:09:25\",\"2021-10-06 18:09:25\",\"2021-10-06 18:09:25\",\"2021-10-07 06:09:25\",\"2021-10-07 06:09:27\",\"2021-10-07 18:09:27\",\"2021-10-07 18:09:27\",\"2021-10-08 06:09:27\",\"2021-10-08 06:09:27\",\"2021-10-08 18:09:27\",\"2021-10-08 18:09:27\",\"2021-10-09 06:09:27\",\"2021-10-09 06:09:27\",\"2021-10-09 18:09:27\"],\"y\":[5.7,5.7,5.7,5.7,5.7,5.7,5.7,5.7,5.7,5.7,4.42,4.42,4.42,4.42,4.42,4.42,4.42,4.42,4.42,4.42,3.18,3.18,3.18,3.18,3.18,3.18,3.18,3.18,3.18,3.18,1.94,1.94,1.94,1.94,1.94,1.94,1.94,1.94,1.94,1.94],\"name\":\"V1 credits\",\"line\":{\"width\":1}}],{});}if(window.Plotly){plot();}else if(!window.require){var head = document.head || document.getElementsByTagName('head')[0];var s = document.createElement('script');s.src = 'https://cdn.plot.ly/plotly-latest.min.js';s.type = 'text/javascript';s.async = false;s.onreadystatechange = s.onload = plot;head.appendChild(s);}else{require(['/notebooks/node_modules/plotly-notebook-js/build/plotly.min.js'], function(Plotly){window.Plotly = Plotly;plot();});}</script></div>"
      ]
     },
     "execution_count": 15,
     "metadata": {},
     "output_type": "execute_result"
    }
   ],
   "source": [
    "// working in both versions\n",
    "\n",
    "next(async()=>{    \n",
    "    await $.resetRecording()\n",
    "    \n",
    "    await $.sleepAndExecute(\n",
    "        $.time(10,'days'),\n",
    "        $.time(12,'hours'),\n",
    "        // make keepers work each job every 2 days\n",
    "        [{\n",
    "            run: async()=>{\n",
    "                    tx1 = await v1Job.connect(v1Keeper).work()\n",
    "                    tx2 = await v2Job.connect(v2Keeper).work()\n",
    "            },\n",
    "            every: $.time(2,'days')\n",
    "         }]\n",
    "    )\n",
    "    \n",
    "    await $.draw()\n",
    "})"
   ]
  }
 ],
 "metadata": {
  "kernelspec": {
   "display_name": "Javascript (Node.js)",
   "language": "javascript",
   "name": "javascript"
  },
  "language_info": {
   "file_extension": ".js",
   "mimetype": "application/javascript",
   "name": "javascript",
   "version": "16.8.0"
  }
 },
 "nbformat": 4,
 "nbformat_minor": 5
}
