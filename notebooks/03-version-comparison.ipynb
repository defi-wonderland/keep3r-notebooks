{
 "cells": [
  {
   "cell_type": "markdown",
   "id": "9268582d-a851-4143-b30c-5aecd10e11e4",
   "metadata": {},
   "source": [
    "# Version comparison"
   ]
  },
  {
   "cell_type": "markdown",
   "id": "fef2d961-f38f-48b2-8aed-2e1597b8a380",
   "metadata": {},
   "source": [
    "A comparison between `Keep3rV1` and `Keep3rV2` working side by side with the same job."
   ]
  },
  {
   "cell_type": "markdown",
   "id": "1e88e3f0-d35d-482f-a40f-55da880a411b",
   "metadata": {},
   "source": [
    "### Setup\n",
    "Run first `00-setup.ipynb` and select its kernel"
   ]
  },
  {
   "cell_type": "code",
   "execution_count": null,
   "id": "ba440ebb-a70b-49f8-896c-479b0d0bea5e",
   "metadata": {
    "tags": []
   },
   "outputs": [],
   "source": [
    "next(async()=>{\n",
    "    //     uncomment to revert to snapshot\n",
    "    //     TODO: snapshots working only first time\n",
    "        await snapshots.revert(setupSnap)    \n",
    "})"
   ]
  },
  {
   "cell_type": "code",
   "execution_count": null,
   "id": "8cdc1958-93a4-48ee-82f3-ce547ac7ab6d",
   "metadata": {},
   "outputs": [],
   "source": [
    "getKp3rReserves = async(v1Pool)=>{\n",
    "    response = await v1Pool.getReserves()\n",
    "    token0 = await v1Pool.token0()\n",
    "    token1 = await v1Pool.token1()\n",
    "    if (token0 == keep3r.v1.address) {\n",
    "        return response[0]\n",
    "    }\n",
    "    else if (token1 == keep3r.v1.address) {\n",
    "        return response[1]\n",
    "    }\n",
    "}"
   ]
  },
  {
   "cell_type": "code",
   "execution_count": null,
   "id": "42ad5f7e-f69e-4d66-a015-71e863f19d71",
   "metadata": {},
   "outputs": [],
   "source": [
    "// create jobs and keepers\n",
    "\n",
    "next(async()=>{\n",
    "    v1Job = await(await ethers.getContractFactory('JobForTest')).connect(provider).deploy(keep3r.v1.address)\n",
    "    v2Job = await(await ethers.getContractFactory('JobForTest')).connect(provider).deploy(keep3r.v2.address)\n",
    "\n",
    "    v1Keeper = await common.activateKeeper(keep3r.v1)\n",
    "    v2Keeper = keep3r.keeper\n",
    "    \n",
    "    v1Liquidity = '0xaf988aff99d3d0cb870812c325c588d8d8cb7de8'\n",
    "    v1Pool = await $.fetch('IUniswapV2PoolForTest', v1Liquidity)\n",
    "    v1LiqWhale = await $.impersonate('0xc2EdaD668740f1aA35E4D8f227fB8E17dcA888Cd')\n",
    "    \n",
    "    // adds 10 underlying KP3R to each job\n",
    "    kp3rPerLPToken = ((await getKp3rReserves(v1Pool)).div(await v1Pool.totalSupply()))\n",
    "    liquidityToAddV1 = kp3rSpent.div(kp3rPerLPToken)\n",
    "    liquidityToAddV2 = klpBalance\n",
    "    \n",
    "    // approve job and liquidity in V1\n",
    "    await keep3r.proxy.connect(keep3r.governance).addJob(v1Job.address)\n",
    "    await keep3r.proxy.connect(keep3r.governance).approveLiquidity(keep3r.pool.address)\n",
    "    \n",
    "    // approve job in V2 (keep3r.pool already approved)\n",
    "    await keep3r.v2.connect(provider).addJob(v2Job.address)\n",
    "})"
   ]
  },
  {
   "cell_type": "code",
   "execution_count": null,
   "id": "8da2987e-0e9f-4874-9ef4-7bbb9dbebd36",
   "metadata": {},
   "outputs": [],
   "source": [
    "// add liquidity to jobs\n",
    "/* TODO: set same underlying liquidity for V1 and V2 */\n",
    "\n",
    "next(async()=>{\n",
    "    // V1 create a job and add liquidity\n",
    "    await $.setBalance(v1LiqWhale._address, toUnit(1000))\n",
    "    await v1Pool.connect(v1LiqWhale).approve(keep3r.v1.address, liquidityToAddV1)\n",
    "    await keep3r.v1.connect(v1LiqWhale).addLiquidityToJob(v1Liquidity, v1Job.address, liquidityToAddV1)\n",
    "    await $.sleep($.time(3,'days'))\n",
    "    await keep3r.v1.connect(provider).applyCreditToJob(v1LiqWhale._address, v1Liquidity, v1Job.address)\n",
    "    \n",
    "    // V2 create a job and add liquidity\n",
    "    await keep3r.pool.connect(provider).approve(keep3r.v2.address, liquidityToAddV2)\n",
    "    await keep3r.v2.connect(provider).addLiquidityToJob(v2Job.address, keep3r.pool.address, liquidityToAddV2)\n",
    "})"
   ]
  },
  {
   "cell_type": "code",
   "execution_count": null,
   "id": "f40edf43-9837-454d-bd76-7cb190505015",
   "metadata": {
    "tags": []
   },
   "outputs": [],
   "source": [
    "// charts configuration\n",
    "\n",
    "next(async() =>{\n",
    "    await $.resetRecording()\n",
    "    $.resetTraces()\n",
    "\n",
    "    $.setPeriodTrace(432000)\n",
    "    \n",
    "    $.addViewTrace(keep3r.v1, 'credits', [v1Job.address, keep3r.v1.address], 'Keep3rV1 credits')\n",
    "    $.addViewTrace(keep3r.v2, 'totalJobCredits', [v2Job.address], 'Keep3rV2 total credits')\n",
    "    $.addEventTrace(keep3r.v2.web3, 'KeeperWork')\n",
    "    $.addEventTrace(keep3r.v2.web3, 'LiquidityCreditsReward', '_rewardedAt')\n",
    "})"
   ]
  },
  {
   "cell_type": "code",
   "execution_count": null,
   "id": "4d9efc21-6f39-40ec-acd0-f9e7821c70f2",
   "metadata": {},
   "outputs": [],
   "source": [
    "// working in both versions\n",
    "\n",
    "next(async()=>{    \n",
    "    await $.resetRecording()\n",
    "    \n",
    "    await $.sleepAndExecute(\n",
    "        $.time(20,'days'),\n",
    "        $.time(6,'hours'),\n",
    "        // make keepers work each job every 2 days\n",
    "        [{\n",
    "            run: async()=>{\n",
    "                    tx1 = await v1Job.connect(v1Keeper).work()\n",
    "                    tx2 = await v2Job.connect(v2Keeper).work()\n",
    "            },\n",
    "            every: $.time(3,'days')\n",
    "         }]\n",
    "    )\n",
    "    \n",
    "    await $.draw()\n",
    "})"
   ]
  }
 ],
 "metadata": {
  "kernelspec": {
   "display_name": "Javascript (Node.js)",
   "language": "javascript",
   "name": "javascript"
  },
  "language_info": {
   "file_extension": ".js",
   "mimetype": "application/javascript",
   "name": "javascript",
   "version": "16.8.0"
  }
 },
 "nbformat": 4,
 "nbformat_minor": 5
}
