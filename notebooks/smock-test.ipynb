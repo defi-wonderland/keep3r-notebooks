{
 "cells": [
  {
   "cell_type": "code",
   "execution_count": null,
   "id": "46542ae0-3bc6-4ff5-9b11-585506394760",
   "metadata": {
    "tags": []
   },
   "outputs": [],
   "source": [
    "var { next, clear } = require('../utils/jupyter');\n",
    "var { Notebook } = require('../utils/notebook');\n",
    "\n",
    "clear();"
   ]
  },
  {
   "cell_type": "code",
   "execution_count": null,
   "id": "25378f91-c42f-4645-a813-3dd4bf241c80",
   "metadata": {},
   "outputs": [],
   "source": [
    "var $ = new Notebook();"
   ]
  },
  {
   "cell_type": "code",
   "execution_count": null,
   "id": "369621ca-440b-4ec5-b537-5cdc8ca395cd",
   "metadata": {},
   "outputs": [],
   "source": [
    "next(async () => {\n",
    "    await $.setup();\n",
    "});"
   ]
  },
  {
   "cell_type": "code",
   "execution_count": null,
   "id": "1530dacd-8f84-47f5-a680-1499c9036765",
   "metadata": {
    "tags": []
   },
   "outputs": [],
   "source": [
    "next(async () => {\n",
    "    console.log(await $.helper.observe($.helper.address,[0,432000]))\n",
    "})    "
   ]
  },
  {
   "cell_type": "code",
   "execution_count": null,
   "id": "eda37d33-076c-4cdc-8ac9-80f34c681c7e",
   "metadata": {},
   "outputs": [],
   "source": [
    "next(async () => {\n",
    "    $.helper.observe.returns([1,0])\n",
    "})"
   ]
  },
  {
   "cell_type": "code",
   "execution_count": null,
   "id": "e9c6472d-9533-4d73-a372-05fd4572ad22",
   "metadata": {},
   "outputs": [],
   "source": [
    "next(async () => {\n",
    "    console.log(await $.helper.observe($.helper.address,[0,432000]))\n",
    "})"
   ]
  }
 ],
 "metadata": {
  "kernelspec": {
   "display_name": "Javascript (Node.js)",
   "language": "javascript",
   "name": "javascript"
  },
  "language_info": {
   "file_extension": ".js",
   "mimetype": "application/javascript",
   "name": "javascript",
   "version": "16.5.0"
  }
 },
 "nbformat": 4,
 "nbformat_minor": 5
}
