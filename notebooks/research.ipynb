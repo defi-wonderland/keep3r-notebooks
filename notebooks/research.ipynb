{
 "cells": [
  {
   "cell_type": "code",
   "execution_count": null,
   "id": "c3ea5463-6551-48de-a7fd-7e62f8b2fca0",
   "metadata": {},
   "outputs": [],
   "source": [
    "var { evm, wallet, constants, common } = require('../utils');\n",
    "var { getPastEvents } = require('../utils/contracts');\n",
    "var { unixToDate } = require('../utils/jupyter');\n",
    "var { web3, artifacts } = require('hardhat');\n",
    "var Plot = require('plotly-notebook-js');\n",
    "var { CreditRecorder } = require('../utils/credit-recorder');\n",
    "var { next, clear } = require('../utils/jupyter');\n",
    "var { Notebook } = require('../utils/notebook');\n",
    "var { toUnit } = require('../utils/bn');\n"
   ]
  },
  {
   "cell_type": "code",
   "execution_count": null,
   "id": "6cc01b5c-448f-411e-a5a7-530a4f95bd97",
   "metadata": {},
   "outputs": [],
   "source": [
    "// setup notebook scope\n",
    "var $ = new Notebook();\n",
    "next(async () => {\n",
    "    await $.setup();\n",
    "});"
   ]
  },
  {
   "cell_type": "code",
   "execution_count": null,
   "id": "0bf78e02-7302-4f5b-9ee8-8a0bb195084b",
   "metadata": {},
   "outputs": [],
   "source": [
    "UNISWAP_V3_POOL = \"0x11B7a6bc0259ed6Cf9DB8F499988F9eCc7167bf5\"\n",
    "UNISWAP_V2_PAIR = \"0xaf988afF99d3d0cb870812C325C588D8D8CB7De8\"\n",
    "RICH_KP3R_WETH_POOL_ADDRESS = \"0x2269522ad48aeb971b25042471a44acc8c1b5eca\";"
   ]
  },
  {
   "cell_type": "code",
   "execution_count": null,
   "id": "8a59f4b1-2c0a-446e-9feb-442e4a1cb93c",
   "metadata": {},
   "outputs": [],
   "source": [
    "toUnit(1)"
   ]
  },
  {
   "cell_type": "code",
   "execution_count": null,
   "id": "f586d840-81dc-489f-bce2-23248775a56c",
   "metadata": {},
   "outputs": [],
   "source": [
    "0x0DE0B6B3A7640000"
   ]
  },
  {
   "cell_type": "code",
   "execution_count": null,
   "id": "35a36006-a5a1-4524-9e48-14a93a884c65",
   "metadata": {},
   "outputs": [],
   "source": [
    "// balanceOf 0x2269522ad48aeb971b25042471a44acc8c1b5eca\n",
    "2717553745601527329"
   ]
  },
  {
   "cell_type": "code",
   "execution_count": null,
   "id": "a6e55797-4101-48f8-8e47-1e50a00ede01",
   "metadata": {},
   "outputs": [],
   "source": [
    "uniV2Pair.methods.balanceOf(RICH_KP3R_WETH_POOL_ADDRESS).call()"
   ]
  },
  {
   "cell_type": "code",
   "execution_count": null,
   "id": "458760af-1dc6-4c69-855f-b764d91581fd",
   "metadata": {},
   "outputs": [],
   "source": [
    "toUnit(2.7).toString()"
   ]
  },
  {
   "cell_type": "code",
   "execution_count": null,
   "id": "0197d2d9-ec99-4465-8f79-d3281309ac2e",
   "metadata": {},
   "outputs": [],
   "source": [
    "next(async () => {\n",
    "    artifact = await artifacts.readArtifact('IUniswapV3PoolForTest');\n",
    "    uniV3Pool = new web3.eth.Contract(artifact.abi, UNISWAP_V3_POOL);\n",
    "    artifact = await artifacts.readArtifact('UniswapV2Pair');\n",
    "    uniV2Pair = new web3.eth.Contract(artifact.abi, UNISWAP_V2_PAIR);\n",
    "})"
   ]
  },
  {
   "cell_type": "code",
   "execution_count": null,
   "id": "9e088d49-162e-4815-9f88-372c04ada952",
   "metadata": {
    "jupyter": {
     "outputs_hidden": true
    },
    "tags": []
   },
   "outputs": [],
   "source": [
    "uniV3Pool.methods.observe([832000, 0]).call()"
   ]
  },
  {
   "cell_type": "code",
   "execution_count": null,
   "id": "4e5c1402-18db-44e3-8786-c372aefb7022",
   "metadata": {},
   "outputs": [],
   "source": [
    "5 * 24 * 3600"
   ]
  },
  {
   "cell_type": "code",
   "execution_count": null,
   "id": "be50e872-ad3d-4181-a15b-1c9f11e1f644",
   "metadata": {},
   "outputs": [],
   "source": [
    "next(async () => {\n",
    "})"
   ]
  },
  {
   "cell_type": "code",
   "execution_count": null,
   "id": "b79a0a50-1ab0-47b5-90a8-11dd89dbdd23",
   "metadata": {},
   "outputs": [],
   "source": []
  },
  {
   "cell_type": "code",
   "execution_count": null,
   "id": "79efb28a-bf63-4d23-8ca8-bf08334e3f3b",
   "metadata": {},
   "outputs": [],
   "source": []
  },
  {
   "cell_type": "code",
   "execution_count": null,
   "id": "62c8afba-9241-4126-bc45-d3256041e9f7",
   "metadata": {},
   "outputs": [],
   "source": []
  },
  {
   "cell_type": "code",
   "execution_count": null,
   "id": "63463aa5-de11-4add-b5b1-c00435346ef9",
   "metadata": {},
   "outputs": [],
   "source": [
    "8000037037037037037 / 8000000000000000000"
   ]
  },
  {
   "cell_type": "code",
   "execution_count": null,
   "id": "34c310df-4e1a-4e8d-b52e-ad7801b2080f",
   "metadata": {},
   "outputs": [],
   "source": [
    "0x2C68AF0BB1400000 / 10 ** 18"
   ]
  },
  {
   "cell_type": "code",
   "execution_count": null,
   "id": "56eafe31-9016-41bd-bd79-ef7be7176a93",
   "metadata": {},
   "outputs": [],
   "source": [
    "0x35E5875CDCC1D01DEC72E6D0"
   ]
  },
  {
   "cell_type": "code",
   "execution_count": null,
   "id": "02891b0d-f8b1-4dab-8d25-d4110dd28ac4",
   "metadata": {},
   "outputs": [],
   "source": [
    "0x28E18F5898C62326E6D0"
   ]
  },
  {
   "cell_type": "code",
   "execution_count": null,
   "id": "74cd10c2-35ed-4439-aa20-e5e5c619e0d3",
   "metadata": {},
   "outputs": [],
   "source": [
    "0x35E5875CDCC1D01DEC72E6D0 - (0x6BCABCF69AD26EAF92980000 / 2)"
   ]
  },
  {
   "cell_type": "code",
   "execution_count": null,
   "id": "93a84fbc-e3ec-49e2-9a56-670b533759df",
   "metadata": {},
   "outputs": [],
   "source": []
  }
 ],
 "metadata": {
  "kernelspec": {
   "display_name": "Javascript (Node.js)",
   "language": "javascript",
   "name": "javascript"
  },
  "language_info": {
   "file_extension": ".js",
   "mimetype": "application/javascript",
   "name": "javascript",
   "version": "16.5.0"
  }
 },
 "nbformat": 4,
 "nbformat_minor": 5
}
