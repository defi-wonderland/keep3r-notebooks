{
 "cells": [
  {
   "cell_type": "markdown",
   "id": "202107fc-ae36-4385-b010-87813baefcb9",
   "metadata": {},
   "source": [
    "# Job Migration"
   ]
  },
  {
   "cell_type": "markdown",
   "id": "2922c4c9-c97b-4a54-a4d4-cf7425f7e164",
   "metadata": {},
   "source": [
    "Jobs can seamlessly migrate their tokens and credits to a different job using `migrateJob`, avoiding the `jobOwners` to have to unbond their liquidity and bond it later to the new job."
   ]
  },
  {
   "cell_type": "markdown",
   "id": "4cb16df2-82ab-468e-b258-2894bed562f3",
   "metadata": {},
   "source": [
    "### Setup\n",
    "Run first `00-setup.ipynb` and select its kernel"
   ]
  },
  {
   "cell_type": "code",
   "execution_count": 10,
   "id": "0df0eb22-f05d-4b69-afd2-aab5ffd48ecd",
   "metadata": {},
   "outputs": [],
   "source": [
    "next(async()=>{\n",
    "    //     uncomment to revert to snapshot\n",
    "    //     TODO: snapshots working only first time\n",
    "        await snapshots.revert(setupSnap)    \n",
    "})"
   ]
  },
  {
   "cell_type": "code",
   "execution_count": 11,
   "id": "e9dd689c-15b5-44d4-9fc1-6d1a77fa47e1",
   "metadata": {},
   "outputs": [],
   "source": [
    "// create job and add liquidity\n",
    "\n",
    "next(async()=>{\n",
    "    job = await(await ethers.getContractFactory('JobForTest')).connect(provider).deploy(keep3r.v2.address)\n",
    "    newJob = await(await ethers.getContractFactory('JobForTest')).connect(provider).deploy(keep3r.v2.address)\n",
    "\n",
    "    await keep3r.v2.connect(provider).addJob(job.address)\n",
    "    await keep3r.v2.connect(provider).addJob(newJob.address)\n",
    "    \n",
    "    // add liquidity to job\n",
    "    await keep3r.pool.connect(provider).approve(keep3r.v2.address, klpBalance)\n",
    "    await keep3r.v2.connect(provider).addLiquidityToJob(job.address, keep3r.pool.address, klpBalance)\n",
    "})"
   ]
  },
  {
   "cell_type": "code",
   "execution_count": 12,
   "id": "3b8b8619-e3ba-4447-8a41-b5eb7359ce48",
   "metadata": {
    "tags": []
   },
   "outputs": [],
   "source": [
    "// charts configuration\n",
    "\n",
    "next(async() =>{\n",
    "    await $.resetRecording()\n",
    "    $.resetTraces()\n",
    "\n",
    "    $.setPeriodTrace(432000)\n",
    "    \n",
    "    $.addViewTrace(keep3r.v2, 'totalJobCredits', [job.address], 'job credits')\n",
    "    $.addViewTrace(keep3r.v2, 'totalJobCredits', [newJob.address], 'newJob credits')\n",
    "    $.addEventTrace(keep3r.v2.web3, 'JobMigrationSuccessful')\n",
    "})"
   ]
  },
  {
   "cell_type": "markdown",
   "id": "28cb8373-3daf-4f51-9787-b026ee2d71fb",
   "metadata": {},
   "source": [
    "### Migrate and accept"
   ]
  },
  {
   "cell_type": "markdown",
   "id": "8c5925c6-cbd1-4c41-9eb2-8dbde4d17b70",
   "metadata": {},
   "source": [
    "The migration has to be accepted from the `newJob` `jobOwner` to successfully trigger the `jobMigration`."
   ]
  },
  {
   "cell_type": "code",
   "execution_count": 13,
   "id": "e7b57ec7-fea3-44ea-9cf8-413508b98266",
   "metadata": {},
   "outputs": [
    {
     "data": {
      "text/html": [
       "<div class='plotly-plot'><div id='notebook-plot-1633347170880'></div><script>function plot(){Plotly.plot('notebook-plot-1633347170880',[{\"x\":[\"2021-09-23 18:09:11\",\"2021-09-23 22:09:14\",\"2021-09-24 02:09:14\",\"2021-09-24 06:09:14\",\"2021-09-24 10:09:14\",\"2021-09-24 14:09:14\",\"2021-09-24 18:09:14\",\"2021-09-24 22:09:14\",\"2021-09-25 02:09:14\",\"2021-09-25 06:09:14\",\"2021-09-25 10:09:14\",\"2021-09-25 14:09:14\",\"2021-09-25 18:09:14\",\"2021-09-25 18:10:16\",\"2021-09-25 22:10:16\",\"2021-09-26 02:10:16\",\"2021-09-26 06:10:16\",\"2021-09-26 10:10:16\",\"2021-09-26 14:10:16\",\"2021-09-26 18:10:16\",\"2021-09-26 22:10:16\",\"2021-09-27 02:10:16\",\"2021-09-27 06:10:16\",\"2021-09-27 10:10:16\",\"2021-09-27 14:10:16\",\"2021-09-27 18:10:16\"],\"y\":[0,0,0,0,0,0,0,0,0,0,0,0,0,0.58,0.63,0.68,0.73,0.78,0.83,0.88,0.92,0.97,1.02,1.07,1.12,1.17],\"name\":\"newJob credits\",\"line\":{\"width\":1}},{\"x\":[\"2021-09-25 18:10:16\"],\"y\":[0],\"name\":\"JobMigrationSuccessful\",\"mode\":\"markers\"},{\"x\":[\"2021-09-25 02:00:00\"],\"y\":[0],\"name\":\"Period\",\"mode\":\"markers\",\"marker\":{\"symbol\":\"line-ns-open\",\"size\":12,\"color\":\"rgb(0, 0, 0)\"}},{\"x\":[\"2021-09-23 18:09:11\",\"2021-09-23 22:09:14\",\"2021-09-24 02:09:14\",\"2021-09-24 06:09:14\",\"2021-09-24 10:09:14\",\"2021-09-24 14:09:14\",\"2021-09-24 18:09:14\",\"2021-09-24 22:09:14\",\"2021-09-25 02:09:14\",\"2021-09-25 06:09:14\",\"2021-09-25 10:09:14\",\"2021-09-25 14:09:14\",\"2021-09-25 18:09:14\",\"2021-09-25 18:10:16\",\"2021-09-25 22:10:16\",\"2021-09-26 02:10:16\",\"2021-09-26 06:10:16\",\"2021-09-26 10:10:16\",\"2021-09-26 14:10:16\",\"2021-09-26 18:10:16\",\"2021-09-26 22:10:16\",\"2021-09-27 02:10:16\",\"2021-09-27 06:10:16\",\"2021-09-27 10:10:16\",\"2021-09-27 14:10:16\",\"2021-09-27 18:10:16\"],\"y\":[0,0.04,0.09,0.13,0.18,0.23,0.27,0.32,0.39,0.44,0.48,0.53,0.58,0,0,0,0,0,0,0,0,0,0,0,0,0],\"name\":\"job credits\",\"line\":{\"width\":1}}],{});}if(window.Plotly){plot();}else if(!window.require){var head = document.head || document.getElementsByTagName('head')[0];var s = document.createElement('script');s.src = 'https://cdn.plot.ly/plotly-latest.min.js';s.type = 'text/javascript';s.async = false;s.onreadystatechange = s.onload = plot;head.appendChild(s);}else{require(['/notebooks/node_modules/plotly-notebook-js/build/plotly.min.js'], function(Plotly){window.Plotly = Plotly;plot();});}</script></div>"
      ]
     },
     "execution_count": 13,
     "metadata": {},
     "output_type": "execute_result"
    }
   ],
   "source": [
    "// credit mining without working\n",
    "\n",
    "next(async()=>{\n",
    "    \n",
    "    await $.sleepAndRecord(\n",
    "        $.time(2,'days'),\n",
    "        $.time(4,'hours')\n",
    "    )\n",
    "    \n",
    "    await keep3r.v2.connect(provider).migrateJob(job.address, newJob.address)\n",
    "    await $.sleep($.time(1,'minutes'))\n",
    "    await keep3r.v2.connect(provider).acceptJobMigration(job.address, newJob.address)\n",
    "    \n",
    "    await $.sleepAndRecord(\n",
    "        $.time(2,'days'),\n",
    "        $.time(4,'hours')\n",
    "    )\n",
    "    \n",
    "    await $.draw()\n",
    "})"
   ]
  },
  {
   "cell_type": "code",
   "execution_count": null,
   "id": "57725e9a-e081-4d2b-8e14-85e0dca2bd41",
   "metadata": {},
   "outputs": [],
   "source": []
  }
 ],
 "metadata": {
  "kernelspec": {
   "display_name": "Javascript (Node.js)",
   "language": "javascript",
   "name": "javascript"
  },
  "language_info": {
   "file_extension": ".js",
   "mimetype": "application/javascript",
   "name": "javascript",
   "version": "16.8.0"
  }
 },
 "nbformat": 4,
 "nbformat_minor": 5
}
