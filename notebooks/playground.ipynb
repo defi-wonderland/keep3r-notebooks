{
 "cells": [
  {
   "cell_type": "code",
   "execution_count": null,
   "id": "96110d00-fc3a-4c73-bb28-5b38c3082dbc",
   "metadata": {
    "tags": []
   },
   "outputs": [],
   "source": [
    "var moment = require('moment');\n",
    "var { constants } = require('../utils');\n",
    "var { toUnit } = require('../utils/bn');\n",
    "var { LIQUIDITIES } = require('../utils/constants');\n",
    "var { getLatestBlockTimestamp, getBlockTimestamp } = require('../utils/evm');\n",
    "var { next, clear } = require('../utils/jupyter');\n",
    "var { Notebook } = require('../utils/notebook');\n",
    "var { ethers, web3, artifacts } = require('hardhat');\n",
    "\n",
    "\n",
    "clear();"
   ]
  },
  {
   "cell_type": "code",
   "execution_count": null,
   "id": "d9b58e70-341c-4065-9418-df055eb9ccd4",
   "metadata": {},
   "outputs": [],
   "source": [
    "var $ = new Notebook();"
   ]
  },
  {
   "cell_type": "code",
   "execution_count": null,
   "id": "3138a099-c0e4-418c-967d-0f955d9cc916",
   "metadata": {},
   "outputs": [],
   "source": [
    "next(async () => {\n",
    "    await $.setup();\n",
    "});"
   ]
  },
  {
   "cell_type": "code",
   "execution_count": null,
   "id": "0bf78e02-7302-4f5b-9ee8-8a0bb195084b",
   "metadata": {},
   "outputs": [],
   "source": [
    "UNISWAP_V3_POOL = \"0x11B7a6bc0259ed6Cf9DB8F499988F9eCc7167bf5\"\n",
    "UNISWAP_V2_PAIR = \"0xaf988afF99d3d0cb870812C325C588D8D8CB7De8\"\n",
    "RICH_KP3R_WETH_POOL_ADDRESS = \"0x2269522ad48aeb971b25042471a44acc8c1b5eca\";"
   ]
  },
  {
   "cell_type": "code",
   "execution_count": null,
   "id": "0197d2d9-ec99-4465-8f79-d3281309ac2e",
   "metadata": {},
   "outputs": [],
   "source": [
    "next(async () => {\n",
    "    artifact = await artifacts.readArtifact('IUniswapV3PoolForTest');\n",
    "    uniV3Pool = new web3.eth.Contract(artifact.abi, UNISWAP_V3_POOL);\n",
    "    artifact = await artifacts.readArtifact('UniswapV2Pair');\n",
    "    uniV2Pair = new web3.eth.Contract(artifact.abi, UNISWAP_V2_PAIR);\n",
    "})"
   ]
  },
  {
   "cell_type": "code",
   "execution_count": null,
   "id": "9e088d49-162e-4815-9f88-372c04ada952",
   "metadata": {
    "tags": []
   },
   "outputs": [],
   "source": [
    "next(async () => {\n",
    "    console.log(await uniV3Pool.methods.observe([832000, 0]).call())\n",
    "})"
   ]
  }
 ],
 "metadata": {
  "kernelspec": {
   "display_name": "Javascript (Node.js)",
   "language": "javascript",
   "name": "javascript"
  },
  "language_info": {
   "file_extension": ".js",
   "mimetype": "application/javascript",
   "name": "javascript",
   "version": "16.5.0"
  }
 },
 "nbformat": 4,
 "nbformat_minor": 5
}
