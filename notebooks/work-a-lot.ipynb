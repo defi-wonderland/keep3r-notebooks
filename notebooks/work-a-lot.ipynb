{
 "cells": [
  {
   "cell_type": "markdown",
   "id": "04eafc4c-8a42-4022-85f5-a4dbf3f519fd",
   "metadata": {},
   "source": [
    "# Basic work"
   ]
  },
  {
   "cell_type": "markdown",
   "id": "1ff21d8a-b389-47a2-9b18-2d17b7bbe7e8",
   "metadata": {},
   "source": [
    "### Setup"
   ]
  },
  {
   "cell_type": "code",
   "execution_count": null,
   "id": "bd57ee33-939c-4f47-a06a-62e3f7df6794",
   "metadata": {
    "tags": []
   },
   "outputs": [],
   "source": [
    "var moment = require('moment');\n",
    "var { constants } = require('../utils');\n",
    "var { advanceTimeAndBlock } = require('../utils/evm');\n",
    "var { toUnit } = require('../utils/bn');\n",
    "var { LIQUIDITIES } = require('../utils/constants');\n",
    "var { getLatestBlockTimestamp, getBlockTimestamp } = require('../utils/evm');\n",
    "var { next, clear } = require('../utils/jupyter');\n",
    "var { Notebook } = require('../utils/notebook');\n",
    "\n",
    "clear();"
   ]
  },
  {
   "cell_type": "code",
   "execution_count": null,
   "id": "8ca344f2-75be-487b-bdbc-540796044bee",
   "metadata": {},
   "outputs": [],
   "source": [
    "var $ = new Notebook();"
   ]
  },
  {
   "cell_type": "code",
   "execution_count": null,
   "id": "759c49f0-e506-4633-aec5-b0581ee5d57b",
   "metadata": {},
   "outputs": [],
   "source": [
    "next(async () => {\n",
    "    await $.setup();\n",
    "});"
   ]
  },
  {
   "cell_type": "code",
   "execution_count": null,
   "id": "e7a6210c-6f57-4467-9d1a-69e950462042",
   "metadata": {},
   "outputs": [],
   "source": [
    "var liquidityPool, liquidityWhale;\n",
    "next(async () => {\n",
    "    const data = await $.setupLiquidity(LIQUIDITIES.KP3R_WETH);\n",
    "    liquidityPool = data.pool;\n",
    "    liquidityWhale = data.whale;\n",
    "});"
   ]
  },
  {
   "cell_type": "markdown",
   "id": "d32a3bca-e933-4a5e-8f29-2ff005571ab1",
   "metadata": {},
   "source": [
    "### Add LP tokens to job"
   ]
  },
  {
   "cell_type": "code",
   "execution_count": null,
   "id": "94fc9662-4c3b-4021-a3b0-7fd17c8706ce",
   "metadata": {},
   "outputs": [],
   "source": [
    "next(async () => {\n",
    "    await $.addLiquidityToJob(liquidityPool, liquidityWhale, toUnit(1));\n",
    "});"
   ]
  },
  {
   "cell_type": "markdown",
   "id": "b77d4fbe-3e94-46a6-99c8-1ecf9ff730ae",
   "metadata": {},
   "source": [
    "### Work, work, work\n",
    "Sleep 2 days, work, sleep 1 month (record credits every day), work"
   ]
  },
  {
   "cell_type": "code",
   "execution_count": null,
   "id": "876dc07b-ba87-424c-90f6-c4e7eb4306ff",
   "metadata": {},
   "outputs": [],
   "source": [
    "next(async () => {\n",
    "    const timeToSleep = moment.duration(1, 'month').as('seconds');\n",
    "    const startedToWorkAt = await getLatestBlockTimestamp();\n",
    "    \n",
    "    console.log('Start of simulation');\n",
    "    await $.recordCredits();\n",
    "    \n",
    "    // sleep 1 day\n",
    "    await $.sleep($.time(5, 'days','seconds'));\n",
    "    await $.recordCredits();\n",
    "\n",
    "    // work\n",
    "    await $.job.connect($.keeper).work();\n",
    "    await $.recordCredits();\n",
    "    \n",
    "    // sleep 1 month, record credits every day\n",
    "    await $.sleepAndRecord(moment.duration(0.5, 'month').as('seconds'), moment.duration(4, 'hours').as('seconds'));\n",
    "    \n",
    "    // work\n",
    "    await $.job.connect($.keeper).work();\n",
    "    await $.recordCredits();\n",
    "    \n",
    "    // sleep some hours\n",
    "    await $.sleep($.time(2, 'days'));\n",
    "    await $.recordCredits();\n",
    "    \n",
    "    // work a lot\n",
    "    for (let i = 0; i < 48; i++) {\n",
    "        await $.recordCredits();\n",
    "        await $.job.connect($.keeper).work();\n",
    "        await $.sleep($.time(12, 'hours'));\n",
    "        await $.recordCredits();\n",
    "    }\n",
    "    \n",
    "    // sleep 2 weeks, record credits every day\n",
    "    await $.sleepAndRecord($.time(2, 'weeks'), $.time(4, 'hours'));\n",
    "    \n",
    "    console.log('End of simulation');\n",
    "});"
   ]
  },
  {
   "cell_type": "code",
   "execution_count": null,
   "id": "1e8251ba-c8ec-4d21-98a6-8333a6d8f55f",
   "metadata": {},
   "outputs": [],
   "source": [
    "next(async () => {\n",
    "    await $.draw();\n",
    "});"
   ]
  }
 ],
 "metadata": {
  "kernelspec": {
   "display_name": "Javascript (Node.js)",
   "language": "javascript",
   "name": "javascript"
  },
  "language_info": {
   "file_extension": ".js",
   "mimetype": "application/javascript",
   "name": "javascript",
   "version": "16.5.0"
  }
 },
 "nbformat": 4,
 "nbformat_minor": 5
}
