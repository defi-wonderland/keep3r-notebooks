{
 "cells": [
  {
   "cell_type": "markdown",
   "id": "4cb16df2-82ab-468e-b258-2894bed562f3",
   "metadata": {},
   "source": [
    "### Setup\n",
    "Run first `00-setup.ipynb` and select its kernel"
   ]
  },
  {
   "cell_type": "code",
   "execution_count": 4,
   "id": "0df0eb22-f05d-4b69-afd2-aab5ffd48ecd",
   "metadata": {},
   "outputs": [],
   "source": [
    "next(async()=>{\n",
    "    //     uncomment to revert to snapshot\n",
    "    //     TODO: snapshots working only first time\n",
    "        await snapshots.revert(setupSnap)    \n",
    "})"
   ]
  },
  {
   "cell_type": "code",
   "execution_count": 5,
   "id": "c2e458af-c671-4b68-926f-68f35d46cefd",
   "metadata": {},
   "outputs": [],
   "source": [
    "next(async()=>{\n",
    "    [ethProvider] = await ethers.getSigners()\n",
    "    await ethProvider.sendTransaction({to:provider._address, value:toUnit(100)})\n",
    "})"
   ]
  },
  {
   "cell_type": "code",
   "execution_count": 6,
   "id": "3b8b8619-e3ba-4447-8a41-b5eb7359ce48",
   "metadata": {
    "tags": []
   },
   "outputs": [],
   "source": [
    "// charts configuration\n",
    "\n",
    "next(async() =>{\n",
    "    await $.resetRecording()\n",
    "    $.resetTraces()\n",
    "\n",
    "    $.setPeriodTrace(432000)\n",
    "    \n",
    "    $.addViewTrace(dai, 'balanceOf', [provider._address])\n",
    "\n",
    "    $.addEventTrace(dai.web3, 'Transfer')    \n",
    "})"
   ]
  },
  {
   "cell_type": "code",
   "execution_count": 7,
   "id": "e7b57ec7-fea3-44ea-9cf8-413508b98266",
   "metadata": {},
   "outputs": [
    {
     "data": {
      "text/html": [
       "<div class='plotly-plot'><div id='notebook-plot-1634813442006'></div><script>function plot(){Plotly.plot('notebook-plot-1634813442006',[{\"x\":[],\"y\":[],\"name\":\"Transfer\",\"mode\":\"markers\"},{\"x\":[],\"y\":[],\"name\":\"Period\",\"mode\":\"markers\",\"marker\":{\"symbol\":\"line-ns-open\",\"size\":12,\"color\":\"rgb(0, 0, 0)\"}},{\"x\":[\"2021-09-15 20:28:47\",\"2021-09-16 00:28:49\",\"2021-09-16 04:28:49\",\"2021-09-16 08:28:49\",\"2021-09-16 12:28:49\",\"2021-09-16 16:28:49\",\"2021-09-16 20:28:49\",\"2021-09-17 00:28:49\",\"2021-09-17 04:28:49\",\"2021-09-17 08:28:49\",\"2021-09-17 12:28:49\",\"2021-09-17 16:28:49\",\"2021-09-17 20:28:49\",\"2021-09-18 00:28:49\",\"2021-09-18 04:28:49\",\"2021-09-18 08:28:49\",\"2021-09-18 12:28:49\",\"2021-09-18 16:28:49\",\"2021-09-18 20:28:49\",\"2021-09-19 00:28:49\",\"2021-09-19 04:28:49\",\"2021-09-19 08:28:49\",\"2021-09-19 12:28:49\",\"2021-09-19 16:28:49\",\"2021-09-19 20:28:50\"],\"y\":[192000000,192000000,192000000,192000000,192000000,192000000,192000000,192000000,192000000,192000000,192000000,192000000,192000000,192000000,192000000,192000000,192000000,192000000,192000000,192000000,192000000,192000000,192000000,192000000,192000000],\"name\":\"balanceOf\",\"line\":{\"width\":1}}],{});}if(window.Plotly){plot();}else if(!window.require){var head = document.head || document.getElementsByTagName('head')[0];var s = document.createElement('script');s.src = 'https://cdn.plot.ly/plotly-latest.min.js';s.type = 'text/javascript';s.async = false;s.onreadystatechange = s.onload = plot;head.appendChild(s);}else{require(['/notebooks/node_modules/plotly-notebook-js/build/plotly.min.js'], function(Plotly){window.Plotly = Plotly;plot();});}</script></div>"
      ]
     },
     "execution_count": 7,
     "metadata": {},
     "output_type": "execute_result"
    }
   ],
   "source": [
    "// credit mining without working\n",
    "\n",
    "next(async()=>{\n",
    "    \n",
    "    await $.sleepAndRecord(\n",
    "        $.time(4,'days'),\n",
    "        $.time(4,'hours')\n",
    "    )\n",
    "    \n",
    "    await $.draw()\n",
    "})"
   ]
  },
  {
   "cell_type": "code",
   "execution_count": 9,
   "id": "8ca497f8-1e0e-48ca-9514-90b7d6011419",
   "metadata": {},
   "outputs": [
    {
     "data": {
      "text/html": [
       "<div class='plotly-plot'><div id='notebook-plot-1634813449339'></div><script>function plot(){Plotly.plot('notebook-plot-1634813449339',[{\"x\":[\"2021-09-24 08:29:00\",\"2021-09-25 20:29:01\",\"2021-09-27 08:29:02\"],\"y\":[0,0,0],\"name\":\"Transfer\",\"mode\":\"markers\"},{\"x\":[\"2021-09-25 01:00:00\"],\"y\":[0],\"name\":\"Period\",\"mode\":\"markers\",\"marker\":{\"symbol\":\"line-ns-open\",\"size\":12,\"color\":\"rgb(0, 0, 0)\"}},{\"x\":[\"2021-09-22 20:28:54\",\"2021-09-23 08:28:59\",\"2021-09-23 08:28:59\",\"2021-09-23 20:28:59\",\"2021-09-23 20:28:59\",\"2021-09-24 08:28:59\",\"2021-09-24 08:29:00\",\"2021-09-24 20:29:00\",\"2021-09-24 20:29:00\",\"2021-09-25 08:29:00\",\"2021-09-25 08:29:00\",\"2021-09-25 20:29:00\",\"2021-09-25 20:29:01\",\"2021-09-26 08:29:01\",\"2021-09-26 08:29:01\",\"2021-09-26 20:29:01\",\"2021-09-26 20:29:01\",\"2021-09-27 08:29:01\",\"2021-09-27 08:29:02\",\"2021-09-27 20:29:02\"],\"y\":[92000000,92000000,92000000,92000000,92000000,92000000,82000000,82000000,82000000,82000000,82000000,82000000,72000000,72000000,72000000,72000000,72000000,72000000,62000000,62000000],\"name\":\"balanceOf\",\"line\":{\"width\":1}}],{});}if(window.Plotly){plot();}else if(!window.require){var head = document.head || document.getElementsByTagName('head')[0];var s = document.createElement('script');s.src = 'https://cdn.plot.ly/plotly-latest.min.js';s.type = 'text/javascript';s.async = false;s.onreadystatechange = s.onload = plot;head.appendChild(s);}else{require(['/notebooks/node_modules/plotly-notebook-js/build/plotly.min.js'], function(Plotly){window.Plotly = Plotly;plot();});}</script></div>"
      ]
     },
     "execution_count": 9,
     "metadata": {},
     "output_type": "execute_result"
    }
   ],
   "source": [
    "// credit mining with twap change\n",
    "\n",
    "next(async()=>{    \n",
    "    await $.resetRecording()\n",
    "    \n",
    "    await $.sleepAndExecute(\n",
    "        $.time(5,'days'),\n",
    "        $.time(12,'hours'),\n",
    "        // make a big swap in uniswapV3 pool to alter quote\n",
    "        [{\n",
    "            run: async()=>{\n",
    "                    await dai.connect(provider).transfer(dai.address, toUnit(10_000_000))\n",
    "            },\n",
    "            every: $.time(1,'days')\n",
    "         }]\n",
    "    )\n",
    "    \n",
    "    await $.draw()\n",
    "})"
   ]
  },
  {
   "cell_type": "code",
   "execution_count": null,
   "id": "717299ea-da96-4457-ac3c-40f9e4558334",
   "metadata": {},
   "outputs": [],
   "source": []
  }
 ],
 "metadata": {
  "kernelspec": {
   "display_name": "Javascript (Node.js)",
   "language": "javascript",
   "name": "javascript"
  },
  "language_info": {
   "file_extension": ".js",
   "mimetype": "application/javascript",
   "name": "javascript",
   "version": "16.8.0"
  }
 },
 "nbformat": 4,
 "nbformat_minor": 5
}
