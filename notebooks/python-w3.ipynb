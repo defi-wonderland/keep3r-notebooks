{
 "cells": [
  {
   "cell_type": "code",
   "execution_count": 1,
   "id": "a5b7a059-de66-487f-8c3c-e8e47d1ce5ab",
   "metadata": {},
   "outputs": [],
   "source": [
    "from web3 import Web3\n",
    "import json\n",
    "import matplotlib.pyplot as plt"
   ]
  },
  {
   "cell_type": "code",
   "execution_count": 17,
   "id": "af1a9aba-369e-42cb-9c6f-21aa3a5167dd",
   "metadata": {},
   "outputs": [],
   "source": [
    "ZERO_ADDRESS = \"0x0000000000000000000000000000000000000000\"\n",
    "DAI_ADDRESS = \"0x6B175474E89094C44Da98b954EedeAC495271d0F\"\n",
    "RICH_KP3R_WETH_POOL_ADDRESS = \"0x73e0eb1fc6c84d572e6194f913df2a9904b650eb\"\n",
    "KP3R_WETH_POOL_ADDRESS = \"0xaf988afF99d3d0cb870812C325C588D8D8CB7De8\"\n",
    "KP3R_V1_ADDRESS = \"0x1cEB5cB57C4D4E2b2433641b95Dd330A33185A44\"\n",
    "\n",
    "# local deployment\n",
    "keeper = \"0xcA8Fa8f0b631EcdB18Cda619C4Fc9d197c8aFfCa\"\n",
    "Keep3r = \"0x8724141C5FcDa539c9B8951652a4034cBf2042bA\"\n",
    "KP3R = \"0x1cEB5cB57C4D4E2b2433641b95Dd330A33185A44\"\n",
    "liquidity = \"0x90118d110B07ABB82Ba8980D1c5cC96EeA810d2C\";"
   ]
  },
  {
   "cell_type": "code",
   "execution_count": 34,
   "id": "2ee6f6cb-4a48-451d-9265-a42aeea27654",
   "metadata": {},
   "outputs": [],
   "source": [
    "w3 = Web3(\n",
    "    Web3.HTTPProvider(\n",
    "        \"https://eth-mainnet.alchemyapi.io/v2/CUvUzvtv_cTDbOIygXjZr4-4wJwnyJzE\"\n",
    "    )\n",
    ")\n",
    "# w3 = Web3(Web3.HTTPProvider('http://127.0.0.1:8545'))"
   ]
  },
  {
   "cell_type": "code",
   "execution_count": 11,
   "id": "0ebab2ca-355c-4ddd-b42c-76d04f4cadcd",
   "metadata": {},
   "outputs": [],
   "source": [
    "ERC20 = json.load(\n",
    "    open(\"../artifacts/@openzeppelin/contracts/token/ERC20/ERC20.sol/ERC20.json\")\n",
    ")\n",
    "\n",
    "Keep3rV2 = json.load(open(\"../artifacts/contracts/Keep3r.sol/Keep3r.json\"))"
   ]
  },
  {
   "cell_type": "code",
   "execution_count": 18,
   "id": "5ffad8a7-d780-4c3e-9af4-11f554becb5d",
   "metadata": {},
   "outputs": [],
   "source": [
    "kp3r = w3.eth.contract(\n",
    "    address=Keep3r, abi=Keep3rV2.get(\"abi\"), bytecode=Keep3rV2.get(\"bytecode\")\n",
    ")\n",
    "erc = w3.eth.contract(\n",
    "    address=liquidity, abi=ERC20.get(\"abi\"), bytecode=ERC20.get(\"bytecode\")\n",
    ")\n",
    "keep3rV1 = w3.eth.contract(\n",
    "    address=KP3R, abi=ERC20.get(\"abi\"), bytecode=ERC20.get(\"bytecode\")\n",
    ")"
   ]
  },
  {
   "cell_type": "code",
   "execution_count": null,
   "id": "43c9fc81-9488-4241-a0ad-f06f704b2725",
   "metadata": {},
   "outputs": [],
   "source": []
  },
  {
   "cell_type": "code",
   "execution_count": 35,
   "id": "6057a4c8-7c80-4360-8d6c-a1f402d33003",
   "metadata": {},
   "outputs": [
    {
     "data": {
      "text/plain": [
       "325000480017070240350400"
      ]
     },
     "execution_count": 35,
     "metadata": {},
     "output_type": "execute_result"
    }
   ],
   "source": [
    "w3.eth.get_balance(keeper)"
   ]
  },
  {
   "cell_type": "code",
   "execution_count": null,
   "id": "793cd724-bd13-420c-a093-54c209c2718b",
   "metadata": {},
   "outputs": [],
   "source": []
  },
  {
   "cell_type": "code",
   "execution_count": 36,
   "id": "8a2e5876-3af0-4b56-8664-ca028ac1b11a",
   "metadata": {
    "collapsed": true,
    "jupyter": {
     "outputs_hidden": true
    },
    "tags": []
   },
   "outputs": [
    {
     "ename": "BadFunctionCallOutput",
     "evalue": "Could not transact with/call contract function, is contract deployed correctly and chain synced?",
     "output_type": "error",
     "traceback": [
      "\u001b[0;31m---------------------------------------------------------------------------\u001b[0m",
      "\u001b[0;31mInsufficientDataBytes\u001b[0m                     Traceback (most recent call last)",
      "\u001b[0;32m~/.pyenv/versions/3.9.6/lib/python3.9/site-packages/web3/contract.py\u001b[0m in \u001b[0;36mcall_contract_function\u001b[0;34m(web3, address, normalizers, function_identifier, transaction, block_id, contract_abi, fn_abi, state_override, *args, **kwargs)\u001b[0m\n\u001b[1;32m   1512\u001b[0m     \u001b[0;32mtry\u001b[0m\u001b[0;34m:\u001b[0m\u001b[0;34m\u001b[0m\u001b[0;34m\u001b[0m\u001b[0m\n\u001b[0;32m-> 1513\u001b[0;31m         \u001b[0moutput_data\u001b[0m \u001b[0;34m=\u001b[0m \u001b[0mweb3\u001b[0m\u001b[0;34m.\u001b[0m\u001b[0mcodec\u001b[0m\u001b[0;34m.\u001b[0m\u001b[0mdecode_abi\u001b[0m\u001b[0;34m(\u001b[0m\u001b[0moutput_types\u001b[0m\u001b[0;34m,\u001b[0m \u001b[0mreturn_data\u001b[0m\u001b[0;34m)\u001b[0m\u001b[0;34m\u001b[0m\u001b[0;34m\u001b[0m\u001b[0m\n\u001b[0m\u001b[1;32m   1514\u001b[0m     \u001b[0;32mexcept\u001b[0m \u001b[0mDecodingError\u001b[0m \u001b[0;32mas\u001b[0m \u001b[0me\u001b[0m\u001b[0;34m:\u001b[0m\u001b[0;34m\u001b[0m\u001b[0;34m\u001b[0m\u001b[0m\n",
      "\u001b[0;32m~/.pyenv/versions/3.9.6/lib/python3.9/site-packages/eth_abi/codec.py\u001b[0m in \u001b[0;36mdecode_abi\u001b[0;34m(self, types, data)\u001b[0m\n\u001b[1;32m    180\u001b[0m \u001b[0;34m\u001b[0m\u001b[0m\n\u001b[0;32m--> 181\u001b[0;31m         \u001b[0;32mreturn\u001b[0m \u001b[0mdecoder\u001b[0m\u001b[0;34m(\u001b[0m\u001b[0mstream\u001b[0m\u001b[0;34m)\u001b[0m\u001b[0;34m\u001b[0m\u001b[0;34m\u001b[0m\u001b[0m\n\u001b[0m\u001b[1;32m    182\u001b[0m \u001b[0;34m\u001b[0m\u001b[0m\n",
      "\u001b[0;32m~/.pyenv/versions/3.9.6/lib/python3.9/site-packages/eth_abi/decoding.py\u001b[0m in \u001b[0;36m__call__\u001b[0;34m(self, stream)\u001b[0m\n\u001b[1;32m    126\u001b[0m     \u001b[0;32mdef\u001b[0m \u001b[0m__call__\u001b[0m\u001b[0;34m(\u001b[0m\u001b[0mself\u001b[0m\u001b[0;34m,\u001b[0m \u001b[0mstream\u001b[0m\u001b[0;34m:\u001b[0m \u001b[0mContextFramesBytesIO\u001b[0m\u001b[0;34m)\u001b[0m \u001b[0;34m->\u001b[0m \u001b[0mAny\u001b[0m\u001b[0;34m:\u001b[0m\u001b[0;34m\u001b[0m\u001b[0;34m\u001b[0m\u001b[0m\n\u001b[0;32m--> 127\u001b[0;31m         \u001b[0;32mreturn\u001b[0m \u001b[0mself\u001b[0m\u001b[0;34m.\u001b[0m\u001b[0mdecode\u001b[0m\u001b[0;34m(\u001b[0m\u001b[0mstream\u001b[0m\u001b[0;34m)\u001b[0m\u001b[0;34m\u001b[0m\u001b[0;34m\u001b[0m\u001b[0m\n\u001b[0m\u001b[1;32m    128\u001b[0m \u001b[0;34m\u001b[0m\u001b[0m\n",
      "\u001b[0;32m~/.pyenv/versions/3.9.6/lib/python3.9/site-packages/eth_utils/functional.py\u001b[0m in \u001b[0;36minner\u001b[0;34m(*args, **kwargs)\u001b[0m\n\u001b[1;32m     44\u001b[0m         \u001b[0;32mdef\u001b[0m \u001b[0minner\u001b[0m\u001b[0;34m(\u001b[0m\u001b[0;34m*\u001b[0m\u001b[0margs\u001b[0m\u001b[0;34m,\u001b[0m \u001b[0;34m**\u001b[0m\u001b[0mkwargs\u001b[0m\u001b[0;34m)\u001b[0m \u001b[0;34m->\u001b[0m \u001b[0mT\u001b[0m\u001b[0;34m:\u001b[0m  \u001b[0;31m# type: ignore\u001b[0m\u001b[0;34m\u001b[0m\u001b[0;34m\u001b[0m\u001b[0m\n\u001b[0;32m---> 45\u001b[0;31m             \u001b[0;32mreturn\u001b[0m \u001b[0mcallback\u001b[0m\u001b[0;34m(\u001b[0m\u001b[0mfn\u001b[0m\u001b[0;34m(\u001b[0m\u001b[0;34m*\u001b[0m\u001b[0margs\u001b[0m\u001b[0;34m,\u001b[0m \u001b[0;34m**\u001b[0m\u001b[0mkwargs\u001b[0m\u001b[0;34m)\u001b[0m\u001b[0;34m)\u001b[0m\u001b[0;34m\u001b[0m\u001b[0;34m\u001b[0m\u001b[0m\n\u001b[0m\u001b[1;32m     46\u001b[0m \u001b[0;34m\u001b[0m\u001b[0m\n",
      "\u001b[0;32m~/.pyenv/versions/3.9.6/lib/python3.9/site-packages/eth_abi/decoding.py\u001b[0m in \u001b[0;36mdecode\u001b[0;34m(self, stream)\u001b[0m\n\u001b[1;32m    172\u001b[0m         \u001b[0;32mfor\u001b[0m \u001b[0mdecoder\u001b[0m \u001b[0;32min\u001b[0m \u001b[0mself\u001b[0m\u001b[0;34m.\u001b[0m\u001b[0mdecoders\u001b[0m\u001b[0;34m:\u001b[0m\u001b[0;34m\u001b[0m\u001b[0;34m\u001b[0m\u001b[0m\n\u001b[0;32m--> 173\u001b[0;31m             \u001b[0;32myield\u001b[0m \u001b[0mdecoder\u001b[0m\u001b[0;34m(\u001b[0m\u001b[0mstream\u001b[0m\u001b[0;34m)\u001b[0m\u001b[0;34m\u001b[0m\u001b[0;34m\u001b[0m\u001b[0m\n\u001b[0m\u001b[1;32m    174\u001b[0m \u001b[0;34m\u001b[0m\u001b[0m\n",
      "\u001b[0;32m~/.pyenv/versions/3.9.6/lib/python3.9/site-packages/eth_abi/decoding.py\u001b[0m in \u001b[0;36m__call__\u001b[0;34m(self, stream)\u001b[0m\n\u001b[1;32m    126\u001b[0m     \u001b[0;32mdef\u001b[0m \u001b[0m__call__\u001b[0m\u001b[0;34m(\u001b[0m\u001b[0mself\u001b[0m\u001b[0;34m,\u001b[0m \u001b[0mstream\u001b[0m\u001b[0;34m:\u001b[0m \u001b[0mContextFramesBytesIO\u001b[0m\u001b[0;34m)\u001b[0m \u001b[0;34m->\u001b[0m \u001b[0mAny\u001b[0m\u001b[0;34m:\u001b[0m\u001b[0;34m\u001b[0m\u001b[0;34m\u001b[0m\u001b[0m\n\u001b[0;32m--> 127\u001b[0;31m         \u001b[0;32mreturn\u001b[0m \u001b[0mself\u001b[0m\u001b[0;34m.\u001b[0m\u001b[0mdecode\u001b[0m\u001b[0;34m(\u001b[0m\u001b[0mstream\u001b[0m\u001b[0;34m)\u001b[0m\u001b[0;34m\u001b[0m\u001b[0;34m\u001b[0m\u001b[0m\n\u001b[0m\u001b[1;32m    128\u001b[0m \u001b[0;34m\u001b[0m\u001b[0m\n",
      "\u001b[0;32m~/.pyenv/versions/3.9.6/lib/python3.9/site-packages/eth_abi/decoding.py\u001b[0m in \u001b[0;36mdecode\u001b[0;34m(self, stream)\u001b[0m\n\u001b[1;32m    197\u001b[0m     \u001b[0;32mdef\u001b[0m \u001b[0mdecode\u001b[0m\u001b[0;34m(\u001b[0m\u001b[0mself\u001b[0m\u001b[0;34m,\u001b[0m \u001b[0mstream\u001b[0m\u001b[0;34m)\u001b[0m\u001b[0;34m:\u001b[0m\u001b[0;34m\u001b[0m\u001b[0;34m\u001b[0m\u001b[0m\n\u001b[0;32m--> 198\u001b[0;31m         \u001b[0mraw_data\u001b[0m \u001b[0;34m=\u001b[0m \u001b[0mself\u001b[0m\u001b[0;34m.\u001b[0m\u001b[0mread_data_from_stream\u001b[0m\u001b[0;34m(\u001b[0m\u001b[0mstream\u001b[0m\u001b[0;34m)\u001b[0m\u001b[0;34m\u001b[0m\u001b[0;34m\u001b[0m\u001b[0m\n\u001b[0m\u001b[1;32m    199\u001b[0m         \u001b[0mdata\u001b[0m\u001b[0;34m,\u001b[0m \u001b[0mpadding_bytes\u001b[0m \u001b[0;34m=\u001b[0m \u001b[0mself\u001b[0m\u001b[0;34m.\u001b[0m\u001b[0msplit_data_and_padding\u001b[0m\u001b[0;34m(\u001b[0m\u001b[0mraw_data\u001b[0m\u001b[0;34m)\u001b[0m\u001b[0;34m\u001b[0m\u001b[0;34m\u001b[0m\u001b[0m\n",
      "\u001b[0;32m~/.pyenv/versions/3.9.6/lib/python3.9/site-packages/eth_abi/decoding.py\u001b[0m in \u001b[0;36mread_data_from_stream\u001b[0;34m(self, stream)\u001b[0m\n\u001b[1;32m    304\u001b[0m         \u001b[0;32mif\u001b[0m \u001b[0mlen\u001b[0m\u001b[0;34m(\u001b[0m\u001b[0mdata\u001b[0m\u001b[0;34m)\u001b[0m \u001b[0;34m!=\u001b[0m \u001b[0mself\u001b[0m\u001b[0;34m.\u001b[0m\u001b[0mdata_byte_size\u001b[0m\u001b[0;34m:\u001b[0m\u001b[0;34m\u001b[0m\u001b[0;34m\u001b[0m\u001b[0m\n\u001b[0;32m--> 305\u001b[0;31m             raise InsufficientDataBytes(\n\u001b[0m\u001b[1;32m    306\u001b[0m                 \"Tried to read {0} bytes.  Only got {1} bytes\".format(\n",
      "\u001b[0;31mInsufficientDataBytes\u001b[0m: Tried to read 32 bytes.  Only got 0 bytes",
      "\nThe above exception was the direct cause of the following exception:\n",
      "\u001b[0;31mBadFunctionCallOutput\u001b[0m                     Traceback (most recent call last)",
      "\u001b[0;32m/var/folders/fl/425cn7c54_n8h8w4z6qtzlg80000gn/T/ipykernel_38172/3467305028.py\u001b[0m in \u001b[0;36m<module>\u001b[0;34m\u001b[0m\n\u001b[0;32m----> 1\u001b[0;31m \u001b[0mkp3r\u001b[0m\u001b[0;34m.\u001b[0m\u001b[0mfunctions\u001b[0m\u001b[0;34m.\u001b[0m\u001b[0mbonds\u001b[0m\u001b[0;34m(\u001b[0m\u001b[0mkeeper\u001b[0m\u001b[0;34m,\u001b[0m \u001b[0mKP3R\u001b[0m\u001b[0;34m)\u001b[0m\u001b[0;34m.\u001b[0m\u001b[0mcall\u001b[0m\u001b[0;34m(\u001b[0m\u001b[0;34m)\u001b[0m\u001b[0;34m\u001b[0m\u001b[0;34m\u001b[0m\u001b[0m\n\u001b[0m",
      "\u001b[0;32m~/.pyenv/versions/3.9.6/lib/python3.9/site-packages/web3/contract.py\u001b[0m in \u001b[0;36mcall\u001b[0;34m(self, transaction, block_identifier, state_override)\u001b[0m\n\u001b[1;32m    955\u001b[0m         \u001b[0mblock_id\u001b[0m \u001b[0;34m=\u001b[0m \u001b[0mparse_block_identifier\u001b[0m\u001b[0;34m(\u001b[0m\u001b[0mself\u001b[0m\u001b[0;34m.\u001b[0m\u001b[0mweb3\u001b[0m\u001b[0;34m,\u001b[0m \u001b[0mblock_identifier\u001b[0m\u001b[0;34m)\u001b[0m\u001b[0;34m\u001b[0m\u001b[0;34m\u001b[0m\u001b[0m\n\u001b[1;32m    956\u001b[0m \u001b[0;34m\u001b[0m\u001b[0m\n\u001b[0;32m--> 957\u001b[0;31m         return call_contract_function(\n\u001b[0m\u001b[1;32m    958\u001b[0m             \u001b[0mself\u001b[0m\u001b[0;34m.\u001b[0m\u001b[0mweb3\u001b[0m\u001b[0;34m,\u001b[0m\u001b[0;34m\u001b[0m\u001b[0;34m\u001b[0m\u001b[0m\n\u001b[1;32m    959\u001b[0m             \u001b[0mself\u001b[0m\u001b[0;34m.\u001b[0m\u001b[0maddress\u001b[0m\u001b[0;34m,\u001b[0m\u001b[0;34m\u001b[0m\u001b[0;34m\u001b[0m\u001b[0m\n",
      "\u001b[0;32m~/.pyenv/versions/3.9.6/lib/python3.9/site-packages/web3/contract.py\u001b[0m in \u001b[0;36mcall_contract_function\u001b[0;34m(web3, address, normalizers, function_identifier, transaction, block_id, contract_abi, fn_abi, state_override, *args, **kwargs)\u001b[0m\n\u001b[1;32m   1528\u001b[0m                 \u001b[0;34m\"return data {return_data!r} for output_types {output_types}\"\u001b[0m\u001b[0;34m\u001b[0m\u001b[0;34m\u001b[0m\u001b[0m\n\u001b[1;32m   1529\u001b[0m             )\n\u001b[0;32m-> 1530\u001b[0;31m         \u001b[0;32mraise\u001b[0m \u001b[0mBadFunctionCallOutput\u001b[0m\u001b[0;34m(\u001b[0m\u001b[0mmsg\u001b[0m\u001b[0;34m)\u001b[0m \u001b[0;32mfrom\u001b[0m \u001b[0me\u001b[0m\u001b[0;34m\u001b[0m\u001b[0;34m\u001b[0m\u001b[0m\n\u001b[0m\u001b[1;32m   1531\u001b[0m \u001b[0;34m\u001b[0m\u001b[0m\n\u001b[1;32m   1532\u001b[0m     _normalizers = itertools.chain(\n",
      "\u001b[0;31mBadFunctionCallOutput\u001b[0m: Could not transact with/call contract function, is contract deployed correctly and chain synced?"
     ]
    }
   ],
   "source": [
    "# Its not finding kp3r on the HTTP Provider!\n",
    "kp3r.functions.bonds(keeper, KP3R).call()"
   ]
  },
  {
   "cell_type": "code",
   "execution_count": null,
   "id": "0fd07258-0c14-44cf-84ca-37b8d5eee4d6",
   "metadata": {},
   "outputs": [],
   "source": []
  }
 ],
 "metadata": {
  "kernelspec": {
   "display_name": "Python 3 (ipykernel)",
   "language": "python",
   "name": "python3"
  },
  "language_info": {
   "codemirror_mode": {
    "name": "ipython",
    "version": 3
   },
   "file_extension": ".py",
   "mimetype": "text/x-python",
   "name": "python",
   "nbconvert_exporter": "python",
   "pygments_lexer": "ipython3",
   "version": "3.9.6"
  }
 },
 "nbformat": 4,
 "nbformat_minor": 5
}
