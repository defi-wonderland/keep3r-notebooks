{
 "cells": [
  {
   "cell_type": "markdown",
   "id": "04eafc4c-8a42-4022-85f5-a4dbf3f519fd",
   "metadata": {},
   "source": [
    "# Basic work"
   ]
  },
  {
   "cell_type": "markdown",
   "id": "1ff21d8a-b389-47a2-9b18-2d17b7bbe7e8",
   "metadata": {},
   "source": [
    "### Setup"
   ]
  },
  {
   "cell_type": "code",
   "execution_count": 1,
   "id": "bd57ee33-939c-4f47-a06a-62e3f7df6794",
   "metadata": {
    "tags": []
   },
   "outputs": [],
   "source": [
    "var moment = require('moment');\n",
    "var { advanceTimeAndBlock } = require('../../utils/evm');\n",
    "var { toUnit } = require('../../utils/bn');\n",
    "var { LIQUIDITIES } = require('../../utils/constants');\n",
    "var { getLatestBlockTimestamp, getBlockTimestamp } = require('../../utils/evm');\n",
    "var { next, clear } = require('../../utils/jupyter');\n",
    "var { Notebook } = require('../../utils/notebook');\n",
    "\n",
    "clear();"
   ]
  },
  {
   "cell_type": "code",
   "execution_count": 2,
   "id": "10be3fe3-e55f-40ce-a2a9-6318a22b0b15",
   "metadata": {},
   "outputs": [],
   "source": [
    "var notebook = new Notebook();"
   ]
  },
  {
   "cell_type": "code",
   "execution_count": 3,
   "id": "08919bc6-2167-4459-868d-e14b7cb57a67",
   "metadata": {},
   "outputs": [],
   "source": [
    "next(async () => {\n",
    "    await notebook.setup();\n",
    "});"
   ]
  },
  {
   "cell_type": "code",
   "execution_count": 4,
   "id": "b8bd32de-a2b4-41ef-ac31-d6371ca3ef91",
   "metadata": {},
   "outputs": [],
   "source": [
    "var wethPool, wethPoolWale;\n",
    "next(async () => {\n",
    "    const data = await notebook.setupLiquidity(LIQUIDITIES.KP3R_WETH);\n",
    "    wethPool = data.pool;\n",
    "    wethPoolWale = data.wale;\n",
    "});"
   ]
  },
  {
   "cell_type": "code",
   "execution_count": 5,
   "id": "b3e0ec85-0852-4a5a-bd9d-a05efa93c1b1",
   "metadata": {},
   "outputs": [],
   "source": [
    "var ldoPool, ldoPoolWale;\n",
    "next(async () => {\n",
    "    const data = await notebook.setupLiquidity(LIQUIDITIES.KP3R_LDO);\n",
    "    ldoPool = data.pool;\n",
    "    ldoPoolWale = data.wale;\n",
    "});"
   ]
  },
  {
   "cell_type": "markdown",
   "id": "d32a3bca-e933-4a5e-8f29-2ff005571ab1",
   "metadata": {},
   "source": [
    "### Add LP tokens to job"
   ]
  },
  {
   "cell_type": "code",
   "execution_count": 6,
   "id": "94fc9662-4c3b-4021-a3b0-7fd17c8706ce",
   "metadata": {},
   "outputs": [],
   "source": [
    "next(async () => {\n",
    "    await notebook.addLiquidityToJob(wethPool, wethPoolWale, toUnit(2));\n",
    "    await notebook.sleepAndRecord(moment.duration(2, 'weeks').as('seconds'), moment.duration(4, 'hours').as('seconds'));\n",
    "    await notebook.addLiquidityToJob(ldoPool, ldoPoolWale, toUnit(1));\n",
    "    await notebook.sleepAndRecord(moment.duration(2, 'weeks').as('seconds'), moment.duration(4, 'hours').as('seconds'));\n",
    "});"
   ]
  },
  {
   "cell_type": "markdown",
   "id": "b77d4fbe-3e94-46a6-99c8-1ecf9ff730ae",
   "metadata": {},
   "source": [
    "### Work, work, work\n",
    "Sleep 2 days, work, sleep 1 month (record credits every day), work"
   ]
  },
  {
   "cell_type": "code",
   "execution_count": 7,
   "id": "876dc07b-ba87-424c-90f6-c4e7eb4306ff",
   "metadata": {},
   "outputs": [],
   "source": [
    "next(async () => {\n",
    "    const timeToSleep = moment.duration(1, 'month').as('seconds');\n",
    "    const startedToWorkAt = await getLatestBlockTimestamp();\n",
    "    \n",
    "    console.log('Start of simulation');\n",
    "    await notebook.recordCredits();\n",
    "\n",
    "    // work\n",
    "    await notebook.job.connect(notebook.keeper).work();\n",
    "    await notebook.recordCredits();\n",
    "    \n",
    "    await notebook.sleepAndRecord(moment.duration(2, 'weeks').as('seconds'), moment.duration(4, 'hours').as('seconds'));\n",
    "    \n",
    "    console.log('End of simulation');\n",
    "});"
   ]
  },
  {
   "cell_type": "code",
   "execution_count": 8,
   "id": "072a9466-c097-4540-911c-a0b8956d89d7",
   "metadata": {},
   "outputs": [
    {
     "name": "stderr",
     "output_type": "stream",
     "text": [
      "InvalidArgumentsError: Errors encountered in param 0: Invalid value undefined supplied to : HardhatNetworkConfig | undefined/forking: RpcForkConfig | undefined | undefined/jsonRpcUrl: string\n",
      "    at Object.validateParams (/home/roman/Code/defi/wonderland/keep3r/keep3r-notebooks/node_modules/hardhat/internal/core/jsonrpc/types/input/validation.js:42:19)\n",
      "    at HardhatModule._resetParams (/home/roman/Code/defi/wonderland/keep3r/keep3r-notebooks/node_modules/hardhat/internal/hardhat-network/provider/modules/hardhat.js:121:29)\n",
      "    at HardhatModule.processRequest (/home/roman/Code/defi/wonderland/keep3r/keep3r-notebooks/node_modules/hardhat/internal/hardhat-network/provider/modules/hardhat.js:52:50)\n",
      "    at HardhatNetworkProvider._send (/home/roman/Code/defi/wonderland/keep3r/keep3r-notebooks/node_modules/hardhat/internal/hardhat-network/provider/provider.js:142:40)\n",
      "    at async HardhatNetworkProvider.request (/home/roman/Code/defi/wonderland/keep3r/keep3r-notebooks/node_modules/hardhat/internal/hardhat-network/provider/provider.js:71:26)\n",
      "    at async Object.reset (/home/roman/Code/defi/wonderland/keep3r/keep3r-notebooks/utils/evm.js:37:3)\n",
      "    at async Notebook.setup (/home/roman/Code/defi/wonderland/keep3r/keep3r-notebooks/utils/notebook.js:24:5)\n",
      "    at async evalmachine.<anonymous>:2:5\n",
      "InvalidArgumentsError: Errors encountered in param 0: Invalid value undefined supplied to : HardhatNetworkConfig | undefined/forking: RpcForkConfig | undefined | undefined/jsonRpcUrl: string\n",
      "    at Object.validateParams (/home/roman/Code/defi/wonderland/keep3r/keep3r-notebooks/node_modules/hardhat/internal/core/jsonrpc/types/input/validation.js:42:19)\n",
      "    at HardhatModule._resetParams (/home/roman/Code/defi/wonderland/keep3r/keep3r-notebooks/node_modules/hardhat/internal/hardhat-network/provider/modules/hardhat.js:121:29)\n",
      "    at HardhatModule.processRequest (/home/roman/Code/defi/wonderland/keep3r/keep3r-notebooks/node_modules/hardhat/internal/hardhat-network/provider/modules/hardhat.js:52:50)\n",
      "    at HardhatNetworkProvider._send (/home/roman/Code/defi/wonderland/keep3r/keep3r-notebooks/node_modules/hardhat/internal/hardhat-network/provider/provider.js:142:40)\n",
      "    at async HardhatNetworkProvider.request (/home/roman/Code/defi/wonderland/keep3r/keep3r-notebooks/node_modules/hardhat/internal/hardhat-network/provider/provider.js:71:26)\n",
      "    at async Object.reset (/home/roman/Code/defi/wonderland/keep3r/keep3r-notebooks/utils/evm.js:37:3)\n",
      "    at async Notebook.setup (/home/roman/Code/defi/wonderland/keep3r/keep3r-notebooks/utils/notebook.js:24:5)\n",
      "    at async evalmachine.<anonymous>:2:5\n",
      "InvalidArgumentsError: Errors encountered in param 0: Invalid value undefined supplied to : HardhatNetworkConfig | undefined/forking: RpcForkConfig | undefined | undefined/jsonRpcUrl: string\n",
      "    at Object.validateParams (/home/roman/Code/defi/wonderland/keep3r/keep3r-notebooks/node_modules/hardhat/internal/core/jsonrpc/types/input/validation.js:42:19)\n",
      "    at HardhatModule._resetParams (/home/roman/Code/defi/wonderland/keep3r/keep3r-notebooks/node_modules/hardhat/internal/hardhat-network/provider/modules/hardhat.js:121:29)\n",
      "    at HardhatModule.processRequest (/home/roman/Code/defi/wonderland/keep3r/keep3r-notebooks/node_modules/hardhat/internal/hardhat-network/provider/modules/hardhat.js:52:50)\n",
      "    at HardhatNetworkProvider._send (/home/roman/Code/defi/wonderland/keep3r/keep3r-notebooks/node_modules/hardhat/internal/hardhat-network/provider/provider.js:142:40)\n",
      "    at async HardhatNetworkProvider.request (/home/roman/Code/defi/wonderland/keep3r/keep3r-notebooks/node_modules/hardhat/internal/hardhat-network/provider/provider.js:71:26)\n",
      "    at async Object.reset (/home/roman/Code/defi/wonderland/keep3r/keep3r-notebooks/utils/evm.js:37:3)\n",
      "    at async Notebook.setup (/home/roman/Code/defi/wonderland/keep3r/keep3r-notebooks/utils/notebook.js:24:5)\n",
      "    at async evalmachine.<anonymous>:2:5\n",
      "InvalidArgumentsError: Errors encountered in param 0: Invalid value undefined supplied to : HardhatNetworkConfig | undefined/forking: RpcForkConfig | undefined | undefined/jsonRpcUrl: string\n",
      "    at Object.validateParams (/home/roman/Code/defi/wonderland/keep3r/keep3r-notebooks/node_modules/hardhat/internal/core/jsonrpc/types/input/validation.js:42:19)\n",
      "    at HardhatModule._resetParams (/home/roman/Code/defi/wonderland/keep3r/keep3r-notebooks/node_modules/hardhat/internal/hardhat-network/provider/modules/hardhat.js:121:29)\n",
      "    at HardhatModule.processRequest (/home/roman/Code/defi/wonderland/keep3r/keep3r-notebooks/node_modules/hardhat/internal/hardhat-network/provider/modules/hardhat.js:52:50)\n",
      "    at HardhatNetworkProvider._send (/home/roman/Code/defi/wonderland/keep3r/keep3r-notebooks/node_modules/hardhat/internal/hardhat-network/provider/provider.js:142:40)\n",
      "    at async HardhatNetworkProvider.request (/home/roman/Code/defi/wonderland/keep3r/keep3r-notebooks/node_modules/hardhat/internal/hardhat-network/provider/provider.js:71:26)\n",
      "    at async Object.reset (/home/roman/Code/defi/wonderland/keep3r/keep3r-notebooks/utils/evm.js:37:3)\n",
      "    at async Notebook.setup (/home/roman/Code/defi/wonderland/keep3r/keep3r-notebooks/utils/notebook.js:24:5)\n",
      "    at async evalmachine.<anonymous>:2:5\n",
      "InvalidArgumentsError: Errors encountered in param 0: Invalid value undefined supplied to : HardhatNetworkConfig | undefined/forking: RpcForkConfig | undefined | undefined/jsonRpcUrl: string\n",
      "    at Object.validateParams (/home/roman/Code/defi/wonderland/keep3r/keep3r-notebooks/node_modules/hardhat/internal/core/jsonrpc/types/input/validation.js:42:19)\n",
      "    at HardhatModule._resetParams (/home/roman/Code/defi/wonderland/keep3r/keep3r-notebooks/node_modules/hardhat/internal/hardhat-network/provider/modules/hardhat.js:121:29)\n",
      "    at HardhatModule.processRequest (/home/roman/Code/defi/wonderland/keep3r/keep3r-notebooks/node_modules/hardhat/internal/hardhat-network/provider/modules/hardhat.js:52:50)\n",
      "    at HardhatNetworkProvider._send (/home/roman/Code/defi/wonderland/keep3r/keep3r-notebooks/node_modules/hardhat/internal/hardhat-network/provider/provider.js:142:40)\n",
      "    at async HardhatNetworkProvider.request (/home/roman/Code/defi/wonderland/keep3r/keep3r-notebooks/node_modules/hardhat/internal/hardhat-network/provider/provider.js:71:26)\n",
      "    at async Object.reset (/home/roman/Code/defi/wonderland/keep3r/keep3r-notebooks/utils/evm.js:37:3)\n",
      "    at async Notebook.setup (/home/roman/Code/defi/wonderland/keep3r/keep3r-notebooks/utils/notebook.js:24:5)\n",
      "    at async evalmachine.<anonymous>:2:5\n",
      "InvalidArgumentsError: Errors encountered in param 0: Invalid value undefined supplied to : HardhatNetworkConfig | undefined/forking: RpcForkConfig | undefined | undefined/jsonRpcUrl: string\n",
      "    at Object.validateParams (/home/roman/Code/defi/wonderland/keep3r/keep3r-notebooks/node_modules/hardhat/internal/core/jsonrpc/types/input/validation.js:42:19)\n",
      "    at HardhatModule._resetParams (/home/roman/Code/defi/wonderland/keep3r/keep3r-notebooks/node_modules/hardhat/internal/hardhat-network/provider/modules/hardhat.js:121:29)\n",
      "    at HardhatModule.processRequest (/home/roman/Code/defi/wonderland/keep3r/keep3r-notebooks/node_modules/hardhat/internal/hardhat-network/provider/modules/hardhat.js:52:50)\n",
      "    at HardhatNetworkProvider._send (/home/roman/Code/defi/wonderland/keep3r/keep3r-notebooks/node_modules/hardhat/internal/hardhat-network/provider/provider.js:142:40)\n",
      "    at async HardhatNetworkProvider.request (/home/roman/Code/defi/wonderland/keep3r/keep3r-notebooks/node_modules/hardhat/internal/hardhat-network/provider/provider.js:71:26)\n",
      "    at async Object.reset (/home/roman/Code/defi/wonderland/keep3r/keep3r-notebooks/utils/evm.js:37:3)\n",
      "    at async Notebook.setup (/home/roman/Code/defi/wonderland/keep3r/keep3r-notebooks/utils/notebook.js:24:5)\n",
      "    at async evalmachine.<anonymous>:2:5\n"
     ]
    }
   ],
   "source": [
    "next(async () => {\n",
    "    await notebook.draw();\n",
    "});"
   ]
  }
 ],
 "metadata": {
  "kernelspec": {
   "display_name": "Javascript (Node.js)",
   "language": "javascript",
   "name": "javascript"
  },
  "language_info": {
   "file_extension": ".js",
   "mimetype": "application/javascript",
   "name": "javascript",
   "version": "16.5.0"
  }
 },
 "nbformat": 4,
 "nbformat_minor": 5
}
