{
 "cells": [
  {
   "cell_type": "markdown",
   "id": "04eafc4c-8a42-4022-85f5-a4dbf3f519fd",
   "metadata": {},
   "source": [
    "# Basic work"
   ]
  },
  {
   "cell_type": "markdown",
   "id": "1ff21d8a-b389-47a2-9b18-2d17b7bbe7e8",
   "metadata": {},
   "source": [
    "### Setup"
   ]
  },
  {
   "cell_type": "code",
   "execution_count": 1,
   "id": "bd57ee33-939c-4f47-a06a-62e3f7df6794",
   "metadata": {
    "tags": []
   },
   "outputs": [],
   "source": [
    "var moment = require('moment');\n",
    "var { constants } = require('../utils');\n",
    "var { advanceTimeAndBlock } = require('../utils/evm');\n",
    "var { toUnit } = require('../utils/bn');\n",
    "var { getLatestBlockTimestamp, getBlockTimestamp } = require('../utils/evm');\n",
    "var { next, clear } = require('../utils/jupyter');\n",
    "var { Notebook } = require('../utils/notebook');\n",
    "\n",
    "clear();"
   ]
  },
  {
   "cell_type": "code",
   "execution_count": 2,
   "id": "10be3fe3-e55f-40ce-a2a9-6318a22b0b15",
   "metadata": {},
   "outputs": [],
   "source": [
    "var notebook = new Notebook();"
   ]
  },
  {
   "cell_type": "code",
   "execution_count": 3,
   "id": "08919bc6-2167-4459-868d-e14b7cb57a67",
   "metadata": {},
   "outputs": [],
   "source": [
    "next(async () => {\n",
    "    await notebook.setup();\n",
    "});"
   ]
  },
  {
   "cell_type": "markdown",
   "id": "d32a3bca-e933-4a5e-8f29-2ff005571ab1",
   "metadata": {},
   "source": [
    "### Add LP tokens to job"
   ]
  },
  {
   "cell_type": "code",
   "execution_count": 4,
   "id": "94fc9662-4c3b-4021-a3b0-7fd17c8706ce",
   "metadata": {},
   "outputs": [],
   "source": [
    "next(async () => {\n",
    "    await notebook.addLiquidityToJob(toUnit(1));\n",
    "});"
   ]
  },
  {
   "cell_type": "markdown",
   "id": "b77d4fbe-3e94-46a6-99c8-1ecf9ff730ae",
   "metadata": {},
   "source": [
    "### Work, work, work\n",
    "Sleep 2 days, work, sleep 1 month (record credits every day), work"
   ]
  },
  {
   "cell_type": "code",
   "execution_count": 5,
   "id": "876dc07b-ba87-424c-90f6-c4e7eb4306ff",
   "metadata": {},
   "outputs": [],
   "source": [
    "next(async () => {\n",
    "    const timeToSleep = moment.duration(1, 'month').as('seconds');\n",
    "    const startedToWorkAt = await getLatestBlockTimestamp();\n",
    "    \n",
    "    console.log('Start of simulation');\n",
    "    await notebook.recordCredits();\n",
    "    \n",
    "    // sleep 1 day\n",
    "    await advanceTimeAndBlock(moment.duration(2, 'day').as('seconds'));\n",
    "    await notebook.recordCredits();\n",
    "\n",
    "    // work\n",
    "    await notebook.job.connect(notebook.keeper).work();\n",
    "    await notebook.recordCredits();\n",
    "    \n",
    "    // sleep 1 month, record credits every day\n",
    "    while ((await getLatestBlockTimestamp()) - startedToWorkAt < timeToSleep) {       \n",
    "        await advanceTimeAndBlock(moment.duration(1, 'day').as('seconds'));\n",
    "        await notebook.recordCredits();\n",
    "    }\n",
    "    \n",
    "    // work\n",
    "    await notebook.job.connect(notebook.keeper).work();\n",
    "    await notebook.recordCredits();\n",
    "    \n",
    "    console.log('End of simulation');\n",
    "});"
   ]
  },
  {
   "cell_type": "code",
   "execution_count": 6,
   "id": "072a9466-c097-4540-911c-a0b8956d89d7",
   "metadata": {},
   "outputs": [
    {
     "name": "stdout",
     "output_type": "stream",
     "text": [
      "Start of simulation\n",
      "End of simulation\n"
     ]
    },
    {
     "data": {
      "text/html": [
       "<div class='plotly-plot'><div id='notebook-plot-1627554813543'></div><script>function plot(){Plotly.plot('notebook-plot-1627554813543',[{\"x\":[\"2021-06-21 12:42:34\",\"2021-06-23 12:42:35\",\"2021-06-23 12:42:36\",\"2021-06-24 12:42:37\",\"2021-06-25 12:42:37\",\"2021-06-26 12:42:37\",\"2021-06-27 12:42:37\",\"2021-06-28 12:42:37\",\"2021-06-29 12:42:37\",\"2021-06-30 12:42:37\",\"2021-07-01 12:42:37\",\"2021-07-02 12:42:37\",\"2021-07-03 12:42:37\",\"2021-07-04 12:42:37\",\"2021-07-05 12:42:37\",\"2021-07-06 12:42:37\",\"2021-07-07 12:42:37\",\"2021-07-08 12:42:37\",\"2021-07-09 12:42:37\",\"2021-07-10 12:42:37\",\"2021-07-11 12:42:37\",\"2021-07-12 12:42:37\",\"2021-07-13 12:42:37\",\"2021-07-14 12:42:37\",\"2021-07-15 12:42:38\",\"2021-07-16 12:42:38\",\"2021-07-17 12:42:38\",\"2021-07-18 12:42:38\",\"2021-07-19 12:42:38\",\"2021-07-20 12:42:38\",\"2021-07-21 12:42:38\",\"2021-07-21 12:42:39\"],\"y\":[0,0,0.17,0.17,0.17,0.17,0.17,0.17,0.17,0.17,0.17,1,1,1,1,1,1,1,1,1,1,1,1,1,1,1,1,1,1,1,1,0.78],\"name\":\"Current credits\",\"mode\":\"lines\",\"line\":{\"color\":\"rgba(51, 0, 255, .3)\",\"width\":1,\"dash\":\"dashdot\"}},{\"x\":[\"2021-06-21 12:42:34\",\"2021-06-23 12:42:35\",\"2021-06-23 12:42:36\",\"2021-06-24 12:42:37\",\"2021-06-25 12:42:37\",\"2021-06-26 12:42:37\",\"2021-06-27 12:42:37\",\"2021-06-28 12:42:37\",\"2021-06-29 12:42:37\",\"2021-06-30 12:42:37\",\"2021-07-01 12:42:37\",\"2021-07-02 12:42:37\",\"2021-07-03 12:42:37\",\"2021-07-04 12:42:37\",\"2021-07-05 12:42:37\",\"2021-07-06 12:42:37\",\"2021-07-07 12:42:37\",\"2021-07-08 12:42:37\",\"2021-07-09 12:42:37\",\"2021-07-10 12:42:37\",\"2021-07-11 12:42:37\",\"2021-07-12 12:42:37\",\"2021-07-13 12:42:37\",\"2021-07-14 12:42:37\",\"2021-07-15 12:42:38\",\"2021-07-16 12:42:38\",\"2021-07-17 12:42:38\",\"2021-07-18 12:42:38\",\"2021-07-19 12:42:38\",\"2021-07-20 12:42:38\",\"2021-07-21 12:42:38\",\"2021-07-21 12:42:39\"],\"y\":[0,0.4,0.17,0.37,0.57,0.77,0.97,1.17,1.17,1.17,1.17,2,2,2,2,2,2,2,2,2,2,2,2,2,2,2,2,2,2,2,2,1.67],\"name\":\"Total credits\",\"mode\":\"lines+markers\",\"line\":{\"color\":\"rgb(63, 255, 0)\",\"width\":2}},{\"x\":[\"2021-06-23 12:42:36\",\"2021-07-21 12:42:39\"],\"y\":[0,0],\"name\":\"Work\",\"mode\":\"markers\",\"marker\":{\"symbol\":\"x-thin-open\",\"size\":12,\"color\":\"rgb(0, 0, 255)\"}},{\"x\":[\"2021-06-22 02:00:00\",\"2021-06-27 02:00:00\",\"2021-07-02 02:00:00\",\"2021-07-07 02:00:00\",\"2021-07-12 02:00:00\",\"2021-07-17 02:00:00\"],\"y\":[0,0,0,0,0,0],\"name\":\"Period\",\"mode\":\"markers\",\"marker\":{\"symbol\":\"line-ns-open\",\"size\":12,\"color\":\"rgb(0, 0, 0)\"}},{\"x\":[\"2021-06-21 12:42:34\"],\"y\":[0],\"name\":\"Liquidity added\",\"mode\":\"markers\",\"marker\":{\"symbol\":\"triangle-up\",\"size\":16,\"color\":\"rgb(0, 255, 0)\"}},{\"x\":[],\"y\":[],\"name\":\"Liquidity withdrawn\",\"mode\":\"markers\",\"marker\":{\"symbol\":\"triangle-down\",\"size\":16,\"color\":\"rgb(255, 0, 0)\"}},{\"x\":[\"2021-06-21 12:42:34\",\"2021-06-23 12:42:35\",\"2021-06-23 12:42:36\",\"2021-06-24 12:42:37\",\"2021-06-25 12:42:37\",\"2021-06-26 12:42:37\",\"2021-06-27 12:42:37\",\"2021-06-28 12:42:37\",\"2021-06-29 12:42:37\",\"2021-06-30 12:42:37\",\"2021-07-01 12:42:37\",\"2021-07-02 12:42:37\",\"2021-07-03 12:42:37\",\"2021-07-04 12:42:37\",\"2021-07-05 12:42:37\",\"2021-07-06 12:42:37\",\"2021-07-07 12:42:37\",\"2021-07-08 12:42:37\",\"2021-07-09 12:42:37\",\"2021-07-10 12:42:37\",\"2021-07-11 12:42:37\",\"2021-07-12 12:42:37\",\"2021-07-13 12:42:37\",\"2021-07-14 12:42:37\",\"2021-07-15 12:42:38\",\"2021-07-16 12:42:38\",\"2021-07-17 12:42:38\",\"2021-07-18 12:42:38\",\"2021-07-19 12:42:38\",\"2021-07-20 12:42:38\",\"2021-07-21 12:42:38\",\"2021-07-21 12:42:39\"],\"y\":[0,0.4,0,0.2,0.4,0.6,0.8,0,0.2,0.4,0.6,0.8,0,0.2,0.4,0.6,0.8,0,0.2,0.4,0.6,0.8,0,0.2,0.4,0.6,0.8,0,0.2,0.4,0.6,0.88],\"name\":\"Pending credits\",\"mode\":\"lines\",\"line\":{\"color\":\"rgba(0, 0, 0, .3)\",\"width\":1,\"dash\":\"dashdot\"}}],{});}if(window.Plotly){plot();}else if(!window.require){var head = document.head || document.getElementsByTagName('head')[0];var s = document.createElement('script');s.src = 'https://cdn.plot.ly/plotly-latest.min.js';s.type = 'text/javascript';s.async = false;s.onreadystatechange = s.onload = plot;head.appendChild(s);}else{require(['/notebooks/node_modules/plotly-notebook-js/build/plotly.min.js'], function(Plotly){window.Plotly = Plotly;plot();});}</script></div>"
      ]
     },
     "execution_count": 6,
     "metadata": {},
     "output_type": "execute_result"
    }
   ],
   "source": [
    "next(async () => {\n",
    "    await notebook.draw();\n",
    "});"
   ]
  }
 ],
 "metadata": {
  "kernelspec": {
   "display_name": "Javascript (Node.js)",
   "language": "javascript",
   "name": "javascript"
  },
  "language_info": {
   "file_extension": ".js",
   "mimetype": "application/javascript",
   "name": "javascript",
   "version": "16.5.0"
  }
 },
 "nbformat": 4,
 "nbformat_minor": 5
}
