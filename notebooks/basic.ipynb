{
 "cells": [
  {
   "cell_type": "code",
   "execution_count": 1,
   "id": "b4d81ca3-fd70-4d5e-8151-3399f55fc23f",
   "metadata": {},
   "outputs": [
    {
     "data": {
      "text/plain": [
       "{\n",
       "  parsed: {\n",
       "    MAINNET_HTTPS_URL: 'https://eth-mainnet.alchemyapi.io/v2/I7lMuIOs3HtUBB3CQ0alPcuUokn_iHhM'\n",
       "  }\n",
       "}"
      ]
     },
     "execution_count": 1,
     "metadata": {},
     "output_type": "execute_result"
    }
   ],
   "source": [
    "require('dotenv').config({ path: '../.env' });\n",
    "var { evm, wallet, constants, common } = require('../utils');"
   ]
  },
  {
   "cell_type": "code",
   "execution_count": null,
   "id": "896fc4d5-ee1e-471d-8fa1-b9a3b0c0e1cb",
   "metadata": {},
   "outputs": [],
   "source": [
    "evm.reset({\n",
    "    jsonRpcUrl: process.env.MAINNET_HTTPS_URL,\n",
    "    blockNumber: constants.FORK_BLOCK_NUMBER,\n",
    "});"
   ]
  },
  {
   "cell_type": "code",
   "execution_count": null,
   "id": "37219955-2778-4537-8e44-24cae7d76ace",
   "metadata": {},
   "outputs": [],
   "source": [
    "jobOwner = null;\n",
    "wallet.impersonate(constants.RICH_ETH_ADDRESS).then(r => jobOwner = r);"
   ]
  },
  {
   "cell_type": "code",
   "execution_count": null,
   "id": "38b4f3e0-f110-4819-b337-1def7cfdb55c",
   "metadata": {},
   "outputs": [],
   "source": [
    "var keep3r, governance, keep3rV1;\n",
    "common.setupKeep3r().then(res => {\n",
    "    keep3r = res.keep3r;\n",
    "    governance = res.governance;\n",
    "    keep3rV1 = res.keep3rV1;\n",
    "});"
   ]
  },
  {
   "cell_type": "code",
   "execution_count": null,
   "id": "9d43684f-bf18-4d29-a462-9f89dd8a291c",
   "metadata": {},
   "outputs": [],
   "source": [
    "var job;\n",
    "common.createJobForTest(keep3r.address, jobOwner).then(res => job = res);"
   ]
  },
  {
   "cell_type": "code",
   "execution_count": null,
   "id": "b373e640-d8c3-4076-900c-93b7a0426fcf",
   "metadata": {},
   "outputs": [],
   "source": [
    "keep3r.connect(governance).addJob(job.address);"
   ]
  },
  {
   "cell_type": "code",
   "execution_count": null,
   "id": "61e9611c-bf5c-4b8c-9eea-8b61da527c4a",
   "metadata": {},
   "outputs": [],
   "source": [
    "keep3r.jobs()"
   ]
  }
 ],
 "metadata": {
  "kernelspec": {
   "display_name": "Javascript (Node.js)",
   "language": "javascript",
   "name": "javascript"
  },
  "language_info": {
   "file_extension": ".js",
   "mimetype": "application/javascript",
   "name": "javascript",
   "version": "16.5.0"
  }
 },
 "nbformat": 4,
 "nbformat_minor": 5
}
