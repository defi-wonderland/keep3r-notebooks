{
 "cells": [
  {
   "cell_type": "markdown",
   "id": "04eafc4c-8a42-4022-85f5-a4dbf3f519fd",
   "metadata": {},
   "source": [
    "# Basic work"
   ]
  },
  {
   "cell_type": "code",
   "execution_count": 1,
   "id": "33b8267d-b29f-41ba-b923-0a472d1264bf",
   "metadata": {},
   "outputs": [],
   "source": [
    "var clear = (() => {});"
   ]
  },
  {
   "cell_type": "code",
   "execution_count": 2,
   "id": "bd57ee33-939c-4f47-a06a-62e3f7df6794",
   "metadata": {
    "tags": []
   },
   "outputs": [],
   "source": [
    "require('dotenv').config({ path: '../.env' });\n",
    "var { evm, wallet, constants, common } = require('../utils');\n",
    "var { toUnit } = require('../utils/bn');\n",
    "var { getLatestBlockTimestamp } = require('../utils/evm');\n",
    "var { ethers, web3, Web3, artifacts } = require('hardhat');\n",
    "var moment = require('moment');\n",
    "var Plot = require('plotly-notebook-js');\n",
    "clear();"
   ]
  },
  {
   "cell_type": "code",
   "execution_count": 3,
   "id": "896fc4d5-ee1e-471d-8fa1-b9a3b0c0e1cb",
   "metadata": {
    "tags": []
   },
   "outputs": [],
   "source": [
    "(async () => {\n",
    "    await evm.reset({\n",
    "        jsonRpcUrl: process.env.MAINNET_HTTPS_URL,\n",
    "        blockNumber: constants.FORK_BLOCK_NUMBER,\n",
    "    });\n",
    "})();"
   ]
  },
  {
   "cell_type": "code",
   "execution_count": 4,
   "id": "37219955-2778-4537-8e44-24cae7d76ace",
   "metadata": {
    "tags": []
   },
   "outputs": [],
   "source": [
    "var jobOwner, keeper;\n",
    "(async () => {\n",
    "    [jobOwner, keeper] = await ethers.getSigners();\n",
    "})();"
   ]
  },
  {
   "cell_type": "code",
   "execution_count": 5,
   "id": "38b4f3e0-f110-4819-b337-1def7cfdb55c",
   "metadata": {
    "tags": []
   },
   "outputs": [],
   "source": [
    "var keep3r, governance, keep3rV1, helper;\n",
    "(async () => {\n",
    "    const data = await common.setupKeep3r();\n",
    "    keep3r = data.keep3r;\n",
    "    governance = data.governance;\n",
    "    keep3rV1 = data.keep3rV1;\n",
    "    helper = data.helper;\n",
    "})();"
   ]
  },
  {
   "cell_type": "code",
   "execution_count": 7,
   "id": "9d43684f-bf18-4d29-a462-9f89dd8a291c",
   "metadata": {
    "tags": []
   },
   "outputs": [],
   "source": [
    "var job;\n",
    "(async () => {\n",
    "    job = await common.createJobForTest(keep3r.address, jobOwner);\n",
    "    keep3r.connect(governance).addJob(job.address);\n",
    "})();"
   ]
  },
  {
   "cell_type": "code",
   "execution_count": 8,
   "id": "6ed344c0-86b0-491e-9d91-5cfb5b563fa1",
   "metadata": {
    "tags": []
   },
   "outputs": [],
   "source": [
    "var w3Keep3r;\n",
    "(async () => {\n",
    "    const artifact = await artifacts.readArtifact('Keep3r');\n",
    "    w3Keep3r = new web3.eth.Contract(artifact.abi, keep3r.address);\n",
    "})();"
   ]
  },
  {
   "cell_type": "markdown",
   "id": "96a4fcfc-131f-4603-9ce4-ba8d760d22f5",
   "metadata": {},
   "source": [
    "## Setup plot"
   ]
  },
  {
   "cell_type": "code",
   "execution_count": 9,
   "id": "0e65a470-3499-457c-bb26-8de2713562d9",
   "metadata": {},
   "outputs": [],
   "source": [
    "var unixToDate = (unix) => {\n",
    "    return moment.unix(unix).format('YYYY-MM-DD HH:mm:ss');\n",
    "}"
   ]
  },
  {
   "cell_type": "code",
   "execution_count": 10,
   "id": "999f7dce-0b5a-4c8b-8f90-c3a1db569351",
   "metadata": {},
   "outputs": [],
   "source": [
    "var precision = 10 ** 2;\n",
    "var bnToNumber = (bn) => {\n",
    "    return test = Number(bn.mul(precision).div(toUnit(1)).toString()) / precision;\n",
    "}"
   ]
  },
  {
   "cell_type": "code",
   "execution_count": 11,
   "id": "3c71a076-39f0-47cd-a990-18fbc8f532a1",
   "metadata": {},
   "outputs": [],
   "source": [
    "var pendingCreditsTrace = {};\n",
    "var recordPendingCredits = async (jobAddress) => {\n",
    "    if (!pendingCreditsTrace[jobAddress]) pendingCreditsTrace[jobAddress] = { x: [], y: [], name: 'Pending credits' };\n",
    "    \n",
    "    const pendingCredits = await keep3r.jobPendingCredits(job.address);\n",
    "    pendingCreditsTrace[jobAddress].x.push(unixToDate(await getLatestBlockTimestamp()));\n",
    "    pendingCreditsTrace[jobAddress].y.push(bnToNumber(pendingCredits));\n",
    "};"
   ]
  },
  {
   "cell_type": "code",
   "execution_count": 12,
   "id": "7537183b-9680-4aeb-aa00-3070360b2b2e",
   "metadata": {},
   "outputs": [],
   "source": [
    "var currentCreditsTrace = {};\n",
    "var recordCurrentCredits = async (jobAddress) => {\n",
    "    if (!currentCreditsTrace[jobAddress]) currentCreditsTrace[jobAddress] = { x: [], y: [], name: 'Current credits' };\n",
    "    \n",
    "    const currentCredits = await keep3r.jobLiquidityCredits(job.address);\n",
    "    currentCreditsTrace[jobAddress].x.push(unixToDate(await getLatestBlockTimestamp()));\n",
    "    currentCreditsTrace[jobAddress].y.push(bnToNumber(currentCredits));\n",
    "};"
   ]
  },
  {
   "cell_type": "markdown",
   "id": "1ff21d8a-b389-47a2-9b18-2d17b7bbe7e8",
   "metadata": {},
   "source": [
    "## Work, work, work"
   ]
  },
  {
   "cell_type": "markdown",
   "id": "328855fc-9c69-42d8-a047-71e5079d2872",
   "metadata": {},
   "source": [
    "#### Liquidity setup"
   ]
  },
  {
   "cell_type": "code",
   "execution_count": 13,
   "id": "b0837517-165b-473c-89f0-5527202fc350",
   "metadata": {},
   "outputs": [],
   "source": [
    "var kp3rWeth, kp3rWethWale;\n",
    "(async () => {\n",
    "    kp3rWethWale = await wallet.impersonate(constants.RICH_KP3R_WETH_POOL_ADDRESS);\n",
    "    kp3rWeth = await ethers.getContractAt('@openzeppelin/contracts/token/ERC20/IERC20.sol:IERC20', constants.KP3R_WETH_POOL_ADDRESS);\n",
    "    await keep3r.connect(governance).approveLiquidity(kp3rWeth.address);\n",
    "})();"
   ]
  },
  {
   "cell_type": "markdown",
   "id": "f6a99d41-d1c2-4610-818f-c799829b4cde",
   "metadata": {},
   "source": [
    "#### Keeper setup"
   ]
  },
  {
   "cell_type": "code",
   "execution_count": 14,
   "id": "fbd9ca8e-4920-4a13-9172-2b67f65d7594",
   "metadata": {},
   "outputs": [],
   "source": [
    "(async () => {\n",
    "    await keep3r.connect(keeper).bond(constants.KP3R_V1_ADDRESS, 0);\n",
    "    await evm.advanceTimeAndBlock(moment.duration(3, 'days').as('seconds'));\n",
    "    await keep3r.connect(keeper).activate(constants.KP3R_V1_ADDRESS);\n",
    "})();"
   ]
  },
  {
   "cell_type": "markdown",
   "id": "d32a3bca-e933-4a5e-8f29-2ff005571ab1",
   "metadata": {},
   "source": [
    "#### Add 100 LP tokens to job"
   ]
  },
  {
   "cell_type": "code",
   "execution_count": 15,
   "id": "754d3b2a-6195-4efc-b242-3eaea8296374",
   "metadata": {},
   "outputs": [],
   "source": [
    "(async () => {\n",
    "    const liquidityToAdd = toUnit(1);\n",
    "    await kp3rWeth.connect(kp3rWethWale).transfer(jobOwner.address, liquidityToAdd);\n",
    "    await kp3rWeth.connect(jobOwner).approve(keep3r.address, liquidityToAdd);\n",
    "    await keep3r.connect(jobOwner).addLiquidityToJob(job.address, kp3rWeth.address, liquidityToAdd);\n",
    "})();"
   ]
  },
  {
   "cell_type": "code",
   "execution_count": 16,
   "id": "957130f4-e730-4d6c-9a75-c68be662dcbd",
   "metadata": {},
   "outputs": [],
   "source": [
    "(async () => {\n",
    "    await evm.advanceTimeAndBlock(moment.duration(8, 'hours').as('seconds'));\n",
    "})();"
   ]
  },
  {
   "cell_type": "markdown",
   "id": "b77d4fbe-3e94-46a6-99c8-1ecf9ff730ae",
   "metadata": {},
   "source": [
    "#### Work for 4 periods"
   ]
  },
  {
   "cell_type": "code",
   "execution_count": 17,
   "id": "d8e35e2e-522b-48ff-93a9-1ada9714985c",
   "metadata": {},
   "outputs": [
    {
     "name": "stdout",
     "output_type": "stream",
     "text": [
      "Sleeping 72 hours\n",
      "Sleeping 72 hours\n",
      "Sleeping 72 hours\n",
      "Sleeping 72 hours\n",
      "Sleeping 72 hours\n",
      "Sleeping 72 hours\n",
      "Sleeping 72 hours\n",
      "Sleeping 72 hours\n",
      "Sleeping 72 hours\n",
      "Sleeping 72 hours\n",
      "Sleeping 72 hours\n",
      "Sleeping 72 hours\n",
      "Sleeping 72 hours\n",
      "Sleeping 72 hours\n",
      "Sleeping 72 hours\n",
      "Sleeping 72 hours\n"
     ]
    }
   ],
   "source": [
    "(async () => {\n",
    "    const period = moment.duration(5, 'days').as('seconds');\n",
    "    const timeToWork = period * 10;\n",
    "    const startedToWorkAt = await getLatestBlockTimestamp();\n",
    "    const maxRestHours = 72;\n",
    "    \n",
    "    await recordPendingCredits(job.address);\n",
    "    await recordCurrentCredits(job.address);\n",
    "    \n",
    "    await evm.advanceTimeAndBlock(moment.duration(maxRestHours, 'hours').as('seconds'));\n",
    "    \n",
    "    await recordPendingCredits(job.address);\n",
    "    await recordCurrentCredits(job.address);\n",
    "    \n",
    "    while ((await getLatestBlockTimestamp()) - startedToWorkAt < timeToWork) {\n",
    "//         const workDifficulty = Math.ceil(Math.random() * 1);\n",
    "//         const workRest = moment.duration(Math.ceil(Math.random() * 72), 'hours').as('seconds');\n",
    "        \n",
    "//         const workDifficulty = Math.ceil(Math.random() * 1);\n",
    "        const workRest = moment.duration(maxRestHours, 'hours').as('seconds');\n",
    "        \n",
    "//         console.log(`Working with difficulty: ${workDifficulty}, sleeping ${moment.duration(workRest, 'seconds').as('hours')} hours`);\n",
    "        console.log(`Sleeping ${moment.duration(workRest, 'seconds').as('hours')} hours`);\n",
    "        await job.connect(keeper).work();\n",
    "        await recordPendingCredits(job.address);\n",
    "        await recordCurrentCredits(job.address);\n",
    "        \n",
    "        await evm.advanceTimeAndBlock(workRest);\n",
    "        await recordPendingCredits(job.address);\n",
    "        await recordCurrentCredits(job.address);\n",
    "    }\n",
    "})();"
   ]
  },
  {
   "cell_type": "markdown",
   "id": "d447fc1f-b6ea-4078-9910-e21bff547ccc",
   "metadata": {},
   "source": [
    "## Draw plot"
   ]
  },
  {
   "cell_type": "code",
   "execution_count": 18,
   "id": "072a9466-c097-4540-911c-a0b8956d89d7",
   "metadata": {},
   "outputs": [
    {
     "data": {
      "text/html": [
       "<div class='plotly-plot'><div id='notebook-plot-1627478999937'></div><script>function plot(){Plotly.plot('notebook-plot-1627478999937',[{\"x\":[\"2021-06-21 20:42:41\",\"2021-06-24 20:42:43\",\"2021-06-24 20:42:44\",\"2021-06-27 20:42:45\",\"2021-06-27 20:42:46\",\"2021-06-30 20:42:46\",\"2021-06-30 20:42:47\",\"2021-07-03 20:42:47\",\"2021-07-03 20:42:48\",\"2021-07-06 20:42:49\",\"2021-07-06 20:42:50\",\"2021-07-09 20:42:50\",\"2021-07-09 20:42:51\",\"2021-07-12 20:42:51\",\"2021-07-12 20:42:52\",\"2021-07-15 20:42:52\",\"2021-07-15 20:42:53\",\"2021-07-18 20:42:54\",\"2021-07-18 20:42:55\",\"2021-07-21 20:42:55\",\"2021-07-21 20:42:56\",\"2021-07-24 20:42:56\",\"2021-07-24 20:42:57\",\"2021-07-27 20:42:57\",\"2021-07-27 20:42:58\",\"2021-07-30 20:42:59\",\"2021-07-30 20:43:00\",\"2021-08-02 20:43:00\",\"2021-08-02 20:43:01\",\"2021-08-05 20:43:01\",\"2021-08-05 20:43:02\",\"2021-08-08 20:43:02\",\"2021-08-08 20:43:03\",\"2021-08-11 20:43:03\"],\"y\":[0,0,0.44,0.44,0.23,0.23,0.02,0.02,0.81,0.81,0.59,0.59,0.38,0.38,0.17,0.17,0.96,0.96,0.75,0.75,0.54,0.54,0.33,0.33,0.11,0.11,0.9,0.9,0.69,0.69,0.48,0.48,0.27,0.27],\"name\":\"Current credits\"},{\"x\":[\"2021-06-21 20:42:41\",\"2021-06-24 20:42:43\",\"2021-06-24 20:42:44\",\"2021-06-27 20:42:45\",\"2021-06-27 20:42:46\",\"2021-06-30 20:42:46\",\"2021-06-30 20:42:47\",\"2021-07-03 20:42:47\",\"2021-07-03 20:42:48\",\"2021-07-06 20:42:49\",\"2021-07-06 20:42:50\",\"2021-07-09 20:42:50\",\"2021-07-09 20:42:51\",\"2021-07-12 20:42:51\",\"2021-07-12 20:42:52\",\"2021-07-15 20:42:52\",\"2021-07-15 20:42:53\",\"2021-07-18 20:42:54\",\"2021-07-18 20:42:55\",\"2021-07-21 20:42:55\",\"2021-07-21 20:42:56\",\"2021-07-24 20:42:56\",\"2021-07-24 20:42:57\",\"2021-07-27 20:42:57\",\"2021-07-27 20:42:58\",\"2021-07-30 20:42:59\",\"2021-07-30 20:43:00\",\"2021-08-02 20:43:00\",\"2021-08-02 20:43:01\",\"2021-08-05 20:43:01\",\"2021-08-05 20:43:02\",\"2021-08-08 20:43:02\",\"2021-08-08 20:43:03\",\"2021-08-11 20:43:03\"],\"y\":[0.06,0.66,0,0.6,0.6,0.2,0.2,0.8,0,0.6,0.6,0.2,0.2,0.8,0.8,0.4,0,0.6,0.6,0.2,0.2,0.8,0.8,0.4,0.4,0,0,0.6,0.6,0.2,0.2,0.8,0.8,0.4],\"name\":\"Pending credits\"}],{\"title\":\"Basic work\"});}if(window.Plotly){plot();}else if(!window.require){var head = document.head || document.getElementsByTagName('head')[0];var s = document.createElement('script');s.src = 'https://cdn.plot.ly/plotly-latest.min.js';s.type = 'text/javascript';s.async = false;s.onreadystatechange = s.onload = plot;head.appendChild(s);}else{require(['/notebooks/node_modules/plotly-notebook-js/build/plotly.min.js'], function(Plotly){window.Plotly = Plotly;plot();});}</script></div>"
      ]
     },
     "execution_count": 18,
     "metadata": {},
     "output_type": "execute_result"
    }
   ],
   "source": [
    "var plot = Plot.createPlot([], { title: 'Basic work' });\n",
    "plot.addTraces([pendingCreditsTrace[job.address]]);\n",
    "plot.addTraces([currentCreditsTrace[job.address]]);\n",
    "$$html$$ = plot.render();"
   ]
  },
  {
   "cell_type": "code",
   "execution_count": null,
   "id": "e3e7692b-6ee8-4926-9cdd-fa0e838394d3",
   "metadata": {},
   "outputs": [],
   "source": []
  }
 ],
 "metadata": {
  "kernelspec": {
   "display_name": "Javascript (Node.js)",
   "language": "javascript",
   "name": "javascript"
  },
  "language_info": {
   "file_extension": ".js",
   "mimetype": "application/javascript",
   "name": "javascript",
   "version": "16.5.0"
  }
 },
 "nbformat": 4,
 "nbformat_minor": 5
}
