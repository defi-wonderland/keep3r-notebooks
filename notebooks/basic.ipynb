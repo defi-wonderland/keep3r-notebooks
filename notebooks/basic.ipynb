{
 "cells": [
  {
   "cell_type": "markdown",
   "id": "04eafc4c-8a42-4022-85f5-a4dbf3f519fd",
   "metadata": {},
   "source": [
    "# Basic work"
   ]
  },
  {
   "cell_type": "markdown",
   "id": "1ff21d8a-b389-47a2-9b18-2d17b7bbe7e8",
   "metadata": {},
   "source": [
    "### Setup"
   ]
  },
  {
   "cell_type": "code",
   "execution_count": 1,
   "id": "bd57ee33-939c-4f47-a06a-62e3f7df6794",
   "metadata": {
    "tags": []
   },
   "outputs": [],
   "source": [
    "var moment = require('moment');\n",
    "var { constants } = require('../utils');\n",
    "var { advanceTimeAndBlock } = require('../utils/evm');\n",
    "var { toUnit } = require('../utils/bn');\n",
    "var { getLatestBlockTimestamp, getBlockTimestamp } = require('../utils/evm');\n",
    "var { next, clear } = require('../utils/jupyter');\n",
    "var { Notebook } = require('../utils/notebook');\n",
    "\n",
    "clear();"
   ]
  },
  {
   "cell_type": "code",
   "execution_count": 2,
   "id": "10be3fe3-e55f-40ce-a2a9-6318a22b0b15",
   "metadata": {},
   "outputs": [],
   "source": [
    "var notebook = new Notebook();"
   ]
  },
  {
   "cell_type": "code",
   "execution_count": 3,
   "id": "08919bc6-2167-4459-868d-e14b7cb57a67",
   "metadata": {},
   "outputs": [],
   "source": [
    "next(async () => {\n",
    "    await notebook.setup();\n",
    "});"
   ]
  },
  {
   "cell_type": "markdown",
   "id": "d32a3bca-e933-4a5e-8f29-2ff005571ab1",
   "metadata": {},
   "source": [
    "### Add LP tokens to job"
   ]
  },
  {
   "cell_type": "code",
   "execution_count": 4,
   "id": "94fc9662-4c3b-4021-a3b0-7fd17c8706ce",
   "metadata": {},
   "outputs": [],
   "source": [
    "next(async () => {\n",
    "    await notebook.addLiquidityToJob(toUnit(1));\n",
    "});"
   ]
  },
  {
   "cell_type": "markdown",
   "id": "b77d4fbe-3e94-46a6-99c8-1ecf9ff730ae",
   "metadata": {},
   "source": [
    "### Work, work, work\n",
    "Sleep 72 hours, then start working every 72 hours, for a total of 4 periods"
   ]
  },
  {
   "cell_type": "code",
   "execution_count": 5,
   "id": "876dc07b-ba87-424c-90f6-c4e7eb4306ff",
   "metadata": {},
   "outputs": [],
   "source": [
    "next(async () => {\n",
    "    const timeToWork = notebook.rewardPeriod * 4;\n",
    "    const startedToWorkAt = await getLatestBlockTimestamp();\n",
    "    const maxRestHours = 72;\n",
    "    \n",
    "    await notebook.recordCredits();\n",
    "    await advanceTimeAndBlock(moment.duration(maxRestHours, 'hours').as('seconds'));\n",
    "    await notebook.recordCredits();\n",
    "    \n",
    "    while ((await getLatestBlockTimestamp()) - startedToWorkAt < timeToWork) {\n",
    "        const workRest = moment.duration(maxRestHours, 'hours').as('seconds');\n",
    "        \n",
    "        console.log(`Working`);\n",
    "        await notebook.job.connect(notebook.keeper).work();\n",
    "        await notebook.recordCredits();\n",
    "        \n",
    "        console.log(`Sleeping ${moment.duration(workRest, 'seconds').as('hours')} hours`);\n",
    "        await advanceTimeAndBlock(workRest);\n",
    "        await notebook.recordCredits();\n",
    "    }\n",
    "});"
   ]
  },
  {
   "cell_type": "code",
   "execution_count": 6,
   "id": "072a9466-c097-4540-911c-a0b8956d89d7",
   "metadata": {},
   "outputs": [
    {
     "name": "stdout",
     "output_type": "stream",
     "text": [
      "Working\n",
      "Sleeping 72 hours\n",
      "Working\n",
      "Sleeping 72 hours\n",
      "Working\n",
      "Sleeping 72 hours\n",
      "Working\n",
      "Sleeping 72 hours\n",
      "Working\n",
      "Sleeping 72 hours\n",
      "Working\n",
      "Sleeping 72 hours\n"
     ]
    },
    {
     "data": {
      "text/html": [
       "<div class='plotly-plot'><div id='notebook-plot-1627552613843'></div><script>function plot(){Plotly.plot('notebook-plot-1627552613843',[{\"x\":[\"2021-06-21 12:42:32\",\"2021-06-24 12:42:32\",\"2021-06-24 12:42:33\",\"2021-06-27 12:42:34\",\"2021-06-27 12:42:35\",\"2021-06-30 12:42:35\",\"2021-06-30 12:42:36\",\"2021-07-03 12:42:36\",\"2021-07-03 12:42:37\",\"2021-07-06 12:42:37\",\"2021-07-06 12:42:38\",\"2021-07-09 12:42:39\",\"2021-07-09 12:42:40\",\"2021-07-12 12:42:40\"],\"y\":[0,0,0.37,0.37,0.16,0.16,0.95,0.95,0.74,0.74,0.53,0.53,0.32,0.32],\"name\":\"Current credits\",\"mode\":\"lines\",\"line\":{\"color\":\"rgba(51, 0, 255, .3)\",\"width\":1,\"dash\":\"dashdot\"}},{\"x\":[\"2021-06-21 12:42:32\",\"2021-06-24 12:42:32\",\"2021-06-24 12:42:33\",\"2021-06-27 12:42:34\",\"2021-06-27 12:42:35\",\"2021-06-30 12:42:35\",\"2021-06-30 12:42:36\",\"2021-07-03 12:42:36\",\"2021-07-03 12:42:37\",\"2021-07-06 12:42:37\",\"2021-07-06 12:42:38\",\"2021-07-09 12:42:39\",\"2021-07-09 12:42:40\",\"2021-07-12 12:42:40\"],\"y\":[0,0.6,0.37,0.97,0.76,1.16,0.95,1.55,1.34,1.74,1.53,1.53,1.32,1.32],\"name\":\"Total credits\",\"mode\":\"lines+markers\",\"line\":{\"color\":\"rgb(63, 255, 0)\",\"width\":2}},{\"x\":[\"2021-06-24 12:42:33\",\"2021-06-27 12:42:35\",\"2021-06-30 12:42:36\",\"2021-07-03 12:42:37\",\"2021-07-06 12:42:38\",\"2021-07-09 12:42:40\"],\"y\":[0,0,0,0,0,0],\"name\":\"Work\",\"mode\":\"markers\",\"marker\":{\"symbol\":\"x-thin-open\",\"size\":12,\"color\":\"rgb(0, 0, 255)\"}},{\"x\":[\"2021-06-22 02:00:00\",\"2021-06-27 02:00:00\",\"2021-07-02 02:00:00\",\"2021-07-07 02:00:00\",\"2021-07-12 02:00:00\"],\"y\":[0,0,0,0,0],\"name\":\"Period\",\"mode\":\"markers\",\"marker\":{\"symbol\":\"line-ns-open\",\"size\":12,\"color\":\"rgb(0, 0, 0)\"}},{\"x\":[\"2021-06-21 12:42:32\",\"2021-06-24 12:42:32\",\"2021-06-24 12:42:33\",\"2021-06-27 12:42:34\",\"2021-06-27 12:42:35\",\"2021-06-30 12:42:35\",\"2021-06-30 12:42:36\",\"2021-07-03 12:42:36\",\"2021-07-03 12:42:37\",\"2021-07-06 12:42:37\",\"2021-07-06 12:42:38\",\"2021-07-09 12:42:39\",\"2021-07-09 12:42:40\",\"2021-07-12 12:42:40\"],\"y\":[0,0.6,0,0.6,0.6,0.2,0,0.6,0.6,0.2,0.2,0.8,0.8,0.4],\"name\":\"Pending credits\",\"mode\":\"lines\",\"line\":{\"color\":\"rgba(0, 0, 0, .3)\",\"width\":1,\"dash\":\"dashdot\"}}],{});}if(window.Plotly){plot();}else if(!window.require){var head = document.head || document.getElementsByTagName('head')[0];var s = document.createElement('script');s.src = 'https://cdn.plot.ly/plotly-latest.min.js';s.type = 'text/javascript';s.async = false;s.onreadystatechange = s.onload = plot;head.appendChild(s);}else{require(['/notebooks/node_modules/plotly-notebook-js/build/plotly.min.js'], function(Plotly){window.Plotly = Plotly;plot();});}</script></div>"
      ]
     },
     "execution_count": 6,
     "metadata": {},
     "output_type": "execute_result"
    }
   ],
   "source": [
    "next(async () => {\n",
    "    await notebook.draw();\n",
    "});"
   ]
  }
 ],
 "metadata": {
  "kernelspec": {
   "display_name": "Javascript (Node.js)",
   "language": "javascript",
   "name": "javascript"
  },
  "language_info": {
   "file_extension": ".js",
   "mimetype": "application/javascript",
   "name": "javascript",
   "version": "16.5.0"
  }
 },
 "nbformat": 4,
 "nbformat_minor": 5
}
