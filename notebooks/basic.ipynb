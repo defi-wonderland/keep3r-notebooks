{
 "cells": [
  {
   "cell_type": "markdown",
   "id": "04eafc4c-8a42-4022-85f5-a4dbf3f519fd",
   "metadata": {},
   "source": [
    "# Basic work"
   ]
  },
  {
   "cell_type": "code",
   "execution_count": 1,
   "id": "bd57ee33-939c-4f47-a06a-62e3f7df6794",
   "metadata": {
    "tags": []
   },
   "outputs": [],
   "source": [
    "require('dotenv').config({ path: '../.env' });\n",
    "var { evm, wallet, constants, common } = require('../utils');\n",
    "var { toUnit } = require('../utils/bn');\n",
    "var { getLatestBlockTimestamp, getBlockTimestamp } = require('../utils/evm');\n",
    "var { getPastEvents } = require('../utils/contracts');\n",
    "var { next, clear, unixToDate, bnToNumber } = require('../utils/jupyter');\n",
    "var { ethers, web3, Web3, artifacts } = require('hardhat');\n",
    "var moment = require('moment');\n",
    "var Plot = require('plotly-notebook-js');\n",
    "var { CreditRecorder } = require('../utils/credit-recorder');\n",
    "\n",
    "clear();"
   ]
  },
  {
   "cell_type": "code",
   "execution_count": null,
   "id": "f8fbbf41-24e0-4167-b73f-85886b6c157f",
   "metadata": {},
   "outputs": [],
   "source": [
    "var creditRecorder = new CreditRecorder();\n",
    "clear();"
   ]
  },
  {
   "cell_type": "code",
   "execution_count": 2,
   "id": "896fc4d5-ee1e-471d-8fa1-b9a3b0c0e1cb",
   "metadata": {
    "tags": []
   },
   "outputs": [],
   "source": [
    "next(async () => {\n",
    "    await evm.reset({\n",
    "        jsonRpcUrl: process.env.MAINNET_HTTPS_URL,\n",
    "        blockNumber: constants.FORK_BLOCK_NUMBER,\n",
    "    });\n",
    "});"
   ]
  },
  {
   "cell_type": "code",
   "execution_count": 3,
   "id": "37219955-2778-4537-8e44-24cae7d76ace",
   "metadata": {
    "tags": []
   },
   "outputs": [],
   "source": [
    "var jobOwner, keeper;\n",
    "next(async () => {\n",
    "    [jobOwner, keeper] = await ethers.getSigners();\n",
    "});"
   ]
  },
  {
   "cell_type": "code",
   "execution_count": 4,
   "id": "38b4f3e0-f110-4819-b337-1def7cfdb55c",
   "metadata": {
    "tags": []
   },
   "outputs": [],
   "source": [
    "var keep3r, governance, keep3rV1, helper;\n",
    "next(async () => {\n",
    "    const data = await common.setupKeep3r();\n",
    "    keep3r = data.keep3r;\n",
    "    governance = data.governance;\n",
    "    keep3rV1 = data.keep3rV1;\n",
    "    helper = data.helper;\n",
    "});"
   ]
  },
  {
   "cell_type": "code",
   "execution_count": 5,
   "id": "9d43684f-bf18-4d29-a462-9f89dd8a291c",
   "metadata": {
    "tags": []
   },
   "outputs": [],
   "source": [
    "var job;\n",
    "next(async () => {\n",
    "    job = await common.createJobForTest(keep3r.address, jobOwner);\n",
    "    keep3r.connect(governance).addJob(job.address);\n",
    "});"
   ]
  },
  {
   "cell_type": "code",
   "execution_count": 6,
   "id": "6ed344c0-86b0-491e-9d91-5cfb5b563fa1",
   "metadata": {
    "tags": []
   },
   "outputs": [],
   "source": [
    "var w3Keep3r;\n",
    "next(async () => {\n",
    "    const artifact = await artifacts.readArtifact('Keep3r');\n",
    "    w3Keep3r = new web3.eth.Contract(artifact.abi, keep3r.address);\n",
    "});"
   ]
  },
  {
   "cell_type": "markdown",
   "id": "1ff21d8a-b389-47a2-9b18-2d17b7bbe7e8",
   "metadata": {},
   "source": [
    "## Work, work, work"
   ]
  },
  {
   "cell_type": "markdown",
   "id": "328855fc-9c69-42d8-a047-71e5079d2872",
   "metadata": {},
   "source": [
    "#### Liquidity setup"
   ]
  },
  {
   "cell_type": "code",
   "execution_count": 7,
   "id": "b0837517-165b-473c-89f0-5527202fc350",
   "metadata": {},
   "outputs": [],
   "source": [
    "var kp3rWeth, kp3rWethWale;\n",
    "next(async () => {\n",
    "    kp3rWethWale = await wallet.impersonate(constants.RICH_KP3R_WETH_POOL_ADDRESS);\n",
    "    kp3rWeth = await ethers.getContractAt('@openzeppelin/contracts/token/ERC20/IERC20.sol:IERC20', constants.KP3R_WETH_POOL_ADDRESS);\n",
    "    await keep3r.connect(governance).approveLiquidity(kp3rWeth.address);\n",
    "});"
   ]
  },
  {
   "cell_type": "markdown",
   "id": "f6a99d41-d1c2-4610-818f-c799829b4cde",
   "metadata": {},
   "source": [
    "#### Keeper setup"
   ]
  },
  {
   "cell_type": "code",
   "execution_count": 8,
   "id": "fbd9ca8e-4920-4a13-9172-2b67f65d7594",
   "metadata": {},
   "outputs": [],
   "source": [
    "next(async () => {\n",
    "    await keep3r.connect(keeper).bond(constants.KP3R_V1_ADDRESS, 0);\n",
    "    await evm.advanceTimeAndBlock(moment.duration(3, 'days').as('seconds'));\n",
    "    await keep3r.connect(keeper).activate(constants.KP3R_V1_ADDRESS);\n",
    "});"
   ]
  },
  {
   "cell_type": "markdown",
   "id": "d32a3bca-e933-4a5e-8f29-2ff005571ab1",
   "metadata": {},
   "source": [
    "#### Add 100 LP tokens to job"
   ]
  },
  {
   "cell_type": "code",
   "execution_count": 9,
   "id": "754d3b2a-6195-4efc-b242-3eaea8296374",
   "metadata": {},
   "outputs": [],
   "source": [
    "next(async () => {\n",
    "    const liquidityToAdd = toUnit(1);\n",
    "    await kp3rWeth.connect(kp3rWethWale).transfer(jobOwner.address, liquidityToAdd);\n",
    "    await kp3rWeth.connect(jobOwner).approve(keep3r.address, liquidityToAdd);\n",
    "    await keep3r.connect(jobOwner).addLiquidityToJob(job.address, kp3rWeth.address, liquidityToAdd);\n",
    "});"
   ]
  },
  {
   "cell_type": "markdown",
   "id": "b77d4fbe-3e94-46a6-99c8-1ecf9ff730ae",
   "metadata": {},
   "source": [
    "#### Work for 4 periods"
   ]
  },
  {
   "cell_type": "code",
   "execution_count": 10,
   "id": "d8e35e2e-522b-48ff-93a9-1ada9714985c",
   "metadata": {},
   "outputs": [],
   "source": [
    "next(async () => {\n",
    "    const period = moment.duration(5, 'days').as('seconds');\n",
    "    const timeToWork = period * 1;\n",
    "    const startedToWorkAt = await getLatestBlockTimestamp();\n",
    "    const maxRestHours = 72;\n",
    "    \n",
    "    await creditRecorder.record(job.address);\n",
    "    await evm.advanceTimeAndBlock(moment.duration(maxRestHours, 'hours').as('seconds'));\n",
    "    await creditRecorder.record(job.address);\n",
    "    \n",
    "    while ((await getLatestBlockTimestamp()) - startedToWorkAt < timeToWork) {\n",
    "//         const workDifficulty = Math.ceil(Math.random() * 1);\n",
    "//         const workRest = moment.duration(Math.ceil(Math.random() * 72), 'hours').as('seconds');\n",
    "        \n",
    "//         const workDifficulty = Math.ceil(Math.random() * 1);\n",
    "        const workRest = moment.duration(maxRestHours, 'hours').as('seconds');\n",
    "        \n",
    "//         console.log(`Working with difficulty: ${workDifficulty}, sleeping ${moment.duration(workRest, 'seconds').as('hours')} hours`);\n",
    "        console.log(`Sleeping ${moment.duration(workRest, 'seconds').as('hours')} hours`);\n",
    "        await job.connect(keeper).work();\n",
    "        await creditRecorder.record(job.address);\n",
    "        \n",
    "        await evm.advanceTimeAndBlock(workRest);\n",
    "        await creditRecorder.record(job.address);\n",
    "    }\n",
    "});"
   ]
  },
  {
   "cell_type": "markdown",
   "id": "2b765649-4f4d-4820-a269-6bb08474f598",
   "metadata": {},
   "source": [
    "#### Get data from events"
   ]
  },
  {
   "cell_type": "code",
   "execution_count": 11,
   "id": "90c8c14a-54ec-4c28-86b8-a4f932cc474f",
   "metadata": {},
   "outputs": [],
   "source": [
    "var workTrace = { x: [], y: [] };\n",
    "\n",
    "next(async () => {\n",
    "    const workEvents = await getPastEvents(w3Keep3r, 'KeeperWork');\n",
    "    const timestamps = workEvents.map(workEvent => getBlockTimestamp(workEvent.blockNumber));\n",
    "\n",
    "    return Promise.all(timestamps).then(timestamp => {\n",
    "        workTrace.x.push(unixToDate(timestamp));\n",
    "        workTrace.y.push(0);\n",
    "    });\n",
    "});"
   ]
  },
  {
   "cell_type": "markdown",
   "id": "d447fc1f-b6ea-4078-9910-e21bff547ccc",
   "metadata": {},
   "source": [
    "## Draw plot"
   ]
  },
  {
   "cell_type": "code",
   "execution_count": 12,
   "id": "072a9466-c097-4540-911c-a0b8956d89d7",
   "metadata": {},
   "outputs": [],
   "source": [
    "next(() => {\n",
    "    var plot = Plot.createPlot([], { title: 'Basic work' });\n",
    "    plot.addTraces([{\n",
    "        ...creditRecorder.getPendingCredits(job.address),\n",
    "        name: 'Pending credits',\n",
    "        mode: 'lines',\n",
    "        line: {\n",
    "            color: 'rgba(0, 0, 0, .3)',\n",
    "            width: 1,\n",
    "            dash: 'dashdot'\n",
    "        }\n",
    "    }]);\n",
    "    plot.addTraces([{\n",
    "        ...creditRecorder.getCurrentCredits(job.address),\n",
    "        name: 'Current credits',\n",
    "        mode: 'lines',\n",
    "        line: {\n",
    "            color: 'rgba(51, 0, 255, .3)',\n",
    "            width: 1,\n",
    "            dash: 'dashdot'\n",
    "        }\n",
    "    }]);\n",
    "    plot.addTraces([{\n",
    "        ...creditRecorder.getTotalCredits(job.address),\n",
    "        name: 'Total credits',\n",
    "        mode: 'lines+markers',\n",
    "        line: {\n",
    "            color: 'rgb(63, 255, 0)',\n",
    "            width: 2\n",
    "        }\n",
    "    }]);\n",
    "    plot.addTraces([{\n",
    "        ...workTrace,\n",
    "        name: 'Work',\n",
    "        mode: 'markers',\n",
    "        marker: {\n",
    "            symbol: 'x',\n",
    "            size: 12,\n",
    "            color: 'rgb(0, 0, 255)'\n",
    "        }\n",
    "    }]);\n",
    "    \n",
    "    $$html$$ = plot.render();\n",
    "});"
   ]
  },
  {
   "cell_type": "code",
   "execution_count": 14,
   "id": "ae5ca9fc-7e26-42f9-aa52-bb2ae3ac7215",
   "metadata": {},
   "outputs": [
    {
     "name": "stdout",
     "output_type": "stream",
     "text": [
      "Sleeping 72 hours\n"
     ]
    },
    {
     "data": {
      "text/html": [
       "<div class='plotly-plot'><div id='notebook-plot-1627493383334'></div><script>function plot(){Plotly.plot('notebook-plot-1627493383334',[{\"x\":[\"2021-06-21 12:42:32\",\"2021-06-24 12:42:32\",\"2021-06-24 12:42:33\",\"2021-06-27 12:42:33\"],\"y\":[0,0,0.37,0.37],\"name\":\"Current credits\",\"mode\":\"lines\",\"line\":{\"color\":\"rgba(51, 0, 255, .3)\",\"width\":1,\"dash\":\"dashdot\"}},{\"x\":[\"2021-06-21 12:42:32\",\"2021-06-24 12:42:32\",\"2021-06-24 12:42:33\",\"2021-06-27 12:42:33\"],\"y\":[0,0.6,0.37,0.97],\"name\":\"Total credits\",\"mode\":\"lines+markers\",\"line\":{\"color\":\"rgb(63, 255, 0)\",\"width\":2}},{\"x\":[\"2021-06-24 12:42:33\"],\"y\":[0],\"name\":\"Work\",\"mode\":\"markers\",\"marker\":{\"symbol\":\"x\",\"size\":12,\"color\":\"rgb(0, 0, 255)\"}},{\"x\":[\"2021-06-21 12:42:32\",\"2021-06-24 12:42:32\",\"2021-06-24 12:42:33\",\"2021-06-27 12:42:33\"],\"y\":[0,0.6,0,0.6],\"name\":\"Pending credits\",\"mode\":\"lines\",\"line\":{\"color\":\"rgba(0, 0, 0, .3)\",\"width\":1,\"dash\":\"dashdot\"}}],{\"title\":\"Basic work\"});}if(window.Plotly){plot();}else if(!window.require){var head = document.head || document.getElementsByTagName('head')[0];var s = document.createElement('script');s.src = 'https://cdn.plot.ly/plotly-latest.min.js';s.type = 'text/javascript';s.async = false;s.onreadystatechange = s.onload = plot;head.appendChild(s);}else{require(['/notebooks/node_modules/plotly-notebook-js/build/plotly.min.js'], function(Plotly){window.Plotly = Plotly;plot();});}</script></div>"
      ]
     },
     "execution_count": 14,
     "metadata": {},
     "output_type": "execute_result"
    }
   ],
   "source": [
    "clear();"
   ]
  }
 ],
 "metadata": {
  "kernelspec": {
   "display_name": "Javascript (Node.js)",
   "language": "javascript",
   "name": "javascript"
  },
  "language_info": {
   "file_extension": ".js",
   "mimetype": "application/javascript",
   "name": "javascript",
   "version": "16.5.0"
  }
 },
 "nbformat": 4,
 "nbformat_minor": 5
}
