{
 "cells": [
  {
   "cell_type": "code",
   "execution_count": 1,
   "id": "ad598979-d080-43bb-bcc0-4e69e0db17e4",
   "metadata": {
    "tags": []
   },
   "outputs": [],
   "source": [
    "var moment = require('moment')\n",
    "var { constants } = require('../utils')\n",
    "var { advanceTimeAndBlock } = require('../utils/evm')\n",
    "var { evm } = require('../utils');\n",
    "var { toUnit } = require('../utils/bn')\n",
    "var { getLatestBlockTimestamp, getBlockTimestamp } = require('../utils/evm')\n",
    "var { next, clear, bnToNumber } = require('../utils/jupyter')\n",
    "var { Notebook } = require('../utils/notebook')\n",
    "var { Keep3r } = require('../utils/common')\n",
    "var { ethers } = require('hardhat')\n",
    "\n",
    "oneHundred = toUnit(100)\n",
    "\n",
    "var $ = new Notebook();\n",
    "var keep3r = new Keep3r();\n",
    "var snapshots = new evm.SnapshotManager()\n",
    "\n",
    "clear();"
   ]
  },
  {
   "cell_type": "code",
   "execution_count": 2,
   "id": "d42a7ee8-0eea-4c47-983e-ddf5a9cc9bf6",
   "metadata": {},
   "outputs": [],
   "source": [
    "next(async () => {\n",
    "    await $.setup(constants.FORK_BLOCK_NUMBER);\n",
    "    await keep3r.setup();\n",
    "    \n",
    "    job = await(await ethers.getContractFactory('JobForTest')).deploy(keep3r.v2.address)\n",
    "    provider = await $.newSigner();\n",
    "    weth = await $.fetch('ERC20ForTest', constants.WETH_ADDRESS)\n",
    "    uniV3Pool = await $.fetch('IUniswapV3Pool', constants.UNISWAP_V3_ORACLE_POOL )\n",
    "});"
   ]
  },
  {
   "cell_type": "code",
   "execution_count": 3,
   "id": "f0acd0de-35ca-4af7-99f8-8adfd6479006",
   "metadata": {},
   "outputs": [],
   "source": [
    "next(async()=>{   \n",
    "    tickTime = $.time(5,'days')\n",
    "    uniResponse = await uniV3Pool.observe([0,tickTime])\n",
    "    poolLiquidity = await uniV3Pool.liquidity()\n",
    "    \n",
    "    quote = 1.0001**(((uniResponse[0][1]).sub(uniResponse[0][0])).div(tickTime))\n",
    "    \n",
    "    console.log('previous liquidity', bnToNumber(poolLiquidity))\n",
    "    console.log('previous tickQuote', 1/quote)\n",
    "})"
   ]
  },
  {
   "cell_type": "code",
   "execution_count": 4,
   "id": "6be80263-8ff2-4a74-b8cc-56296db29b77",
   "metadata": {
    "tags": []
   },
   "outputs": [],
   "source": [
    "next(async()=>{\n",
    "    // mints 100 KP3R and 100 WETH to provider and approves spendings\n",
    "    await keep3r.proxy.connect(keep3r.governance)['mint(address,uint256)'](provider.address, oneHundred)\n",
    "    await keep3r.v1.connect(provider).approve(keep3r.pool.address, oneHundred)\n",
    "    await weth.connect(provider).deposit(oneHundred, {value:oneHundred})\n",
    "    await weth.connect(provider).approve(keep3r.pool.address, oneHundred)\n",
    "    \n",
    "    kp3rInitialBalance = await keep3r.v1.balanceOf(provider.address)\n",
    "    wethInitialBalance = await weth.balanceOf(provider.address)\n",
    "\n",
    "    // MINT\n",
    "    liquidity = await keep3r.pool.connect(provider).callStatic.mint(oneHundred,oneHundred,0,0,provider.address)\n",
    "    await keep3r.pool.connect(provider).mint(oneHundred,oneHundred,0,0,provider.address)\n",
    "    \n",
    "    kp3rBalance = await keep3r.v1.balanceOf(provider.address)\n",
    "    wethBalance = await weth.balanceOf(provider.address)\n",
    "    klpBalance = await keep3r.pool.balanceOf(provider.address)\n",
    "    console.log('KP3R spent', bnToNumber(kp3rInitialBalance.sub(kp3rBalance)))\n",
    "    console.log('WETH spent', bnToNumber(wethInitialBalance.sub(wethBalance)))\n",
    "    console.log('kLP minted', bnToNumber(klpBalance))\n",
    "})"
   ]
  },
  {
   "cell_type": "code",
   "execution_count": 5,
   "id": "0bf38230-dd05-4573-b65b-ee8da74e9684",
   "metadata": {},
   "outputs": [],
   "source": [
    "next(async()=>{    \n",
    "    await keep3r.v2.connect(provider).addJob(job.address)\n",
    "    await keep3r.pool.connect(provider).approve(keep3r.v2.address, klpBalance)\n",
    "    await keep3r.v2.connect(provider).addLiquidityToJob(job.address, keep3r.pool.address, klpBalance)\n",
    "})"
   ]
  },
  {
   "cell_type": "code",
   "execution_count": 6,
   "id": "a1fab67d-db2f-4c4d-b942-0a5f338653c4",
   "metadata": {},
   "outputs": [],
   "source": [
    "next(async()=>{\n",
    "    snap = await snapshots.takeSnapshot()\n",
    "    console.log('totalJobCredits', (await keep3r.v2.totalJobCredits(job.address)).toString())\n",
    "    console.log('jobPeriodCredits', (await keep3r.v2.jobPeriodCredits(job.address)).toString())\n",
    "    console.log('jobLiquidityCredits', (await keep3r.v2.jobLiquidityCredits(job.address)).toString())\n",
    "})"
   ]
  },
  {
   "cell_type": "code",
   "execution_count": 7,
   "id": "4b3e03f5-e61b-4320-8b18-807679ff173f",
   "metadata": {},
   "outputs": [],
   "source": [
    "// next(async()=>{\n",
    "//     await snapshots.revertSnapshot(snap)\n",
    "//     $.resetRecording()\n",
    "//     $.resetTraces()\n",
    "// })"
   ]
  },
  {
   "cell_type": "code",
   "execution_count": 8,
   "id": "c81180f9-9b85-47b7-a453-746840915c5d",
   "metadata": {},
   "outputs": [],
   "source": [
    "next(async() =>{\n",
    "    $.addViewTrace(keep3r.v2, 'jobLiquidityCredits', job.address)\n",
    "    $.addViewTrace(keep3r.v2, 'totalJobCredits', job.address)\n",
    "    $.addViewTrace(keep3r.v2, 'jobPeriodCredits', job.address) \n",
    "    $.addEventTrace(keep3r.v2.web3, 'LiquidityCreditsReward')\n",
    "    $.addEventTrace(keep3r.v2.web3, 'LiquidityAddition')\n",
    "    $.addEventTrace(keep3r.v2.web3, 'KeeperWork')\n",
    "    $.setPeriodTrace(432000)\n",
    "})"
   ]
  },
  {
   "cell_type": "code",
   "execution_count": 19,
   "id": "fefb80e6-32e1-4732-83a8-3b7c4482dca7",
   "metadata": {},
   "outputs": [],
   "source": [
    "next(async()=>{\n",
    "    // wait one hour for the job to mint credits\n",
    "    advanceTimeAndBlock(3600)\n",
    "    tx = await job.connect(keep3r.keeper).workHard(20)\n",
    "    wait = await tx.wait()\n",
    "    console.log(await keep3r.v2.bonds(keep3r.keeper.address, keep3r.v1.address))\n",
    "  //  await $.sleepAndRecord($.time(5,'days'),$.time(12,'hours'))\n",
    "})"
   ]
  },
  {
   "cell_type": "code",
   "execution_count": 20,
   "id": "4f394995-1e7c-4841-835f-5cd22afddddd",
   "metadata": {},
   "outputs": [
    {
     "name": "stdout",
     "output_type": "stream",
     "text": [
      "BigNumber { _hex: '0x274d71c87ed097b4', _isBigNumber: true }\n"
     ]
    },
    {
     "data": {
      "text/html": [
       "<div class='plotly-plot'><div id='notebook-plot-1633137813542'></div><script>function plot(){Plotly.plot('notebook-plot-1633137813542',[{\"x\":[\"2021-09-23 19:09:11\",\"2021-09-23 23:09:11\",\"2021-09-24 03:09:11\",\"2021-09-24 07:09:11\",\"2021-09-24 11:09:11\",\"2021-09-24 15:09:12\",\"2021-09-24 19:09:12\",\"2021-09-24 23:09:12\",\"2021-09-25 03:09:12\",\"2021-09-25 07:09:12\",\"2021-09-25 11:09:12\",\"2021-09-25 15:09:12\",\"2021-09-25 19:09:12\",\"2021-09-25 23:09:12\",\"2021-09-26 03:09:12\",\"2021-09-26 07:09:12\",\"2021-09-26 11:09:12\",\"2021-09-26 15:09:12\",\"2021-09-26 19:09:12\",\"2021-09-26 23:09:12\",\"2021-09-27 03:09:13\",\"2021-09-27 07:09:13\",\"2021-09-27 11:09:13\",\"2021-09-27 15:09:13\",\"2021-09-27 19:09:13\",\"2021-09-27 23:09:13\",\"2021-09-28 03:09:13\",\"2021-09-28 07:09:13\",\"2021-09-28 11:09:13\",\"2021-09-28 15:09:13\",\"2021-09-28 19:09:13\",\"2021-09-28 22:09:26\",\"2021-09-29 02:09:27\",\"2021-09-29 06:09:27\",\"2021-09-29 10:09:27\",\"2021-09-29 14:09:27\",\"2021-09-29 18:09:27\",\"2021-09-29 22:09:27\",\"2021-09-30 02:09:28\",\"2021-09-30 06:09:28\",\"2021-09-30 10:09:28\",\"2021-09-30 14:09:28\",\"2021-09-30 18:09:28\",\"2021-09-30 22:09:28\",\"2021-10-01 02:09:28\",\"2021-10-01 06:09:28\",\"2021-10-01 10:09:28\",\"2021-10-01 14:09:28\",\"2021-10-01 18:09:28\",\"2021-10-01 22:09:28\",\"2021-10-02 02:09:29\",\"2021-10-02 06:09:29\",\"2021-10-02 10:09:29\",\"2021-10-02 14:09:29\",\"2021-10-02 18:09:29\",\"2021-10-02 22:09:29\",\"2021-10-03 02:09:29\",\"2021-10-03 06:09:29\",\"2021-10-03 10:09:29\",\"2021-10-03 14:09:29\",\"2021-10-03 18:09:29\",\"2021-10-03 22:09:29\",\"2021-10-03 23:09:50\",\"2021-10-04 03:10:00\",\"2021-10-04 07:10:00\",\"2021-10-04 11:10:01\",\"2021-10-04 15:10:01\",\"2021-10-04 19:10:01\",\"2021-10-04 23:10:01\",\"2021-10-04 23:10:01\",\"2021-10-05 03:10:03\",\"2021-10-05 07:10:03\",\"2021-10-05 11:10:03\",\"2021-10-05 15:10:03\",\"2021-10-05 19:10:03\",\"2021-10-05 23:10:04\",\"2021-10-06 00:10:09\",\"2021-10-06 04:10:15\",\"2021-10-06 08:10:15\",\"2021-10-06 12:10:15\",\"2021-10-06 16:10:15\",\"2021-10-06 20:10:15\",\"2021-10-07 00:10:15\"],\"y\":[13.9,13.9,13.9,13.9,13.9,13.9,13.9,13.9,14.66,14.66,14.66,14.66,14.66,14.66,14.66,14.66,14.66,14.66,14.66,14.66,14.66,14.66,14.66,14.66,14.66,14.66,14.66,14.66,14.66,14.66,14.66,14.66,14.66,14.66,14.66,14.66,14.66,14.66,14.7,14.7,14.7,14.7,14.7,14.7,14.7,14.7,14.7,14.7,14.7,14.7,14.7,14.7,14.7,14.7,14.7,14.7,14.7,14.7,14.7,14.7,14.7,14.7,14.7,14.7,14.7,14.7,14.7,14.7,14.7,14.7,14.7,14.7,14.7,14.7,14.7,14.7,14.7,14.7,14.7,14.7,14.7,14.7,14.7]},{\"x\":[\"2021-09-23 19:09:11\",\"2021-09-23 23:09:11\",\"2021-09-24 03:09:11\",\"2021-09-24 07:09:11\",\"2021-09-24 11:09:11\",\"2021-09-24 15:09:12\",\"2021-09-24 19:09:12\",\"2021-09-24 23:09:12\",\"2021-09-25 03:09:12\",\"2021-09-25 07:09:12\",\"2021-09-25 11:09:12\",\"2021-09-25 15:09:12\",\"2021-09-25 19:09:12\",\"2021-09-25 23:09:12\",\"2021-09-26 03:09:12\",\"2021-09-26 07:09:12\",\"2021-09-26 11:09:12\",\"2021-09-26 15:09:12\",\"2021-09-26 19:09:12\",\"2021-09-26 23:09:12\",\"2021-09-27 03:09:13\",\"2021-09-27 07:09:13\",\"2021-09-27 11:09:13\",\"2021-09-27 15:09:13\",\"2021-09-27 19:09:13\",\"2021-09-27 23:09:13\",\"2021-09-28 03:09:13\",\"2021-09-28 07:09:13\",\"2021-09-28 11:09:13\",\"2021-09-28 15:09:13\",\"2021-09-28 19:09:13\",\"2021-09-28 22:09:26\",\"2021-09-29 02:09:27\",\"2021-09-29 06:09:27\",\"2021-09-29 10:09:27\",\"2021-09-29 14:09:27\",\"2021-09-29 18:09:27\",\"2021-09-29 22:09:27\",\"2021-09-30 02:09:28\",\"2021-09-30 06:09:28\",\"2021-09-30 10:09:28\",\"2021-09-30 14:09:28\",\"2021-09-30 18:09:28\",\"2021-09-30 22:09:28\",\"2021-10-01 02:09:28\",\"2021-10-01 06:09:28\",\"2021-10-01 10:09:28\",\"2021-10-01 14:09:28\",\"2021-10-01 18:09:28\",\"2021-10-01 22:09:28\",\"2021-10-02 02:09:29\",\"2021-10-02 06:09:29\",\"2021-10-02 10:09:29\",\"2021-10-02 14:09:29\",\"2021-10-02 18:09:29\",\"2021-10-02 22:09:29\",\"2021-10-03 02:09:29\",\"2021-10-03 06:09:29\",\"2021-10-03 10:09:29\",\"2021-10-03 14:09:29\",\"2021-10-03 18:09:29\",\"2021-10-03 22:09:29\",\"2021-10-03 23:09:50\",\"2021-10-04 03:10:00\",\"2021-10-04 07:10:00\",\"2021-10-04 11:10:01\",\"2021-10-04 15:10:01\",\"2021-10-04 19:10:01\",\"2021-10-04 23:10:01\",\"2021-10-04 23:10:01\",\"2021-10-05 03:10:03\",\"2021-10-05 07:10:03\",\"2021-10-05 11:10:03\",\"2021-10-05 15:10:03\",\"2021-10-05 19:10:03\",\"2021-10-05 23:10:04\",\"2021-10-06 00:10:09\",\"2021-10-06 04:10:15\",\"2021-10-06 08:10:15\",\"2021-10-06 12:10:15\",\"2021-10-06 16:10:15\",\"2021-10-06 20:10:15\",\"2021-10-07 00:10:15\"],\"y\":[0.03,0.49,0.96,1.42,1.88,2.35,2.81,3.27,3.94,4.43,4.92,5.41,5.9,6.39,6.88,7.37,7.85,8.34,8.83,9.32,9.81,10.3,10.79,11.28,11.77,12.25,12.74,13.23,13.72,14.21,14.66,14.79,15.28,15.77,16.26,16.75,17.23,17.72,18.26,18.75,19.24,19.73,20.22,20.71,21.2,21.69,22.18,22.67,23.16,23.65,24.14,24.63,25.12,25.61,26.1,26.59,27.08,27.57,28.06,28.55,29.04,15.07,14.35,14.84,15.33,15.82,16.31,16.8,17.29,17.29,17.78,18.27,18.76,19.25,19.74,20.23,18.69,19.18,19.67,20.16,20.65,21.14,21.63]},{\"x\":[\"2021-09-25 02:00:00\",\"2021-09-30 02:00:00\",\"2021-10-05 02:00:00\"],\"y\":[0,0,0],\"name\":\"Period\",\"mode\":\"markers\",\"marker\":{\"symbol\":\"line-ns-open\",\"size\":12,\"color\":\"rgb(0, 0, 0)\"}},{\"x\":[\"2021-09-23 19:09:11\",\"2021-09-23 23:09:11\",\"2021-09-24 03:09:11\",\"2021-09-24 07:09:11\",\"2021-09-24 11:09:11\",\"2021-09-24 15:09:12\",\"2021-09-24 19:09:12\",\"2021-09-24 23:09:12\",\"2021-09-25 03:09:12\",\"2021-09-25 07:09:12\",\"2021-09-25 11:09:12\",\"2021-09-25 15:09:12\",\"2021-09-25 19:09:12\",\"2021-09-25 23:09:12\",\"2021-09-26 03:09:12\",\"2021-09-26 07:09:12\",\"2021-09-26 11:09:12\",\"2021-09-26 15:09:12\",\"2021-09-26 19:09:12\",\"2021-09-26 23:09:12\",\"2021-09-27 03:09:13\",\"2021-09-27 07:09:13\",\"2021-09-27 11:09:13\",\"2021-09-27 15:09:13\",\"2021-09-27 19:09:13\",\"2021-09-27 23:09:13\",\"2021-09-28 03:09:13\",\"2021-09-28 07:09:13\",\"2021-09-28 11:09:13\",\"2021-09-28 15:09:13\",\"2021-09-28 19:09:13\",\"2021-09-28 22:09:26\",\"2021-09-29 02:09:27\",\"2021-09-29 06:09:27\",\"2021-09-29 10:09:27\",\"2021-09-29 14:09:27\",\"2021-09-29 18:09:27\",\"2021-09-29 22:09:27\",\"2021-09-30 02:09:28\",\"2021-09-30 06:09:28\",\"2021-09-30 10:09:28\",\"2021-09-30 14:09:28\",\"2021-09-30 18:09:28\",\"2021-09-30 22:09:28\",\"2021-10-01 02:09:28\",\"2021-10-01 06:09:28\",\"2021-10-01 10:09:28\",\"2021-10-01 14:09:28\",\"2021-10-01 18:09:28\",\"2021-10-01 22:09:28\",\"2021-10-02 02:09:29\",\"2021-10-02 06:09:29\",\"2021-10-02 10:09:29\",\"2021-10-02 14:09:29\",\"2021-10-02 18:09:29\",\"2021-10-02 22:09:29\",\"2021-10-03 02:09:29\",\"2021-10-03 06:09:29\",\"2021-10-03 10:09:29\",\"2021-10-03 14:09:29\",\"2021-10-03 18:09:29\",\"2021-10-03 22:09:29\",\"2021-10-03 23:09:50\",\"2021-10-04 03:10:00\",\"2021-10-04 07:10:00\",\"2021-10-04 11:10:01\",\"2021-10-04 15:10:01\",\"2021-10-04 19:10:01\",\"2021-10-04 23:10:01\",\"2021-10-04 23:10:01\",\"2021-10-05 03:10:03\",\"2021-10-05 07:10:03\",\"2021-10-05 11:10:03\",\"2021-10-05 15:10:03\",\"2021-10-05 19:10:03\",\"2021-10-05 23:10:04\",\"2021-10-06 00:10:09\",\"2021-10-06 04:10:15\",\"2021-10-06 08:10:15\",\"2021-10-06 12:10:15\",\"2021-10-06 16:10:15\",\"2021-10-06 20:10:15\",\"2021-10-07 00:10:15\"],\"y\":[0.03,0.03,0.03,0.03,0.03,0.03,0.03,0.03,0.03,0.03,0.03,0.03,0.03,0.03,0.03,0.03,0.03,0.03,0.03,0.03,0.03,0.03,0.03,0.03,0.03,0.03,0.03,0.03,0.03,0.03,14.66,14.42,14.42,14.42,14.42,14.42,14.42,14.42,14.46,14.46,14.46,14.46,14.46,14.46,14.46,14.46,14.46,14.46,14.46,14.46,14.46,14.46,14.46,14.46,14.46,14.46,14.46,14.46,14.46,14.46,14.46,14.7,13.86,13.86,13.86,13.86,13.86,13.86,13.86,13.86,13.86,13.86,13.86,13.86,13.86,13.86,12.19,12.19,12.19,12.19,12.19,12.19,12.19]}],{});}if(window.Plotly){plot();}else if(!window.require){var head = document.head || document.getElementsByTagName('head')[0];var s = document.createElement('script');s.src = 'https://cdn.plot.ly/plotly-latest.min.js';s.type = 'text/javascript';s.async = false;s.onreadystatechange = s.onload = plot;head.appendChild(s);}else{require(['/notebooks/node_modules/plotly-notebook-js/build/plotly.min.js'], function(Plotly){window.Plotly = Plotly;plot();});}</script></div>"
      ]
     },
     "execution_count": 20,
     "metadata": {},
     "output_type": "execute_result"
    }
   ],
   "source": [
    "next(async()=>{\n",
    "    await $.sleepAndRecord($.time(1,'days'),$.time(4,'hours'))\n",
    "    await $.draw()\n",
    "})"
   ]
  },
  {
   "cell_type": "code",
   "execution_count": null,
   "id": "906d7dec-57b8-48c2-8c7d-906f7b72040f",
   "metadata": {},
   "outputs": [],
   "source": []
  }
 ],
 "metadata": {
  "kernelspec": {
   "display_name": "Javascript (Node.js)",
   "language": "javascript",
   "name": "javascript"
  },
  "language_info": {
   "file_extension": ".js",
   "mimetype": "application/javascript",
   "name": "javascript",
   "version": "16.8.0"
  }
 },
 "nbformat": 4,
 "nbformat_minor": 5
}
