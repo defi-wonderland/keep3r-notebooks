{
 "cells": [
  {
   "cell_type": "code",
   "execution_count": 1,
   "id": "ad598979-d080-43bb-bcc0-4e69e0db17e4",
   "metadata": {
    "tags": []
   },
   "outputs": [],
   "source": [
    "var moment = require('moment')\n",
    "var { constants } = require('../utils')\n",
    "var { advanceTimeAndBlock } = require('../utils/evm')\n",
    "var { evm } = require('../utils');\n",
    "var { toUnit } = require('../utils/bn')\n",
    "var { getLatestBlockTimestamp, getBlockTimestamp } = require('../utils/evm')\n",
    "var { next, clear, bnToNumber } = require('../utils/jupyter')\n",
    "var { Notebook } = require('../utils/notebook')\n",
    "var { Keep3r } = require('../utils/common')\n",
    "var { ethers } = require('hardhat')\n",
    "\n",
    "oneHundred = toUnit(100)\n",
    "\n",
    "var $ = new Notebook();\n",
    "var keep3r = new Keep3r();\n",
    "//var snapshots = new evm.SnapshotManager()\n",
    "\n",
    "clear();"
   ]
  },
  {
   "cell_type": "code",
   "execution_count": 2,
   "id": "d42a7ee8-0eea-4c47-983e-ddf5a9cc9bf6",
   "metadata": {},
   "outputs": [
    {
     "name": "stderr",
     "output_type": "stream",
     "text": [
      "Error: Transaction reverted: trying to deploy a contract whose code is too large\n",
      "    at Keep3r.constructor (solidity/contracts/Keep3r.sol:12)\n",
      "    at EthModule._estimateGasAction (/Users/levihernan/wonder/keep3r/notebooks/node_modules/hardhat/src/internal/hardhat-network/provider/modules/eth.ts:421:9)\n",
      "    at HardhatNetworkProvider.request (/Users/levihernan/wonder/keep3r/notebooks/node_modules/hardhat/src/internal/hardhat-network/provider/provider.ts:105:18)\n",
      "    at EthersProviderWrapper.send (/Users/levihernan/wonder/keep3r/notebooks/node_modules/@nomiclabs/hardhat-ethers/src/internal/ethers-provider-wrapper.ts:13:20)\n"
     ]
    }
   ],
   "source": [
    "next(async () => {\n",
    "    await $.setup(constants.FORK_BLOCK_NUMBER);\n",
    "    await keep3r.setup();\n",
    "    \n",
    "    job = await(await ethers.getContractFactory('JobForTest')).deploy(keep3r.v2.address)\n",
    "    provider = await $.newSigner();\n",
    "    weth = await $.fetch('ERC20ForTest', constants.WETH_ADDRESS)\n",
    "    uniV3Pool = await $.fetch('IUniswapV3Pool', constants.UNISWAP_V3_ORACLE_POOL )\n",
    "});"
   ]
  },
  {
   "cell_type": "code",
   "execution_count": 3,
   "id": "f0acd0de-35ca-4af7-99f8-8adfd6479006",
   "metadata": {},
   "outputs": [
    {
     "name": "stderr",
     "output_type": "stream",
     "text": [
      "TransactionExecutionError: Transaction ran out of gas\n",
      "    at HardhatNode._manageErrors (/Users/levihernan/wonder/keep3r/notebooks/node_modules/hardhat/internal/hardhat-network/provider/node.js:870:20)\n",
      "    at HardhatNode.estimateGas (/Users/levihernan/wonder/keep3r/notebooks/node_modules/hardhat/internal/hardhat-network/provider/node.js:297:35)\n",
      "    at async EthModule._estimateGasAction (/Users/levihernan/wonder/keep3r/notebooks/node_modules/hardhat/internal/hardhat-network/provider/modules/eth.js:225:67)\n",
      "    at async HardhatNetworkProvider.request (/Users/levihernan/wonder/keep3r/notebooks/node_modules/hardhat/internal/hardhat-network/provider/provider.js:71:26)\n",
      "    at async EthersProviderWrapper.send (/Users/levihernan/wonder/keep3r/notebooks/node_modules/@nomiclabs/hardhat-ethers/dist/src/internal/ethers-provider-wrapper.js:11:24)\n",
      "TransactionExecutionError: Transaction ran out of gas\n",
      "    at HardhatNode._manageErrors (/Users/levihernan/wonder/keep3r/notebooks/node_modules/hardhat/internal/hardhat-network/provider/node.js:870:20)\n",
      "    at HardhatNode.estimateGas (/Users/levihernan/wonder/keep3r/notebooks/node_modules/hardhat/internal/hardhat-network/provider/node.js:297:35)\n",
      "    at async EthModule._estimateGasAction (/Users/levihernan/wonder/keep3r/notebooks/node_modules/hardhat/internal/hardhat-network/provider/modules/eth.js:225:67)\n",
      "    at async HardhatNetworkProvider.request (/Users/levihernan/wonder/keep3r/notebooks/node_modules/hardhat/internal/hardhat-network/provider/provider.js:71:26)\n",
      "    at async EthersProviderWrapper.send (/Users/levihernan/wonder/keep3r/notebooks/node_modules/@nomiclabs/hardhat-ethers/dist/src/internal/ethers-provider-wrapper.js:11:24)\n"
     ]
    }
   ],
   "source": [
    "next(async()=>{   \n",
    "    tickTime = $.time(5,'days')\n",
    "    uniResponse = await uniV3Pool.observe([0,tickTime])\n",
    "    poolLiquidity = await uniV3Pool.liquidity()\n",
    "    \n",
    "    quote = 1.0001**(((uniResponse[0][1]).sub(uniResponse[0][0])).div(tickTime))\n",
    "    \n",
    "    console.log('previous liquidity', bnToNumber(poolLiquidity))\n",
    "    console.log('previous tickQuote', 1/quote)\n",
    "})"
   ]
  },
  {
   "cell_type": "code",
   "execution_count": 4,
   "id": "6be80263-8ff2-4a74-b8cc-56296db29b77",
   "metadata": {
    "tags": []
   },
   "outputs": [
    {
     "name": "stderr",
     "output_type": "stream",
     "text": [
      "TypeError: Cannot read property 'connect' of undefined\n",
      "    at evalmachine.<anonymous>:3:24\n",
      "    at next (/Users/levihernan/wonder/keep3r/notebooks/utils/jupyter.js:3:53)\n",
      "    at evalmachine.<anonymous>:1:1\n",
      "    at Script.runInThisContext (node:vm:129:12)\n",
      "    at Object.runInThisContext (node:vm:305:38)\n",
      "    at run ([eval]:1054:15)\n",
      "    at onRunRequest ([eval]:888:18)\n",
      "    at onMessage ([eval]:848:13)\n",
      "    at process.emit (node:events:394:28)\n",
      "    at emit (node:internal/child_process:917:12)\n"
     ]
    }
   ],
   "source": [
    "next(async()=>{\n",
    "    // mints 100 KP3R and 100 WETH to provider and approves spendings\n",
    "    await keep3r.proxy.connect(keep3r.governance)['mint(address,uint256)'](provider.address, oneHundred)\n",
    "    await keep3r.v1.connect(provider).approve(keep3r.pool.address, oneHundred)\n",
    "    await weth.connect(provider).deposit(oneHundred, {value:oneHundred})\n",
    "    await weth.connect(provider).approve(keep3r.pool.address, oneHundred)\n",
    "    \n",
    "    kp3rInitialBalance = await keep3r.v1.balanceOf(provider.address)\n",
    "    wethInitialBalance = await weth.balanceOf(provider.address)\n",
    "\n",
    "    // MINT\n",
    "    liquidity = await keep3r.pool.connect(provider).callStatic.mint(oneHundred,oneHundred,0,0,provider.address)\n",
    "    await keep3r.pool.connect(provider).mint(oneHundred,oneHundred,0,0,provider.address)\n",
    "    \n",
    "    kp3rBalance = await keep3r.v1.balanceOf(provider.address)\n",
    "    wethBalance = await weth.balanceOf(provider.address)\n",
    "    klpBalance = await keep3r.pool.balanceOf(provider.address)\n",
    "    console.log('KP3R spent', bnToNumber(kp3rInitialBalance.sub(kp3rBalance)))\n",
    "    console.log('WETH spent', bnToNumber(wethInitialBalance.sub(wethBalance)))\n",
    "    console.log('kLP minted', bnToNumber(klpBalance))\n",
    "})"
   ]
  },
  {
   "cell_type": "code",
   "execution_count": 44,
   "id": "fbb6644e-6b4b-4371-84cd-4ae12c0b60c6",
   "metadata": {},
   "outputs": [
    {
     "data": {
      "text/plain": [
       "18.346788208977543"
      ]
     },
     "execution_count": 44,
     "metadata": {},
     "output_type": "execute_result"
    }
   ],
   "source": [
    "quote"
   ]
  },
  {
   "cell_type": "code",
   "execution_count": 48,
   "id": "b640c7fa-9f1d-4c03-b89e-78b3756bdb04",
   "metadata": {},
   "outputs": [
    {
     "data": {
      "text/plain": [
       "23.34640290661574"
      ]
     },
     "execution_count": 48,
     "metadata": {},
     "output_type": "execute_result"
    }
   ],
   "source": [
    "(oneHundred / (quote)**0.5)/10**18"
   ]
  },
  {
   "cell_type": "code",
   "execution_count": 51,
   "id": "6886a7cf-769b-4a5d-a3ef-6d851d5a01f4",
   "metadata": {},
   "outputs": [
    {
     "data": {
      "text/plain": [
       "23.347387814808986"
      ]
     },
     "execution_count": 51,
     "metadata": {},
     "output_type": "execute_result"
    }
   ],
   "source": [
    "0x01440295848ef91d29/10**18"
   ]
  },
  {
   "cell_type": "code",
   "execution_count": null,
   "id": "26ea1065-3702-402f-b703-8f5f6c226157",
   "metadata": {},
   "outputs": [],
   "source": []
  },
  {
   "cell_type": "code",
   "execution_count": 39,
   "id": "b27a727b-afec-440b-b8c3-f6f77bad575b",
   "metadata": {},
   "outputs": [
    {
     "data": {
      "text/plain": [
       "23.570226039551585"
      ]
     },
     "execution_count": 39,
     "metadata": {},
     "output_type": "execute_result"
    }
   ],
   "source": [
    "100/(18)**(0.5)"
   ]
  },
  {
   "cell_type": "code",
   "execution_count": null,
   "id": "105e3727-171e-485f-ac2d-931e8baf5bfa",
   "metadata": {},
   "outputs": [],
   "source": []
  },
  {
   "cell_type": "code",
   "execution_count": 8,
   "id": "4a395683-0e3b-4bc1-a2fe-81316c0d2107",
   "metadata": {},
   "outputs": [
    {
     "ename": "TypeError",
     "evalue": "keep3r.pool.slot0 is not a function",
     "execution_count": 8,
     "output_type": "error",
     "traceback": [
      "evalmachine.<anonymous>:1",
      "keep3r.pool.slot0()",
      "            ^",
      "",
      "TypeError: keep3r.pool.slot0 is not a function",
      "    at evalmachine.<anonymous>:1:13",
      "    at Script.runInThisContext (node:vm:129:12)",
      "    at Object.runInThisContext (node:vm:305:38)",
      "    at run ([eval]:1054:15)",
      "    at onRunRequest ([eval]:888:18)",
      "    at onMessage ([eval]:848:13)",
      "    at process.emit (node:events:394:28)",
      "    at emit (node:internal/child_process:917:12)",
      "    at processTicksAndRejections (node:internal/process/task_queues:84:21)"
     ]
    }
   ],
   "source": [
    "keep3r.pool.slot0()"
   ]
  },
  {
   "cell_type": "code",
   "execution_count": 6,
   "id": "7cb9b699-b235-43e8-a183-34abb6bcae40",
   "metadata": {},
   "outputs": [
    {
     "data": {
      "text/plain": [
       "'0xd47863c2d017c4628bf92851402add49493602bb37103452aae69ce6b7a1563a'"
      ]
     },
     "execution_count": 6,
     "metadata": {},
     "output_type": "execute_result"
    }
   ],
   "source": [
    "keep3r.pool.callStatic.viewPosition()"
   ]
  },
  {
   "cell_type": "code",
   "execution_count": 10,
   "id": "6ac2bc7f-95b6-4756-9c82-7110218702ac",
   "metadata": {},
   "outputs": [
    {
     "data": {
      "text/plain": [
       "[\n",
       "  BigNumber { _hex: '0x3bc4f1af1dc82080f71fa9f5', _isBigNumber: true },\n",
       "  -29096,\n",
       "  0,\n",
       "  1,\n",
       "  1,\n",
       "  0,\n",
       "  true,\n",
       "  sqrtPriceX96: BigNumber { _hex: '0x3bc4f1af1dc82080f71fa9f5', _isBigNumber: true },\n",
       "  tick: -29096,\n",
       "  observationIndex: 0,\n",
       "  observationCardinality: 1,\n",
       "  observationCardinalityNext: 1,\n",
       "  feeProtocol: 0,\n",
       "  unlocked: true\n",
       "]"
      ]
     },
     "execution_count": 10,
     "metadata": {},
     "output_type": "execute_result"
    }
   ],
   "source": [
    "uniV3Pool.slot0()"
   ]
  },
  {
   "cell_type": "code",
   "execution_count": 7,
   "id": "f752baa9-f196-4362-a77f-ef9bb02a5cdc",
   "metadata": {},
   "outputs": [
    {
     "ename": "Error",
     "evalue": "Transaction reverted without a reason string",
     "execution_count": 7,
     "output_type": "error",
     "traceback": [
      "Error: Transaction reverted without a reason string",
      "    at <UnrecognizedContract>.<unknown> (0x9d4454b023096f34b160d6b654540c56a1f81688)",
      "    at processTicksAndRejections (node:internal/process/task_queues:96:5)",
      "    at runNextTicks (node:internal/process/task_queues:65:3)",
      "    at listOnTimeout (node:internal/timers:526:9)",
      "    at processTimers (node:internal/timers:500:7)",
      "    at HardhatNode.runCall (/Users/levihernan/wonder/keep3r/notebooks/node_modules/hardhat/src/internal/hardhat-network/provider/node.ts:427:20)",
      "    at EthModule._callAction (/Users/levihernan/wonder/keep3r/notebooks/node_modules/hardhat/src/internal/hardhat-network/provider/modules/eth.ts:345:9)",
      "    at HardhatNetworkProvider.request (/Users/levihernan/wonder/keep3r/notebooks/node_modules/hardhat/src/internal/hardhat-network/provider/provider.ts:105:18)",
      "    at EthersProviderWrapper.send (/Users/levihernan/wonder/keep3r/notebooks/node_modules/@nomiclabs/hardhat-ethers/src/internal/ethers-provider-wrapper.ts:13:20)"
     ]
    }
   ],
   "source": [
    "keep3r.pool.principal(10)"
   ]
  },
  {
   "cell_type": "code",
   "execution_count": 15,
   "id": "0129b9ba-3544-4c4a-aefb-159a0b4865aa",
   "metadata": {},
   "outputs": [
    {
     "data": {
      "text/plain": [
       "4"
      ]
     },
     "execution_count": 15,
     "metadata": {},
     "output_type": "execute_result"
    }
   ],
   "source": [
    "0x04"
   ]
  },
  {
   "cell_type": "code",
   "execution_count": 6,
   "id": "b4416563-33a1-4705-b8c0-d88c6550a8d7",
   "metadata": {},
   "outputs": [
    {
     "data": {
      "text/plain": [
       "[\n",
       "  BigNumber { _hex: '0x01440295848ef91d29', _isBigNumber: true },\n",
       "  BigNumber { _hex: '0x00', _isBigNumber: true },\n",
       "  BigNumber { _hex: '0x00', _isBigNumber: true },\n",
       "  BigNumber { _hex: '0x00', _isBigNumber: true },\n",
       "  BigNumber { _hex: '0x00', _isBigNumber: true },\n",
       "  _liquidity: BigNumber { _hex: '0x01440295848ef91d29', _isBigNumber: true },\n",
       "  feeGrowthInside0LastX128: BigNumber { _hex: '0x00', _isBigNumber: true },\n",
       "  feeGrowthInside1LastX128: BigNumber { _hex: '0x00', _isBigNumber: true },\n",
       "  tokensOwed0: BigNumber { _hex: '0x00', _isBigNumber: true },\n",
       "  tokensOwed1: BigNumber { _hex: '0x00', _isBigNumber: true }\n",
       "]"
      ]
     },
     "execution_count": 6,
     "metadata": {},
     "output_type": "execute_result"
    }
   ],
   "source": [
    "uniV3Pool.positions('0xd47863c2d017c4628bf92851402add49493602bb37103452aae69ce6b7a1563a')"
   ]
  },
  {
   "cell_type": "code",
   "execution_count": 6,
   "id": "bcee041f-4dab-4793-adb0-294e84d312f2",
   "metadata": {},
   "outputs": [],
   "source": [
    "next(async()=>{\n",
    "    /* Notice:\n",
    "        at current block, pools cardinality is 1\n",
    "        provider have just minted a position in the pool\n",
    "        latest twap accumulator is 1s ago\n",
    "        UniswapV3Pool will return 'OLD' and provide no credits\n",
    "    */ \n",
    "    await advanceTimeAndBlock(432000)\n",
    "})"
   ]
  },
  {
   "cell_type": "code",
   "execution_count": 8,
   "id": "c3f3530b-79f2-45eb-b100-6ba66147bd3c",
   "metadata": {},
   "outputs": [],
   "source": [
    "// Make a small swap\n",
    "next(async()=>{\n",
    "    uniRouter = await ethers.getContractAt('ISwapRouter','0xE592427A0AEce92De3Edee1F18E0157C05861564')\n",
    "    \n",
    "    await keep3r.proxy.connect(keep3r.governance)['mint(address,uint256)'](provider.address, toUnit(100))\n",
    "    await keep3r.v1.connect(provider).approve(uniRouter.address,toUnit(100))\n",
    "    \n",
    "    await uniRouter.connect(provider).exactInputSingle([\n",
    "                keep3r.v1.address,\n",
    "                '0xC02aaA39b223FE8D0A0e5C4F27eAD9083C756Cc2',\n",
    "                10000,\n",
    "                keep3r.v1.address,\n",
    "                1628713433+100000000,\n",
    "                toUnit(100),\n",
    "                toUnit(0.0001),\n",
    "                0])\n",
    "})"
   ]
  },
  {
   "cell_type": "code",
   "execution_count": null,
   "id": "15f29630-d391-4d02-8fd4-afd7bf22cac3",
   "metadata": {},
   "outputs": [],
   "source": []
  },
  {
   "cell_type": "code",
   "execution_count": 21,
   "id": "ea6738f6-157e-45d2-ab6f-2629b58c448f",
   "metadata": {},
   "outputs": [
    {
     "data": {
      "text/plain": [
       "BigNumber { _hex: '0x01440295848ef91d29', _isBigNumber: true }"
      ]
     },
     "execution_count": 21,
     "metadata": {},
     "output_type": "execute_result"
    }
   ],
   "source": [
    "uniV3Pool.liquidity()"
   ]
  },
  {
   "cell_type": "code",
   "execution_count": 22,
   "id": "2b128967-1c5d-4b50-a507-f53fe056822c",
   "metadata": {},
   "outputs": [
    {
     "data": {
      "text/plain": [
       "23.347387814808986"
      ]
     },
     "execution_count": 22,
     "metadata": {},
     "output_type": "execute_result"
    }
   ],
   "source": [
    "0x01440295848ef91d29/10**18"
   ]
  },
  {
   "cell_type": "code",
   "execution_count": null,
   "id": "3c1ccd0e-dffd-443a-9730-bc9a9ce27b54",
   "metadata": {},
   "outputs": [],
   "source": []
  },
  {
   "cell_type": "code",
   "execution_count": 9,
   "id": "0bf38230-dd05-4573-b65b-ee8da74e9684",
   "metadata": {},
   "outputs": [],
   "source": [
    "next(async()=>{    \n",
    "//     await keep3r.v2.connect(provider).addJob(job.address)\n",
    "    await keep3r.pool.connect(provider).approve(keep3r.v2.address, klpBalance)\n",
    "    await keep3r.v2.connect(provider).addLiquidityToJob(job.address, keep3r.pool.address, klpBalance)\n",
    "})"
   ]
  },
  {
   "cell_type": "code",
   "execution_count": 10,
   "id": "a1fab67d-db2f-4c4d-b942-0a5f338653c4",
   "metadata": {},
   "outputs": [
    {
     "name": "stdout",
     "output_type": "stream",
     "text": [
      "quoteLiquidity 62992585216367744469\n",
      "jobPeriodCredits 62992585216367744469\n",
      "jobLiquidityCredits 0\n"
     ]
    }
   ],
   "source": [
    "next(async()=>{\n",
    "    console.log('quoteLiquidity', (await keep3r.v2.quoteLiquidity(keep3r.pool.address,klpBalance)).toString())\n",
    "    console.log('jobPeriodCredits', (await keep3r.v2.jobPeriodCredits(job.address)).toString())\n",
    "    console.log('jobLiquidityCredits', (await keep3r.v2.jobLiquidityCredits(job.address)).toString())\n",
    "})"
   ]
  },
  {
   "cell_type": "code",
   "execution_count": 11,
   "id": "f99413cb-1011-4177-83a1-ba6d7e8d9dc7",
   "metadata": {},
   "outputs": [
    {
     "data": {
      "text/plain": [
       "62.99258521636775"
      ]
     },
     "execution_count": 11,
     "metadata": {},
     "output_type": "execute_result"
    }
   ],
   "source": [
    "62992585216367744469/10**18"
   ]
  },
  {
   "cell_type": "code",
   "execution_count": 12,
   "id": "5a50fda8-0551-4224-b929-a60c07d23dbf",
   "metadata": {},
   "outputs": [
    {
     "data": {
      "text/plain": [
       "14.705882352941176"
      ]
     },
     "execution_count": 12,
     "metadata": {},
     "output_type": "execute_result"
    }
   ],
   "source": [
    "100 * 5 / 34"
   ]
  },
  {
   "cell_type": "code",
   "execution_count": null,
   "id": "fefb80e6-32e1-4732-83a8-3b7c4482dca7",
   "metadata": {},
   "outputs": [],
   "source": []
  }
 ],
 "metadata": {
  "kernelspec": {
   "display_name": "Javascript (Node.js)",
   "language": "javascript",
   "name": "javascript"
  },
  "language_info": {
   "file_extension": ".js",
   "mimetype": "application/javascript",
   "name": "javascript",
   "version": "16.8.0"
  }
 },
 "nbformat": 4,
 "nbformat_minor": 5
}
