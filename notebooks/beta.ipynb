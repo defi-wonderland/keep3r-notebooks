{
 "cells": [
  {
   "cell_type": "code",
   "execution_count": 1,
   "id": "ad598979-d080-43bb-bcc0-4e69e0db17e4",
   "metadata": {
    "tags": []
   },
   "outputs": [],
   "source": [
    "var moment = require('moment')\n",
    "var { constants } = require('../utils')\n",
    "var { advanceTimeAndBlock } = require('../utils/evm')\n",
    "var { evm } = require('../utils');\n",
    "var { toUnit } = require('../utils/bn')\n",
    "var { getLatestBlockTimestamp, getBlockTimestamp } = require('../utils/evm')\n",
    "var { next, clear, bnToNumber } = require('../utils/jupyter')\n",
    "var { Notebook } = require('../utils/notebook')\n",
    "var { Keep3r } = require('../utils/common')\n",
    "var { ethers } = require('hardhat')\n",
    "\n",
    "oneHundred = toUnit(100)\n",
    "\n",
    "var $ = new Notebook();\n",
    "var keep3r = new Keep3r();\n",
    "var snapshots = new evm.SnapshotManager()\n",
    "\n",
    "clear();"
   ]
  },
  {
   "cell_type": "code",
   "execution_count": 2,
   "id": "d42a7ee8-0eea-4c47-983e-ddf5a9cc9bf6",
   "metadata": {},
   "outputs": [],
   "source": [
    "next(async () => {\n",
    "    await $.setup(constants.FORK_BLOCK_NUMBER);\n",
    "    await keep3r.setup();\n",
    "    \n",
    "    job = await(await ethers.getContractFactory('JobForTest')).deploy(keep3r.v2.address)\n",
    "    provider = await $.newSigner();\n",
    "    weth = await $.fetch('ERC20ForTest', constants.WETH_ADDRESS)\n",
    "    uniV3Pool = await $.fetch('IUniswapV3Pool', constants.UNISWAP_V3_ORACLE_POOL )\n",
    "});"
   ]
  },
  {
   "cell_type": "code",
   "execution_count": 3,
   "id": "f0acd0de-35ca-4af7-99f8-8adfd6479006",
   "metadata": {},
   "outputs": [
    {
     "name": "stdout",
     "output_type": "stream",
     "text": [
      "previous liquidity 0\n",
      "previous tickQuote 0.05450545286780358\n"
     ]
    }
   ],
   "source": [
    "next(async()=>{   \n",
    "    tickTime = $.time(5,'days')\n",
    "    uniResponse = await uniV3Pool.observe([0,tickTime])\n",
    "    poolLiquidity = await uniV3Pool.liquidity()\n",
    "    \n",
    "    quote = 1.0001**(((uniResponse[0][1]).sub(uniResponse[0][0])).div(tickTime))\n",
    "    \n",
    "    console.log('previous liquidity', bnToNumber(poolLiquidity))\n",
    "    console.log('previous tickQuote', 1/quote)\n",
    "})"
   ]
  },
  {
   "cell_type": "code",
   "execution_count": null,
   "id": "2cbffa17-cfee-4656-b3d4-d6cdd1ce0951",
   "metadata": {},
   "outputs": [],
   "source": []
  },
  {
   "cell_type": "code",
   "execution_count": 7,
   "id": "533be403-aa8a-4ae8-a011-db42f21ad55f",
   "metadata": {},
   "outputs": [
    {
     "data": {
      "text/plain": [
       "'0xd47863c2d017c4628bf92851402add49493602bb37103452aae69ce6b7a1563a'"
      ]
     },
     "execution_count": 7,
     "metadata": {},
     "output_type": "execute_result"
    }
   ],
   "source": [
    "keep3r.pool.callStatic.viewPosition()"
   ]
  },
  {
   "cell_type": "code",
   "execution_count": null,
   "id": "6f6c4ec4-3d0c-4d81-94d7-c3761da72c73",
   "metadata": {},
   "outputs": [],
   "source": [
    "uniV3Pool.positions(bytes32)"
   ]
  },
  {
   "cell_type": "code",
   "execution_count": 24,
   "id": "4b0df07c-04ac-4e7d-89e2-0806df0a593d",
   "metadata": {},
   "outputs": [
    {
     "data": {
      "text/plain": [
       "[\n",
       "  [\n",
       "    BigNumber { _hex: '-0x2f6c58c300', _isBigNumber: true },\n",
       "    BigNumber { _hex: '-0x2c7f25d700', _isBigNumber: true }\n",
       "  ],\n",
       "  [\n",
       "    BigNumber {\n",
       "      _hex: '0x366bda0000000000440d4be14467a5d97a7d7f',\n",
       "      _isBigNumber: true\n",
       "    },\n",
       "    BigNumber {\n",
       "      _hex: '0x366bda00000000003ed8012e25023b693a4c52',\n",
       "      _isBigNumber: true\n",
       "    }\n",
       "  ],\n",
       "  tickCumulatives: [\n",
       "    BigNumber { _hex: '-0x2f6c58c300', _isBigNumber: true },\n",
       "    BigNumber { _hex: '-0x2c7f25d700', _isBigNumber: true }\n",
       "  ],\n",
       "  secondsPerLiquidityCumulativeX128s: [\n",
       "    BigNumber {\n",
       "      _hex: '0x366bda0000000000440d4be14467a5d97a7d7f',\n",
       "      _isBigNumber: true\n",
       "    },\n",
       "    BigNumber {\n",
       "      _hex: '0x366bda00000000003ed8012e25023b693a4c52',\n",
       "      _isBigNumber: true\n",
       "    }\n",
       "  ]\n",
       "]"
      ]
     },
     "execution_count": 24,
     "metadata": {},
     "output_type": "execute_result"
    }
   ],
   "source": [
    "uniV3Pool.observe([0,tickTime])"
   ]
  },
  {
   "cell_type": "code",
   "execution_count": 25,
   "id": "4a85b46c-8e2f-4392-abde-989851a5c2a1",
   "metadata": {},
   "outputs": [
    {
     "data": {
      "text/plain": [
       "18.346788208977543"
      ]
     },
     "execution_count": 25,
     "metadata": {},
     "output_type": "execute_result"
    }
   ],
   "source": [
    "1.0001**((0x2f6c58c300-0x2c7f25d700)/432000)"
   ]
  },
  {
   "cell_type": "code",
   "execution_count": 7,
   "id": "1d8adb16-27d1-4162-996d-e5b6ea97c04e",
   "metadata": {},
   "outputs": [],
   "source": [
    "next(async()=>{\n",
    "    lib = await (await ethers.getContractFactory('LiquidityAmountsTest')).deploy()\n",
    "})"
   ]
  },
  {
   "cell_type": "code",
   "execution_count": null,
   "id": "eddfbd8b-b1d8-42ab-a9a3-359a500b8327",
   "metadata": {},
   "outputs": [],
   "source": [
    "lib.getAmountsForLiquidity(uint160,uint160,uint160,uint128)"
   ]
  },
  {
   "cell_type": "code",
   "execution_count": 21,
   "id": "1ea365e7-14ce-46d5-8c59-cfda41751bd9",
   "metadata": {},
   "outputs": [
    {
     "name": "stderr",
     "output_type": "stream",
     "text": [
      "Error: Transaction reverted without a reason string\n",
      "    at <UnrecognizedContract>.<unknown> (0x809d550fca64d94bd9f66e60752a544199cfac3d)\n",
      "    at processTicksAndRejections (node:internal/process/task_queues:96:5)\n",
      "    at runNextTicks (node:internal/process/task_queues:65:3)\n",
      "    at listOnTimeout (node:internal/timers:526:9)\n",
      "    at processTimers (node:internal/timers:500:7)\n",
      "    at HardhatNode.runCall (/Users/levihernan/wonder/keep3r/notebooks/node_modules/hardhat/src/internal/hardhat-network/provider/node.ts:427:20)\n",
      "    at EthModule._callAction (/Users/levihernan/wonder/keep3r/notebooks/node_modules/hardhat/src/internal/hardhat-network/provider/modules/eth.ts:345:9)\n",
      "    at HardhatNetworkProvider.request (/Users/levihernan/wonder/keep3r/notebooks/node_modules/hardhat/src/internal/hardhat-network/provider/provider.ts:105:18)\n",
      "    at EthersProviderWrapper.send (/Users/levihernan/wonder/keep3r/notebooks/node_modules/@nomiclabs/hardhat-ethers/src/internal/ethers-provider-wrapper.ts:13:20)\n"
     ]
    }
   ],
   "source": [
    "next(async()=>{\n",
    "upper = await lib.getSqrtRatioAtTick(887200)\n",
    "lower = await lib.getSqrtRatioAtTick(-887200)\n",
    "    console.log(await lib.getAmount0ForLiquidity(upper, lower,liquidity))\n",
    "})\n"
   ]
  },
  {
   "cell_type": "code",
   "execution_count": 22,
   "id": "4d6605a1-7e16-496f-97f3-898e915eabb9",
   "metadata": {},
   "outputs": [
    {
     "data": {
      "text/plain": [
       "'0x809d550fca64d94Bd9F66E60752A544199cfAC3D'"
      ]
     },
     "execution_count": 22,
     "metadata": {},
     "output_type": "execute_result"
    }
   ],
   "source": [
    "lib.address"
   ]
  },
  {
   "cell_type": "code",
   "execution_count": 42,
   "id": "ed8a9220-c680-421d-8ce2-fc747fd2a067",
   "metadata": {},
   "outputs": [
    {
     "data": {
      "text/plain": [
       "BigNumber { _hex: '0x01000000000000000000000000', _isBigNumber: true }"
      ]
     },
     "execution_count": 42,
     "metadata": {},
     "output_type": "execute_result"
    }
   ],
   "source": [
    "lib.getSqrtRatioAtTick(0)"
   ]
  },
  {
   "cell_type": "code",
   "execution_count": 43,
   "id": "f9dacd92-ef5d-49cb-b8b9-cfd66cb2fb11",
   "metadata": {},
   "outputs": [
    {
     "data": {
      "text/plain": [
       "7.922420140321948e+28"
      ]
     },
     "execution_count": 43,
     "metadata": {},
     "output_type": "execute_result"
    }
   ],
   "source": [
    "0x01000000000000000000000000\n",
    "0xfffcb933bd6fad37aa2d162e"
   ]
  },
  {
   "cell_type": "code",
   "execution_count": 45,
   "id": "62e0c7c8-6b10-40bd-ba35-fb50c6053874",
   "metadata": {},
   "outputs": [
    {
     "data": {
      "text/plain": [
       "0"
      ]
     },
     "execution_count": 45,
     "metadata": {},
     "output_type": "execute_result"
    }
   ],
   "source": [
    "lib.getTickAtSqrtRatio('0x01000000000000000000000000')"
   ]
  },
  {
   "cell_type": "code",
   "execution_count": 37,
   "id": "f4c051a8-ab63-4ac1-8a00-3db7726d1f08",
   "metadata": {},
   "outputs": [
    {
     "ename": "Error",
     "evalue": "overflow (fault=\"overflow\", operation=\"BigNumber.from\", value=7.922816251426434e+28, code=NUMERIC_FAULT, version=bignumber/5.4.1)",
     "execution_count": 37,
     "output_type": "error",
     "traceback": [
      "Error: overflow (fault=\"overflow\", operation=\"BigNumber.from\", value=7.922816251426434e+28, code=NUMERIC_FAULT, version=bignumber/5.4.1)",
      "    at Logger.makeError (/Users/levihernan/wonder/keep3r/notebooks/node_modules/@ethersproject/logger/src.ts/index.ts:213:28)",
      "    at Logger.throwError (/Users/levihernan/wonder/keep3r/notebooks/node_modules/@ethersproject/logger/src.ts/index.ts:225:20)",
      "    at throwFault (/Users/levihernan/wonder/keep3r/notebooks/node_modules/@ethersproject/bignumber/src.ts/bignumber.ts:358:19)",
      "    at Function.BigNumber.from (/Users/levihernan/wonder/keep3r/notebooks/node_modules/@ethersproject/bignumber/src.ts/bignumber.ts:249:17)",
      "    at NumberCoder.encode (/Users/levihernan/wonder/keep3r/notebooks/node_modules/@ethersproject/abi/src.ts/coders/number.ts:25:27)",
      "    at /Users/levihernan/wonder/keep3r/notebooks/node_modules/@ethersproject/abi/src.ts/coders/array.ts:71:19",
      "    at Array.forEach (<anonymous>)",
      "    at Object.pack (/Users/levihernan/wonder/keep3r/notebooks/node_modules/@ethersproject/abi/src.ts/coders/array.ts:54:12)",
      "    at TupleCoder.encode (/Users/levihernan/wonder/keep3r/notebooks/node_modules/@ethersproject/abi/src.ts/coders/tuple.ts:54:16)",
      "    at AbiCoder.encode (/Users/levihernan/wonder/keep3r/notebooks/node_modules/@ethersproject/abi/src.ts/abi-coder.ts:112:15)",
      "    at Interface._encodeParams (/Users/levihernan/wonder/keep3r/notebooks/node_modules/@ethersproject/abi/src.ts/interface.ts:325:31)",
      "    at Interface.encodeFunctionData (/Users/levihernan/wonder/keep3r/notebooks/node_modules/@ethersproject/abi/src.ts/interface.ts:380:18)",
      "    at /Users/levihernan/wonder/keep3r/notebooks/node_modules/@ethersproject/contracts/src.ts/index.ts:212:37",
      "    at step (/Users/levihernan/wonder/keep3r/notebooks/node_modules/@ethersproject/contracts/lib/index.js:48:23)",
      "    at Object.next (/Users/levihernan/wonder/keep3r/notebooks/node_modules/@ethersproject/contracts/lib/index.js:29:53)",
      "    at fulfilled (/Users/levihernan/wonder/keep3r/notebooks/node_modules/@ethersproject/contracts/lib/index.js:20:58)"
     ]
    }
   ],
   "source": [
    "lib.getAmount0ForLiquidity(0x01000000000000000000000000,4410618292, liquidity)"
   ]
  },
  {
   "cell_type": "code",
   "execution_count": 31,
   "id": "ae590ca2-73a9-4b67-8149-a42a71fc0ca0",
   "metadata": {},
   "outputs": [
    {
     "data": {
      "text/plain": [
       "290131713834263120000"
      ]
     },
     "execution_count": 31,
     "metadata": {},
     "output_type": "execute_result"
    }
   ],
   "source": [
    "0xda4555e689b5828d70c63fac8dd92832/10**18"
   ]
  },
  {
   "cell_type": "code",
   "execution_count": null,
   "id": "5e07f8ed-ea83-4c01-864d-5ecaf85f1ca1",
   "metadata": {},
   "outputs": [],
   "source": []
  },
  {
   "cell_type": "code",
   "execution_count": 6,
   "id": "6be80263-8ff2-4a74-b8cc-56296db29b77",
   "metadata": {
    "tags": []
   },
   "outputs": [
    {
     "name": "stdout",
     "output_type": "stream",
     "text": [
      "KP3R spent 99.99\n",
      "WETH spent 5.45\n",
      "kLP minted 23.34\n"
     ]
    }
   ],
   "source": [
    "next(async()=>{\n",
    "    // mints 100 KP3R and 100 WETH to provider and approves spendings\n",
    "    await keep3r.proxy.connect(keep3r.governance)['mint(address,uint256)'](provider.address, oneHundred)\n",
    "    await keep3r.v1.connect(provider).approve(keep3r.pool.address, oneHundred)\n",
    "    await weth.connect(provider).deposit(oneHundred, {value:oneHundred})\n",
    "    await weth.connect(provider).approve(keep3r.pool.address, oneHundred)\n",
    "    \n",
    "    kp3rInitialBalance = await keep3r.v1.balanceOf(provider.address)\n",
    "    wethInitialBalance = await weth.balanceOf(provider.address)\n",
    "\n",
    "    // MINT\n",
    "    liquidity = await keep3r.pool.connect(provider).callStatic.mint(oneHundred,oneHundred,0,0,provider.address)\n",
    "    await keep3r.pool.connect(provider).mint(oneHundred,oneHundred,0,0,provider.address)\n",
    "    \n",
    "    kp3rBalance = await keep3r.v1.balanceOf(provider.address)\n",
    "    wethBalance = await weth.balanceOf(provider.address)\n",
    "    klpBalance = await keep3r.pool.balanceOf(provider.address)\n",
    "    console.log('KP3R spent', bnToNumber(kp3rInitialBalance.sub(kp3rBalance)))\n",
    "    console.log('WETH spent', bnToNumber(wethInitialBalance.sub(wethBalance)))\n",
    "    console.log('kLP minted', bnToNumber(klpBalance))\n",
    "})"
   ]
  },
  {
   "cell_type": "code",
   "execution_count": 7,
   "id": "bcee041f-4dab-4793-adb0-294e84d312f2",
   "metadata": {},
   "outputs": [],
   "source": [
    "next(async()=>{\n",
    "    /* Notice:\n",
    "        at current block, pools cardinality is 1\n",
    "        provider have just minted a position in the pool\n",
    "        latest twap accumulator is 1s ago\n",
    "        UniswapV3Pool will return 'OLD' and provide no credits\n",
    "    */ \n",
    "    await advanceTimeAndBlock(432000)\n",
    "})"
   ]
  },
  {
   "cell_type": "code",
   "execution_count": 8,
   "id": "c3f3530b-79f2-45eb-b100-6ba66147bd3c",
   "metadata": {},
   "outputs": [],
   "source": [
    "// // Make a small swap\n",
    "// next(async()=>{\n",
    "//     uniRouter = await ethers.getContractAt('ISwapRouter','0xE592427A0AEce92De3Edee1F18E0157C05861564')\n",
    "    \n",
    "//     await keep3rproxy.connect(keep3rgovernance)['mint(address,uint256)'](provider.address, toUnit(100))\n",
    "//     await keep3rv1.connect(provider).approve(uniRouter.address,toUnit(100))\n",
    "    \n",
    "//     await uniRouter.connect(provider).exactInputSingle([\n",
    "//                 keep3rv1.address,\n",
    "//                 '0xC02aaA39b223FE8D0A0e5C4F27eAD9083C756Cc2',\n",
    "//                 10000,\n",
    "//                 keep3rv1.address,\n",
    "//                 1628713433+100000000,\n",
    "//                 toUnit(0.01),\n",
    "//                 toUnit(0.0001),\n",
    "//                 0])\n",
    "// })"
   ]
  },
  {
   "cell_type": "code",
   "execution_count": null,
   "id": "15f29630-d391-4d02-8fd4-afd7bf22cac3",
   "metadata": {},
   "outputs": [],
   "source": []
  },
  {
   "cell_type": "code",
   "execution_count": 21,
   "id": "ea6738f6-157e-45d2-ab6f-2629b58c448f",
   "metadata": {},
   "outputs": [
    {
     "data": {
      "text/plain": [
       "BigNumber { _hex: '0x01440295848ef91d29', _isBigNumber: true }"
      ]
     },
     "execution_count": 21,
     "metadata": {},
     "output_type": "execute_result"
    }
   ],
   "source": [
    "uniV3Pool.liquidity()"
   ]
  },
  {
   "cell_type": "code",
   "execution_count": 22,
   "id": "2b128967-1c5d-4b50-a507-f53fe056822c",
   "metadata": {},
   "outputs": [
    {
     "data": {
      "text/plain": [
       "23.347387814808986"
      ]
     },
     "execution_count": 22,
     "metadata": {},
     "output_type": "execute_result"
    }
   ],
   "source": [
    "0x01440295848ef91d29/10**18"
   ]
  },
  {
   "cell_type": "code",
   "execution_count": null,
   "id": "3c1ccd0e-dffd-443a-9730-bc9a9ce27b54",
   "metadata": {},
   "outputs": [],
   "source": []
  },
  {
   "cell_type": "code",
   "execution_count": 9,
   "id": "0bf38230-dd05-4573-b65b-ee8da74e9684",
   "metadata": {},
   "outputs": [],
   "source": [
    "next(async()=>{    \n",
    "//     await keep3r.v2.connect(provider).addJob(job.address)\n",
    "    await keep3r.pool.connect(provider).approve(keep3r.v2.address, klpBalance)\n",
    "    await keep3r.v2.connect(provider).addLiquidityToJob(job.address, keep3r.pool.address, klpBalance)\n",
    "})"
   ]
  },
  {
   "cell_type": "code",
   "execution_count": 10,
   "id": "a1fab67d-db2f-4c4d-b942-0a5f338653c4",
   "metadata": {},
   "outputs": [
    {
     "name": "stdout",
     "output_type": "stream",
     "text": [
      "quoteLiquidity 62992585216367744469\n",
      "jobPeriodCredits 62992585216367744469\n",
      "jobLiquidityCredits 0\n"
     ]
    }
   ],
   "source": [
    "next(async()=>{\n",
    "    console.log('quoteLiquidity', (await keep3r.v2.quoteLiquidity(keep3r.pool.address,klpBalance)).toString())\n",
    "    console.log('jobPeriodCredits', (await keep3r.v2.jobPeriodCredits(job.address)).toString())\n",
    "    console.log('jobLiquidityCredits', (await keep3r.v2.jobLiquidityCredits(job.address)).toString())\n",
    "})"
   ]
  },
  {
   "cell_type": "code",
   "execution_count": 11,
   "id": "f99413cb-1011-4177-83a1-ba6d7e8d9dc7",
   "metadata": {},
   "outputs": [
    {
     "data": {
      "text/plain": [
       "62.99258521636775"
      ]
     },
     "execution_count": 11,
     "metadata": {},
     "output_type": "execute_result"
    }
   ],
   "source": [
    "62992585216367744469/10**18"
   ]
  },
  {
   "cell_type": "code",
   "execution_count": 12,
   "id": "5a50fda8-0551-4224-b929-a60c07d23dbf",
   "metadata": {},
   "outputs": [
    {
     "data": {
      "text/plain": [
       "14.705882352941176"
      ]
     },
     "execution_count": 12,
     "metadata": {},
     "output_type": "execute_result"
    }
   ],
   "source": [
    "100 * 5 / 34"
   ]
  },
  {
   "cell_type": "code",
   "execution_count": null,
   "id": "fefb80e6-32e1-4732-83a8-3b7c4482dca7",
   "metadata": {},
   "outputs": [],
   "source": []
  }
 ],
 "metadata": {
  "kernelspec": {
   "display_name": "Javascript (Node.js)",
   "language": "javascript",
   "name": "javascript"
  },
  "language_info": {
   "file_extension": ".js",
   "mimetype": "application/javascript",
   "name": "javascript",
   "version": "16.8.0"
  }
 },
 "nbformat": 4,
 "nbformat_minor": 5
}
