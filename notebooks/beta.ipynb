{
 "cells": [
  {
   "cell_type": "code",
   "execution_count": 1,
   "id": "ad598979-d080-43bb-bcc0-4e69e0db17e4",
   "metadata": {
    "tags": []
   },
   "outputs": [],
   "source": [
    "var moment = require('moment')\n",
    "var { constants } = require('../utils')\n",
    "var { advanceTimeAndBlock } = require('../utils/evm')\n",
    "var { evm } = require('../utils');\n",
    "var { toUnit } = require('../utils/bn')\n",
    "var { getLatestBlockTimestamp, getBlockTimestamp } = require('../utils/evm')\n",
    "var { next, clear, bnToNumber } = require('../utils/jupyter')\n",
    "var { Notebook } = require('../utils/notebook')\n",
    "var { Keep3r } = require('../utils/common')\n",
    "var { ethers } = require('hardhat')\n",
    "\n",
    "oneHundred = toUnit(100)\n",
    "\n",
    "var $ = new Notebook();\n",
    "var keep3r = new Keep3r();\n",
    "//var snapshots = new evm.SnapshotManager()\n",
    "\n",
    "clear();"
   ]
  },
  {
   "cell_type": "code",
   "execution_count": 2,
   "id": "d42a7ee8-0eea-4c47-983e-ddf5a9cc9bf6",
   "metadata": {},
   "outputs": [],
   "source": [
    "next(async () => {\n",
    "    await $.setup(constants.FORK_BLOCK_NUMBER);\n",
    "    await keep3r.setup();\n",
    "    \n",
    "    job = await(await ethers.getContractFactory('JobForTest')).deploy(keep3r.v2.address)\n",
    "    provider = await $.newSigner();\n",
    "    weth = await $.fetch('ERC20ForTest', constants.WETH_ADDRESS)\n",
    "    uniV3Pool = await $.fetch('IUniswapV3Pool', constants.UNISWAP_V3_ORACLE_POOL )\n",
    "});"
   ]
  },
  {
   "cell_type": "code",
   "execution_count": 3,
   "id": "f0acd0de-35ca-4af7-99f8-8adfd6479006",
   "metadata": {},
   "outputs": [],
   "source": [
    "next(async()=>{   \n",
    "    tickTime = $.time(5,'days')\n",
    "    uniResponse = await uniV3Pool.observe([0,tickTime])\n",
    "    poolLiquidity = await uniV3Pool.liquidity()\n",
    "    \n",
    "    quote = 1.0001**(((uniResponse[0][1]).sub(uniResponse[0][0])).div(tickTime))\n",
    "    \n",
    "    console.log('previous liquidity', bnToNumber(poolLiquidity))\n",
    "    console.log('previous tickQuote', 1/quote)\n",
    "})"
   ]
  },
  {
   "cell_type": "code",
   "execution_count": 4,
   "id": "6be80263-8ff2-4a74-b8cc-56296db29b77",
   "metadata": {
    "tags": []
   },
   "outputs": [],
   "source": [
    "next(async()=>{\n",
    "    // mints 100 KP3R and 100 WETH to provider and approves spendings\n",
    "    await keep3r.proxy.connect(keep3r.governance)['mint(address,uint256)'](provider.address, oneHundred)\n",
    "    await keep3r.v1.connect(provider).approve(keep3r.pool.address, oneHundred)\n",
    "    await weth.connect(provider).deposit(oneHundred, {value:oneHundred})\n",
    "    await weth.connect(provider).approve(keep3r.pool.address, oneHundred)\n",
    "    \n",
    "    kp3rInitialBalance = await keep3r.v1.balanceOf(provider.address)\n",
    "    wethInitialBalance = await weth.balanceOf(provider.address)\n",
    "\n",
    "    // MINT\n",
    "    liquidity = await keep3r.pool.connect(provider).callStatic.mint(oneHundred,oneHundred,0,0,provider.address)\n",
    "    await keep3r.pool.connect(provider).mint(oneHundred,oneHundred,0,0,provider.address)\n",
    "    \n",
    "    kp3rBalance = await keep3r.v1.balanceOf(provider.address)\n",
    "    wethBalance = await weth.balanceOf(provider.address)\n",
    "    klpBalance = await keep3r.pool.balanceOf(provider.address)\n",
    "    console.log('KP3R spent', bnToNumber(kp3rInitialBalance.sub(kp3rBalance)))\n",
    "    console.log('WETH spent', bnToNumber(wethInitialBalance.sub(wethBalance)))\n",
    "    console.log('kLP minted', bnToNumber(klpBalance))\n",
    "})"
   ]
  },
  {
   "cell_type": "code",
   "execution_count": 5,
   "id": "0bf38230-dd05-4573-b65b-ee8da74e9684",
   "metadata": {},
   "outputs": [],
   "source": [
    "next(async()=>{    \n",
    "    await keep3r.v2.connect(provider).addJob(job.address)\n",
    "    await keep3r.pool.connect(provider).approve(keep3r.v2.address, klpBalance)\n",
    "    await keep3r.v2.connect(provider).addLiquidityToJob(job.address, keep3r.pool.address, klpBalance)\n",
    "})"
   ]
  },
  {
   "cell_type": "code",
   "execution_count": 9,
   "id": "a1fab67d-db2f-4c4d-b942-0a5f338653c4",
   "metadata": {},
   "outputs": [
    {
     "name": "stdout",
     "output_type": "stream",
     "text": [
      "totalJobCredits 515172013687232\n",
      "jobPeriodCredits 13909644369555266717\n",
      "jobLiquidityCredits 0\n"
     ]
    }
   ],
   "source": [
    "next(async()=>{\n",
    "    console.log('totalJobCredits', (await keep3r.v2.totalJobCredits(job.address)).toString())\n",
    "    console.log('jobPeriodCredits', (await keep3r.v2.jobPeriodCredits(job.address)).toString())\n",
    "    console.log('jobLiquidityCredits', (await keep3r.v2.jobLiquidityCredits(job.address)).toString())\n",
    "})"
   ]
  },
  {
   "cell_type": "code",
   "execution_count": 14,
   "id": "fefb80e6-32e1-4732-83a8-3b7c4482dca7",
   "metadata": {},
   "outputs": [
    {
     "name": "stdout",
     "output_type": "stream",
     "text": [
      "BigNumber { _hex: '0x0beb446cf7d4e9f7', _isBigNumber: true }\n"
     ]
    }
   ],
   "source": [
    "next(async()=>{\n",
    "    tx = await job.connect(keep3r.keeper).workHard(10)\n",
    "    wait = await tx.wait()\n",
    "    console.log(await keep3r.v2.bonds(keep3r.keeper.address, keep3r.v1.address))\n",
    "})"
   ]
  },
  {
   "cell_type": "code",
   "execution_count": null,
   "id": "ca5a256c-8ae4-4fad-b762-1c586d7cca7e",
   "metadata": {},
   "outputs": [],
   "source": []
  }
 ],
 "metadata": {
  "kernelspec": {
   "display_name": "Javascript (Node.js)",
   "language": "javascript",
   "name": "javascript"
  },
  "language_info": {
   "file_extension": ".js",
   "mimetype": "application/javascript",
   "name": "javascript",
   "version": "16.8.0"
  }
 },
 "nbformat": 4,
 "nbformat_minor": 5
}
