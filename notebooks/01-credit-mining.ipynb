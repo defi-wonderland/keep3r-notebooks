{
 "cells": [
  {
   "cell_type": "markdown",
   "id": "202107fc-ae36-4385-b010-87813baefcb9",
   "metadata": {},
   "source": [
    "# Credit mining"
   ]
  },
  {
   "cell_type": "markdown",
   "id": "2922c4c9-c97b-4a54-a4d4-cf7425f7e164",
   "metadata": {},
   "source": [
    "A Job can generate new credits with time, by bonding Keep3r Liquidity Pool tokens kLP to it. Liquidities will be handled by the Keep3r Liquidity Pools (`keeep3r.pool`).\n",
    "Once kLPs are added to a job with addLiquidityToJob, the job starts immediately to mint new KP3R credits, that can be collectable only by the keepers, in reward for working the job. The credit minting system requires no further action from the job owner (`provider`)."
   ]
  },
  {
   "cell_type": "markdown",
   "id": "4cb16df2-82ab-468e-b258-2894bed562f3",
   "metadata": {},
   "source": [
    "### Setup\n",
    "Run first `00-setup.ipynb` and select its kernel"
   ]
  },
  {
   "cell_type": "code",
   "execution_count": null,
   "id": "0df0eb22-f05d-4b69-afd2-aab5ffd48ecd",
   "metadata": {},
   "outputs": [],
   "source": [
    "next(async()=>{\n",
    "    //     uncomment to revert to snapshot\n",
    "    //     TODO: snapshots working only first time\n",
    "        await snapshots.revert(setupSnap)    \n",
    "})"
   ]
  },
  {
   "cell_type": "code",
   "execution_count": null,
   "id": "e9dd689c-15b5-44d4-9fc1-6d1a77fa47e1",
   "metadata": {},
   "outputs": [],
   "source": [
    "// create job and add liquidity\n",
    "\n",
    "next(async()=>{\n",
    "    job = await(await ethers.getContractFactory('JobForTest')).connect(provider).deploy(keep3r.v2.address)\n",
    "\n",
    "    await keep3r.v2.connect(provider).addJob(job.address)\n",
    "    await keep3r.pool.connect(provider).approve(keep3r.v2.address, klpBalance)\n",
    "    await keep3r.v2.connect(provider).addLiquidityToJob(job.address, keep3r.pool.address, klpBalance)\n",
    "})"
   ]
  },
  {
   "cell_type": "code",
   "execution_count": null,
   "id": "3b8b8619-e3ba-4447-8a41-b5eb7359ce48",
   "metadata": {
    "tags": []
   },
   "outputs": [],
   "source": [
    "// charts configuration\n",
    "\n",
    "next(async() =>{\n",
    "    await $.resetRecording()\n",
    "    $.resetTraces()\n",
    "\n",
    "    $.setPeriodTrace(432000)\n",
    "    \n",
    "    $.addViewTrace(keep3r.v2, 'jobLiquidityCredits', [job.address])\n",
    "    $.addViewTrace(keep3r.v2, 'totalJobCredits', [job.address])\n",
    "    $.addViewTrace(keep3r.v2, 'jobPeriodCredits', [job.address]) \n",
    "//     TODO: add multiple arguments to view\n",
    "    $.addViewTrace(keep3r.v1, 'bonds', [keep3r.v1.address, keep3r.keeper.address]) \n",
    "    $.addEventTrace(keep3r.v2.web3, 'LiquidityCreditsReward', '_rewardedAt')\n",
    "    $.addEventTrace(keep3r.v2.web3, 'LiquidityAddition')\n",
    "    $.addEventTrace(keep3r.v2.web3, 'KeeperWork')\n",
    "    $.addEventTrace(uniV3Pool.web3, 'Swap')    \n",
    "})"
   ]
  },
  {
   "cell_type": "markdown",
   "id": "28cb8373-3daf-4f51-9787-b026ee2d71fb",
   "metadata": {},
   "source": [
    "### Reward Periods"
   ]
  },
  {
   "cell_type": "markdown",
   "id": "8c5925c6-cbd1-4c41-9eb2-8dbde4d17b70",
   "metadata": {},
   "source": [
    "To handle KP3R credits minting and quoting, Keep3r introduces reward periods, in which KP3R quote remains stable for each pair, and gas-efficiently processed. These quotes are used within the protocol to mint credits and reward keepers.\n",
    "\n",
    "The underlying KP3R of the liquidity provided, should generate the same amount of KP3R every inflationPeriod, thereby minting the proportional amount each rewardPeriod as KP3R credits for the job."
   ]
  },
  {
   "cell_type": "code",
   "execution_count": null,
   "id": "81115c4a-43f7-4da2-8e5a-c359a8bff636",
   "metadata": {},
   "outputs": [],
   "source": [
    "// liquidity added in 00-setup\n",
    "\n",
    "next(async()=>{\n",
    "    rewardPeriodTime = (await keep3r.v2.rewardPeriodTime()).toNumber()\n",
    "    inflationPeriod = (await keep3r.v2.inflationPeriod()).toNumber()\n",
    "    \n",
    "    console.log('KP3R spent', bnToNumber(kp3rSpent))\n",
    "    console.log('WETH spent', bnToNumber(wethSpent))\n",
    "    console.log('kLP minted', bnToNumber(klpBalance))\n",
    "    console.log('reward period',  rewardPeriodTime / (3600 * 24), 'days')\n",
    "    console.log('inflation period', (await keep3r.v2.inflationPeriod()).toNumber() / (3600 * 24), 'days')\n",
    "    console.log('KP3R minted by reward period', bnToNumber(await keep3r.v2.jobPeriodCredits(job.address)))\n",
    "    console.log('KP3R minted by inflation period', bnToNumber((await keep3r.v2.jobPeriodCredits(job.address)).mul(inflationPeriod).div(rewardPeriodTime)))\n",
    "})"
   ]
  },
  {
   "cell_type": "markdown",
   "id": "fdaa9503-ba38-45f3-9a2f-f504e2f59276",
   "metadata": {},
   "source": [
    "To determine the value of a certain liquidity, Keep3r uses a TWAP calculation to get the average quote of a pair in the last completed epoch. The same calculation is applied to quote rewards for keepers (that spend gas in ETH and receive KP3R rewards), using a predefined KP3R/WETH pool as an oracle.\n",
    "\n",
    "- A job will mint the result of quoteLiquidity every rewardPeriodTime \n",
    "- Keep3r will store and use the average quote for the last epochfor each given liquidity\n",
    "- Remaining credits will be updated to current quotes each time a `rewardPeriod` starts\n",
    "- Credits older than previous `rewardPeriod` will no longer be updateable and will expire"
   ]
  },
  {
   "cell_type": "code",
   "execution_count": null,
   "id": "e7b57ec7-fea3-44ea-9cf8-413508b98266",
   "metadata": {},
   "outputs": [],
   "source": [
    "// credit mining without working\n",
    "\n",
    "next(async()=>{\n",
    "    \n",
    "    await $.sleepAndRecord(\n",
    "        3 * rewardPeriodTime,\n",
    "        $.time(4,'hours')\n",
    "    )\n",
    "    \n",
    "    await $.draw()\n",
    "})"
   ]
  },
  {
   "cell_type": "markdown",
   "id": "3a7bbe3e-506d-4170-9bbb-bd32e1def029",
   "metadata": {},
   "source": [
    "##### Reward periods\n",
    "\n",
    "KP3R quote, in relation with each liquidity, are updated every period, meaning than during each period, it remains stable for credit minting and for payments"
   ]
  },
  {
   "cell_type": "code",
   "execution_count": null,
   "id": "e7e52ba1-b337-4341-afce-168e7fbc808b",
   "metadata": {},
   "outputs": [],
   "source": [
    "// twap calculation: 1.0001^(tickDifference/timeDifference)\n",
    "\n",
    "uniQuote = async()=>{   \n",
    "    tickTime = rewardPeriodTime\n",
    "    uniResponse = await uniV3Pool.observe([0,tickTime])\n",
    "    quote = 1.0001**(((uniResponse[0][1]).sub(uniResponse[0][0])).div(tickTime))\n",
    "    console.log('tickQuote', quote)\n",
    "}"
   ]
  },
  {
   "cell_type": "code",
   "execution_count": null,
   "id": "8ca497f8-1e0e-48ca-9514-90b7d6011419",
   "metadata": {},
   "outputs": [],
   "source": [
    "// credit mining with twap change\n",
    "\n",
    "next(async()=>{    \n",
    "    await $.resetRecording()\n",
    "    \n",
    "    await $.sleepAndExecute(\n",
    "        3 * rewardPeriodTime,\n",
    "        $.time(12,'hours'),\n",
    "        // make a big swap in uniswapV3 pool to alter quote\n",
    "        [{\n",
    "            run: async()=>{\n",
    "                    await common.makeASwap(\n",
    "                            provider, \n",
    "                            keep3r.v1.address, \n",
    "                            constants.WETH_ADDRESS, \n",
    "                            provider.address, \n",
    "                            1000, \n",
    "                            toUnit(1000))\n",
    "                    await uniQuote()\n",
    "            },\n",
    "            every: $.time(2,'days')\n",
    "         }]\n",
    "    )\n",
    "    \n",
    "    await $.draw()\n",
    "})"
   ]
  },
  {
   "cell_type": "code",
   "execution_count": null,
   "id": "33907294-82f1-4b85-93da-6d0087a7b5ed",
   "metadata": {},
   "outputs": [],
   "source": [
    "// balanced work\n",
    "\n",
    "next(async()=>{\n",
    "    await $.sleep(rewardPeriodTime)\n",
    "    await $.resetRecording()\n",
    "        \n",
    "    await $.sleepAndExecute(\n",
    "        4 * rewardPeriodTime,\n",
    "        $.time(4,'hours'),\n",
    "        [{run: async()=>{\n",
    "            await job.connect(keep3r.keeper).workHard(2)\n",
    "        },\n",
    "        every: $.time(12,'hours')}]\n",
    "    )\n",
    "    \n",
    "    await $.draw()\n",
    "})"
   ]
  },
  {
   "cell_type": "code",
   "execution_count": null,
   "id": "e345237a-b785-4205-87fe-43b83ff3371b",
   "metadata": {},
   "outputs": [],
   "source": [
    "// balanced work with twap change\n",
    "\n",
    "next(async()=>{\n",
    "    await $.sleep(rewardPeriodTime)\n",
    "    await $.resetRecording()\n",
    "        \n",
    "    await $.sleepAndExecute(\n",
    "        4 * rewardPeriodTime,\n",
    "        $.time(4,'hours'),\n",
    "        [{\n",
    "            run: async()=>{\n",
    "                await job.connect(keep3r.keeper).workHard(2)\n",
    "            },\n",
    "            every: $.time(36,'hours'),\n",
    "        },\n",
    "        {\n",
    "            run: async()=>{\n",
    "                await common.makeASwap(provider, keep3r.v1.address, constants.WETH_ADDRESS, provider.address, 1000, toUnit(300))\n",
    "            },\n",
    "            every: $.time(5,'days')\n",
    "        }]\n",
    "    )\n",
    "    \n",
    "    await $.draw()\n",
    "})"
   ]
  },
  {
   "cell_type": "markdown",
   "id": "a07eb3a0-bea7-469f-b251-106c1bbc11e2",
   "metadata": {},
   "source": [
    "In a normal case scenario, a job should be rewarded once every rewardPeriodStart and burn all remaining credits from last epoch. When jobs are running low on credits, they will be rewarded before the next rewardPeriod starts, and those credits will be minted with the previous epoch quote, so when next rewardPeriod starts, and liquidity quotes are updated, the job will have its remaining KP3R credits updated to the new quotes."
   ]
  },
  {
   "cell_type": "code",
   "execution_count": null,
   "id": "dbe6ff2a-8777-4805-83c0-145701dfc0c2",
   "metadata": {},
   "outputs": [],
   "source": [
    "// intense work\n",
    "\n",
    "next(async()=>{\n",
    "    await $.sleep(rewardPeriodTime)\n",
    "    await $.resetRecording()\n",
    "    block = await $.block()\n",
    "    await advanceTimeAndBlock(rewardPeriodTime - (block.timestamp % rewardPeriodTime))\n",
    "    \n",
    "    await $.sleepAndExecute(\n",
    "        2 * rewardPeriodTime,\n",
    "        $.time(4,'hours'),\n",
    "        [{run: async()=>{\n",
    "            await job.connect(keep3r.keeper).workHard(3)\n",
    "        },\n",
    "        every: $.time(12,'hours')}]\n",
    "    )\n",
    " \n",
    "    await $.draw()\n",
    "})"
   ]
  },
  {
   "cell_type": "markdown",
   "id": "67d9fe8e-7a4c-432f-a4ba-241f0c36aa29",
   "metadata": {},
   "source": [
    "On a deficitary job scenario, when the job is spending more KP3R in a period than it is rewarded, the job will be able to keep on paying keepers, but the minting period starts to shrink, having to mint more frequently, and rewarding extra credits for the keeper, every time he has to reward the job to get his payment.\n",
    "\n",
    "Each time, the reward period will be shorter, as the job is not being rewarded the full amount for a period, but only the proportional relation of the time that passed since last reward, and the rewardPeriod.\n",
    "\n",
    "Ultimately, when the job has not enough `totalJobCredits` to reward the keeper for working the job (and some extra to pay the keeper for rewarding the credits), the transaction will revert with `InsufficientFunds`."
   ]
  },
  {
   "cell_type": "markdown",
   "id": "18c9f275-b841-4cab-b5e4-72d770665853",
   "metadata": {},
   "source": [
    "##### Maximum credit spending\n",
    "\n",
    "Since jobs are able to be worked as long as `totalJobCredits > payment`, it is possible for the jobs to have a spending bigger than their current credits, only if they have minted so far enough to make the payment. If a job has been minting credits (for a maximum of a `rewardPeriodTime`), and preserves its current credits, it can spend both on a single payment, greater than `jobPeriodCredits` and no greater than `2 * jobPeriodCredits`."
   ]
  },
  {
   "cell_type": "code",
   "execution_count": null,
   "id": "f3e88889-972e-42dc-8597-eac7f960f68a",
   "metadata": {
    "tags": []
   },
   "outputs": [],
   "source": [
    "// maximum credit spending\n",
    "\n",
    "next(async()=>{\n",
    "    await $.resetRecording()\n",
    "    block = await $.block()\n",
    "    await advanceTimeAndBlock(rewardPeriodTime - (block.timestamp % rewardPeriodTime))\n",
    "    \n",
    "    await $.sleepAndExecute(\n",
    "        2 * Math.floor(1.9 * rewardPeriodTime),\n",
    "        $.time(4,'hours'),\n",
    "        [{run: async()=>{\n",
    "            await job.connect(keep3r.keeper).workHard(25)\n",
    "        },\n",
    "        every: Math.floor(1.8 * rewardPeriodTime)}]\n",
    "    )\n",
    " \n",
    "    await $.sleepAndRecord(rewardPeriodTime, $.time(4,'hours'))\n",
    "    \n",
    "    await $.draw()\n",
    "})"
   ]
  },
  {
   "cell_type": "markdown",
   "id": "712bc89c-3bd3-456e-982e-509e225bf90f",
   "metadata": {},
   "source": [
    "##### Removing liquidity\n",
    "\n",
    "When a liquidity is removed, Keep3r will recalculate the corresponding `jobPeriodCredits` and reduce current credits proportionally to the impact."
   ]
  },
  {
   "cell_type": "code",
   "execution_count": null,
   "id": "f334a479-07d9-4a03-aae2-04dd9839e158",
   "metadata": {
    "tags": []
   },
   "outputs": [],
   "source": [
    "// unbonding liquidity\n",
    "\n",
    "next(async()=>{\n",
    "    await $.resetRecording()\n",
    "    block = await $.block()\n",
    "    await advanceTimeAndBlock(rewardPeriodTime - (block.timestamp % rewardPeriodTime))\n",
    "    \n",
    "    await $.sleepAndExecute(\n",
    "        2 * rewardPeriodTime,\n",
    "        $.time(4,'hours'),\n",
    "        [{run: async()=>{\n",
    "            await keep3r.v2.connect(provider).unbondLiquidityFromJob(job.address, keep3r.pool.address, toUnit(1))\n",
    "        },\n",
    "        every: rewardPeriodTime}]\n",
    "    )\n",
    " \n",
    "    await $.sleepAndRecord(rewardPeriodTime, $.time(4,'hours'))\n",
    "    \n",
    "    await $.draw()\n",
    "})"
   ]
  },
  {
   "cell_type": "code",
   "execution_count": null,
   "id": "717299ea-da96-4457-ac3c-40f9e4558334",
   "metadata": {},
   "outputs": [],
   "source": []
  }
 ],
 "metadata": {
  "kernelspec": {
   "display_name": "Javascript (Node.js)",
   "language": "javascript",
   "name": "javascript"
  },
  "language_info": {
   "file_extension": ".js",
   "mimetype": "application/javascript",
   "name": "javascript",
   "version": "16.8.0"
  }
 },
 "nbformat": 4,
 "nbformat_minor": 5
}
