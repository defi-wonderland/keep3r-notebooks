{
 "cells": [
  {
   "cell_type": "markdown",
   "id": "202107fc-ae36-4385-b010-87813baefcb9",
   "metadata": {},
   "source": [
    "# Credit mining"
   ]
  },
  {
   "cell_type": "markdown",
   "id": "2922c4c9-c97b-4a54-a4d4-cf7425f7e164",
   "metadata": {},
   "source": [
    "A Job can generate new credits with time, by bonding Keep3r Liquidity Pool tokens kLP to it. Liquidities will be handled by the Keep3r Liquidity Pools (`keeep3r.pool`).\n",
    "Once kLPs are added to a job with addLiquidityToJob, the job starts immediately to mint new KP3R credits, that can be collectable only by the keepers, in reward for working the job. The credit minting system requires no further action from the job owner (`provider`)."
   ]
  },
  {
   "cell_type": "markdown",
   "id": "4cb16df2-82ab-468e-b258-2894bed562f3",
   "metadata": {},
   "source": [
    "### Setup\n",
    "Run first `00-setup.ipynb` and select its kernel"
   ]
  },
  {
   "cell_type": "code",
   "execution_count": 4,
   "id": "e9dd689c-15b5-44d4-9fc1-6d1a77fa47e1",
   "metadata": {},
   "outputs": [],
   "source": [
    "// create job and add liquidity\n",
    "\n",
    "next(async()=>{\n",
    "    job = await(await ethers.getContractFactory('JobForTest')).connect(provider).deploy(keep3r.v2.address)\n",
    "\n",
    "    await keep3r.v2.connect(provider).addJob(job.address)\n",
    "    await keep3r.pool.connect(provider).approve(keep3r.v2.address, klpBalance)\n",
    "    await keep3r.v2.connect(provider).addLiquidityToJob(job.address, keep3r.pool.address, klpBalance)\n",
    "})"
   ]
  },
  {
   "cell_type": "code",
   "execution_count": 5,
   "id": "3b8b8619-e3ba-4447-8a41-b5eb7359ce48",
   "metadata": {
    "tags": []
   },
   "outputs": [],
   "source": [
    "// charts configuration\n",
    "\n",
    "next(async() =>{\n",
    "    await $.resetRecording()\n",
    "    $.resetTraces()\n",
    "\n",
    "    $.setPeriodTrace(432000)\n",
    "    \n",
    "    $.addViewTrace(keep3r.v2, 'jobLiquidityCredits', [job.address])\n",
    "    $.addViewTrace(keep3r.v2, 'totalJobCredits', [job.address])\n",
    "    $.addViewTrace(keep3r.v2, 'jobPeriodCredits', [job.address]) \n",
    "//     TODO: add multiple arguments to view\n",
    "    $.addViewTrace(keep3r.v1, 'bonds', [keep3r.v1.address, keep3r.keeper.address]) \n",
    "    $.addEventTrace(keep3r.v2.web3, 'LiquidityCreditsReward', '_rewardedAt')\n",
    "    $.addEventTrace(keep3r.v2.web3, 'LiquidityAddition')\n",
    "    $.addEventTrace(keep3r.v2.web3, 'KeeperWork')\n",
    "    $.addEventTrace(uniV3Pool.web3, 'Swap')    \n",
    "})"
   ]
  },
  {
   "cell_type": "markdown",
   "id": "28cb8373-3daf-4f51-9787-b026ee2d71fb",
   "metadata": {},
   "source": [
    "### Reward Periods"
   ]
  },
  {
   "cell_type": "markdown",
   "id": "8c5925c6-cbd1-4c41-9eb2-8dbde4d17b70",
   "metadata": {},
   "source": [
    "To handle KP3R credits minting and quoting, Keep3r introduces reward periods, in which KP3R quote remains stable for each pair, and gas-efficiently processed. These quotes are used within the protocol to mint credits and reward keepers.\n",
    "\n",
    "The underlying KP3R of the liquidity provided, should generate the same amount of KP3R every inflationPeriod, thereby minting the proportional amount each rewardPeriod as KP3R credits for the job."
   ]
  },
  {
   "cell_type": "code",
   "execution_count": 6,
   "id": "81115c4a-43f7-4da2-8e5a-c359a8bff636",
   "metadata": {},
   "outputs": [
    {
     "name": "stdout",
     "output_type": "stream",
     "text": [
      "KP3R spent 9.99\n",
      "WETH spent 1.3\n",
      "kLP minted 3.6\n",
      "reward period 5 days\n",
      "inflation period 34 days\n",
      "KP3R minted by reward period 1.48\n",
      "KP3R minted by inflation period 10.09\n"
     ]
    }
   ],
   "source": [
    "// liquidity added in 00-setup\n",
    "\n",
    "next(async()=>{\n",
    "    rewardPeriodTime = (await keep3r.v2.rewardPeriodTime()).toNumber()\n",
    "    inflationPeriod = (await keep3r.v2.inflationPeriod()).toNumber()\n",
    "    \n",
    "    console.log('KP3R spent', bnToNumber(kp3rSpent))\n",
    "    console.log('WETH spent', bnToNumber(wethSpent))\n",
    "    console.log('kLP minted', bnToNumber(klpBalance))\n",
    "    console.log('reward period',  rewardPeriodTime / (3600 * 24), 'days')\n",
    "    console.log('inflation period', (await keep3r.v2.inflationPeriod()).toNumber() / (3600 * 24), 'days')\n",
    "    console.log('KP3R minted by reward period', bnToNumber(await keep3r.v2.jobPeriodCredits(job.address)))\n",
    "    console.log('KP3R minted by inflation period', bnToNumber((await keep3r.v2.jobPeriodCredits(job.address)).mul(inflationPeriod).div(rewardPeriodTime)))\n",
    "})"
   ]
  },
  {
   "cell_type": "markdown",
   "id": "fdaa9503-ba38-45f3-9a2f-f504e2f59276",
   "metadata": {},
   "source": [
    "To determine the value of a certain liquidity, Keep3r uses a TWAP calculation to get the average quote of a pair in the last completed epoch. The same calculation is applied to quote rewards for keepers (that spend gas in ETH and receive KP3R rewards), using a predefined KP3R/WETH pool as an oracle.\n",
    "\n",
    "- A job will mint the result of quoteLiquidity every rewardPeriodTime \n",
    "- Keep3r will store and use the average quote for the last epochfor each given liquidity\n",
    "- Remaining credits will be updated to current quotes each time a `rewardPeriod` starts\n",
    "- Credits older than previous `rewardPeriod` will no longer be updateable and will expire"
   ]
  },
  {
   "cell_type": "code",
   "execution_count": 7,
   "id": "e7b57ec7-fea3-44ea-9cf8-413508b98266",
   "metadata": {},
   "outputs": [],
   "source": [
    "// credit mining without working\n",
    "\n",
    "next(async()=>{\n",
    "    \n",
    "    await $.sleepAndRecord(\n",
    "        3 * rewardPeriodTime,\n",
    "        $.time(4,'hours')\n",
    "    )\n",
    "    \n",
    "    await $.draw()\n",
    "})"
   ]
  },
  {
   "cell_type": "markdown",
   "id": "3a7bbe3e-506d-4170-9bbb-bd32e1def029",
   "metadata": {},
   "source": [
    "##### Reward periods\n",
    "\n",
    "KP3R quote, in relation with each liquidity, are updated every period, meaning than during each period, it remains stable for credit minting and for payments"
   ]
  },
  {
   "cell_type": "code",
   "execution_count": 8,
   "id": "e7e52ba1-b337-4341-afce-168e7fbc808b",
   "metadata": {},
   "outputs": [
    {
     "data": {
      "text/html": [
       "<div class='plotly-plot'><div id='notebook-plot-1646844855052'></div><script>function plot(){Plotly.plot('notebook-plot-1646844855052',[{\"x\":[\"2021-09-18 16:36:29\",\"2021-09-18 20:36:38\",\"2021-09-19 00:36:38\",\"2021-09-19 04:36:38\",\"2021-09-19 08:36:38\",\"2021-09-19 12:36:38\",\"2021-09-19 16:36:38\",\"2021-09-19 20:36:38\",\"2021-09-20 00:36:38\",\"2021-09-20 04:36:38\",\"2021-09-20 08:36:38\",\"2021-09-20 12:36:38\",\"2021-09-20 16:36:38\",\"2021-09-20 20:36:38\",\"2021-09-21 00:36:38\",\"2021-09-21 04:36:38\",\"2021-09-21 08:36:38\",\"2021-09-21 12:36:38\",\"2021-09-21 16:36:38\",\"2021-09-21 20:36:38\",\"2021-09-22 00:36:38\",\"2021-09-22 04:36:38\",\"2021-09-22 08:36:38\",\"2021-09-22 12:36:39\",\"2021-09-22 16:36:39\",\"2021-09-22 20:36:39\",\"2021-09-23 00:36:39\",\"2021-09-23 04:36:39\",\"2021-09-23 08:36:39\",\"2021-09-23 12:36:39\",\"2021-09-23 16:36:39\",\"2021-09-23 20:36:39\",\"2021-09-24 00:36:39\",\"2021-09-24 04:36:39\",\"2021-09-24 08:36:39\",\"2021-09-24 12:36:39\",\"2021-09-24 16:36:39\",\"2021-09-24 20:36:39\",\"2021-09-25 00:36:39\",\"2021-09-25 04:36:39\",\"2021-09-25 08:36:39\",\"2021-09-25 12:36:39\",\"2021-09-25 16:36:39\",\"2021-09-25 20:36:39\",\"2021-09-26 00:36:39\",\"2021-09-26 04:36:39\",\"2021-09-26 08:36:39\",\"2021-09-26 12:36:39\",\"2021-09-26 16:36:39\",\"2021-09-26 20:36:39\",\"2021-09-27 00:36:39\",\"2021-09-27 04:36:39\",\"2021-09-27 08:36:39\",\"2021-09-27 12:36:39\",\"2021-09-27 16:36:39\",\"2021-09-27 20:36:39\",\"2021-09-28 00:36:40\",\"2021-09-28 04:36:40\",\"2021-09-28 08:36:40\",\"2021-09-28 12:36:40\",\"2021-09-28 16:36:40\",\"2021-09-28 20:36:40\",\"2021-09-29 00:36:40\",\"2021-09-29 04:36:40\",\"2021-09-29 08:36:40\",\"2021-09-29 12:36:40\",\"2021-09-29 16:36:40\",\"2021-09-29 20:36:40\",\"2021-09-30 00:36:40\",\"2021-09-30 04:36:40\",\"2021-09-30 08:36:40\",\"2021-09-30 12:36:40\",\"2021-09-30 16:36:40\",\"2021-09-30 20:36:40\",\"2021-10-01 00:36:40\",\"2021-10-01 04:36:40\",\"2021-10-01 08:36:40\",\"2021-10-01 12:36:40\",\"2021-10-01 16:36:40\",\"2021-10-01 20:36:40\",\"2021-10-02 00:36:40\",\"2021-10-02 04:36:40\",\"2021-10-02 08:36:40\",\"2021-10-02 12:36:40\",\"2021-10-02 16:36:40\",\"2021-10-02 20:36:40\",\"2021-10-03 00:36:40\",\"2021-10-03 04:36:40\",\"2021-10-03 08:36:40\",\"2021-10-03 12:36:40\",\"2021-10-03 16:36:41\"],\"y\":[0,0.04,0.09,0.14,0.19,0.24,0.29,0.34,0.39,0.44,0.49,0.53,0.58,0.63,0.68,0.73,0.78,0.83,0.88,0.93,0.98,1.02,1.07,1.12,1.17,1.22,1.27,1.32,1.37,1.42,1.47,1.52,1.56,1.61,1.66,1.71,1.76,1.81,1.51,1.56,1.61,1.66,1.71,1.75,1.8,1.85,1.9,1.95,2,2.05,2.1,2.15,2.2,2.25,2.29,2.34,2.39,2.44,2.49,2.54,2.59,2.64,2.69,2.74,2.78,2.83,2.88,2.93,1.51,1.56,1.61,1.66,1.71,1.75,1.8,1.85,1.9,1.95,2,2.05,2.1,2.15,2.2,2.25,2.29,2.34,2.39,2.44,2.49,2.54,2.59],\"name\":\"totalJobCredits\",\"line\":{\"width\":1}},{\"x\":[\"2021-09-18 16:36:29\",\"2021-09-18 20:36:38\",\"2021-09-19 00:36:38\",\"2021-09-19 04:36:38\",\"2021-09-19 08:36:38\",\"2021-09-19 12:36:38\",\"2021-09-19 16:36:38\",\"2021-09-19 20:36:38\",\"2021-09-20 00:36:38\",\"2021-09-20 04:36:38\",\"2021-09-20 08:36:38\",\"2021-09-20 12:36:38\",\"2021-09-20 16:36:38\",\"2021-09-20 20:36:38\",\"2021-09-21 00:36:38\",\"2021-09-21 04:36:38\",\"2021-09-21 08:36:38\",\"2021-09-21 12:36:38\",\"2021-09-21 16:36:38\",\"2021-09-21 20:36:38\",\"2021-09-22 00:36:38\",\"2021-09-22 04:36:38\",\"2021-09-22 08:36:38\",\"2021-09-22 12:36:39\",\"2021-09-22 16:36:39\",\"2021-09-22 20:36:39\",\"2021-09-23 00:36:39\",\"2021-09-23 04:36:39\",\"2021-09-23 08:36:39\",\"2021-09-23 12:36:39\",\"2021-09-23 16:36:39\",\"2021-09-23 20:36:39\",\"2021-09-24 00:36:39\",\"2021-09-24 04:36:39\",\"2021-09-24 08:36:39\",\"2021-09-24 12:36:39\",\"2021-09-24 16:36:39\",\"2021-09-24 20:36:39\",\"2021-09-25 00:36:39\",\"2021-09-25 04:36:39\",\"2021-09-25 08:36:39\",\"2021-09-25 12:36:39\",\"2021-09-25 16:36:39\",\"2021-09-25 20:36:39\",\"2021-09-26 00:36:39\",\"2021-09-26 04:36:39\",\"2021-09-26 08:36:39\",\"2021-09-26 12:36:39\",\"2021-09-26 16:36:39\",\"2021-09-26 20:36:39\",\"2021-09-27 00:36:39\",\"2021-09-27 04:36:39\",\"2021-09-27 08:36:39\",\"2021-09-27 12:36:39\",\"2021-09-27 16:36:39\",\"2021-09-27 20:36:39\",\"2021-09-28 00:36:40\",\"2021-09-28 04:36:40\",\"2021-09-28 08:36:40\",\"2021-09-28 12:36:40\",\"2021-09-28 16:36:40\",\"2021-09-28 20:36:40\",\"2021-09-29 00:36:40\",\"2021-09-29 04:36:40\",\"2021-09-29 08:36:40\",\"2021-09-29 12:36:40\",\"2021-09-29 16:36:40\",\"2021-09-29 20:36:40\",\"2021-09-30 00:36:40\",\"2021-09-30 04:36:40\",\"2021-09-30 08:36:40\",\"2021-09-30 12:36:40\",\"2021-09-30 16:36:40\",\"2021-09-30 20:36:40\",\"2021-10-01 00:36:40\",\"2021-10-01 04:36:40\",\"2021-10-01 08:36:40\",\"2021-10-01 12:36:40\",\"2021-10-01 16:36:40\",\"2021-10-01 20:36:40\",\"2021-10-02 00:36:40\",\"2021-10-02 04:36:40\",\"2021-10-02 08:36:40\",\"2021-10-02 12:36:40\",\"2021-10-02 16:36:40\",\"2021-10-02 20:36:40\",\"2021-10-03 00:36:40\",\"2021-10-03 04:36:40\",\"2021-10-03 08:36:40\",\"2021-10-03 12:36:40\",\"2021-10-03 16:36:41\"],\"y\":[1.48,1.48,1.48,1.48,1.48,1.48,1.48,1.48,1.47,1.47,1.47,1.47,1.47,1.47,1.47,1.47,1.47,1.47,1.47,1.47,1.47,1.47,1.47,1.47,1.47,1.47,1.47,1.47,1.47,1.47,1.47,1.47,1.47,1.47,1.47,1.47,1.47,1.47,1.47,1.47,1.47,1.47,1.47,1.47,1.47,1.47,1.47,1.47,1.47,1.47,1.47,1.47,1.47,1.47,1.47,1.47,1.47,1.47,1.47,1.47,1.47,1.47,1.47,1.47,1.47,1.47,1.47,1.47,1.47,1.47,1.47,1.47,1.47,1.47,1.47,1.47,1.47,1.47,1.47,1.47,1.47,1.47,1.47,1.47,1.47,1.47,1.47,1.47,1.47,1.47,1.47],\"name\":\"jobPeriodCredits\",\"line\":{\"width\":1}},{\"x\":[\"2021-09-18 16:36:29\",\"2021-09-18 20:36:38\",\"2021-09-19 00:36:38\",\"2021-09-19 04:36:38\",\"2021-09-19 08:36:38\",\"2021-09-19 12:36:38\",\"2021-09-19 16:36:38\",\"2021-09-19 20:36:38\",\"2021-09-20 00:36:38\",\"2021-09-20 04:36:38\",\"2021-09-20 08:36:38\",\"2021-09-20 12:36:38\",\"2021-09-20 16:36:38\",\"2021-09-20 20:36:38\",\"2021-09-21 00:36:38\",\"2021-09-21 04:36:38\",\"2021-09-21 08:36:38\",\"2021-09-21 12:36:38\",\"2021-09-21 16:36:38\",\"2021-09-21 20:36:38\",\"2021-09-22 00:36:38\",\"2021-09-22 04:36:38\",\"2021-09-22 08:36:38\",\"2021-09-22 12:36:39\",\"2021-09-22 16:36:39\",\"2021-09-22 20:36:39\",\"2021-09-23 00:36:39\",\"2021-09-23 04:36:39\",\"2021-09-23 08:36:39\",\"2021-09-23 12:36:39\",\"2021-09-23 16:36:39\",\"2021-09-23 20:36:39\",\"2021-09-24 00:36:39\",\"2021-09-24 04:36:39\",\"2021-09-24 08:36:39\",\"2021-09-24 12:36:39\",\"2021-09-24 16:36:39\",\"2021-09-24 20:36:39\",\"2021-09-25 00:36:39\",\"2021-09-25 04:36:39\",\"2021-09-25 08:36:39\",\"2021-09-25 12:36:39\",\"2021-09-25 16:36:39\",\"2021-09-25 20:36:39\",\"2021-09-26 00:36:39\",\"2021-09-26 04:36:39\",\"2021-09-26 08:36:39\",\"2021-09-26 12:36:39\",\"2021-09-26 16:36:39\",\"2021-09-26 20:36:39\",\"2021-09-27 00:36:39\",\"2021-09-27 04:36:39\",\"2021-09-27 08:36:39\",\"2021-09-27 12:36:39\",\"2021-09-27 16:36:39\",\"2021-09-27 20:36:39\",\"2021-09-28 00:36:40\",\"2021-09-28 04:36:40\",\"2021-09-28 08:36:40\",\"2021-09-28 12:36:40\",\"2021-09-28 16:36:40\",\"2021-09-28 20:36:40\",\"2021-09-29 00:36:40\",\"2021-09-29 04:36:40\",\"2021-09-29 08:36:40\",\"2021-09-29 12:36:40\",\"2021-09-29 16:36:40\",\"2021-09-29 20:36:40\",\"2021-09-30 00:36:40\",\"2021-09-30 04:36:40\",\"2021-09-30 08:36:40\",\"2021-09-30 12:36:40\",\"2021-09-30 16:36:40\",\"2021-09-30 20:36:40\",\"2021-10-01 00:36:40\",\"2021-10-01 04:36:40\",\"2021-10-01 08:36:40\",\"2021-10-01 12:36:40\",\"2021-10-01 16:36:40\",\"2021-10-01 20:36:40\",\"2021-10-02 00:36:40\",\"2021-10-02 04:36:40\",\"2021-10-02 08:36:40\",\"2021-10-02 12:36:40\",\"2021-10-02 16:36:40\",\"2021-10-02 20:36:40\",\"2021-10-03 00:36:40\",\"2021-10-03 04:36:40\",\"2021-10-03 08:36:40\",\"2021-10-03 12:36:40\",\"2021-10-03 16:36:41\"],\"y\":[0,0,0,0,0,0,0,0,0,0,0,0,0,0,0,0,0,0,0,0,0,0,0,0,0,0,0,0,0,0,0,0,0,0,0,0,0,0,0,0,0,0,0,0,0,0,0,0,0,0,0,0,0,0,0,0,0,0,0,0,0,0,0,0,0,0,0,0,0,0,0,0,0,0,0,0,0,0,0,0,0,0,0,0,0,0,0,0,0,0,0],\"name\":\"bonds\",\"line\":{\"width\":1}},{\"x\":[],\"y\":[],\"name\":\"KeeperWork\",\"mode\":\"markers\"},{\"x\":[],\"y\":[],\"name\":\"Swap\",\"mode\":\"markers\"},{\"x\":[\"2021-09-18 16:36:29\"],\"y\":[0],\"name\":\"LiquidityCreditsReward\",\"mode\":\"markers\"},{\"x\":[\"2021-09-18 16:36:29\"],\"y\":[0],\"name\":\"LiquidityAddition\",\"mode\":\"markers\"},{\"x\":[\"2021-09-19 21:00:00\",\"2021-09-24 21:00:00\",\"2021-09-29 21:00:00\"],\"y\":[0,0,0],\"name\":\"Period\",\"mode\":\"markers\",\"marker\":{\"symbol\":\"line-ns-open\",\"size\":12,\"color\":\"rgb(0, 0, 0)\"}},{\"x\":[\"2021-09-18 16:36:29\",\"2021-09-18 20:36:38\",\"2021-09-19 00:36:38\",\"2021-09-19 04:36:38\",\"2021-09-19 08:36:38\",\"2021-09-19 12:36:38\",\"2021-09-19 16:36:38\",\"2021-09-19 20:36:38\",\"2021-09-20 00:36:38\",\"2021-09-20 04:36:38\",\"2021-09-20 08:36:38\",\"2021-09-20 12:36:38\",\"2021-09-20 16:36:38\",\"2021-09-20 20:36:38\",\"2021-09-21 00:36:38\",\"2021-09-21 04:36:38\",\"2021-09-21 08:36:38\",\"2021-09-21 12:36:38\",\"2021-09-21 16:36:38\",\"2021-09-21 20:36:38\",\"2021-09-22 00:36:38\",\"2021-09-22 04:36:38\",\"2021-09-22 08:36:38\",\"2021-09-22 12:36:39\",\"2021-09-22 16:36:39\",\"2021-09-22 20:36:39\",\"2021-09-23 00:36:39\",\"2021-09-23 04:36:39\",\"2021-09-23 08:36:39\",\"2021-09-23 12:36:39\",\"2021-09-23 16:36:39\",\"2021-09-23 20:36:39\",\"2021-09-24 00:36:39\",\"2021-09-24 04:36:39\",\"2021-09-24 08:36:39\",\"2021-09-24 12:36:39\",\"2021-09-24 16:36:39\",\"2021-09-24 20:36:39\",\"2021-09-25 00:36:39\",\"2021-09-25 04:36:39\",\"2021-09-25 08:36:39\",\"2021-09-25 12:36:39\",\"2021-09-25 16:36:39\",\"2021-09-25 20:36:39\",\"2021-09-26 00:36:39\",\"2021-09-26 04:36:39\",\"2021-09-26 08:36:39\",\"2021-09-26 12:36:39\",\"2021-09-26 16:36:39\",\"2021-09-26 20:36:39\",\"2021-09-27 00:36:39\",\"2021-09-27 04:36:39\",\"2021-09-27 08:36:39\",\"2021-09-27 12:36:39\",\"2021-09-27 16:36:39\",\"2021-09-27 20:36:39\",\"2021-09-28 00:36:40\",\"2021-09-28 04:36:40\",\"2021-09-28 08:36:40\",\"2021-09-28 12:36:40\",\"2021-09-28 16:36:40\",\"2021-09-28 20:36:40\",\"2021-09-29 00:36:40\",\"2021-09-29 04:36:40\",\"2021-09-29 08:36:40\",\"2021-09-29 12:36:40\",\"2021-09-29 16:36:40\",\"2021-09-29 20:36:40\",\"2021-09-30 00:36:40\",\"2021-09-30 04:36:40\",\"2021-09-30 08:36:40\",\"2021-09-30 12:36:40\",\"2021-09-30 16:36:40\",\"2021-09-30 20:36:40\",\"2021-10-01 00:36:40\",\"2021-10-01 04:36:40\",\"2021-10-01 08:36:40\",\"2021-10-01 12:36:40\",\"2021-10-01 16:36:40\",\"2021-10-01 20:36:40\",\"2021-10-02 00:36:40\",\"2021-10-02 04:36:40\",\"2021-10-02 08:36:40\",\"2021-10-02 12:36:40\",\"2021-10-02 16:36:40\",\"2021-10-02 20:36:40\",\"2021-10-03 00:36:40\",\"2021-10-03 04:36:40\",\"2021-10-03 08:36:40\",\"2021-10-03 12:36:40\",\"2021-10-03 16:36:41\"],\"y\":[0,0,0,0,0,0,0,0,0,0,0,0,0,0,0,0,0,0,0,0,0,0,0,0,0,0,0,0,0,0,1.47,1.47,1.47,1.47,1.47,1.47,1.47,1.47,1.47,1.47,1.47,1.47,1.47,1.47,1.47,1.47,1.47,1.47,1.47,1.47,1.47,1.47,1.47,1.47,1.47,1.47,1.47,1.47,1.47,1.47,1.47,1.47,1.47,1.47,1.47,1.47,1.47,1.47,1.47,1.47,1.47,1.47,1.47,1.47,1.47,1.47,1.47,1.47,1.47,1.47,1.47,1.47,1.47,1.47,1.47,1.47,1.47,1.47,1.47,1.47,1.47],\"name\":\"jobLiquidityCredits\",\"line\":{\"width\":1}}],{});}if(window.Plotly){plot();}else if(!window.require){var head = document.head || document.getElementsByTagName('head')[0];var s = document.createElement('script');s.src = 'https://cdn.plot.ly/plotly-latest.min.js';s.type = 'text/javascript';s.async = false;s.onreadystatechange = s.onload = plot;head.appendChild(s);}else{require(['/notebooks/node_modules/plotly-notebook-js/build/plotly.min.js'], function(Plotly){window.Plotly = Plotly;plot();});}</script></div>"
      ]
     },
     "execution_count": 8,
     "metadata": {},
     "output_type": "execute_result"
    },
    {
     "data": {
      "text/plain": [
       "[AsyncFunction: uniQuote]"
      ]
     },
     "execution_count": 8,
     "metadata": {},
     "output_type": "execute_result"
    }
   ],
   "source": [
    "// twap calculation: 1.0001^(tickDifference/timeDifference)\n",
    "\n",
    "uniQuote = async()=>{   \n",
    "    tickTime = rewardPeriodTime\n",
    "    uniResponse = await uniV3Pool.observe([0,tickTime])\n",
    "    quote = 1.0001**(((uniResponse[0][1]).sub(uniResponse[0][0])).div(tickTime))\n",
    "    console.log('tickQuote', quote)\n",
    "}"
   ]
  },
  {
   "cell_type": "code",
   "execution_count": 9,
   "id": "8ca497f8-1e0e-48ca-9514-90b7d6011419",
   "metadata": {},
   "outputs": [],
   "source": [
    "// credit mining with twap change\n",
    "\n",
    "next(async()=>{    \n",
    "    await $.resetRecording()\n",
    "    \n",
    "    await $.sleepAndExecute(\n",
    "        3 * rewardPeriodTime,\n",
    "        $.time(12,'hours'),\n",
    "        // make a big swap in uniswapV3 pool to alter quote\n",
    "        [{\n",
    "            run: async()=>{\n",
    "                    await common.makeASwap(\n",
    "                            provider, \n",
    "                            keep3r.v1.address, \n",
    "                            constants.WETH_ADDRESS, \n",
    "                            provider.address, \n",
    "                            1000, \n",
    "                            toUnit(300))\n",
    "                    await uniQuote()\n",
    "            },\n",
    "            every: $.time(2,'days')\n",
    "         }]\n",
    "    )\n",
    "    \n",
    "    await $.draw()\n",
    "})"
   ]
  },
  {
   "cell_type": "code",
   "execution_count": 10,
   "id": "33907294-82f1-4b85-93da-6d0087a7b5ed",
   "metadata": {},
   "outputs": [
    {
     "name": "stdout",
     "output_type": "stream",
     "text": [
      "tickQuote 7.673693966732986\n",
      "tickQuote 7.800573774683414\n",
      "tickQuote 8.060661716389532\n"
     ]
    }
   ],
   "source": [
    "// balanced work\n",
    "\n",
    "next(async()=>{\n",
    "    await $.sleep(rewardPeriodTime)\n",
    "    await $.resetRecording()\n",
    "        \n",
    "    await $.sleepAndExecute(\n",
    "        4 * rewardPeriodTime,\n",
    "        $.time(4,'hours'),\n",
    "        [{run: async()=>{\n",
    "            await job.connect(keep3r.keeper).workHard(2)\n",
    "        },\n",
    "        every: $.time(36,'hours')}]\n",
    "    )\n",
    "    \n",
    "    await $.draw()\n",
    "})"
   ]
  },
  {
   "cell_type": "code",
   "execution_count": 11,
   "id": "e345237a-b785-4205-87fe-43b83ff3371b",
   "metadata": {},
   "outputs": [
    {
     "name": "stdout",
     "output_type": "stream",
     "text": [
      "tickQuote 8.349435168414958\n",
      "tickQuote 8.667600748322114\n"
     ]
    }
   ],
   "source": [
    "// balanced work with twap change\n",
    "\n",
    "next(async()=>{\n",
    "    await $.sleep(rewardPeriodTime)\n",
    "    await $.resetRecording()\n",
    "        \n",
    "    await $.sleepAndExecute(\n",
    "        4 * rewardPeriodTime,\n",
    "        $.time(4,'hours'),\n",
    "        [{\n",
    "            run: async()=>{\n",
    "                await job.connect(keep3r.keeper).workHard(2)\n",
    "            },\n",
    "            every: $.time(36,'hours'),\n",
    "        },\n",
    "        {\n",
    "            run: async()=>{\n",
    "                await common.makeASwap(provider, keep3r.v1.address, constants.WETH_ADDRESS, provider.address, 1000, toUnit(300))\n",
    "            },\n",
    "            every: $.time(5,'days')\n",
    "        }]\n",
    "    )\n",
    "    \n",
    "    await $.draw()\n",
    "})"
   ]
  },
  {
   "cell_type": "markdown",
   "id": "a07eb3a0-bea7-469f-b251-106c1bbc11e2",
   "metadata": {},
   "source": [
    "In a normal case scenario, a job should be rewarded once every rewardPeriodStart and burn all remaining credits from last epoch. When jobs are running low on credits, they will be rewarded before the next rewardPeriod starts, and those credits will be minted with the previous epoch quote, so when next rewardPeriod starts, and liquidity quotes are updated, the job will have its remaining KP3R credits updated to the new quotes."
   ]
  },
  {
   "cell_type": "code",
   "execution_count": 12,
   "id": "dbe6ff2a-8777-4805-83c0-145701dfc0c2",
   "metadata": {},
   "outputs": [
    {
     "data": {
      "text/html": [
       "<div class='plotly-plot'><div id='notebook-plot-1646844859390'></div><script>function plot(){Plotly.plot('notebook-plot-1646844859390',[{\"x\":[\"2021-10-03 16:36:41\",\"2021-10-04 04:36:41\",\"2021-10-04 04:36:41\",\"2021-10-04 16:36:41\",\"2021-10-04 16:36:41\",\"2021-10-05 04:36:41\",\"2021-10-05 04:36:41\",\"2021-10-05 16:36:41\",\"2021-10-05 16:36:41\",\"2021-10-06 04:36:41\",\"2021-10-06 04:36:44\",\"2021-10-06 16:36:44\",\"2021-10-06 16:36:44\",\"2021-10-07 04:36:44\",\"2021-10-07 04:36:44\",\"2021-10-07 16:36:44\",\"2021-10-07 16:36:44\",\"2021-10-08 04:36:44\",\"2021-10-08 04:36:44\",\"2021-10-08 16:36:45\",\"2021-10-08 16:36:48\",\"2021-10-09 04:36:48\",\"2021-10-09 04:36:48\",\"2021-10-09 16:36:48\",\"2021-10-09 16:36:48\",\"2021-10-10 04:36:48\",\"2021-10-10 04:36:48\",\"2021-10-10 16:36:48\",\"2021-10-10 16:36:48\",\"2021-10-11 04:36:48\",\"2021-10-11 04:36:51\",\"2021-10-11 16:36:51\",\"2021-10-11 16:36:51\",\"2021-10-12 04:36:51\",\"2021-10-12 04:36:51\",\"2021-10-12 16:36:51\",\"2021-10-12 16:36:51\",\"2021-10-13 04:36:52\",\"2021-10-13 04:36:52\",\"2021-10-13 16:36:52\",\"2021-10-13 16:36:55\",\"2021-10-14 04:36:55\",\"2021-10-14 04:36:55\",\"2021-10-14 16:36:55\",\"2021-10-14 16:36:55\",\"2021-10-15 04:36:55\",\"2021-10-15 04:36:55\",\"2021-10-15 16:36:55\",\"2021-10-15 16:36:55\",\"2021-10-16 04:36:55\",\"2021-10-16 04:36:58\",\"2021-10-16 16:36:58\",\"2021-10-16 16:36:58\",\"2021-10-17 04:36:58\",\"2021-10-17 04:36:58\",\"2021-10-17 16:36:59\",\"2021-10-17 16:36:59\",\"2021-10-18 04:36:59\",\"2021-10-18 04:36:59\",\"2021-10-18 16:36:59\"],\"y\":[2.59,2.74,2.74,2.88,2.88,1.56,1.56,1.71,1.71,1.85,1.85,2,2,2.15,2.15,2.29,2.29,2.44,2.44,2.59,2.59,2.74,2.74,2.88,2.88,1.58,1.58,1.73,1.73,1.88,1.88,2.03,2.03,2.18,2.18,2.33,2.33,2.48,2.48,2.63,2.63,2.78,2.78,2.93,2.93,1.64,1.64,1.8,1.8,1.95,1.95,2.11,2.11,2.26,2.26,2.41,2.41,2.57,2.57,2.72],\"name\":\"totalJobCredits\",\"line\":{\"width\":1}},{\"x\":[\"2021-10-03 16:36:41\",\"2021-10-04 04:36:41\",\"2021-10-04 04:36:41\",\"2021-10-04 16:36:41\",\"2021-10-04 16:36:41\",\"2021-10-05 04:36:41\",\"2021-10-05 04:36:41\",\"2021-10-05 16:36:41\",\"2021-10-05 16:36:41\",\"2021-10-06 04:36:41\",\"2021-10-06 04:36:44\",\"2021-10-06 16:36:44\",\"2021-10-06 16:36:44\",\"2021-10-07 04:36:44\",\"2021-10-07 04:36:44\",\"2021-10-07 16:36:44\",\"2021-10-07 16:36:44\",\"2021-10-08 04:36:44\",\"2021-10-08 04:36:44\",\"2021-10-08 16:36:45\",\"2021-10-08 16:36:48\",\"2021-10-09 04:36:48\",\"2021-10-09 04:36:48\",\"2021-10-09 16:36:48\",\"2021-10-09 16:36:48\",\"2021-10-10 04:36:48\",\"2021-10-10 04:36:48\",\"2021-10-10 16:36:48\",\"2021-10-10 16:36:48\",\"2021-10-11 04:36:48\",\"2021-10-11 04:36:51\",\"2021-10-11 16:36:51\",\"2021-10-11 16:36:51\",\"2021-10-12 04:36:51\",\"2021-10-12 04:36:51\",\"2021-10-12 16:36:51\",\"2021-10-12 16:36:51\",\"2021-10-13 04:36:52\",\"2021-10-13 04:36:52\",\"2021-10-13 16:36:52\",\"2021-10-13 16:36:55\",\"2021-10-14 04:36:55\",\"2021-10-14 04:36:55\",\"2021-10-14 16:36:55\",\"2021-10-14 16:36:55\",\"2021-10-15 04:36:55\",\"2021-10-15 04:36:55\",\"2021-10-15 16:36:55\",\"2021-10-15 16:36:55\",\"2021-10-16 04:36:55\",\"2021-10-16 04:36:58\",\"2021-10-16 16:36:58\",\"2021-10-16 16:36:58\",\"2021-10-17 04:36:58\",\"2021-10-17 04:36:58\",\"2021-10-17 16:36:59\",\"2021-10-17 16:36:59\",\"2021-10-18 04:36:59\",\"2021-10-18 04:36:59\",\"2021-10-18 16:36:59\"],\"y\":[1.47,1.47,1.47,1.47,1.47,1.47,1.47,1.47,1.47,1.47,1.47,1.47,1.47,1.47,1.47,1.47,1.47,1.47,1.47,1.47,1.47,1.47,1.47,1.47,1.47,1.49,1.49,1.49,1.49,1.49,1.49,1.49,1.49,1.49,1.49,1.49,1.49,1.49,1.49,1.49,1.49,1.49,1.49,1.49,1.49,1.54,1.54,1.54,1.54,1.54,1.54,1.54,1.54,1.54,1.54,1.54,1.54,1.54,1.54,1.54],\"name\":\"jobPeriodCredits\",\"line\":{\"width\":1}},{\"x\":[\"2021-10-03 16:36:41\",\"2021-10-04 04:36:41\",\"2021-10-04 04:36:41\",\"2021-10-04 16:36:41\",\"2021-10-04 16:36:41\",\"2021-10-05 04:36:41\",\"2021-10-05 04:36:41\",\"2021-10-05 16:36:41\",\"2021-10-05 16:36:41\",\"2021-10-06 04:36:41\",\"2021-10-06 04:36:44\",\"2021-10-06 16:36:44\",\"2021-10-06 16:36:44\",\"2021-10-07 04:36:44\",\"2021-10-07 04:36:44\",\"2021-10-07 16:36:44\",\"2021-10-07 16:36:44\",\"2021-10-08 04:36:44\",\"2021-10-08 04:36:44\",\"2021-10-08 16:36:45\",\"2021-10-08 16:36:48\",\"2021-10-09 04:36:48\",\"2021-10-09 04:36:48\",\"2021-10-09 16:36:48\",\"2021-10-09 16:36:48\",\"2021-10-10 04:36:48\",\"2021-10-10 04:36:48\",\"2021-10-10 16:36:48\",\"2021-10-10 16:36:48\",\"2021-10-11 04:36:48\",\"2021-10-11 04:36:51\",\"2021-10-11 16:36:51\",\"2021-10-11 16:36:51\",\"2021-10-12 04:36:51\",\"2021-10-12 04:36:51\",\"2021-10-12 16:36:51\",\"2021-10-12 16:36:51\",\"2021-10-13 04:36:52\",\"2021-10-13 04:36:52\",\"2021-10-13 16:36:52\",\"2021-10-13 16:36:55\",\"2021-10-14 04:36:55\",\"2021-10-14 04:36:55\",\"2021-10-14 16:36:55\",\"2021-10-14 16:36:55\",\"2021-10-15 04:36:55\",\"2021-10-15 04:36:55\",\"2021-10-15 16:36:55\",\"2021-10-15 16:36:55\",\"2021-10-16 04:36:55\",\"2021-10-16 04:36:58\",\"2021-10-16 16:36:58\",\"2021-10-16 16:36:58\",\"2021-10-17 04:36:58\",\"2021-10-17 04:36:58\",\"2021-10-17 16:36:59\",\"2021-10-17 16:36:59\",\"2021-10-18 04:36:59\",\"2021-10-18 04:36:59\",\"2021-10-18 16:36:59\"],\"y\":[0,0,0,0,0,0,0,0,0,0,0,0,0,0,0,0,0,0,0,0,0,0,0,0,0,0,0,0,0,0,0,0,0,0,0,0,0,0,0,0,0,0,0,0,0,0,0,0,0,0,0,0,0,0,0,0,0,0,0,0],\"name\":\"bonds\",\"line\":{\"width\":1}},{\"x\":[],\"y\":[],\"name\":\"LiquidityCreditsReward\",\"mode\":\"markers\"},{\"x\":[],\"y\":[],\"name\":\"LiquidityAddition\",\"mode\":\"markers\"},{\"x\":[],\"y\":[],\"name\":\"KeeperWork\",\"mode\":\"markers\"},{\"x\":[\"2021-10-06 04:36:44\",\"2021-10-08 16:36:48\",\"2021-10-11 04:36:51\",\"2021-10-13 16:36:55\",\"2021-10-16 04:36:58\"],\"y\":[0,0,0,0,0],\"name\":\"Swap\",\"mode\":\"markers\"},{\"x\":[\"2021-10-04 21:00:00\",\"2021-10-09 21:00:00\",\"2021-10-14 21:00:00\"],\"y\":[0,0,0],\"name\":\"Period\",\"mode\":\"markers\",\"marker\":{\"symbol\":\"line-ns-open\",\"size\":12,\"color\":\"rgb(0, 0, 0)\"}},{\"x\":[\"2021-10-03 16:36:41\",\"2021-10-04 04:36:41\",\"2021-10-04 04:36:41\",\"2021-10-04 16:36:41\",\"2021-10-04 16:36:41\",\"2021-10-05 04:36:41\",\"2021-10-05 04:36:41\",\"2021-10-05 16:36:41\",\"2021-10-05 16:36:41\",\"2021-10-06 04:36:41\",\"2021-10-06 04:36:44\",\"2021-10-06 16:36:44\",\"2021-10-06 16:36:44\",\"2021-10-07 04:36:44\",\"2021-10-07 04:36:44\",\"2021-10-07 16:36:44\",\"2021-10-07 16:36:44\",\"2021-10-08 04:36:44\",\"2021-10-08 04:36:44\",\"2021-10-08 16:36:45\",\"2021-10-08 16:36:48\",\"2021-10-09 04:36:48\",\"2021-10-09 04:36:48\",\"2021-10-09 16:36:48\",\"2021-10-09 16:36:48\",\"2021-10-10 04:36:48\",\"2021-10-10 04:36:48\",\"2021-10-10 16:36:48\",\"2021-10-10 16:36:48\",\"2021-10-11 04:36:48\",\"2021-10-11 04:36:51\",\"2021-10-11 16:36:51\",\"2021-10-11 16:36:51\",\"2021-10-12 04:36:51\",\"2021-10-12 04:36:51\",\"2021-10-12 16:36:51\",\"2021-10-12 16:36:51\",\"2021-10-13 04:36:52\",\"2021-10-13 04:36:52\",\"2021-10-13 16:36:52\",\"2021-10-13 16:36:55\",\"2021-10-14 04:36:55\",\"2021-10-14 04:36:55\",\"2021-10-14 16:36:55\",\"2021-10-14 16:36:55\",\"2021-10-15 04:36:55\",\"2021-10-15 04:36:55\",\"2021-10-15 16:36:55\",\"2021-10-15 16:36:55\",\"2021-10-16 04:36:55\",\"2021-10-16 04:36:58\",\"2021-10-16 16:36:58\",\"2021-10-16 16:36:58\",\"2021-10-17 04:36:58\",\"2021-10-17 04:36:58\",\"2021-10-17 16:36:59\",\"2021-10-17 16:36:59\",\"2021-10-18 04:36:59\",\"2021-10-18 04:36:59\",\"2021-10-18 16:36:59\"],\"y\":[1.47,1.47,1.47,1.47,1.47,1.47,1.47,1.47,1.47,1.47,1.47,1.47,1.47,1.47,1.47,1.47,1.47,1.47,1.47,1.47,1.47,1.47,1.47,1.47,1.47,1.49,1.49,1.49,1.49,1.49,1.49,1.49,1.49,1.49,1.49,1.49,1.49,1.49,1.49,1.49,1.49,1.49,1.49,1.49,1.49,1.54,1.54,1.54,1.54,1.54,1.54,1.54,1.54,1.54,1.54,1.54,1.54,1.54,1.54,1.54],\"name\":\"jobLiquidityCredits\",\"line\":{\"width\":1}}],{});}if(window.Plotly){plot();}else if(!window.require){var head = document.head || document.getElementsByTagName('head')[0];var s = document.createElement('script');s.src = 'https://cdn.plot.ly/plotly-latest.min.js';s.type = 'text/javascript';s.async = false;s.onreadystatechange = s.onload = plot;head.appendChild(s);}else{require(['/notebooks/node_modules/plotly-notebook-js/build/plotly.min.js'], function(Plotly){window.Plotly = Plotly;plot();});}</script></div>"
      ]
     },
     "execution_count": 12,
     "metadata": {},
     "output_type": "execute_result"
    },
    {
     "name": "stderr",
     "output_type": "stream",
     "text": [
      "Error: Transaction reverted without a reason string\n",
      "    at <UnrecognizedContract>.<unknown> (0x3230e634040e333d4223d009c337ed43bbf13d49)\n",
      "    at <UnrecognizedContract>.<unknown> (0x25c435757a3d55513592b1e20e5ce953c462cd57)\n",
      "    at processTicksAndRejections (node:internal/process/task_queues:96:5)\n",
      "    at HardhatNode._mineBlockWithPendingTxs (/Users/ngng/notebooks/node_modules/hardhat/src/internal/hardhat-network/provider/node.ts:1582:23)\n",
      "    at HardhatNode.mineBlock (/Users/ngng/notebooks/node_modules/hardhat/src/internal/hardhat-network/provider/node.ts:435:16)\n",
      "    at EthModule._sendTransactionAndReturnHash (/Users/ngng/notebooks/node_modules/hardhat/src/internal/hardhat-network/provider/modules/eth.ts:1494:18)\n",
      "    at HardhatNetworkProvider.request (/Users/ngng/notebooks/node_modules/hardhat/src/internal/hardhat-network/provider/provider.ts:108:18)\n",
      "    at EthersProviderWrapper.send (/Users/ngng/notebooks/node_modules/@nomiclabs/hardhat-ethers/src/internal/ethers-provider-wrapper.ts:13:20)\n",
      "Error: Transaction reverted without a reason string\n",
      "    at <UnrecognizedContract>.<unknown> (0x3230e634040e333d4223d009c337ed43bbf13d49)\n",
      "    at <UnrecognizedContract>.<unknown> (0x25c435757a3d55513592b1e20e5ce953c462cd57)\n",
      "    at processTicksAndRejections (node:internal/process/task_queues:96:5)\n",
      "    at HardhatNode._mineBlockWithPendingTxs (/Users/ngng/notebooks/node_modules/hardhat/src/internal/hardhat-network/provider/node.ts:1582:23)\n",
      "    at HardhatNode.mineBlock (/Users/ngng/notebooks/node_modules/hardhat/src/internal/hardhat-network/provider/node.ts:435:16)\n",
      "    at EthModule._sendTransactionAndReturnHash (/Users/ngng/notebooks/node_modules/hardhat/src/internal/hardhat-network/provider/modules/eth.ts:1494:18)\n",
      "    at HardhatNetworkProvider.request (/Users/ngng/notebooks/node_modules/hardhat/src/internal/hardhat-network/provider/provider.ts:108:18)\n",
      "    at EthersProviderWrapper.send (/Users/ngng/notebooks/node_modules/@nomiclabs/hardhat-ethers/src/internal/ethers-provider-wrapper.ts:13:20)\n",
      "Error: Transaction reverted without a reason string\n",
      "    at <UnrecognizedContract>.<unknown> (0x3230e634040e333d4223d009c337ed43bbf13d49)\n",
      "    at <UnrecognizedContract>.<unknown> (0x25c435757a3d55513592b1e20e5ce953c462cd57)\n",
      "    at processTicksAndRejections (node:internal/process/task_queues:96:5)\n",
      "    at HardhatNode._mineBlockWithPendingTxs (/Users/ngng/notebooks/node_modules/hardhat/src/internal/hardhat-network/provider/node.ts:1582:23)\n",
      "    at HardhatNode.mineBlock (/Users/ngng/notebooks/node_modules/hardhat/src/internal/hardhat-network/provider/node.ts:435:16)\n",
      "    at EthModule._sendTransactionAndReturnHash (/Users/ngng/notebooks/node_modules/hardhat/src/internal/hardhat-network/provider/modules/eth.ts:1494:18)\n",
      "    at HardhatNetworkProvider.request (/Users/ngng/notebooks/node_modules/hardhat/src/internal/hardhat-network/provider/provider.ts:108:18)\n",
      "    at EthersProviderWrapper.send (/Users/ngng/notebooks/node_modules/@nomiclabs/hardhat-ethers/src/internal/ethers-provider-wrapper.ts:13:20)\n"
     ]
    }
   ],
   "source": [
    "// intense work\n",
    "\n",
    "next(async()=>{\n",
    "    await $.sleep(rewardPeriodTime)\n",
    "    await $.resetRecording()\n",
    "    block = await $.block()\n",
    "    await advanceTimeAndBlock(rewardPeriodTime - (block.timestamp % rewardPeriodTime))\n",
    "    \n",
    "    await $.sleepAndExecute(\n",
    "        2 * rewardPeriodTime,\n",
    "        $.time(4,'hours'),\n",
    "        [{run: async()=>{\n",
    "            await job.connect(keep3r.keeper).workHard(3)\n",
    "        },\n",
    "        every: $.time(36,'hours')}]\n",
    "    )\n",
    " \n",
    "    await $.draw()\n",
    "})"
   ]
  },
  {
   "cell_type": "markdown",
   "id": "67d9fe8e-7a4c-432f-a4ba-241f0c36aa29",
   "metadata": {},
   "source": [
    "On a deficitary job scenario, when the job is spending more KP3R in a period than it is rewarded, the job will be able to keep on paying keepers, but the minting period starts to shrink, having to mint more frequently, and rewarding extra credits for the keeper, every time he has to reward the job to get his payment.\n",
    "\n",
    "Each time, the reward period will be shorter, as the job is not being rewarded the full amount for a period, but only the proportional relation of the time that passed since last reward, and the rewardPeriod.\n",
    "\n",
    "Ultimately, when the job has not enough `totalJobCredits` to reward the keeper for working the job (and some extra to pay the keeper for rewarding the credits), the transaction will revert with `InsufficientFunds`."
   ]
  },
  {
   "cell_type": "markdown",
   "id": "18c9f275-b841-4cab-b5e4-72d770665853",
   "metadata": {},
   "source": [
    "##### Maximum credit spending\n",
    "\n",
    "Since jobs are able to be worked as long as `totalJobCredits > payment`, it is possible for the jobs to have a spending bigger than their current credits, only if they have minted so far enough to make the payment. If a job has been minting credits (for a maximum of a `rewardPeriodTime`), and preserves its current credits, it can spend both on a single payment, greater than `jobPeriodCredits` and no greater than `2 * jobPeriodCredits`."
   ]
  },
  {
   "cell_type": "code",
   "execution_count": 24,
   "id": "f3e88889-972e-42dc-8597-eac7f960f68a",
   "metadata": {
    "tags": []
   },
   "outputs": [],
   "source": [
    "// maximum credit spending\n",
    "\n",
    "next(async()=>{\n",
    "    await $.resetRecording()\n",
    "    block = await $.block()\n",
    "    await $.sleep(rewardPeriodTime)\n",
    "    await advanceTimeAndBlock(rewardPeriodTime - (block.timestamp % rewardPeriodTime))\n",
    "    \n",
    "    await $.sleepAndExecute(\n",
    "        2 * Math.floor(1.9 * rewardPeriodTime),\n",
    "        $.time(4,'hours'),\n",
    "        [{run: async()=>{\n",
    "            await job.connect(keep3r.keeper).workHard(10)\n",
    "        },\n",
    "        every: Math.floor(1.8 * rewardPeriodTime)}]\n",
    "    )\n",
    " \n",
    "    await $.sleepAndRecord(rewardPeriodTime, $.time(4,'hours'))\n",
    "    \n",
    "    await $.draw()\n",
    "})"
   ]
  },
  {
   "cell_type": "markdown",
   "id": "712bc89c-3bd3-456e-982e-509e225bf90f",
   "metadata": {},
   "source": [
    "##### Removing liquidity\n",
    "\n",
    "When a liquidity is removed, Keep3r will recalculate the corresponding `jobPeriodCredits` and reduce current credits proportionally to the impact."
   ]
  },
  {
   "cell_type": "code",
   "execution_count": 25,
   "id": "f334a479-07d9-4a03-aae2-04dd9839e158",
   "metadata": {
    "tags": []
   },
   "outputs": [
    {
     "data": {
      "text/html": [
       "<div class='plotly-plot'><div id='notebook-plot-1644940227437'></div><script>function plot(){Plotly.plot('notebook-plot-1644940227437',[{\"x\":[\"2021-11-17 16:30:05\",\"2021-11-17 20:30:05\",\"2021-11-17 20:30:05\",\"2021-11-18 00:30:05\",\"2021-11-18 00:30:05\",\"2021-11-18 04:30:05\",\"2021-11-18 04:30:05\",\"2021-11-18 08:30:05\",\"2021-11-18 08:30:05\",\"2021-11-18 12:30:05\",\"2021-11-18 12:30:05\",\"2021-11-18 16:30:05\",\"2021-11-18 16:30:05\",\"2021-11-18 20:30:05\",\"2021-11-18 20:30:05\",\"2021-11-19 00:30:05\",\"2021-11-19 00:30:05\",\"2021-11-19 04:30:05\",\"2021-11-19 04:30:05\",\"2021-11-19 08:30:05\",\"2021-11-19 08:30:06\",\"2021-11-19 12:30:06\",\"2021-11-19 12:30:06\",\"2021-11-19 16:30:07\",\"2021-11-19 16:30:07\",\"2021-11-19 20:30:07\",\"2021-11-19 20:30:07\",\"2021-11-20 00:30:07\",\"2021-11-20 00:30:07\",\"2021-11-20 04:30:07\",\"2021-11-20 04:30:07\",\"2021-11-20 08:30:07\",\"2021-11-20 08:30:07\",\"2021-11-20 12:30:07\",\"2021-11-20 12:30:07\",\"2021-11-20 16:30:07\",\"2021-11-20 16:30:07\",\"2021-11-20 20:30:07\",\"2021-11-20 20:30:07\",\"2021-11-21 00:30:07\",\"2021-11-21 00:30:08\",\"2021-11-21 04:30:08\",\"2021-11-21 04:30:08\",\"2021-11-21 08:30:08\",\"2021-11-21 08:30:08\",\"2021-11-21 12:30:08\",\"2021-11-21 12:30:08\",\"2021-11-21 16:30:08\",\"2021-11-21 16:30:08\",\"2021-11-21 20:30:08\",\"2021-11-21 20:30:08\",\"2021-11-22 00:30:08\",\"2021-11-22 00:30:08\",\"2021-11-22 04:30:08\",\"2021-11-22 04:30:08\",\"2021-11-22 08:30:08\",\"2021-11-22 08:30:08\",\"2021-11-22 12:30:08\",\"2021-11-22 12:30:08\",\"2021-11-22 16:30:08\",\"2021-11-22 16:30:09\",\"2021-11-22 20:30:09\",\"2021-11-22 20:30:12\",\"2021-11-23 00:30:12\",\"2021-11-23 00:30:12\",\"2021-11-23 04:30:12\",\"2021-11-23 04:30:12\",\"2021-11-23 08:30:12\",\"2021-11-23 08:30:12\",\"2021-11-23 12:30:12\",\"2021-11-23 12:30:12\",\"2021-11-23 16:30:12\",\"2021-11-23 16:30:12\",\"2021-11-23 20:30:12\",\"2021-11-23 20:30:12\",\"2021-11-24 00:30:12\",\"2021-11-24 00:30:12\",\"2021-11-24 04:30:12\",\"2021-11-24 04:30:12\",\"2021-11-24 08:30:12\",\"2021-11-24 08:30:13\",\"2021-11-24 12:30:13\",\"2021-11-24 12:30:13\",\"2021-11-24 16:30:13\",\"2021-11-24 16:30:13\",\"2021-11-24 20:30:13\",\"2021-11-24 20:30:13\",\"2021-11-25 00:30:13\",\"2021-11-25 00:30:13\",\"2021-11-25 04:30:13\",\"2021-11-25 04:30:13\",\"2021-11-25 08:30:13\",\"2021-11-25 08:30:13\",\"2021-11-25 12:30:13\",\"2021-11-25 12:30:13\",\"2021-11-25 16:30:13\",\"2021-11-25 16:30:13\",\"2021-11-25 20:30:13\",\"2021-11-25 20:30:13\",\"2021-11-26 00:30:13\",\"2021-11-26 00:30:14\",\"2021-11-26 04:30:15\",\"2021-11-26 04:30:15\",\"2021-11-26 08:30:15\",\"2021-11-26 08:30:15\",\"2021-11-26 12:30:15\",\"2021-11-26 12:30:15\",\"2021-11-26 16:30:15\",\"2021-11-26 16:30:15\",\"2021-11-26 20:30:15\",\"2021-11-26 20:30:15\",\"2021-11-27 00:30:15\",\"2021-11-27 00:30:15\",\"2021-11-27 04:30:15\",\"2021-11-27 04:30:15\",\"2021-11-27 08:30:15\",\"2021-11-27 08:30:15\",\"2021-11-27 12:30:15\",\"2021-11-27 12:30:15\",\"2021-11-27 16:30:15\",\"2021-11-27 16:30:16\",\"2021-11-27 20:30:16\",\"2021-11-27 20:30:16\",\"2021-11-28 00:30:16\",\"2021-11-28 00:30:19\",\"2021-11-28 04:30:19\",\"2021-11-28 04:30:19\",\"2021-11-28 08:30:19\",\"2021-11-28 08:30:19\",\"2021-11-28 12:30:19\",\"2021-11-28 12:30:19\",\"2021-11-28 16:30:19\",\"2021-11-28 16:30:19\",\"2021-11-28 20:30:19\",\"2021-11-28 20:30:19\",\"2021-11-29 00:30:19\",\"2021-11-29 00:30:19\",\"2021-11-29 04:30:19\",\"2021-11-29 04:30:19\",\"2021-11-29 08:30:19\",\"2021-11-29 08:30:20\",\"2021-11-29 12:30:21\",\"2021-11-29 12:30:21\",\"2021-11-29 16:30:21\",\"2021-11-29 16:30:21\",\"2021-11-29 20:30:21\",\"2021-11-29 20:30:21\",\"2021-11-30 00:30:21\",\"2021-11-30 00:30:21\",\"2021-11-30 04:30:21\",\"2021-11-30 04:30:21\",\"2021-11-30 08:30:21\",\"2021-11-30 08:30:21\",\"2021-11-30 12:30:21\",\"2021-11-30 12:30:21\",\"2021-11-30 16:30:21\",\"2021-11-30 16:30:21\",\"2021-11-30 20:30:21\",\"2021-11-30 20:30:21\",\"2021-12-01 00:30:21\",\"2021-12-01 00:30:22\",\"2021-12-01 04:30:22\",\"2021-12-01 04:30:22\",\"2021-12-01 08:30:22\",\"2021-12-01 08:30:22\",\"2021-12-01 12:30:22\",\"2021-12-01 12:30:22\",\"2021-12-01 16:30:22\",\"2021-12-01 16:30:22\",\"2021-12-01 20:30:22\",\"2021-12-01 20:30:22\",\"2021-12-02 00:30:22\",\"2021-12-02 00:30:22\",\"2021-12-02 04:30:22\",\"2021-12-02 04:30:22\",\"2021-12-02 08:30:22\",\"2021-12-02 08:30:22\",\"2021-12-02 12:30:22\",\"2021-12-02 12:30:22\",\"2021-12-02 16:30:22\",\"2021-12-02 16:30:23\",\"2021-12-02 20:30:23\",\"2021-12-02 20:30:23\",\"2021-12-03 00:30:24\",\"2021-12-03 00:30:24\",\"2021-12-03 04:30:24\",\"2021-12-03 04:30:27\",\"2021-12-03 08:30:27\",\"2021-12-03 08:30:27\",\"2021-12-03 12:30:27\",\"2021-12-03 12:30:27\",\"2021-12-03 16:30:27\",\"2021-12-03 16:30:27\",\"2021-12-03 20:30:27\",\"2021-12-03 20:30:27\",\"2021-12-04 00:30:27\",\"2021-12-04 00:30:27\",\"2021-12-04 04:30:27\",\"2021-12-04 04:30:27\",\"2021-12-04 08:30:27\",\"2021-12-04 08:30:28\",\"2021-12-04 12:30:28\",\"2021-12-04 12:30:28\",\"2021-12-04 16:30:28\",\"2021-12-04 16:30:28\",\"2021-12-04 20:30:28\",\"2021-12-04 20:30:28\",\"2021-12-05 00:30:28\",\"2021-12-05 00:30:28\",\"2021-12-05 04:30:28\",\"2021-12-05 04:30:28\",\"2021-12-05 08:30:28\",\"2021-12-05 08:30:28\",\"2021-12-05 12:30:28\",\"2021-12-05 12:30:28\",\"2021-12-05 16:30:28\",\"2021-12-05 16:30:28\",\"2021-12-05 20:30:28\",\"2021-12-05 20:30:28\",\"2021-12-06 00:30:28\",\"2021-12-06 00:30:29\",\"2021-12-06 04:30:30\",\"2021-12-06 04:30:30\",\"2021-12-06 08:30:30\",\"2021-12-06 08:30:30\",\"2021-12-06 12:30:30\",\"2021-12-06 12:30:30\",\"2021-12-06 16:30:30\",\"2021-12-06 16:30:30\",\"2021-12-06 20:30:30\",\"2021-12-06 20:30:30\",\"2021-12-07 00:30:30\",\"2021-12-07 00:30:30\",\"2021-12-07 04:30:30\",\"2021-12-07 04:30:30\",\"2021-12-07 08:30:30\",\"2021-12-07 08:30:30\",\"2021-12-07 12:30:30\",\"2021-12-07 12:30:30\",\"2021-12-07 16:30:30\"],\"y\":[2.83,2.88,2.88,2.93,2.93,2.99,2.99,3.04,3.04,3.09,3.09,3.15,3.15,3.2,3.2,1.65,1.65,1.7,1.7,1.76,1.24,1.29,1.29,1.35,1.35,1.4,1.4,1.45,1.45,1.51,1.51,1.56,1.56,1.61,1.61,1.67,1.67,1.72,1.72,1.77,1.3,1.35,1.35,1.41,1.41,1.46,1.46,1.51,1.51,1.57,1.57,1.62,1.62,1.67,1.67,1.73,1.73,1.78,1.78,1.83,1.36,1.41,1.41,1.47,1.47,1.52,1.52,1.57,1.57,1.63,1.63,1.68,1.68,1.73,1.73,1.65,1.65,1.71,1.71,1.76,1.25,1.3,1.3,1.35,1.35,1.41,1.41,1.46,1.46,1.51,1.51,1.57,1.57,1.62,1.62,1.68,1.68,1.73,1.73,1.78,1.31,1.36,1.36,1.41,1.41,1.47,1.47,1.52,1.52,1.57,1.57,1.63,1.63,1.68,1.68,1.74,1.74,1.79,1.79,1.84,1.37,1.42,1.42,1.47,1.47,1.53,1.53,1.58,1.58,1.63,1.63,1.69,1.69,1.74,1.74,1.68,1.68,1.74,1.74,1.79,1.27,1.32,1.32,1.38,1.38,1.43,1.43,1.49,1.49,1.54,1.54,1.6,1.6,1.65,1.65,1.7,1.7,1.76,1.76,1.81,1.33,1.38,1.38,1.44,1.44,1.49,1.49,1.55,1.55,1.6,1.6,1.66,1.66,1.71,1.71,1.77,1.77,1.82,1.82,1.88,1.39,1.45,1.45,1.5,1.5,1.55,1.55,1.61,1.61,1.66,1.66,1.72,1.72,1.77,1.77,1.71,1.71,1.77,1.77,1.82,1.29,1.34,1.34,1.4,1.4,1.46,1.46,1.51,1.51,1.57,1.57,1.62,1.62,1.68,1.68,1.73,1.73,1.79,1.79,1.84,1.35,1.41,1.41,1.46,1.46,1.52,1.52,1.57,1.57,1.63,1.63,1.68,1.68,1.74,1.74,1.8,1.8,1.85,1.85,1.91],\"name\":\"totalJobCredits\",\"line\":{\"width\":1}},{\"x\":[\"2021-11-17 16:30:05\",\"2021-11-17 20:30:05\",\"2021-11-17 20:30:05\",\"2021-11-18 00:30:05\",\"2021-11-18 00:30:05\",\"2021-11-18 04:30:05\",\"2021-11-18 04:30:05\",\"2021-11-18 08:30:05\",\"2021-11-18 08:30:05\",\"2021-11-18 12:30:05\",\"2021-11-18 12:30:05\",\"2021-11-18 16:30:05\",\"2021-11-18 16:30:05\",\"2021-11-18 20:30:05\",\"2021-11-18 20:30:05\",\"2021-11-19 00:30:05\",\"2021-11-19 00:30:05\",\"2021-11-19 04:30:05\",\"2021-11-19 04:30:05\",\"2021-11-19 08:30:05\",\"2021-11-19 08:30:06\",\"2021-11-19 12:30:06\",\"2021-11-19 12:30:06\",\"2021-11-19 16:30:07\",\"2021-11-19 16:30:07\",\"2021-11-19 20:30:07\",\"2021-11-19 20:30:07\",\"2021-11-20 00:30:07\",\"2021-11-20 00:30:07\",\"2021-11-20 04:30:07\",\"2021-11-20 04:30:07\",\"2021-11-20 08:30:07\",\"2021-11-20 08:30:07\",\"2021-11-20 12:30:07\",\"2021-11-20 12:30:07\",\"2021-11-20 16:30:07\",\"2021-11-20 16:30:07\",\"2021-11-20 20:30:07\",\"2021-11-20 20:30:07\",\"2021-11-21 00:30:07\",\"2021-11-21 00:30:08\",\"2021-11-21 04:30:08\",\"2021-11-21 04:30:08\",\"2021-11-21 08:30:08\",\"2021-11-21 08:30:08\",\"2021-11-21 12:30:08\",\"2021-11-21 12:30:08\",\"2021-11-21 16:30:08\",\"2021-11-21 16:30:08\",\"2021-11-21 20:30:08\",\"2021-11-21 20:30:08\",\"2021-11-22 00:30:08\",\"2021-11-22 00:30:08\",\"2021-11-22 04:30:08\",\"2021-11-22 04:30:08\",\"2021-11-22 08:30:08\",\"2021-11-22 08:30:08\",\"2021-11-22 12:30:08\",\"2021-11-22 12:30:08\",\"2021-11-22 16:30:08\",\"2021-11-22 16:30:09\",\"2021-11-22 20:30:09\",\"2021-11-22 20:30:12\",\"2021-11-23 00:30:12\",\"2021-11-23 00:30:12\",\"2021-11-23 04:30:12\",\"2021-11-23 04:30:12\",\"2021-11-23 08:30:12\",\"2021-11-23 08:30:12\",\"2021-11-23 12:30:12\",\"2021-11-23 12:30:12\",\"2021-11-23 16:30:12\",\"2021-11-23 16:30:12\",\"2021-11-23 20:30:12\",\"2021-11-23 20:30:12\",\"2021-11-24 00:30:12\",\"2021-11-24 00:30:12\",\"2021-11-24 04:30:12\",\"2021-11-24 04:30:12\",\"2021-11-24 08:30:12\",\"2021-11-24 08:30:13\",\"2021-11-24 12:30:13\",\"2021-11-24 12:30:13\",\"2021-11-24 16:30:13\",\"2021-11-24 16:30:13\",\"2021-11-24 20:30:13\",\"2021-11-24 20:30:13\",\"2021-11-25 00:30:13\",\"2021-11-25 00:30:13\",\"2021-11-25 04:30:13\",\"2021-11-25 04:30:13\",\"2021-11-25 08:30:13\",\"2021-11-25 08:30:13\",\"2021-11-25 12:30:13\",\"2021-11-25 12:30:13\",\"2021-11-25 16:30:13\",\"2021-11-25 16:30:13\",\"2021-11-25 20:30:13\",\"2021-11-25 20:30:13\",\"2021-11-26 00:30:13\",\"2021-11-26 00:30:14\",\"2021-11-26 04:30:15\",\"2021-11-26 04:30:15\",\"2021-11-26 08:30:15\",\"2021-11-26 08:30:15\",\"2021-11-26 12:30:15\",\"2021-11-26 12:30:15\",\"2021-11-26 16:30:15\",\"2021-11-26 16:30:15\",\"2021-11-26 20:30:15\",\"2021-11-26 20:30:15\",\"2021-11-27 00:30:15\",\"2021-11-27 00:30:15\",\"2021-11-27 04:30:15\",\"2021-11-27 04:30:15\",\"2021-11-27 08:30:15\",\"2021-11-27 08:30:15\",\"2021-11-27 12:30:15\",\"2021-11-27 12:30:15\",\"2021-11-27 16:30:15\",\"2021-11-27 16:30:16\",\"2021-11-27 20:30:16\",\"2021-11-27 20:30:16\",\"2021-11-28 00:30:16\",\"2021-11-28 00:30:19\",\"2021-11-28 04:30:19\",\"2021-11-28 04:30:19\",\"2021-11-28 08:30:19\",\"2021-11-28 08:30:19\",\"2021-11-28 12:30:19\",\"2021-11-28 12:30:19\",\"2021-11-28 16:30:19\",\"2021-11-28 16:30:19\",\"2021-11-28 20:30:19\",\"2021-11-28 20:30:19\",\"2021-11-29 00:30:19\",\"2021-11-29 00:30:19\",\"2021-11-29 04:30:19\",\"2021-11-29 04:30:19\",\"2021-11-29 08:30:19\",\"2021-11-29 08:30:20\",\"2021-11-29 12:30:21\",\"2021-11-29 12:30:21\",\"2021-11-29 16:30:21\",\"2021-11-29 16:30:21\",\"2021-11-29 20:30:21\",\"2021-11-29 20:30:21\",\"2021-11-30 00:30:21\",\"2021-11-30 00:30:21\",\"2021-11-30 04:30:21\",\"2021-11-30 04:30:21\",\"2021-11-30 08:30:21\",\"2021-11-30 08:30:21\",\"2021-11-30 12:30:21\",\"2021-11-30 12:30:21\",\"2021-11-30 16:30:21\",\"2021-11-30 16:30:21\",\"2021-11-30 20:30:21\",\"2021-11-30 20:30:21\",\"2021-12-01 00:30:21\",\"2021-12-01 00:30:22\",\"2021-12-01 04:30:22\",\"2021-12-01 04:30:22\",\"2021-12-01 08:30:22\",\"2021-12-01 08:30:22\",\"2021-12-01 12:30:22\",\"2021-12-01 12:30:22\",\"2021-12-01 16:30:22\",\"2021-12-01 16:30:22\",\"2021-12-01 20:30:22\",\"2021-12-01 20:30:22\",\"2021-12-02 00:30:22\",\"2021-12-02 00:30:22\",\"2021-12-02 04:30:22\",\"2021-12-02 04:30:22\",\"2021-12-02 08:30:22\",\"2021-12-02 08:30:22\",\"2021-12-02 12:30:22\",\"2021-12-02 12:30:22\",\"2021-12-02 16:30:22\",\"2021-12-02 16:30:23\",\"2021-12-02 20:30:23\",\"2021-12-02 20:30:23\",\"2021-12-03 00:30:24\",\"2021-12-03 00:30:24\",\"2021-12-03 04:30:24\",\"2021-12-03 04:30:27\",\"2021-12-03 08:30:27\",\"2021-12-03 08:30:27\",\"2021-12-03 12:30:27\",\"2021-12-03 12:30:27\",\"2021-12-03 16:30:27\",\"2021-12-03 16:30:27\",\"2021-12-03 20:30:27\",\"2021-12-03 20:30:27\",\"2021-12-04 00:30:27\",\"2021-12-04 00:30:27\",\"2021-12-04 04:30:27\",\"2021-12-04 04:30:27\",\"2021-12-04 08:30:27\",\"2021-12-04 08:30:28\",\"2021-12-04 12:30:28\",\"2021-12-04 12:30:28\",\"2021-12-04 16:30:28\",\"2021-12-04 16:30:28\",\"2021-12-04 20:30:28\",\"2021-12-04 20:30:28\",\"2021-12-05 00:30:28\",\"2021-12-05 00:30:28\",\"2021-12-05 04:30:28\",\"2021-12-05 04:30:28\",\"2021-12-05 08:30:28\",\"2021-12-05 08:30:28\",\"2021-12-05 12:30:28\",\"2021-12-05 12:30:28\",\"2021-12-05 16:30:28\",\"2021-12-05 16:30:28\",\"2021-12-05 20:30:28\",\"2021-12-05 20:30:28\",\"2021-12-06 00:30:28\",\"2021-12-06 00:30:29\",\"2021-12-06 04:30:30\",\"2021-12-06 04:30:30\",\"2021-12-06 08:30:30\",\"2021-12-06 08:30:30\",\"2021-12-06 12:30:30\",\"2021-12-06 12:30:30\",\"2021-12-06 16:30:30\",\"2021-12-06 16:30:30\",\"2021-12-06 20:30:30\",\"2021-12-06 20:30:30\",\"2021-12-07 00:30:30\",\"2021-12-07 00:30:30\",\"2021-12-07 04:30:30\",\"2021-12-07 04:30:30\",\"2021-12-07 08:30:30\",\"2021-12-07 08:30:30\",\"2021-12-07 12:30:30\",\"2021-12-07 12:30:30\",\"2021-12-07 16:30:30\"],\"y\":[1.6,1.6,1.6,1.6,1.6,1.6,1.6,1.6,1.6,1.6,1.6,1.6,1.6,1.6,1.6,1.6,1.6,1.6,1.6,1.6,1.6,1.6,1.6,1.6,1.6,1.6,1.6,1.6,1.6,1.6,1.6,1.6,1.6,1.6,1.6,1.6,1.6,1.6,1.6,1.6,1.6,1.6,1.6,1.6,1.6,1.6,1.6,1.6,1.6,1.6,1.6,1.6,1.6,1.6,1.6,1.6,1.6,1.6,1.6,1.6,1.6,1.6,1.6,1.6,1.6,1.6,1.6,1.6,1.6,1.6,1.6,1.6,1.6,1.6,1.6,1.61,1.61,1.61,1.61,1.61,1.61,1.61,1.61,1.61,1.61,1.61,1.61,1.61,1.61,1.61,1.61,1.61,1.61,1.61,1.61,1.61,1.61,1.61,1.61,1.61,1.61,1.61,1.61,1.61,1.61,1.61,1.61,1.61,1.61,1.61,1.61,1.61,1.61,1.61,1.61,1.61,1.61,1.61,1.61,1.61,1.61,1.61,1.61,1.61,1.61,1.61,1.61,1.61,1.61,1.61,1.61,1.61,1.61,1.61,1.61,1.64,1.64,1.64,1.64,1.64,1.64,1.64,1.64,1.64,1.64,1.64,1.64,1.64,1.64,1.64,1.64,1.64,1.64,1.64,1.64,1.64,1.64,1.64,1.64,1.64,1.64,1.64,1.64,1.64,1.64,1.64,1.64,1.64,1.64,1.64,1.64,1.64,1.64,1.64,1.64,1.64,1.64,1.64,1.64,1.64,1.64,1.64,1.64,1.64,1.64,1.64,1.64,1.64,1.64,1.64,1.64,1.64,1.64,1.64,1.64,1.66,1.66,1.66,1.66,1.66,1.66,1.66,1.66,1.66,1.66,1.66,1.66,1.66,1.66,1.66,1.66,1.66,1.66,1.66,1.66,1.66,1.66,1.66,1.66,1.66,1.66,1.66,1.66,1.66,1.66,1.66,1.66,1.66,1.66,1.66,1.66,1.66,1.66,1.66,1.66,1.66,1.66,1.66,1.66,1.66],\"name\":\"jobPeriodCredits\",\"line\":{\"width\":1}},{\"x\":[\"2021-11-17 16:30:05\",\"2021-11-17 20:30:05\",\"2021-11-17 20:30:05\",\"2021-11-18 00:30:05\",\"2021-11-18 00:30:05\",\"2021-11-18 04:30:05\",\"2021-11-18 04:30:05\",\"2021-11-18 08:30:05\",\"2021-11-18 08:30:05\",\"2021-11-18 12:30:05\",\"2021-11-18 12:30:05\",\"2021-11-18 16:30:05\",\"2021-11-18 16:30:05\",\"2021-11-18 20:30:05\",\"2021-11-18 20:30:05\",\"2021-11-19 00:30:05\",\"2021-11-19 00:30:05\",\"2021-11-19 04:30:05\",\"2021-11-19 04:30:05\",\"2021-11-19 08:30:05\",\"2021-11-19 08:30:06\",\"2021-11-19 12:30:06\",\"2021-11-19 12:30:06\",\"2021-11-19 16:30:07\",\"2021-11-19 16:30:07\",\"2021-11-19 20:30:07\",\"2021-11-19 20:30:07\",\"2021-11-20 00:30:07\",\"2021-11-20 00:30:07\",\"2021-11-20 04:30:07\",\"2021-11-20 04:30:07\",\"2021-11-20 08:30:07\",\"2021-11-20 08:30:07\",\"2021-11-20 12:30:07\",\"2021-11-20 12:30:07\",\"2021-11-20 16:30:07\",\"2021-11-20 16:30:07\",\"2021-11-20 20:30:07\",\"2021-11-20 20:30:07\",\"2021-11-21 00:30:07\",\"2021-11-21 00:30:08\",\"2021-11-21 04:30:08\",\"2021-11-21 04:30:08\",\"2021-11-21 08:30:08\",\"2021-11-21 08:30:08\",\"2021-11-21 12:30:08\",\"2021-11-21 12:30:08\",\"2021-11-21 16:30:08\",\"2021-11-21 16:30:08\",\"2021-11-21 20:30:08\",\"2021-11-21 20:30:08\",\"2021-11-22 00:30:08\",\"2021-11-22 00:30:08\",\"2021-11-22 04:30:08\",\"2021-11-22 04:30:08\",\"2021-11-22 08:30:08\",\"2021-11-22 08:30:08\",\"2021-11-22 12:30:08\",\"2021-11-22 12:30:08\",\"2021-11-22 16:30:08\",\"2021-11-22 16:30:09\",\"2021-11-22 20:30:09\",\"2021-11-22 20:30:12\",\"2021-11-23 00:30:12\",\"2021-11-23 00:30:12\",\"2021-11-23 04:30:12\",\"2021-11-23 04:30:12\",\"2021-11-23 08:30:12\",\"2021-11-23 08:30:12\",\"2021-11-23 12:30:12\",\"2021-11-23 12:30:12\",\"2021-11-23 16:30:12\",\"2021-11-23 16:30:12\",\"2021-11-23 20:30:12\",\"2021-11-23 20:30:12\",\"2021-11-24 00:30:12\",\"2021-11-24 00:30:12\",\"2021-11-24 04:30:12\",\"2021-11-24 04:30:12\",\"2021-11-24 08:30:12\",\"2021-11-24 08:30:13\",\"2021-11-24 12:30:13\",\"2021-11-24 12:30:13\",\"2021-11-24 16:30:13\",\"2021-11-24 16:30:13\",\"2021-11-24 20:30:13\",\"2021-11-24 20:30:13\",\"2021-11-25 00:30:13\",\"2021-11-25 00:30:13\",\"2021-11-25 04:30:13\",\"2021-11-25 04:30:13\",\"2021-11-25 08:30:13\",\"2021-11-25 08:30:13\",\"2021-11-25 12:30:13\",\"2021-11-25 12:30:13\",\"2021-11-25 16:30:13\",\"2021-11-25 16:30:13\",\"2021-11-25 20:30:13\",\"2021-11-25 20:30:13\",\"2021-11-26 00:30:13\",\"2021-11-26 00:30:14\",\"2021-11-26 04:30:15\",\"2021-11-26 04:30:15\",\"2021-11-26 08:30:15\",\"2021-11-26 08:30:15\",\"2021-11-26 12:30:15\",\"2021-11-26 12:30:15\",\"2021-11-26 16:30:15\",\"2021-11-26 16:30:15\",\"2021-11-26 20:30:15\",\"2021-11-26 20:30:15\",\"2021-11-27 00:30:15\",\"2021-11-27 00:30:15\",\"2021-11-27 04:30:15\",\"2021-11-27 04:30:15\",\"2021-11-27 08:30:15\",\"2021-11-27 08:30:15\",\"2021-11-27 12:30:15\",\"2021-11-27 12:30:15\",\"2021-11-27 16:30:15\",\"2021-11-27 16:30:16\",\"2021-11-27 20:30:16\",\"2021-11-27 20:30:16\",\"2021-11-28 00:30:16\",\"2021-11-28 00:30:19\",\"2021-11-28 04:30:19\",\"2021-11-28 04:30:19\",\"2021-11-28 08:30:19\",\"2021-11-28 08:30:19\",\"2021-11-28 12:30:19\",\"2021-11-28 12:30:19\",\"2021-11-28 16:30:19\",\"2021-11-28 16:30:19\",\"2021-11-28 20:30:19\",\"2021-11-28 20:30:19\",\"2021-11-29 00:30:19\",\"2021-11-29 00:30:19\",\"2021-11-29 04:30:19\",\"2021-11-29 04:30:19\",\"2021-11-29 08:30:19\",\"2021-11-29 08:30:20\",\"2021-11-29 12:30:21\",\"2021-11-29 12:30:21\",\"2021-11-29 16:30:21\",\"2021-11-29 16:30:21\",\"2021-11-29 20:30:21\",\"2021-11-29 20:30:21\",\"2021-11-30 00:30:21\",\"2021-11-30 00:30:21\",\"2021-11-30 04:30:21\",\"2021-11-30 04:30:21\",\"2021-11-30 08:30:21\",\"2021-11-30 08:30:21\",\"2021-11-30 12:30:21\",\"2021-11-30 12:30:21\",\"2021-11-30 16:30:21\",\"2021-11-30 16:30:21\",\"2021-11-30 20:30:21\",\"2021-11-30 20:30:21\",\"2021-12-01 00:30:21\",\"2021-12-01 00:30:22\",\"2021-12-01 04:30:22\",\"2021-12-01 04:30:22\",\"2021-12-01 08:30:22\",\"2021-12-01 08:30:22\",\"2021-12-01 12:30:22\",\"2021-12-01 12:30:22\",\"2021-12-01 16:30:22\",\"2021-12-01 16:30:22\",\"2021-12-01 20:30:22\",\"2021-12-01 20:30:22\",\"2021-12-02 00:30:22\",\"2021-12-02 00:30:22\",\"2021-12-02 04:30:22\",\"2021-12-02 04:30:22\",\"2021-12-02 08:30:22\",\"2021-12-02 08:30:22\",\"2021-12-02 12:30:22\",\"2021-12-02 12:30:22\",\"2021-12-02 16:30:22\",\"2021-12-02 16:30:23\",\"2021-12-02 20:30:23\",\"2021-12-02 20:30:23\",\"2021-12-03 00:30:24\",\"2021-12-03 00:30:24\",\"2021-12-03 04:30:24\",\"2021-12-03 04:30:27\",\"2021-12-03 08:30:27\",\"2021-12-03 08:30:27\",\"2021-12-03 12:30:27\",\"2021-12-03 12:30:27\",\"2021-12-03 16:30:27\",\"2021-12-03 16:30:27\",\"2021-12-03 20:30:27\",\"2021-12-03 20:30:27\",\"2021-12-04 00:30:27\",\"2021-12-04 00:30:27\",\"2021-12-04 04:30:27\",\"2021-12-04 04:30:27\",\"2021-12-04 08:30:27\",\"2021-12-04 08:30:28\",\"2021-12-04 12:30:28\",\"2021-12-04 12:30:28\",\"2021-12-04 16:30:28\",\"2021-12-04 16:30:28\",\"2021-12-04 20:30:28\",\"2021-12-04 20:30:28\",\"2021-12-05 00:30:28\",\"2021-12-05 00:30:28\",\"2021-12-05 04:30:28\",\"2021-12-05 04:30:28\",\"2021-12-05 08:30:28\",\"2021-12-05 08:30:28\",\"2021-12-05 12:30:28\",\"2021-12-05 12:30:28\",\"2021-12-05 16:30:28\",\"2021-12-05 16:30:28\",\"2021-12-05 20:30:28\",\"2021-12-05 20:30:28\",\"2021-12-06 00:30:28\",\"2021-12-06 00:30:29\",\"2021-12-06 04:30:30\",\"2021-12-06 04:30:30\",\"2021-12-06 08:30:30\",\"2021-12-06 08:30:30\",\"2021-12-06 12:30:30\",\"2021-12-06 12:30:30\",\"2021-12-06 16:30:30\",\"2021-12-06 16:30:30\",\"2021-12-06 20:30:30\",\"2021-12-06 20:30:30\",\"2021-12-07 00:30:30\",\"2021-12-07 00:30:30\",\"2021-12-07 04:30:30\",\"2021-12-07 04:30:30\",\"2021-12-07 08:30:30\",\"2021-12-07 08:30:30\",\"2021-12-07 12:30:30\",\"2021-12-07 12:30:30\",\"2021-12-07 16:30:30\"],\"y\":[0,0,0,0,0,0,0,0,0,0,0,0,0,0,0,0,0,0,0,0,0,0,0,0,0,0,0,0,0,0,0,0,0,0,0,0,0,0,0,0,0,0,0,0,0,0,0,0,0,0,0,0,0,0,0,0,0,0,0,0,0,0,0,0,0,0,0,0,0,0,0,0,0,0,0,0,0,0,0,0,0,0,0,0,0,0,0,0,0,0,0,0,0,0,0,0,0,0,0,0,0,0,0,0,0,0,0,0,0,0,0,0,0,0,0,0,0,0,0,0,0,0,0,0,0,0,0,0,0,0,0,0,0,0,0,0,0,0,0,0,0,0,0,0,0,0,0,0,0,0,0,0,0,0,0,0,0,0,0,0,0,0,0,0,0,0,0,0,0,0,0,0,0,0,0,0,0,0,0,0,0,0,0,0,0,0,0,0,0,0,0,0,0,0,0,0,0,0,0,0,0,0,0,0,0,0,0,0,0,0,0,0,0,0,0,0,0,0,0,0,0,0,0,0,0,0,0,0,0,0,0,0,0,0,0,0,0,0,0,0],\"name\":\"bonds\",\"line\":{\"width\":1}},{\"x\":[],\"y\":[],\"name\":\"LiquidityAddition\",\"mode\":\"markers\"},{\"x\":[\"2021-11-18 21:00:00\",\"2021-11-23 21:00:00\",\"2021-11-28 21:00:00\",\"2021-12-03 21:00:00\"],\"y\":[0,0,0,0],\"name\":\"LiquidityCreditsReward\",\"mode\":\"markers\"},{\"x\":[\"2021-11-19 08:30:06\",\"2021-11-21 00:30:08\",\"2021-11-22 16:30:09\",\"2021-11-24 08:30:13\",\"2021-11-26 00:30:14\",\"2021-11-27 16:30:16\",\"2021-11-29 08:30:20\",\"2021-12-01 00:30:22\",\"2021-12-02 16:30:23\",\"2021-12-04 08:30:28\",\"2021-12-06 00:30:29\"],\"y\":[0,0,0,0,0,0,0,0,0,0,0],\"name\":\"KeeperWork\",\"mode\":\"markers\"},{\"x\":[\"2021-11-22 20:30:12\",\"2021-11-28 00:30:19\",\"2021-12-03 04:30:27\"],\"y\":[0,0,0],\"name\":\"Swap\",\"mode\":\"markers\"},{\"x\":[\"2021-11-18 21:00:00\",\"2021-11-23 21:00:00\",\"2021-11-28 21:00:00\",\"2021-12-03 21:00:00\"],\"y\":[0,0,0,0],\"name\":\"Period\",\"mode\":\"markers\",\"marker\":{\"symbol\":\"line-ns-open\",\"size\":12,\"color\":\"rgb(0, 0, 0)\"}},{\"x\":[\"2021-11-17 16:30:05\",\"2021-11-17 20:30:05\",\"2021-11-17 20:30:05\",\"2021-11-18 00:30:05\",\"2021-11-18 00:30:05\",\"2021-11-18 04:30:05\",\"2021-11-18 04:30:05\",\"2021-11-18 08:30:05\",\"2021-11-18 08:30:05\",\"2021-11-18 12:30:05\",\"2021-11-18 12:30:05\",\"2021-11-18 16:30:05\",\"2021-11-18 16:30:05\",\"2021-11-18 20:30:05\",\"2021-11-18 20:30:05\",\"2021-11-19 00:30:05\",\"2021-11-19 00:30:05\",\"2021-11-19 04:30:05\",\"2021-11-19 04:30:05\",\"2021-11-19 08:30:05\",\"2021-11-19 08:30:06\",\"2021-11-19 12:30:06\",\"2021-11-19 12:30:06\",\"2021-11-19 16:30:07\",\"2021-11-19 16:30:07\",\"2021-11-19 20:30:07\",\"2021-11-19 20:30:07\",\"2021-11-20 00:30:07\",\"2021-11-20 00:30:07\",\"2021-11-20 04:30:07\",\"2021-11-20 04:30:07\",\"2021-11-20 08:30:07\",\"2021-11-20 08:30:07\",\"2021-11-20 12:30:07\",\"2021-11-20 12:30:07\",\"2021-11-20 16:30:07\",\"2021-11-20 16:30:07\",\"2021-11-20 20:30:07\",\"2021-11-20 20:30:07\",\"2021-11-21 00:30:07\",\"2021-11-21 00:30:08\",\"2021-11-21 04:30:08\",\"2021-11-21 04:30:08\",\"2021-11-21 08:30:08\",\"2021-11-21 08:30:08\",\"2021-11-21 12:30:08\",\"2021-11-21 12:30:08\",\"2021-11-21 16:30:08\",\"2021-11-21 16:30:08\",\"2021-11-21 20:30:08\",\"2021-11-21 20:30:08\",\"2021-11-22 00:30:08\",\"2021-11-22 00:30:08\",\"2021-11-22 04:30:08\",\"2021-11-22 04:30:08\",\"2021-11-22 08:30:08\",\"2021-11-22 08:30:08\",\"2021-11-22 12:30:08\",\"2021-11-22 12:30:08\",\"2021-11-22 16:30:08\",\"2021-11-22 16:30:09\",\"2021-11-22 20:30:09\",\"2021-11-22 20:30:12\",\"2021-11-23 00:30:12\",\"2021-11-23 00:30:12\",\"2021-11-23 04:30:12\",\"2021-11-23 04:30:12\",\"2021-11-23 08:30:12\",\"2021-11-23 08:30:12\",\"2021-11-23 12:30:12\",\"2021-11-23 12:30:12\",\"2021-11-23 16:30:12\",\"2021-11-23 16:30:12\",\"2021-11-23 20:30:12\",\"2021-11-23 20:30:12\",\"2021-11-24 00:30:12\",\"2021-11-24 00:30:12\",\"2021-11-24 04:30:12\",\"2021-11-24 04:30:12\",\"2021-11-24 08:30:12\",\"2021-11-24 08:30:13\",\"2021-11-24 12:30:13\",\"2021-11-24 12:30:13\",\"2021-11-24 16:30:13\",\"2021-11-24 16:30:13\",\"2021-11-24 20:30:13\",\"2021-11-24 20:30:13\",\"2021-11-25 00:30:13\",\"2021-11-25 00:30:13\",\"2021-11-25 04:30:13\",\"2021-11-25 04:30:13\",\"2021-11-25 08:30:13\",\"2021-11-25 08:30:13\",\"2021-11-25 12:30:13\",\"2021-11-25 12:30:13\",\"2021-11-25 16:30:13\",\"2021-11-25 16:30:13\",\"2021-11-25 20:30:13\",\"2021-11-25 20:30:13\",\"2021-11-26 00:30:13\",\"2021-11-26 00:30:14\",\"2021-11-26 04:30:15\",\"2021-11-26 04:30:15\",\"2021-11-26 08:30:15\",\"2021-11-26 08:30:15\",\"2021-11-26 12:30:15\",\"2021-11-26 12:30:15\",\"2021-11-26 16:30:15\",\"2021-11-26 16:30:15\",\"2021-11-26 20:30:15\",\"2021-11-26 20:30:15\",\"2021-11-27 00:30:15\",\"2021-11-27 00:30:15\",\"2021-11-27 04:30:15\",\"2021-11-27 04:30:15\",\"2021-11-27 08:30:15\",\"2021-11-27 08:30:15\",\"2021-11-27 12:30:15\",\"2021-11-27 12:30:15\",\"2021-11-27 16:30:15\",\"2021-11-27 16:30:16\",\"2021-11-27 20:30:16\",\"2021-11-27 20:30:16\",\"2021-11-28 00:30:16\",\"2021-11-28 00:30:19\",\"2021-11-28 04:30:19\",\"2021-11-28 04:30:19\",\"2021-11-28 08:30:19\",\"2021-11-28 08:30:19\",\"2021-11-28 12:30:19\",\"2021-11-28 12:30:19\",\"2021-11-28 16:30:19\",\"2021-11-28 16:30:19\",\"2021-11-28 20:30:19\",\"2021-11-28 20:30:19\",\"2021-11-29 00:30:19\",\"2021-11-29 00:30:19\",\"2021-11-29 04:30:19\",\"2021-11-29 04:30:19\",\"2021-11-29 08:30:19\",\"2021-11-29 08:30:20\",\"2021-11-29 12:30:21\",\"2021-11-29 12:30:21\",\"2021-11-29 16:30:21\",\"2021-11-29 16:30:21\",\"2021-11-29 20:30:21\",\"2021-11-29 20:30:21\",\"2021-11-30 00:30:21\",\"2021-11-30 00:30:21\",\"2021-11-30 04:30:21\",\"2021-11-30 04:30:21\",\"2021-11-30 08:30:21\",\"2021-11-30 08:30:21\",\"2021-11-30 12:30:21\",\"2021-11-30 12:30:21\",\"2021-11-30 16:30:21\",\"2021-11-30 16:30:21\",\"2021-11-30 20:30:21\",\"2021-11-30 20:30:21\",\"2021-12-01 00:30:21\",\"2021-12-01 00:30:22\",\"2021-12-01 04:30:22\",\"2021-12-01 04:30:22\",\"2021-12-01 08:30:22\",\"2021-12-01 08:30:22\",\"2021-12-01 12:30:22\",\"2021-12-01 12:30:22\",\"2021-12-01 16:30:22\",\"2021-12-01 16:30:22\",\"2021-12-01 20:30:22\",\"2021-12-01 20:30:22\",\"2021-12-02 00:30:22\",\"2021-12-02 00:30:22\",\"2021-12-02 04:30:22\",\"2021-12-02 04:30:22\",\"2021-12-02 08:30:22\",\"2021-12-02 08:30:22\",\"2021-12-02 12:30:22\",\"2021-12-02 12:30:22\",\"2021-12-02 16:30:22\",\"2021-12-02 16:30:23\",\"2021-12-02 20:30:23\",\"2021-12-02 20:30:23\",\"2021-12-03 00:30:24\",\"2021-12-03 00:30:24\",\"2021-12-03 04:30:24\",\"2021-12-03 04:30:27\",\"2021-12-03 08:30:27\",\"2021-12-03 08:30:27\",\"2021-12-03 12:30:27\",\"2021-12-03 12:30:27\",\"2021-12-03 16:30:27\",\"2021-12-03 16:30:27\",\"2021-12-03 20:30:27\",\"2021-12-03 20:30:27\",\"2021-12-04 00:30:27\",\"2021-12-04 00:30:27\",\"2021-12-04 04:30:27\",\"2021-12-04 04:30:27\",\"2021-12-04 08:30:27\",\"2021-12-04 08:30:28\",\"2021-12-04 12:30:28\",\"2021-12-04 12:30:28\",\"2021-12-04 16:30:28\",\"2021-12-04 16:30:28\",\"2021-12-04 20:30:28\",\"2021-12-04 20:30:28\",\"2021-12-05 00:30:28\",\"2021-12-05 00:30:28\",\"2021-12-05 04:30:28\",\"2021-12-05 04:30:28\",\"2021-12-05 08:30:28\",\"2021-12-05 08:30:28\",\"2021-12-05 12:30:28\",\"2021-12-05 12:30:28\",\"2021-12-05 16:30:28\",\"2021-12-05 16:30:28\",\"2021-12-05 20:30:28\",\"2021-12-05 20:30:28\",\"2021-12-06 00:30:28\",\"2021-12-06 00:30:29\",\"2021-12-06 04:30:30\",\"2021-12-06 04:30:30\",\"2021-12-06 08:30:30\",\"2021-12-06 08:30:30\",\"2021-12-06 12:30:30\",\"2021-12-06 12:30:30\",\"2021-12-06 16:30:30\",\"2021-12-06 16:30:30\",\"2021-12-06 20:30:30\",\"2021-12-06 20:30:30\",\"2021-12-07 00:30:30\",\"2021-12-07 00:30:30\",\"2021-12-07 04:30:30\",\"2021-12-07 04:30:30\",\"2021-12-07 08:30:30\",\"2021-12-07 08:30:30\",\"2021-12-07 12:30:30\",\"2021-12-07 12:30:30\",\"2021-12-07 16:30:30\"],\"y\":[1.6,1.6,1.6,1.6,1.6,1.6,1.6,1.6,1.6,1.6,1.6,1.6,1.6,1.6,1.6,1.6,1.6,1.6,1.6,1.6,1.09,1.09,1.09,1.09,1.09,1.09,1.09,1.09,1.09,1.09,1.09,1.09,1.09,1.09,1.09,1.09,1.09,1.09,1.09,1.09,0.61,0.61,0.61,0.61,0.61,0.61,0.61,0.61,0.61,0.61,0.61,0.61,0.61,0.61,0.61,0.61,0.61,0.61,0.61,0.61,0.13,0.13,0.13,0.13,0.13,0.13,0.13,0.13,0.13,0.13,0.13,0.13,0.13,0.13,0.13,1.61,1.61,1.61,1.61,1.61,1.09,1.09,1.09,1.09,1.09,1.09,1.09,1.09,1.09,1.09,1.09,1.09,1.09,1.09,1.09,1.09,1.09,1.09,1.09,1.09,0.61,0.61,0.61,0.61,0.61,0.61,0.61,0.61,0.61,0.61,0.61,0.61,0.61,0.61,0.61,0.61,0.61,0.61,0.61,0.61,0.14,0.14,0.14,0.14,0.14,0.14,0.14,0.14,0.14,0.14,0.14,0.14,0.14,0.14,0.14,1.64,1.64,1.64,1.64,1.64,1.11,1.11,1.11,1.11,1.11,1.11,1.11,1.11,1.11,1.11,1.11,1.11,1.11,1.11,1.11,1.11,1.11,1.11,1.11,1.11,0.62,0.62,0.62,0.62,0.62,0.62,0.62,0.62,0.62,0.62,0.62,0.62,0.62,0.62,0.62,0.62,0.62,0.62,0.62,0.62,0.14,0.14,0.14,0.14,0.14,0.14,0.14,0.14,0.14,0.14,0.14,0.14,0.14,0.14,0.14,1.66,1.66,1.66,1.66,1.66,1.13,1.13,1.13,1.13,1.13,1.13,1.13,1.13,1.13,1.13,1.13,1.13,1.13,1.13,1.13,1.13,1.13,1.13,1.13,1.13,0.64,0.64,0.64,0.64,0.64,0.64,0.64,0.64,0.64,0.64,0.64,0.64,0.64,0.64,0.64,0.64,0.64,0.64,0.64,0.64],\"name\":\"jobLiquidityCredits\",\"line\":{\"width\":1}}],{});}if(window.Plotly){plot();}else if(!window.require){var head = document.head || document.getElementsByTagName('head')[0];var s = document.createElement('script');s.src = 'https://cdn.plot.ly/plotly-latest.min.js';s.type = 'text/javascript';s.async = false;s.onreadystatechange = s.onload = plot;head.appendChild(s);}else{require(['/notebooks/node_modules/plotly-notebook-js/build/plotly.min.js'], function(Plotly){window.Plotly = Plotly;plot();});}</script></div>"
      ]
     },
     "execution_count": 25,
     "metadata": {},
     "output_type": "execute_result"
    },
    {
     "name": "stderr",
     "output_type": "stream",
     "text": [
      "Error: Transaction reverted without a reason string\n",
      "    at <UnrecognizedContract>.<unknown> (0xc351628eb244ec633d5f21fbd6621e1a683b1181)\n",
      "    at <UnrecognizedContract>.<unknown> (0x3230e634040e333d4223d009c337ed43bbf13d49)\n",
      "    at runMicrotasks (<anonymous>)\n",
      "    at processTicksAndRejections (node:internal/process/task_queues:96:5)\n",
      "    at runNextTicks (node:internal/process/task_queues:65:3)\n",
      "    at listOnTimeout (node:internal/timers:526:9)\n",
      "    at processTimers (node:internal/timers:500:7)\n",
      "    at HardhatNode._mineBlockWithPendingTxs (/Users/ngng/notebooks/node_modules/hardhat/src/internal/hardhat-network/provider/node.ts:1582:23)\n",
      "    at HardhatNode.mineBlock (/Users/ngng/notebooks/node_modules/hardhat/src/internal/hardhat-network/provider/node.ts:435:16)\n",
      "    at EthModule._sendTransactionAndReturnHash (/Users/ngng/notebooks/node_modules/hardhat/src/internal/hardhat-network/provider/modules/eth.ts:1494:18)\n",
      "    at HardhatNetworkProvider.request (/Users/ngng/notebooks/node_modules/hardhat/src/internal/hardhat-network/provider/provider.ts:108:18)\n",
      "    at EthersProviderWrapper.send (/Users/ngng/notebooks/node_modules/@nomiclabs/hardhat-ethers/src/internal/ethers-provider-wrapper.ts:13:20)\n",
      "Error: Transaction reverted without a reason string\n",
      "    at <UnrecognizedContract>.<unknown> (0xc351628eb244ec633d5f21fbd6621e1a683b1181)\n",
      "    at <UnrecognizedContract>.<unknown> (0x3230e634040e333d4223d009c337ed43bbf13d49)\n",
      "    at runMicrotasks (<anonymous>)\n",
      "    at processTicksAndRejections (node:internal/process/task_queues:96:5)\n",
      "    at runNextTicks (node:internal/process/task_queues:65:3)\n",
      "    at listOnTimeout (node:internal/timers:526:9)\n",
      "    at processTimers (node:internal/timers:500:7)\n",
      "    at HardhatNode._mineBlockWithPendingTxs (/Users/ngng/notebooks/node_modules/hardhat/src/internal/hardhat-network/provider/node.ts:1582:23)\n",
      "    at HardhatNode.mineBlock (/Users/ngng/notebooks/node_modules/hardhat/src/internal/hardhat-network/provider/node.ts:435:16)\n",
      "    at EthModule._sendTransactionAndReturnHash (/Users/ngng/notebooks/node_modules/hardhat/src/internal/hardhat-network/provider/modules/eth.ts:1494:18)\n",
      "    at HardhatNetworkProvider.request (/Users/ngng/notebooks/node_modules/hardhat/src/internal/hardhat-network/provider/provider.ts:108:18)\n",
      "    at EthersProviderWrapper.send (/Users/ngng/notebooks/node_modules/@nomiclabs/hardhat-ethers/src/internal/ethers-provider-wrapper.ts:13:20)\n",
      "Error: Transaction reverted without a reason string\n",
      "    at <UnrecognizedContract>.<unknown> (0xc351628eb244ec633d5f21fbd6621e1a683b1181)\n",
      "    at <UnrecognizedContract>.<unknown> (0x3230e634040e333d4223d009c337ed43bbf13d49)\n",
      "    at runMicrotasks (<anonymous>)\n",
      "    at processTicksAndRejections (node:internal/process/task_queues:96:5)\n",
      "    at runNextTicks (node:internal/process/task_queues:65:3)\n",
      "    at listOnTimeout (node:internal/timers:526:9)\n",
      "    at processTimers (node:internal/timers:500:7)\n",
      "    at HardhatNode._mineBlockWithPendingTxs (/Users/ngng/notebooks/node_modules/hardhat/src/internal/hardhat-network/provider/node.ts:1582:23)\n",
      "    at HardhatNode.mineBlock (/Users/ngng/notebooks/node_modules/hardhat/src/internal/hardhat-network/provider/node.ts:435:16)\n",
      "    at EthModule._sendTransactionAndReturnHash (/Users/ngng/notebooks/node_modules/hardhat/src/internal/hardhat-network/provider/modules/eth.ts:1494:18)\n",
      "    at HardhatNetworkProvider.request (/Users/ngng/notebooks/node_modules/hardhat/src/internal/hardhat-network/provider/provider.ts:108:18)\n",
      "    at EthersProviderWrapper.send (/Users/ngng/notebooks/node_modules/@nomiclabs/hardhat-ethers/src/internal/ethers-provider-wrapper.ts:13:20)\n",
      "Error: Transaction reverted without a reason string\n",
      "    at <UnrecognizedContract>.<unknown> (0xc351628eb244ec633d5f21fbd6621e1a683b1181)\n",
      "    at <UnrecognizedContract>.<unknown> (0x3230e634040e333d4223d009c337ed43bbf13d49)\n",
      "    at runMicrotasks (<anonymous>)\n",
      "    at processTicksAndRejections (node:internal/process/task_queues:96:5)\n",
      "    at runNextTicks (node:internal/process/task_queues:65:3)\n",
      "    at listOnTimeout (node:internal/timers:526:9)\n",
      "    at processTimers (node:internal/timers:500:7)\n",
      "    at HardhatNode._mineBlockWithPendingTxs (/Users/ngng/notebooks/node_modules/hardhat/src/internal/hardhat-network/provider/node.ts:1582:23)\n",
      "    at HardhatNode.mineBlock (/Users/ngng/notebooks/node_modules/hardhat/src/internal/hardhat-network/provider/node.ts:435:16)\n",
      "    at EthModule._sendTransactionAndReturnHash (/Users/ngng/notebooks/node_modules/hardhat/src/internal/hardhat-network/provider/modules/eth.ts:1494:18)\n",
      "    at HardhatNetworkProvider.request (/Users/ngng/notebooks/node_modules/hardhat/src/internal/hardhat-network/provider/provider.ts:108:18)\n",
      "    at EthersProviderWrapper.send (/Users/ngng/notebooks/node_modules/@nomiclabs/hardhat-ethers/src/internal/ethers-provider-wrapper.ts:13:20)\n",
      "Error: Transaction reverted without a reason string\n",
      "    at <UnrecognizedContract>.<unknown> (0xc351628eb244ec633d5f21fbd6621e1a683b1181)\n",
      "    at <UnrecognizedContract>.<unknown> (0x3230e634040e333d4223d009c337ed43bbf13d49)\n",
      "    at runMicrotasks (<anonymous>)\n",
      "    at processTicksAndRejections (node:internal/process/task_queues:96:5)\n",
      "    at runNextTicks (node:internal/process/task_queues:65:3)\n",
      "    at listOnTimeout (node:internal/timers:526:9)\n",
      "    at processTimers (node:internal/timers:500:7)\n",
      "    at HardhatNode._mineBlockWithPendingTxs (/Users/ngng/notebooks/node_modules/hardhat/src/internal/hardhat-network/provider/node.ts:1582:23)\n",
      "    at HardhatNode.mineBlock (/Users/ngng/notebooks/node_modules/hardhat/src/internal/hardhat-network/provider/node.ts:435:16)\n",
      "    at EthModule._sendTransactionAndReturnHash (/Users/ngng/notebooks/node_modules/hardhat/src/internal/hardhat-network/provider/modules/eth.ts:1494:18)\n",
      "    at HardhatNetworkProvider.request (/Users/ngng/notebooks/node_modules/hardhat/src/internal/hardhat-network/provider/provider.ts:108:18)\n",
      "    at EthersProviderWrapper.send (/Users/ngng/notebooks/node_modules/@nomiclabs/hardhat-ethers/src/internal/ethers-provider-wrapper.ts:13:20)\n",
      "Error: Transaction reverted without a reason string\n",
      "    at <UnrecognizedContract>.<unknown> (0xc351628eb244ec633d5f21fbd6621e1a683b1181)\n",
      "    at <UnrecognizedContract>.<unknown> (0x3230e634040e333d4223d009c337ed43bbf13d49)\n",
      "    at runMicrotasks (<anonymous>)\n",
      "    at processTicksAndRejections (node:internal/process/task_queues:96:5)\n",
      "    at runNextTicks (node:internal/process/task_queues:65:3)\n",
      "    at listOnTimeout (node:internal/timers:526:9)\n",
      "    at processTimers (node:internal/timers:500:7)\n",
      "    at HardhatNode._mineBlockWithPendingTxs (/Users/ngng/notebooks/node_modules/hardhat/src/internal/hardhat-network/provider/node.ts:1582:23)\n",
      "    at HardhatNode.mineBlock (/Users/ngng/notebooks/node_modules/hardhat/src/internal/hardhat-network/provider/node.ts:435:16)\n",
      "    at EthModule._sendTransactionAndReturnHash (/Users/ngng/notebooks/node_modules/hardhat/src/internal/hardhat-network/provider/modules/eth.ts:1494:18)\n",
      "    at HardhatNetworkProvider.request (/Users/ngng/notebooks/node_modules/hardhat/src/internal/hardhat-network/provider/provider.ts:108:18)\n",
      "    at EthersProviderWrapper.send (/Users/ngng/notebooks/node_modules/@nomiclabs/hardhat-ethers/src/internal/ethers-provider-wrapper.ts:13:20)\n",
      "Error: Transaction reverted without a reason string\n",
      "    at <UnrecognizedContract>.<unknown> (0xc351628eb244ec633d5f21fbd6621e1a683b1181)\n",
      "    at <UnrecognizedContract>.<unknown> (0x3230e634040e333d4223d009c337ed43bbf13d49)\n",
      "    at runMicrotasks (<anonymous>)\n",
      "    at processTicksAndRejections (node:internal/process/task_queues:96:5)\n",
      "    at runNextTicks (node:internal/process/task_queues:65:3)\n",
      "    at listOnTimeout (node:internal/timers:526:9)\n",
      "    at processTimers (node:internal/timers:500:7)\n",
      "    at HardhatNode._mineBlockWithPendingTxs (/Users/ngng/notebooks/node_modules/hardhat/src/internal/hardhat-network/provider/node.ts:1582:23)\n",
      "    at HardhatNode.mineBlock (/Users/ngng/notebooks/node_modules/hardhat/src/internal/hardhat-network/provider/node.ts:435:16)\n",
      "    at EthModule._sendTransactionAndReturnHash (/Users/ngng/notebooks/node_modules/hardhat/src/internal/hardhat-network/provider/modules/eth.ts:1494:18)\n",
      "    at HardhatNetworkProvider.request (/Users/ngng/notebooks/node_modules/hardhat/src/internal/hardhat-network/provider/provider.ts:108:18)\n",
      "    at EthersProviderWrapper.send (/Users/ngng/notebooks/node_modules/@nomiclabs/hardhat-ethers/src/internal/ethers-provider-wrapper.ts:13:20)\n",
      "Error: Transaction reverted without a reason string\n",
      "    at <UnrecognizedContract>.<unknown> (0xc351628eb244ec633d5f21fbd6621e1a683b1181)\n",
      "    at <UnrecognizedContract>.<unknown> (0x3230e634040e333d4223d009c337ed43bbf13d49)\n",
      "    at runMicrotasks (<anonymous>)\n",
      "    at processTicksAndRejections (node:internal/process/task_queues:96:5)\n",
      "    at runNextTicks (node:internal/process/task_queues:65:3)\n",
      "    at listOnTimeout (node:internal/timers:526:9)\n",
      "    at processTimers (node:internal/timers:500:7)\n",
      "    at HardhatNode._mineBlockWithPendingTxs (/Users/ngng/notebooks/node_modules/hardhat/src/internal/hardhat-network/provider/node.ts:1582:23)\n",
      "    at HardhatNode.mineBlock (/Users/ngng/notebooks/node_modules/hardhat/src/internal/hardhat-network/provider/node.ts:435:16)\n",
      "    at EthModule._sendTransactionAndReturnHash (/Users/ngng/notebooks/node_modules/hardhat/src/internal/hardhat-network/provider/modules/eth.ts:1494:18)\n",
      "    at HardhatNetworkProvider.request (/Users/ngng/notebooks/node_modules/hardhat/src/internal/hardhat-network/provider/provider.ts:108:18)\n",
      "    at EthersProviderWrapper.send (/Users/ngng/notebooks/node_modules/@nomiclabs/hardhat-ethers/src/internal/ethers-provider-wrapper.ts:13:20)\n",
      "Error: Transaction reverted without a reason string\n",
      "    at <UnrecognizedContract>.<unknown> (0xc351628eb244ec633d5f21fbd6621e1a683b1181)\n",
      "    at <UnrecognizedContract>.<unknown> (0x3230e634040e333d4223d009c337ed43bbf13d49)\n",
      "    at runMicrotasks (<anonymous>)\n",
      "    at processTicksAndRejections (node:internal/process/task_queues:96:5)\n",
      "    at runNextTicks (node:internal/process/task_queues:65:3)\n",
      "    at listOnTimeout (node:internal/timers:526:9)\n",
      "    at processTimers (node:internal/timers:500:7)\n",
      "    at HardhatNode._mineBlockWithPendingTxs (/Users/ngng/notebooks/node_modules/hardhat/src/internal/hardhat-network/provider/node.ts:1582:23)\n",
      "    at HardhatNode.mineBlock (/Users/ngng/notebooks/node_modules/hardhat/src/internal/hardhat-network/provider/node.ts:435:16)\n",
      "    at EthModule._sendTransactionAndReturnHash (/Users/ngng/notebooks/node_modules/hardhat/src/internal/hardhat-network/provider/modules/eth.ts:1494:18)\n",
      "    at HardhatNetworkProvider.request (/Users/ngng/notebooks/node_modules/hardhat/src/internal/hardhat-network/provider/provider.ts:108:18)\n",
      "    at EthersProviderWrapper.send (/Users/ngng/notebooks/node_modules/@nomiclabs/hardhat-ethers/src/internal/ethers-provider-wrapper.ts:13:20)\n",
      "Error: Transaction reverted without a reason string\n",
      "    at <UnrecognizedContract>.<unknown> (0xc351628eb244ec633d5f21fbd6621e1a683b1181)\n",
      "    at <UnrecognizedContract>.<unknown> (0x3230e634040e333d4223d009c337ed43bbf13d49)\n",
      "    at runMicrotasks (<anonymous>)\n",
      "    at processTicksAndRejections (node:internal/process/task_queues:96:5)\n",
      "    at runNextTicks (node:internal/process/task_queues:65:3)\n",
      "    at listOnTimeout (node:internal/timers:526:9)\n",
      "    at processTimers (node:internal/timers:500:7)\n",
      "    at HardhatNode._mineBlockWithPendingTxs (/Users/ngng/notebooks/node_modules/hardhat/src/internal/hardhat-network/provider/node.ts:1582:23)\n",
      "    at HardhatNode.mineBlock (/Users/ngng/notebooks/node_modules/hardhat/src/internal/hardhat-network/provider/node.ts:435:16)\n",
      "    at EthModule._sendTransactionAndReturnHash (/Users/ngng/notebooks/node_modules/hardhat/src/internal/hardhat-network/provider/modules/eth.ts:1494:18)\n",
      "    at HardhatNetworkProvider.request (/Users/ngng/notebooks/node_modules/hardhat/src/internal/hardhat-network/provider/provider.ts:108:18)\n",
      "    at EthersProviderWrapper.send (/Users/ngng/notebooks/node_modules/@nomiclabs/hardhat-ethers/src/internal/ethers-provider-wrapper.ts:13:20)\n"
     ]
    }
   ],
   "source": [
    "// unbonding liquidity\n",
    "\n",
    "next(async()=>{\n",
    "    await $.resetRecording()\n",
    "    block = await $.block()\n",
    "    await advanceTimeAndBlock(rewardPeriodTime - (block.timestamp % rewardPeriodTime))\n",
    "    \n",
    "    await $.sleepAndExecute(\n",
    "        2 * rewardPeriodTime,\n",
    "        $.time(4,'hours'),\n",
    "        [{run: async()=>{\n",
    "            await keep3r.v2.connect(provider).unbondLiquidityFromJob(job.address, keep3r.pool.address, toUnit(1))\n",
    "        },\n",
    "        every: rewardPeriodTime}]\n",
    "    )\n",
    " \n",
    "    await $.sleepAndRecord(rewardPeriodTime, $.time(4,'hours'))\n",
    "    \n",
    "    await $.draw()\n",
    "})"
   ]
  },
  {
   "cell_type": "code",
   "execution_count": null,
   "id": "6c723622-366c-4091-8aad-a82ab298164f",
   "metadata": {},
   "outputs": [],
   "source": []
  },
  {
   "cell_type": "code",
   "execution_count": null,
   "id": "5bd250f9-f443-4d64-ad49-0ef0e5ce61eb",
   "metadata": {},
   "outputs": [],
   "source": []
  }
 ],
 "metadata": {
  "kernelspec": {
   "display_name": "Javascript (Node.js)",
   "language": "javascript",
   "name": "javascript"
  },
  "language_info": {
   "file_extension": ".js",
   "mimetype": "application/javascript",
   "name": "javascript",
   "version": "16.13.2"
  }
 },
 "nbformat": 4,
 "nbformat_minor": 5
}
